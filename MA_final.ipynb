{
 "cells": [
  {
   "cell_type": "code",
   "execution_count": 1,
   "metadata": {},
   "outputs": [],
   "source": [
    "### IMPORTANT NOTICE ###\n",
    "\n",
    "## - ## represent comments to explain the code\n",
    "# is used when the code should not be executed again, for example when something was randomly generated or simulated\n",
    "\n"
   ]
  },
  {
   "cell_type": "markdown",
   "metadata": {},
   "source": [
    "Simulation 1: 01/05/2019 - 30/04/2020\n",
    "Simulation 2: 02/01/2015 - 30/12/2019\n",
    "Simulation 3: 01/08/2007 - 30/07/2009"
   ]
  },
  {
   "cell_type": "code",
   "execution_count": 2,
   "metadata": {},
   "outputs": [],
   "source": [
    "## these packages need to be installed in the command line first ##\n",
    "\n",
    "# pip install pandas-datareader\n",
    "# pip install numpy\n",
    "# pip install pandas\n",
    "# pip install scipy\n",
    "# pip install matplotlib\n",
    "# pip install tabulate\n",
    "# pip install prettytable"
   ]
  },
  {
   "cell_type": "code",
   "execution_count": 170,
   "metadata": {},
   "outputs": [],
   "source": [
    "import pandas as pd\n",
    "import pandas_datareader.data as reader\n",
    "import datetime as dt\n",
    "import matplotlib.pyplot as plt\n",
    "import numpy as np\n",
    "from scipy.stats import norm\n",
    "from scipy.stats import kurtosis, skew\n",
    "import scipy \n",
    "import statsmodels.api as sm\n",
    "import random\n",
    "from prettytable import PrettyTable\n",
    "import glob\n",
    "import os\n",
    "import math"
   ]
  },
  {
   "cell_type": "code",
   "execution_count": 4,
   "metadata": {},
   "outputs": [],
   "source": [
    "dow_jones = {'Boeing':'BA','UnitedHealth':'UNH','GoldmanSachs':'GS','HomeDepot':'HD','3M':'MMM','Apple':'AAPL','McDonalds':'MCD','IBM':'IBM','Caterpillar':'CAT','Visa':'V','Travelers':'TRV','Chevron':'CVX','Johnson&Johnson':'JNJ','JPMorganChase':'JPM','Disney':'DIS','AmericanExpress':'AXP','Microsoft':'MSFT','Walmart':'WMT','ExxonMobil':'XOM','Procter&Gamble':'PG','Nike':'NKE','Walgreens':'WBA','DowInc':'DOW','Merck':'MRK','Intel':'INTC','VerizonCommunications':'VZ','CocaCola':'KO','Cisco':'CSCO','Pfizer':'PFE'}"
   ]
  },
  {
   "cell_type": "code",
   "execution_count": 5,
   "metadata": {},
   "outputs": [
    {
     "name": "stdout",
     "output_type": "stream",
     "text": [
      "Boeing------ BA\n",
      "UnitedHealth------ UNH\n",
      "GoldmanSachs------ GS\n",
      "HomeDepot------ HD\n",
      "3M------ MMM\n",
      "Apple------ AAPL\n",
      "McDonalds------ MCD\n",
      "IBM------ IBM\n",
      "Caterpillar------ CAT\n",
      "Visa------ V\n",
      "Travelers------ TRV\n",
      "Chevron------ CVX\n",
      "Johnson&Johnson------ JNJ\n",
      "JPMorganChase------ JPM\n",
      "Disney------ DIS\n",
      "AmericanExpress------ AXP\n",
      "Microsoft------ MSFT\n",
      "Walmart------ WMT\n",
      "ExxonMobil------ XOM\n",
      "Procter&Gamble------ PG\n",
      "Nike------ NKE\n",
      "Walgreens------ WBA\n",
      "DowInc------ DOW\n",
      "Merck------ MRK\n",
      "Intel------ INTC\n",
      "VerizonCommunications------ VZ\n",
      "CocaCola------ KO\n",
      "Cisco------ CSCO\n",
      "Pfizer------ PFE\n"
     ]
    }
   ],
   "source": [
    "for i in dow_jones:\n",
    "    print (i+ '------',dow_jones[i])"
   ]
  },
  {
   "cell_type": "code",
   "execution_count": 6,
   "metadata": {},
   "outputs": [],
   "source": [
    "def get_returns(stock):\n",
    "    daily_returns = stock.pct_change()\n",
    "    daily_returns = daily_returns.iloc[1:]\n",
    "    return daily_returns"
   ]
  },
  {
   "cell_type": "code",
   "execution_count": 7,
   "metadata": {},
   "outputs": [],
   "source": [
    "# read from csv"
   ]
  },
  {
   "cell_type": "code",
   "execution_count": 8,
   "metadata": {},
   "outputs": [],
   "source": [
    "path_one = r'/Users/alexanderkoch/Desktop/Code Masterarbeit/Data_19-20'"
   ]
  },
  {
   "cell_type": "code",
   "execution_count": 9,
   "metadata": {},
   "outputs": [
    {
     "name": "stdout",
     "output_type": "stream",
     "text": [
      "/Users/alexanderkoch/Desktop/Code Masterarbeit/Data_19-20/Home Depot.csv\n",
      "/Users/alexanderkoch/Desktop/Code Masterarbeit/Data_19-20/United health.csv\n",
      "/Users/alexanderkoch/Desktop/Code Masterarbeit/Data_19-20/Merck.csv\n",
      "/Users/alexanderkoch/Desktop/Code Masterarbeit/Data_19-20/Pfizer.csv\n",
      "/Users/alexanderkoch/Desktop/Code Masterarbeit/Data_19-20/Walmart.csv\n",
      "/Users/alexanderkoch/Desktop/Code Masterarbeit/Data_19-20/Apple.csv\n",
      "/Users/alexanderkoch/Desktop/Code Masterarbeit/Data_19-20/Intel.csv\n",
      "/Users/alexanderkoch/Desktop/Code Masterarbeit/Data_19-20/Exxon Mobil.csv\n",
      "/Users/alexanderkoch/Desktop/Code Masterarbeit/Data_19-20/Walgreens.csv\n",
      "/Users/alexanderkoch/Desktop/Code Masterarbeit/Data_19-20/Caterpillar.csv\n",
      "/Users/alexanderkoch/Desktop/Code Masterarbeit/Data_19-20/Goldman Sachs.csv\n",
      "/Users/alexanderkoch/Desktop/Code Masterarbeit/Data_19-20/Procter & Gamble.csv\n",
      "/Users/alexanderkoch/Desktop/Code Masterarbeit/Data_19-20/Visa.csv\n",
      "/Users/alexanderkoch/Desktop/Code Masterarbeit/Data_19-20/Disney.csv\n",
      "/Users/alexanderkoch/Desktop/Code Masterarbeit/Data_19-20/IBM.csv\n",
      "/Users/alexanderkoch/Desktop/Code Masterarbeit/Data_19-20/Nike.csv\n",
      "/Users/alexanderkoch/Desktop/Code Masterarbeit/Data_19-20/Johnson & Johnson.csv\n",
      "/Users/alexanderkoch/Desktop/Code Masterarbeit/Data_19-20/Chevron.csv\n",
      "/Users/alexanderkoch/Desktop/Code Masterarbeit/Data_19-20/Coca Cola.csv\n",
      "/Users/alexanderkoch/Desktop/Code Masterarbeit/Data_19-20/JPMorgan Chase.csv\n",
      "/Users/alexanderkoch/Desktop/Code Masterarbeit/Data_19-20/3M.csv\n",
      "/Users/alexanderkoch/Desktop/Code Masterarbeit/Data_19-20/Microsoft.csv\n",
      "/Users/alexanderkoch/Desktop/Code Masterarbeit/Data_19-20/Boeing.csv\n",
      "/Users/alexanderkoch/Desktop/Code Masterarbeit/Data_19-20/Verizon Communications.csv\n",
      "/Users/alexanderkoch/Desktop/Code Masterarbeit/Data_19-20/American Express.csv\n",
      "/Users/alexanderkoch/Desktop/Code Masterarbeit/Data_19-20/Cisco.csv\n",
      "/Users/alexanderkoch/Desktop/Code Masterarbeit/Data_19-20/Travelers.csv\n",
      "/Users/alexanderkoch/Desktop/Code Masterarbeit/Data_19-20/McDonalds.csv\n",
      "/Users/alexanderkoch/Desktop/Code Masterarbeit/Data_19-20/DOW.csv\n"
     ]
    }
   ],
   "source": [
    "path_one = r'/Users/alexanderkoch/Desktop/Code Masterarbeit/Data_19-20'\n",
    "col_list= ['Adj Close']\n",
    "for files in glob.glob(os.path.join(path_one, \"*.csv\")):\n",
    "    df = pd.read_csv(files, usecols=col_list)\n",
    "    print(files)"
   ]
  },
  {
   "cell_type": "code",
   "execution_count": 10,
   "metadata": {},
   "outputs": [],
   "source": [
    "col_list= ['Adj Close']\n",
    "\n",
    "def get_data(stock):\n",
    "    df = pd.read_csv(path_one + f'/{stock}.csv', usecols=col_list)\n",
    "    return df['Adj Close']"
   ]
  },
  {
   "cell_type": "code",
   "execution_count": 11,
   "metadata": {},
   "outputs": [],
   "source": [
    "boeing = get_data('Boeing')\n",
    "homedepot = get_data('Home Depot')\n",
    "unitedhealth = get_data('United health')\n",
    "merck = get_data('Merck')\n",
    "pfizer = get_data('Pfizer')\n",
    "walmart = get_data('Walmart')\n",
    "apple = get_data('Apple')\n",
    "intel = get_data('Intel')\n",
    "exxonmobil = get_data('Exxon Mobil')\n",
    "walgreens = get_data('Walgreens')\n",
    "caterpillar = get_data('Caterpillar')\n",
    "goldmansachs = get_data('Goldman Sachs')\n",
    "proctergamble = get_data('Procter & Gamble')\n",
    "visa = get_data('Visa')\n",
    "disney = get_data('Disney')\n",
    "ibm = get_data('IBM')\n",
    "nike = get_data('Nike')\n",
    "jandj = get_data('Johnson & Johnson')\n",
    "cocacola = get_data('Coca Cola')\n",
    "jpmorganchase = get_data('JPMorgan Chase')\n",
    "mmm = get_data('3M')\n",
    "microsoft = get_data('Microsoft')\n",
    "chevron = get_data('Chevron')\n",
    "verizoncom = get_data('Verizon Communications')\n",
    "americanexpress = get_data('American Express')\n",
    "cisco = get_data('Cisco')\n",
    "travelers = get_data('Travelers')\n",
    "mcdonalds = get_data('McDonalds')\n",
    "dowinc = get_data('DOW')"
   ]
  },
  {
   "cell_type": "code",
   "execution_count": 12,
   "metadata": {},
   "outputs": [],
   "source": [
    "boeing = get_returns(boeing)\n",
    "homedepot = get_returns(homedepot)\n",
    "unitedhealth = get_returns(unitedhealth)\n",
    "merck = get_returns(merck)\n",
    "pfizer = get_returns(pfizer)\n",
    "walmart = get_returns(walmart)\n",
    "apple = get_returns(apple)\n",
    "intel = get_returns(intel)\n",
    "exxonmobil = get_returns(exxonmobil)\n",
    "walgreens = get_returns(walgreens)\n",
    "caterpillar = get_returns(caterpillar)\n",
    "goldmansachs = get_returns(goldmansachs)\n",
    "proctergamble = get_returns(proctergamble)\n",
    "visa = get_returns(visa)\n",
    "disney = get_returns(disney)\n",
    "ibm = get_returns(ibm)\n",
    "nike = get_returns(nike)\n",
    "jandj = get_returns(jandj)\n",
    "cocacola = get_returns(cocacola)\n",
    "jpmorganchase = get_returns(jpmorganchase)\n",
    "mmm = get_returns(mmm)\n",
    "microsoft = get_returns(microsoft)\n",
    "chevron = get_returns(chevron)\n",
    "verizoncom = get_returns(verizoncom)\n",
    "americanexpress = get_returns(americanexpress)\n",
    "cisco = get_returns(cisco)\n",
    "travelers = get_returns(travelers)\n",
    "mcdonalds = get_returns(mcdonalds)\n",
    "dowinc = get_returns(dowinc)"
   ]
  },
  {
   "cell_type": "code",
   "execution_count": 244,
   "metadata": {
    "scrolled": true
   },
   "outputs": [
    {
     "name": "stdout",
     "output_type": "stream",
     "text": [
      "The excess kurtosis of the distribution (should be 0 if normally distrubuted): 10.5555\n",
      "The skewness of the distribution (should be 0 if normally distributed): 0.3724\n"
     ]
    },
    {
     "data": {
      "image/png": "[encoded data removed]",
      "text/plain": [
       "<Figure size 432x288 with 1 Axes>"
      ]
     },
     "metadata": {
      "needs_background": "light"
     },
     "output_type": "display_data"
    }
   ],
   "source": [
    "## plotting the data against the normal distribution ##\n",
    "## obviously the data is not normal distributed ##\n",
    "## kurtosis and skewness differ from normal ##\n",
    "\n",
    "mean = np.mean(nike)\n",
    "std_dev = np.std(nike)\n",
    "nike.hist(bins = 40, normed = True, histtype = 'stepfilled', alpha = 0.8)\n",
    "plt.title('Nike returns against normal distribution')\n",
    "plt.xlabel('Returns')\n",
    "plt.ylabel('Frequency')\n",
    "x = np.linspace (mean-3*std_dev, mean + 3*std_dev,100)\n",
    "plt.plot(x,norm.pdf(x, mean, std_dev),'r')\n",
    "plt.show\n",
    "#plt.savefig('nike_distribution.jpg')\n",
    "\n",
    "print( 'The excess kurtosis of the distribution (should be 0 if normally distrubuted): {}'.format(round(kurtosis(nike),4 )))\n",
    "print( 'The skewness of the distribution (should be 0 if normally distributed): {}'.format(round(skew(nike),4 )))"
   ]
  },
  {
   "cell_type": "code",
   "execution_count": 246,
   "metadata": {},
   "outputs": [
    {
     "data": {
      "image/png": "[encoded data removed]",
      "text/plain": [
       "<Figure size 432x288 with 1 Axes>"
      ]
     },
     "metadata": {
      "needs_background": "light"
     },
     "output_type": "display_data"
    }
   ],
   "source": [
    "## qq-plt to see if normally distributed for three sample stocks ##\n",
    "\n",
    "fig = scipy.stats.probplot(nike, dist=\"norm\", plot= plt)\n",
    "#plt.savefig('nike_QQ_plot.jpg')"
   ]
  },
  {
   "cell_type": "code",
   "execution_count": 248,
   "metadata": {},
   "outputs": [
    {
     "name": "stdout",
     "output_type": "stream",
     "text": [
      "The excess kurtosis of the distribution (should be 0 if normally distrubuted): 9.0111\n",
      "The skewness of the distribution (should be 0 if normally distributed): 0.2239\n"
     ]
    },
    {
     "data": {
      "image/png": "[encoded data removed]",
      "text/plain": [
       "<Figure size 432x288 with 1 Axes>"
      ]
     },
     "metadata": {
      "needs_background": "light"
     },
     "output_type": "display_data"
    }
   ],
   "source": [
    "mean = np.mean(disney)\n",
    "std_dev = np.std(disney)\n",
    "disney.hist(bins =40, normed = True, histtype = 'stepfilled', alpha = 0.8)\n",
    "plt.title('disney returns against normal distribution')\n",
    "plt.xlabel('Returns')\n",
    "plt.ylabel('Frequency')\n",
    "x = np.linspace (mean-3*std_dev, mean + 3*std_dev,100)\n",
    "plt.plot(x,norm.pdf(x, mean, std_dev),'r')\n",
    "plt.show\n",
    "#plt.savefig('disney_distribution.jpg')\n",
    "\n",
    "print( 'The excess kurtosis of the distribution (should be 0 if normally distrubuted): {}'.format(round(kurtosis(disney),4 )))\n",
    "print( 'The skewness of the distribution (should be 0 if normally distributed): {}'.format(round(skew(disney),4 )))"
   ]
  },
  {
   "cell_type": "code",
   "execution_count": 250,
   "metadata": {},
   "outputs": [
    {
     "data": {
      "image/png": "[encoded data removed]",
      "text/plain": [
       "<Figure size 432x288 with 1 Axes>"
      ]
     },
     "metadata": {
      "needs_background": "light"
     },
     "output_type": "display_data"
    }
   ],
   "source": [
    "fig = scipy.stats.probplot(disney, dist=\"norm\", plot= plt)\n",
    "#plt.savefig('disney_QQ_plot.jpg')"
   ]
  },
  {
   "cell_type": "code",
   "execution_count": 252,
   "metadata": {},
   "outputs": [
    {
     "name": "stdout",
     "output_type": "stream",
     "text": [
      "The excess kurtosis of the distribution (should be 0 if normally distrubuted): 8.5911\n",
      "The skewness of the distribution (should be 0 if normally distributed): 0.2513\n"
     ]
    },
    {
     "data": {
      "image/png": "[encoded data removed]",
      "text/plain": [
       "<Figure size 432x288 with 1 Axes>"
      ]
     },
     "metadata": {
      "needs_background": "light"
     },
     "output_type": "display_data"
    }
   ],
   "source": [
    "mean = np.mean(visa)\n",
    "std_dev = np.std(visa)\n",
    "visa.hist(bins =40, normed = True, histtype = 'stepfilled', alpha = 0.8)\n",
    "plt.title('Visa returns against normal distribution')\n",
    "plt.xlabel('Returns')\n",
    "plt.ylabel('Frequency')\n",
    "x = np.linspace (mean-3*std_dev, mean + 3*std_dev,100)\n",
    "plt.plot(x,norm.pdf(x, mean, std_dev),'r')\n",
    "plt.show\n",
    "#plt.savefig('visa_distribution.jpg')\n",
    "\n",
    "print( 'The excess kurtosis of the distribution (should be 0 if normally distrubuted): {}'.format(round(kurtosis(visa),4 )))\n",
    "print( 'The skewness of the distribution (should be 0 if normally distributed): {}'.format(round(skew(visa),4 )))"
   ]
  },
  {
   "cell_type": "code",
   "execution_count": 254,
   "metadata": {},
   "outputs": [
    {
     "data": {
      "image/png": "[encoded data removed]",
      "text/plain": [
       "<Figure size 432x288 with 1 Axes>"
      ]
     },
     "metadata": {
      "needs_background": "light"
     },
     "output_type": "display_data"
    }
   ],
   "source": [
    "fig = scipy.stats.probplot(visa, dist=\"norm\", plot= plt)\n",
    "#plt.savefig('visa_QQ_plot.jpg')"
   ]
  },
  {
   "cell_type": "code",
   "execution_count": 19,
   "metadata": {},
   "outputs": [],
   "source": [
    "## need to sort the returns to calculate Value at Risk ##\n",
    "\n",
    "def sorting(stock):\n",
    "    sorted_stocks =stock.sort_values(axis=0, ascending=True, inplace=False, kind='quicksort', na_position='last')\n",
    "    return sorted_stocks\n",
    "    stock = sorted_stocks"
   ]
  },
  {
   "cell_type": "code",
   "execution_count": 20,
   "metadata": {},
   "outputs": [],
   "source": [
    "## function to calculate the VaR for a single stock ##\n",
    "\n",
    "def VaR(quantile,stock):\n",
    "    sorting(stock)\n",
    "    var = stock.quantile(quantile)\n",
    "    return var*-1"
   ]
  },
  {
   "cell_type": "code",
   "execution_count": 21,
   "metadata": {},
   "outputs": [],
   "source": [
    "## get 95% VaR for every stock ##\n",
    "\n",
    "VaR_95_boeing = VaR(0.05,boeing)\n",
    "VaR_95_unitedhealth = VaR(0.05,unitedhealth)\n",
    "VaR_95_goldmansachs = VaR(0.05,goldmansachs)\n",
    "VaR_95_homedepot = VaR(0.05,homedepot)\n",
    "VaR_95_mmm = VaR(0.05,mmm)\n",
    "VaR_95_apple = VaR(0.05,apple)\n",
    "VaR_95_mcdonalds = VaR(0.05,mcdonalds)\n",
    "VaR_95_ibm = VaR(0.05,ibm)\n",
    "VaR_95_caterpillar =VaR(0.05,caterpillar)\n",
    "VaR_95_visa = VaR(0.05,visa)\n",
    "VaR_95_travelers = VaR(0.05,travelers)\n",
    "VaR_95_chevron = VaR(0.05,chevron)\n",
    "VaR_95_jandj = VaR(0.05,jandj)\n",
    "VaR_95_jpmorganchase = VaR(0.05,jpmorganchase)\n",
    "VaR_95_disney = VaR(0.05,disney)\n",
    "VaR_95_americanexpress = VaR(0.05,americanexpress)\n",
    "VaR_95_microsoft = VaR(0.05,microsoft)\n",
    "VaR_95_walmart = VaR(0.05,walmart)\n",
    "VaR_95_exxonmobil = VaR(0.05,exxonmobil)\n",
    "VaR_95_proctergamble = VaR(0.05,proctergamble)\n",
    "VaR_95_nike = VaR(0.05,nike)\n",
    "VaR_95_walgreens = VaR(0.05,walgreens)\n",
    "VaR_95_dowinc = VaR(0.05,dowinc)\n",
    "VaR_95_merck = VaR(0.05,merck)\n",
    "VaR_95_intel = VaR(0.05,intel)\n",
    "VaR_95_verizoncom = VaR(0.05,verizoncom)\n",
    "VaR_95_cocacola = VaR(0.05,cocacola)\n",
    "VaR_95_cisco = VaR(0.05,cisco)\n",
    "VaR_95_pfizer = VaR(0.05,pfizer)"
   ]
  },
  {
   "cell_type": "code",
   "execution_count": 22,
   "metadata": {},
   "outputs": [],
   "source": [
    "dow_jones_VaR95 = {'Boeing':'BA','UnitedHealth':'UNH','GoldmanSachs':'GS','HomeDepot':'HD','3M':'MMM',\n",
    "                   'Apple':'AAPL','McDonalds':'MCD','IBM':'IBM','Caterpillar':'CAT','Visa':'V','Travelers':'TRV',\n",
    "                   'Chevron':'CVX','Johnson&Johnson':'JNJ','JPMorganChase':'JPM','Disney':'DIS',\n",
    "                   'AmericanExpress':'AXP','Microsoft':'MSFT','Walmart':'WMT','ExxonMobil':'XOM',\n",
    "                   'Procter&Gamble':'PG','Nike':'NKE','Walgreens':'WBA','DowInc':'DOW','Merck':'MRK','Intel':'INTC',\n",
    "                   'VerizonCommunications':'VZ','CocaCola':'KO','Cisco':'CSCO','Pfizer':'PFE'}"
   ]
  },
  {
   "cell_type": "code",
   "execution_count": 23,
   "metadata": {},
   "outputs": [],
   "source": [
    "dow_jones_VaR95['Boeing'] = VaR_95_boeing\n",
    "dow_jones_VaR95['UnitedHealth'] =VaR_95_unitedhealth\n",
    "dow_jones_VaR95['GoldmanSachs'] =VaR_95_goldmansachs\n",
    "dow_jones_VaR95['HomeDepot'] =VaR_95_homedepot\n",
    "dow_jones_VaR95['3M'] =VaR_95_mmm\n",
    "dow_jones_VaR95['Apple'] =VaR_95_apple\n",
    "dow_jones_VaR95['McDonalds'] =VaR_95_mcdonalds\n",
    "dow_jones_VaR95['IBM'] =VaR_95_ibm\n",
    "dow_jones_VaR95['Caterpillar'] =VaR_95_caterpillar\n",
    "dow_jones_VaR95['Visa'] =VaR_95_visa\n",
    "dow_jones_VaR95['Travelers'] =VaR_95_travelers\n",
    "dow_jones_VaR95['Chevron'] =VaR_95_chevron\n",
    "dow_jones_VaR95['Johnson&Johnson'] =VaR_95_jandj\n",
    "dow_jones_VaR95['JPMorganChase'] =VaR_95_jpmorganchase\n",
    "dow_jones_VaR95['Disney'] =VaR_95_disney\n",
    "dow_jones_VaR95['AmericanExpress'] =VaR_95_americanexpress\n",
    "dow_jones_VaR95['Microsoft'] =VaR_95_microsoft\n",
    "dow_jones_VaR95['Walmart'] =VaR_95_walmart\n",
    "dow_jones_VaR95['ExxonMobil'] =VaR_95_exxonmobil\n",
    "dow_jones_VaR95['Procter&Gamble'] =VaR_95_proctergamble\n",
    "dow_jones_VaR95['Nike'] =VaR_95_nike\n",
    "dow_jones_VaR95['Walgreens'] =VaR_95_walgreens\n",
    "dow_jones_VaR95['DowInc'] =VaR_95_dowinc\n",
    "dow_jones_VaR95['Merck'] =VaR_95_merck\n",
    "dow_jones_VaR95['Intel'] =VaR_95_intel\n",
    "dow_jones_VaR95['VerizonCommunications'] =VaR_95_verizoncom\n",
    "dow_jones_VaR95['CocaCola'] =VaR_95_cocacola\n",
    "dow_jones_VaR95['Cisco'] =VaR_95_cisco\n",
    "dow_jones_VaR95['Pfizer'] =VaR_95_pfizer"
   ]
  },
  {
   "cell_type": "code",
   "execution_count": 24,
   "metadata": {},
   "outputs": [
    {
     "data": {
      "text/plain": [
       "{'Boeing': 0.059090360539358386,\n",
       " 'UnitedHealth': 0.03485967717075729,\n",
       " 'GoldmanSachs': 0.03661963025721295,\n",
       " 'HomeDepot': 0.031421101640361736,\n",
       " '3M': 0.033651948709483306,\n",
       " 'Apple': 0.03425843588372482,\n",
       " 'McDonalds': 0.02754444765117517,\n",
       " 'IBM': 0.03505000564634188,\n",
       " 'Caterpillar': 0.03954434938630948,\n",
       " 'Visa': 0.04065777916613465,\n",
       " 'Travelers': 0.032868111909678095,\n",
       " 'Chevron': 0.034733465406060565,\n",
       " 'Johnson&Johnson': 0.02906924431630636,\n",
       " 'JPMorganChase': 0.04384890790852604,\n",
       " 'Disney': 0.037044381031499485,\n",
       " 'AmericanExpress': 0.04926712443590628,\n",
       " 'Microsoft': 0.032940618339627276,\n",
       " 'Walmart': 0.02045200451996344,\n",
       " 'ExxonMobil': 0.04249579901753066,\n",
       " 'Procter&Gamble': 0.027744477972744694,\n",
       " 'Nike': 0.03248232126934502,\n",
       " 'Walgreens': 0.04342491851264465,\n",
       " 'DowInc': 0.046035198578966055,\n",
       " 'Merck': 0.0300332939119743,\n",
       " 'Intel': 0.03852442711321804,\n",
       " 'VerizonCommunications': 0.021587644442775687,\n",
       " 'CocaCola': 0.027789813842780384,\n",
       " 'Cisco': 0.04151859528136538,\n",
       " 'Pfizer': 0.02726963500050146}"
      ]
     },
     "execution_count": 24,
     "metadata": {},
     "output_type": "execute_result"
    }
   ],
   "source": [
    "## 95% VaR of stock returns in percent, we interpret VaR as positive number ##\n",
    "\n",
    "dow_jones_VaR95"
   ]
  },
  {
   "cell_type": "code",
   "execution_count": 25,
   "metadata": {},
   "outputs": [],
   "source": [
    "for value in dow_jones_VaR95:    \n",
    "    dow_jones_VaR95[value] *=  1000000"
   ]
  },
  {
   "cell_type": "code",
   "execution_count": 26,
   "metadata": {},
   "outputs": [],
   "source": [
    "dow_jones_VaR95 ={k: round(v, 2) for k, v in dow_jones_VaR95.items()}"
   ]
  },
  {
   "cell_type": "code",
   "execution_count": 27,
   "metadata": {},
   "outputs": [],
   "source": [
    "for key in dow_jones_VaR95:\n",
    "    dow_jones_VaR95[key] = \"${:,.2f}\".format(dow_jones_VaR95[key])"
   ]
  },
  {
   "cell_type": "code",
   "execution_count": 256,
   "metadata": {},
   "outputs": [
    {
     "name": "stdout",
     "output_type": "stream",
     "text": [
      "The excess kurtosis of the distribution (should be 0 if normally distrubuted): 8.5911\n",
      "The skewness of the distribution (should be 0 if normally distributed): 0.2513\n",
      "\n",
      "\n",
      "\n",
      "The Value at Risk with 99% confidence for $1,000,000 invested in Visa is: $73,061.71\n",
      "\n",
      "\n"
     ]
    },
    {
     "data": {
      "image/png": "[encoded data removed]",
      "text/plain": [
       "<Figure size 864x504 with 1 Axes>"
      ]
     },
     "metadata": {
      "needs_background": "light"
     },
     "output_type": "display_data"
    }
   ],
   "source": [
    "## plotting VaR 99% as an example for visa stock ##\n",
    "\n",
    "mean = np.mean(visa)\n",
    "std_dev = np.std(visa)\n",
    "visa.hist(bins =40, normed = True, histtype = 'stepfilled', alpha = 0.8, figsize =(12,7))\n",
    "\n",
    "plt.title('Visa returns against normal distribution')\n",
    "plt.xlabel('Returns')\n",
    "plt.ylabel('Frequency')\n",
    "plt.axvline(VaR(0.01,visa)*-1,color = 'red',label='Value at Risk')\n",
    "x = np.linspace (mean-3*std_dev, mean + 3*std_dev,100)\n",
    "plt.plot(x,norm.pdf(x, mean, std_dev),'orange',label='Normal distribution')\n",
    "plt.legend()\n",
    "plt.show\n",
    "#plt.savefig('visa_VaR.jpg')\n",
    "\n",
    "\n",
    "print( 'The excess kurtosis of the distribution (should be 0 if normally distrubuted): {}'.format(round(kurtosis(visa),4 )))\n",
    "print( 'The skewness of the distribution (should be 0 if normally distributed): {}'.format(round(skew(visa),4 )))\n",
    "\n",
    "VaR_amount_99_visa= \"${:,.2f}\".format(round(VaR(0.01,visa)*1000000,2))\n",
    "print('\\n'*3+'The Value at Risk with 99% confidence for $1,000,000 invested in Visa is: {}'.format(VaR_amount_99_visa)+'\\n'*2)"
   ]
  },
  {
   "cell_type": "code",
   "execution_count": null,
   "metadata": {},
   "outputs": [],
   "source": []
  },
  {
   "cell_type": "code",
   "execution_count": null,
   "metadata": {},
   "outputs": [],
   "source": []
  },
  {
   "cell_type": "code",
   "execution_count": null,
   "metadata": {},
   "outputs": [],
   "source": []
  },
  {
   "cell_type": "code",
   "execution_count": 29,
   "metadata": {},
   "outputs": [],
   "source": [
    "list_VaR = dict.items(dow_jones_VaR95)"
   ]
  },
  {
   "cell_type": "code",
   "execution_count": 30,
   "metadata": {},
   "outputs": [
    {
     "name": "stdout",
     "output_type": "stream",
     "text": [
      "Stock                  Value at Risk in $\n",
      "---------------------  --------------------\n",
      "Boeing                 $59,090.36\n",
      "UnitedHealth           $34,859.68\n",
      "GoldmanSachs           $36,619.63\n",
      "HomeDepot              $31,421.10\n",
      "3M                     $33,651.95\n",
      "Apple                  $34,258.44\n",
      "McDonalds              $27,544.45\n",
      "IBM                    $35,050.01\n",
      "Caterpillar            $39,544.35\n",
      "Visa                   $40,657.78\n",
      "Travelers              $32,868.11\n",
      "Chevron                $34,733.47\n",
      "Johnson&Johnson        $29,069.24\n",
      "JPMorganChase          $43,848.91\n",
      "Disney                 $37,044.38\n",
      "AmericanExpress        $49,267.12\n",
      "Microsoft              $32,940.62\n",
      "Walmart                $20,452.00\n",
      "ExxonMobil             $42,495.80\n",
      "Procter&Gamble         $27,744.48\n",
      "Nike                   $32,482.32\n",
      "Walgreens              $43,424.92\n",
      "DowInc                 $46,035.20\n",
      "Merck                  $30,033.29\n",
      "Intel                  $38,524.43\n",
      "VerizonCommunications  $21,587.64\n",
      "CocaCola               $27,789.81\n",
      "Cisco                  $41,518.60\n",
      "Pfizer                 $27,269.64\n"
     ]
    }
   ],
   "source": [
    "from tabulate import tabulate\n",
    "print (tabulate(list_VaR, headers=[\"Stock\", \"Value at Risk in $\"]))"
   ]
  },
  {
   "cell_type": "code",
   "execution_count": null,
   "metadata": {},
   "outputs": [],
   "source": []
  },
  {
   "cell_type": "code",
   "execution_count": 327,
   "metadata": {},
   "outputs": [],
   "source": [
    "## define function to combine multiple stocks as a portfolio, equally weighted ##\n",
    "## will return the daily returns of the portfolio with every stock weighted equally ##\n",
    "\n",
    "def portfolio(*args):\n",
    "        combined =[]\n",
    "        for i in args:\n",
    "            x =i*(1/len(args))\n",
    "            combined.append(x)\n",
    "            y = sum(combined)\n",
    "            sorting(y)\n",
    "        return y\n",
    "        "
   ]
  },
  {
   "cell_type": "code",
   "execution_count": 32,
   "metadata": {},
   "outputs": [
    {
     "data": {
      "text/plain": [
       "1     -0.007954\n",
       "2      0.006895\n",
       "3     -0.008577\n",
       "4     -0.020376\n",
       "5      0.000224\n",
       "         ...   \n",
       "248    0.017673\n",
       "249    0.024160\n",
       "250    0.002198\n",
       "251    0.028609\n",
       "252   -0.007855\n",
       "Name: Adj Close, Length: 252, dtype: float64"
      ]
     },
     "execution_count": 32,
     "metadata": {},
     "output_type": "execute_result"
    }
   ],
   "source": [
    "## example ##\n",
    "\n",
    "portfolio(mmm,apple, visa)"
   ]
  },
  {
   "cell_type": "code",
   "execution_count": 33,
   "metadata": {},
   "outputs": [],
   "source": [
    "## define function to check for subadditivity ##\n",
    "## will return boolean True or False ##\n",
    "\n",
    "# def subadditive(quantile,*args):\n",
    "   # sum_VaR = []\n",
    "  #  for i in args:\n",
    "       #  x = VaR(quantile,i)*1/len(args)\n",
    "        # sum_VaR.append(x) \n",
    "       #  y= sum(sum_VaR)  \n",
    "       \n",
    "         \n",
    "    \n",
    "    \n",
    "   # if y >= VaR(quantile,portfolio(*args)):\n",
    "   #     return True\n",
    "   # else:\n",
    "      #  return False"
   ]
  },
  {
   "cell_type": "code",
   "execution_count": 328,
   "metadata": {},
   "outputs": [],
   "source": [
    "def subadditive(quantile,*args):\n",
    "    sum_VaR = []\n",
    "    for i in args:\n",
    "         x = VaR(quantile,i)*(1/len(args)*1000000)\n",
    "         sum_VaR.append(x) \n",
    "         y= sum(sum_VaR)  \n",
    "       \n",
    "         \n",
    "    \n",
    "    \n",
    "    if y >= VaR(quantile,portfolio(*args))*1000000:\n",
    "        return True\n",
    "    else:\n",
    "        return False"
   ]
  },
  {
   "cell_type": "code",
   "execution_count": null,
   "metadata": {},
   "outputs": [],
   "source": []
  },
  {
   "cell_type": "code",
   "execution_count": null,
   "metadata": {},
   "outputs": [],
   "source": []
  },
  {
   "cell_type": "code",
   "execution_count": null,
   "metadata": {},
   "outputs": [],
   "source": []
  },
  {
   "cell_type": "code",
   "execution_count": 300,
   "metadata": {},
   "outputs": [
    {
     "data": {
      "text/plain": [
       "True"
      ]
     },
     "execution_count": 300,
     "metadata": {},
     "output_type": "execute_result"
    }
   ],
   "source": [
    "## example ##\n",
    "subadditive(0.05, nike,disney)"
   ]
  },
  {
   "cell_type": "code",
   "execution_count": 35,
   "metadata": {},
   "outputs": [],
   "source": [
    "## subadditivity random portfolios ##"
   ]
  },
  {
   "cell_type": "code",
   "execution_count": 36,
   "metadata": {},
   "outputs": [],
   "source": [
    "stoxx = dow_jones_VaR95.keys()"
   ]
  },
  {
   "cell_type": "code",
   "execution_count": 37,
   "metadata": {},
   "outputs": [],
   "source": [
    "## we will randomly create 5 portfolios and check for subadditivity ##\n",
    "## the portfolios consist of a random rumber of stocks ##\n",
    "\n",
    "# number_random_portfolios = []\n",
    "# for x in range (0, 5):\n",
    "    # number_random_portfolios.append(random.randint(1, 29))"
   ]
  },
  {
   "cell_type": "code",
   "execution_count": 38,
   "metadata": {},
   "outputs": [],
   "source": [
    "## these are the numbers of stocks for every portfolio randomly generated ##\n",
    "\n",
    "number_random_portfolios = [11,24,3,3, 28]"
   ]
  },
  {
   "cell_type": "code",
   "execution_count": 39,
   "metadata": {},
   "outputs": [],
   "source": [
    "## for every portfolio, random stocks will be picked accordingly to the number of stocks generated above ##\n",
    "\n",
    "# random_portfolios = []\n",
    "# for x in number_random_portfolios:\n",
    "    #y = random.sample(stoxx,x)\n",
    "    #y = [each_string.lower() for each_string in y]\n",
    "    #random_portfolios.append(y)"
   ]
  },
  {
   "cell_type": "code",
   "execution_count": 40,
   "metadata": {},
   "outputs": [],
   "source": [
    "## portfolios were randommly generated ##\n",
    "random_portfolios = [['merck',\n",
    "  'dowinc',\n",
    "  'intel',\n",
    "  'ibm',\n",
    "  'cocacola',\n",
    "  'homedepot',\n",
    "  'nike',\n",
    "  'jpmorganchase',\n",
    "  'johnson&johnson',\n",
    "  'mcdonalds',\n",
    "  'procter&gamble'],\n",
    " ['pfizer',\n",
    "  'boeing',\n",
    "  'walmart',\n",
    "  'cisco',\n",
    "  'dowinc',\n",
    "  'nike',\n",
    "  'verizoncommunications',\n",
    "  'travelers',\n",
    "  'homedepot',\n",
    "  'cocacola',\n",
    "  'exxonmobil',\n",
    "  'unitedhealth',\n",
    "  'apple',\n",
    "  'americanexpress',\n",
    "  'procter&gamble',\n",
    "  'merck',\n",
    "  'visa',\n",
    "  'disney',\n",
    "  'goldmansachs',\n",
    "  'jpmorganchase',\n",
    "  'caterpillar',\n",
    "  '3m',\n",
    "  'ibm',\n",
    "  'walgreens'],\n",
    " ['boeing', 'caterpillar', 'walgreens'],\n",
    " ['walgreens', 'procter&gamble', 'pfizer'],\n",
    " ['visa',\n",
    "  'disney',\n",
    "  'johnson&johnson',\n",
    "  'mcdonalds',\n",
    "  'chevron',\n",
    "  'caterpillar',\n",
    "  'boeing',\n",
    "  'microsoft',\n",
    "  'homedepot',\n",
    "  'travelers',\n",
    "  'cocacola',\n",
    "  'merck',\n",
    "  'goldmansachs',\n",
    "  'intel',\n",
    "  'cisco',\n",
    "  'procter&gamble',\n",
    "  'jpmorganchase',\n",
    "  'walgreens',\n",
    "  'ibm',\n",
    "  '3m',\n",
    "  'americanexpress',\n",
    "  'pfizer',\n",
    "  'verizoncommunications',\n",
    "  'apple',\n",
    "  'exxonmobil',\n",
    "  'dowinc',\n",
    "  'unitedhealth',\n",
    "  'walmart']]"
   ]
  },
  {
   "cell_type": "code",
   "execution_count": 41,
   "metadata": {},
   "outputs": [],
   "source": [
    "## check random portfolios for subadditivity with 95% VaR ##"
   ]
  },
  {
   "cell_type": "code",
   "execution_count": 329,
   "metadata": {},
   "outputs": [
    {
     "data": {
      "text/plain": [
       "True"
      ]
     },
     "execution_count": 329,
     "metadata": {},
     "output_type": "execute_result"
    }
   ],
   "source": [
    "## random portfolio 1 ##\n",
    "\n",
    "subadditive(0.05, merck, dowinc, intel, ibm, cocacola, homedepot, nike, jpmorganchase, jandj,mcdonalds, \n",
    "            proctergamble)"
   ]
  },
  {
   "cell_type": "code",
   "execution_count": 330,
   "metadata": {},
   "outputs": [
    {
     "data": {
      "text/plain": [
       "True"
      ]
     },
     "execution_count": 330,
     "metadata": {},
     "output_type": "execute_result"
    }
   ],
   "source": [
    "## random portfolio 2 ##\n",
    "\n",
    "subadditive(0.05, pfizer, boeing, walmart, cisco, dowinc, nike, verizoncom, travelers, homedepot, cocacola, \n",
    "            exxonmobil, unitedhealth, apple, americanexpress, proctergamble, merck, visa, disney,\n",
    "            goldmansachs, jpmorganchase, caterpillar, mmm, ibm, walgreens)"
   ]
  },
  {
   "cell_type": "code",
   "execution_count": 331,
   "metadata": {},
   "outputs": [
    {
     "data": {
      "text/plain": [
       "True"
      ]
     },
     "execution_count": 331,
     "metadata": {},
     "output_type": "execute_result"
    }
   ],
   "source": [
    "## random portfolio 3 ##\n",
    "\n",
    "subadditive(0.05, boeing, caterpillar, walgreens)"
   ]
  },
  {
   "cell_type": "code",
   "execution_count": 332,
   "metadata": {},
   "outputs": [
    {
     "data": {
      "text/plain": [
       "True"
      ]
     },
     "execution_count": 332,
     "metadata": {},
     "output_type": "execute_result"
    }
   ],
   "source": [
    "## random portfolio 4 ##\n",
    "\n",
    "subadditive(0.05, walgreens, proctergamble, pfizer)"
   ]
  },
  {
   "cell_type": "code",
   "execution_count": 333,
   "metadata": {},
   "outputs": [
    {
     "data": {
      "text/plain": [
       "True"
      ]
     },
     "execution_count": 333,
     "metadata": {},
     "output_type": "execute_result"
    }
   ],
   "source": [
    "## random portfolio 5 ##\n",
    "subadditive(0.05, visa, disney, jandj, mcdonalds, chevron, caterpillar, boeing, microsoft, homedepot,\n",
    "            travelers, cocacola, merck, goldmansachs, intel, cisco, proctergamble, jpmorganchase,\n",
    "            walgreens, ibm, mmm, americanexpress, pfizer, verizoncom, apple, exxonmobil, dowinc,\n",
    "             unitedhealth, walmart)"
   ]
  },
  {
   "cell_type": "code",
   "execution_count": 306,
   "metadata": {},
   "outputs": [
    {
     "name": "stdout",
     "output_type": "stream",
     "text": [
      "+-----------+-------------------------------+-------------+\n",
      "| Portfolio | Number of stocks in portfolio | Subadditive |\n",
      "+-----------+-------------------------------+-------------+\n",
      "|     1     |               11              |     Yes     |\n",
      "|     2     |               24              |     Yes     |\n",
      "|     3     |               3               |     Yes     |\n",
      "|     4     |               3               |     Yes     |\n",
      "|     5     |               28              |     Yes     |\n",
      "+-----------+-------------------------------+-------------+\n"
     ]
    }
   ],
   "source": [
    "table_one = PrettyTable()\n",
    "table_one.field_names = ['Portfolio','Number of stocks in portfolio', 'Subadditive']\n",
    "table_one.add_row(['1',11, 'Yes'])\n",
    "table_one.add_row(['2',24, 'Yes'])\n",
    "table_one.add_row(['3',3, 'Yes'])\n",
    "table_one.add_row(['4',3, 'Yes'])\n",
    "table_one.add_row(['5',28, 'Yes'])\n",
    "print(table_one)"
   ]
  },
  {
   "cell_type": "code",
   "execution_count": 48,
   "metadata": {},
   "outputs": [],
   "source": [
    "## check random portfolios subadditive 99% VaR ## "
   ]
  },
  {
   "cell_type": "code",
   "execution_count": 307,
   "metadata": {},
   "outputs": [
    {
     "data": {
      "text/plain": [
       "True"
      ]
     },
     "execution_count": 307,
     "metadata": {},
     "output_type": "execute_result"
    }
   ],
   "source": [
    "## random portfolio 1 ##\n",
    "\n",
    "subadditive(0.01, merck, dowinc, intel, ibm, cocacola, homedepot, nike, jpmorganchase, jandj,mcdonalds, \n",
    "            proctergamble)"
   ]
  },
  {
   "cell_type": "code",
   "execution_count": 308,
   "metadata": {},
   "outputs": [
    {
     "data": {
      "text/plain": [
       "True"
      ]
     },
     "execution_count": 308,
     "metadata": {},
     "output_type": "execute_result"
    }
   ],
   "source": [
    "## random portfolio 2 ##\n",
    "\n",
    "subadditive(0.01, pfizer, boeing, walmart, cisco, dowinc, nike, verizoncom, travelers, homedepot, cocacola, \n",
    "            exxonmobil, unitedhealth, apple, americanexpress, proctergamble, merck, visa, disney,\n",
    "            goldmansachs, jpmorganchase, caterpillar, mmm, ibm, walgreens)"
   ]
  },
  {
   "cell_type": "code",
   "execution_count": 309,
   "metadata": {},
   "outputs": [
    {
     "data": {
      "text/plain": [
       "True"
      ]
     },
     "execution_count": 309,
     "metadata": {},
     "output_type": "execute_result"
    }
   ],
   "source": [
    "## random portfolio 3 ##\n",
    "\n",
    "subadditive(0.01, boeing, caterpillar, walgreens)"
   ]
  },
  {
   "cell_type": "code",
   "execution_count": 310,
   "metadata": {},
   "outputs": [
    {
     "data": {
      "text/plain": [
       "True"
      ]
     },
     "execution_count": 310,
     "metadata": {},
     "output_type": "execute_result"
    }
   ],
   "source": [
    "## random portfolio 4 ##\n",
    "\n",
    "subadditive(0.01, walgreens, proctergamble, pfizer)"
   ]
  },
  {
   "cell_type": "code",
   "execution_count": 311,
   "metadata": {},
   "outputs": [
    {
     "data": {
      "text/plain": [
       "True"
      ]
     },
     "execution_count": 311,
     "metadata": {},
     "output_type": "execute_result"
    }
   ],
   "source": [
    "## random portfolio 5 ##\n",
    "\n",
    "subadditive(0.01, visa, disney, jandj, mcdonalds, chevron, caterpillar, boeing, microsoft, homedepot,\n",
    "            travelers, cocacola, merck, goldmansachs, intel, cisco, proctergamble, jpmorganchase,\n",
    "            walgreens, ibm, mmm, americanexpress, pfizer, verizoncom, apple, exxonmobil, dowinc,\n",
    "             unitedhealth, walmart)"
   ]
  },
  {
   "cell_type": "code",
   "execution_count": 54,
   "metadata": {},
   "outputs": [
    {
     "name": "stdout",
     "output_type": "stream",
     "text": [
      "+-----------+-------------------------------+-------------+\n",
      "| Portfolio | Number of stocks in portfolio | Subadditive |\n",
      "+-----------+-------------------------------+-------------+\n",
      "|     1     |               11              |     Yes     |\n",
      "|     2     |               24              |     Yes     |\n",
      "|     3     |               3               |     yes     |\n",
      "|     4     |               3               |     Yes     |\n",
      "|     5     |               28              |     Yes     |\n",
      "+-----------+-------------------------------+-------------+\n"
     ]
    }
   ],
   "source": [
    "table_two = PrettyTable()\n",
    "table_two.field_names = ['Portfolio','Number of stocks in portfolio', 'Subadditive']\n",
    "table_two.add_row(['1',11, 'Yes'])\n",
    "table_two.add_row(['2',24, 'Yes'])\n",
    "table_two.add_row(['3',3, 'yes'])\n",
    "table_two.add_row(['4',3, 'Yes'])\n",
    "table_two.add_row(['5',28, 'Yes'])\n",
    "print(table_two)"
   ]
  },
  {
   "cell_type": "code",
   "execution_count": 55,
   "metadata": {},
   "outputs": [],
   "source": [
    "## counting the violations of subadditivity ##"
   ]
  },
  {
   "cell_type": "code",
   "execution_count": 56,
   "metadata": {},
   "outputs": [],
   "source": [
    "import itertools\n",
    "from itertools import combinations"
   ]
  },
  {
   "cell_type": "code",
   "execution_count": 57,
   "metadata": {},
   "outputs": [],
   "source": [
    "## we first chose 15 random stocks and then check all their combinations for violations of subadditivity ##\n",
    "\n",
    "list_dow_jones = list(stoxx)\n",
    "# random.sample(list_dow_jones, 15)"
   ]
  },
  {
   "cell_type": "code",
   "execution_count": 58,
   "metadata": {},
   "outputs": [],
   "source": [
    "result_random = [mmm, walgreens, americanexpress, disney, dowinc, travelers, walmart, nike, visa,\n",
    "                 merck, mcdonalds, caterpillar, unitedhealth, ibm, boeing]"
   ]
  },
  {
   "cell_type": "code",
   "execution_count": 59,
   "metadata": {},
   "outputs": [
    {
     "data": {
      "text/plain": [
       "32752"
      ]
     },
     "execution_count": 59,
     "metadata": {},
     "output_type": "execute_result"
    }
   ],
   "source": [
    "## this is the number of all possible combinations of portfolios which include more than one stock ##\n",
    "\n",
    "all_combinations = []\n",
    "for r in range(len(result_random) + 1):\n",
    "    combinations_object = itertools.combinations(result_random, r)\n",
    "    combinations_list = list(combinations_object)\n",
    "    all_combinations += combinations_list\n",
    "all_combinations = [x for x in all_combinations if len(x) > 1]\n",
    "len(all_combinations)"
   ]
  },
  {
   "cell_type": "code",
   "execution_count": 375,
   "metadata": {},
   "outputs": [],
   "source": [
    "## define function to count the violations ##\n",
    "\n",
    "def number_violations(quantile, list_stocks_portfolio):\n",
    "    \n",
    "    all_combinations = []\n",
    "    for r in range(len(list_stocks_portfolio) + 1):\n",
    "        combinations_object = itertools.combinations(list_stocks_portfolio, r)\n",
    "        combinations_list = list(combinations_object)\n",
    "        all_combinations += combinations_list\n",
    "    all_combinations = [x for x in all_combinations if len(x) > 1]\n",
    "    all_combinations = [list(elem) for elem in all_combinations] \n",
    "    checked_subadditive = [subadditive(quantile,*element) for element in all_combinations]\n",
    "    return checked_subadditive.count(False)"
   ]
  },
  {
   "cell_type": "code",
   "execution_count": 379,
   "metadata": {},
   "outputs": [
    {
     "name": "stdout",
     "output_type": "stream",
     "text": [
      "CPU times: user 8min 48s, sys: 2.48 s, total: 8min 50s\n",
      "Wall time: 8min 54s\n"
     ]
    },
    {
     "data": {
      "text/plain": [
       "24"
      ]
     },
     "execution_count": 379,
     "metadata": {},
     "output_type": "execute_result"
    }
   ],
   "source": [
    "# %%time\n",
    "# number_violations(0.05, result_random)"
   ]
  },
  {
   "cell_type": "code",
   "execution_count": 62,
   "metadata": {},
   "outputs": [],
   "source": [
    "## the number of violations is saved here because of the computing time ##\n",
    "## computing time: 9min 13s ##\n",
    "\n",
    "violations_95 = 19"
   ]
  },
  {
   "cell_type": "code",
   "execution_count": 380,
   "metadata": {},
   "outputs": [
    {
     "name": "stdout",
     "output_type": "stream",
     "text": [
      "CPU times: user 8min 40s, sys: 2.01 s, total: 8min 42s\n",
      "Wall time: 8min 43s\n"
     ]
    },
    {
     "data": {
      "text/plain": [
       "234"
      ]
     },
     "execution_count": 380,
     "metadata": {},
     "output_type": "execute_result"
    }
   ],
   "source": [
    "# %%time\n",
    "# number_violations(0.01, result_random)"
   ]
  },
  {
   "cell_type": "code",
   "execution_count": 64,
   "metadata": {},
   "outputs": [],
   "source": [
    "## the number of violations is saved here because of the computing time ##\n",
    "## computing time: 9min 40s ##\n",
    "\n",
    "violations_99 = 234"
   ]
  },
  {
   "cell_type": "code",
   "execution_count": 65,
   "metadata": {},
   "outputs": [
    {
     "name": "stdout",
     "output_type": "stream",
     "text": [
      "+------------------+----------------------+\n",
      "| Confidence level | number of violations |\n",
      "+------------------+----------------------+\n",
      "|     95% VaR      |          19          |\n",
      "|     99% VaR      |         234          |\n",
      "+------------------+----------------------+\n"
     ]
    }
   ],
   "source": [
    "table_three = PrettyTable()\n",
    "table_three.field_names = ['Confidence level','number of violations']\n",
    "table_three.add_row(['95% VaR', violations_95])\n",
    "table_three.add_row(['99% VaR', violations_99])\n",
    "print(table_three)"
   ]
  },
  {
   "cell_type": "code",
   "execution_count": null,
   "metadata": {},
   "outputs": [],
   "source": []
  },
  {
   "cell_type": "code",
   "execution_count": 66,
   "metadata": {},
   "outputs": [],
   "source": [
    "## 5 years VaR, same components except DOW inc not included because no data available ##"
   ]
  },
  {
   "cell_type": "code",
   "execution_count": 67,
   "metadata": {},
   "outputs": [],
   "source": [
    "path_two = r'/Users/alexanderkoch/Desktop/Code Masterarbeit/Data_15-20'"
   ]
  },
  {
   "cell_type": "code",
   "execution_count": 68,
   "metadata": {},
   "outputs": [
    {
     "name": "stdout",
     "output_type": "stream",
     "text": [
      "/Users/alexanderkoch/Desktop/Code Masterarbeit/Data_15-20/Home Depot.csv\n",
      "/Users/alexanderkoch/Desktop/Code Masterarbeit/Data_15-20/United Health.csv\n",
      "/Users/alexanderkoch/Desktop/Code Masterarbeit/Data_15-20/Merck.csv\n",
      "/Users/alexanderkoch/Desktop/Code Masterarbeit/Data_15-20/Pfizer.csv\n",
      "/Users/alexanderkoch/Desktop/Code Masterarbeit/Data_15-20/Walmart.csv\n",
      "/Users/alexanderkoch/Desktop/Code Masterarbeit/Data_15-20/Apple.csv\n",
      "/Users/alexanderkoch/Desktop/Code Masterarbeit/Data_15-20/Intel.csv\n",
      "/Users/alexanderkoch/Desktop/Code Masterarbeit/Data_15-20/Exxon Mobil.csv\n",
      "/Users/alexanderkoch/Desktop/Code Masterarbeit/Data_15-20/Walgreens.csv\n",
      "/Users/alexanderkoch/Desktop/Code Masterarbeit/Data_15-20/Caterpillar.csv\n",
      "/Users/alexanderkoch/Desktop/Code Masterarbeit/Data_15-20/Goldman Sachs.csv\n",
      "/Users/alexanderkoch/Desktop/Code Masterarbeit/Data_15-20/Procter & Gamble.csv\n",
      "/Users/alexanderkoch/Desktop/Code Masterarbeit/Data_15-20/Visa.csv\n",
      "/Users/alexanderkoch/Desktop/Code Masterarbeit/Data_15-20/Disney.csv\n",
      "/Users/alexanderkoch/Desktop/Code Masterarbeit/Data_15-20/IBM.csv\n",
      "/Users/alexanderkoch/Desktop/Code Masterarbeit/Data_15-20/Nike.csv\n",
      "/Users/alexanderkoch/Desktop/Code Masterarbeit/Data_15-20/Johnson & Johnson.csv\n",
      "/Users/alexanderkoch/Desktop/Code Masterarbeit/Data_15-20/Chevron.csv\n",
      "/Users/alexanderkoch/Desktop/Code Masterarbeit/Data_15-20/Coca Cola.csv\n",
      "/Users/alexanderkoch/Desktop/Code Masterarbeit/Data_15-20/JPMorgan Chase.csv\n",
      "/Users/alexanderkoch/Desktop/Code Masterarbeit/Data_15-20/3M.csv\n",
      "/Users/alexanderkoch/Desktop/Code Masterarbeit/Data_15-20/Microsoft.csv\n",
      "/Users/alexanderkoch/Desktop/Code Masterarbeit/Data_15-20/Boeing.csv\n",
      "/Users/alexanderkoch/Desktop/Code Masterarbeit/Data_15-20/Verizon Communications.csv\n",
      "/Users/alexanderkoch/Desktop/Code Masterarbeit/Data_15-20/American Express.csv\n",
      "/Users/alexanderkoch/Desktop/Code Masterarbeit/Data_15-20/Cisco.csv\n",
      "/Users/alexanderkoch/Desktop/Code Masterarbeit/Data_15-20/Travelers.csv\n",
      "/Users/alexanderkoch/Desktop/Code Masterarbeit/Data_15-20/McDonalds.csv\n"
     ]
    }
   ],
   "source": [
    "col_list= ['Adj Close']\n",
    "for files in glob.glob(os.path.join(path_two, \"*.csv\")):\n",
    "    df = pd.read_csv(files, usecols=col_list)\n",
    "    print(files)"
   ]
  },
  {
   "cell_type": "code",
   "execution_count": 69,
   "metadata": {},
   "outputs": [],
   "source": [
    "col_list= ['Adj Close']\n",
    "\n",
    "def get_data_5y(stock):\n",
    "    df = pd.read_csv(path_two + f'/{stock}.csv', usecols=col_list)\n",
    "    return df['Adj Close']"
   ]
  },
  {
   "cell_type": "code",
   "execution_count": 70,
   "metadata": {},
   "outputs": [],
   "source": [
    "boeing_5y = get_data_5y('Boeing')\n",
    "homedepot_5y = get_data_5y('Home Depot')\n",
    "unitedhealth_5y = get_data_5y('United health')\n",
    "merck_5y = get_data_5y('Merck')\n",
    "pfizer_5y = get_data_5y('Pfizer')\n",
    "walmart_5y = get_data_5y('Walmart')\n",
    "apple_5y = get_data_5y('Apple')\n",
    "intel_5y = get_data_5y('Intel')\n",
    "exxonmobil_5y = get_data_5y('Exxon Mobil')\n",
    "walgreens_5y = get_data_5y('Walgreens')\n",
    "caterpillar_5y = get_data_5y('Caterpillar')\n",
    "goldmansachs_5y = get_data_5y('Goldman Sachs')\n",
    "proctergamble_5y = get_data_5y('Procter & Gamble')\n",
    "visa_5y = get_data_5y('Visa')\n",
    "disney_5y = get_data_5y('Disney')\n",
    "ibm_5y = get_data_5y('IBM')\n",
    "nike_5y = get_data_5y('Nike')\n",
    "jandj_5y = get_data_5y('Johnson & Johnson')\n",
    "cocacola_5y = get_data_5y('Coca Cola')\n",
    "jpmorganchase_5y = get_data_5y('JPMorgan Chase')\n",
    "mmm_5y = get_data_5y('3M')\n",
    "microsoft_5y = get_data_5y('Microsoft')\n",
    "chevron_5y = get_data_5y('Chevron')\n",
    "verizoncom_5y = get_data_5y('Verizon Communications')\n",
    "americanexpress_5y = get_data_5y('American Express')\n",
    "cisco_5y = get_data_5y('Cisco')\n",
    "travelers_5y = get_data_5y('Travelers')\n",
    "mcdonalds_5y = get_data_5y('McDonalds')"
   ]
  },
  {
   "cell_type": "code",
   "execution_count": 71,
   "metadata": {},
   "outputs": [],
   "source": [
    "boeing_5y = get_returns(boeing_5y)\n",
    "homedepot_5y = get_returns(homedepot_5y)\n",
    "unitedhealth_5y = get_returns(unitedhealth_5y)\n",
    "merck_5y = get_returns(merck_5y)\n",
    "pfizer_5y = get_returns(pfizer_5y)\n",
    "walmart_5y = get_returns(walmart_5y)\n",
    "apple_5y = get_returns(apple_5y)\n",
    "intel_5y = get_returns(intel_5y)\n",
    "exxonmobil_5y = get_returns(exxonmobil_5y)\n",
    "walgreens_5y = get_returns(walgreens_5y)\n",
    "caterpillar_5y = get_returns(caterpillar_5y)\n",
    "goldmansachs_5y = get_returns(goldmansachs_5y)\n",
    "proctergamble_5y = get_returns(proctergamble_5y)\n",
    "visa_5y = get_returns(visa_5y)\n",
    "disney_5y = get_returns(disney_5y)\n",
    "ibm_5y = get_returns(ibm_5y)\n",
    "nike_5y = get_returns(nike_5y)\n",
    "jandj_5y = get_returns(jandj_5y)\n",
    "cocacola_5y = get_returns(cocacola_5y)\n",
    "jpmorganchase_5y = get_returns(jpmorganchase_5y)\n",
    "mmm_5y = get_returns(mmm_5y)\n",
    "microsoft_5y = get_returns(microsoft_5y)\n",
    "chevron_5y = get_returns(chevron_5y)\n",
    "verizoncom_5y = get_returns(verizoncom_5y)\n",
    "americanexpress_5y = get_returns(americanexpress_5y)\n",
    "cisco_5y = get_returns(cisco_5y)\n",
    "travelers_5y = get_returns(travelers_5y)\n",
    "mcdonalds_5y = get_returns(mcdonalds_5y)"
   ]
  },
  {
   "cell_type": "code",
   "execution_count": 258,
   "metadata": {},
   "outputs": [
    {
     "name": "stdout",
     "output_type": "stream",
     "text": [
      "The excess kurtosis of the distribution (should be 0 if normally distrubuted): 7.5666\n",
      "The skewness of the distribution (should be 0 if normally distributed): 0.6546\n"
     ]
    },
    {
     "data": {
      "image/png": "[encoded data removed]",
      "text/plain": [
       "<Figure size 432x288 with 1 Axes>"
      ]
     },
     "metadata": {
      "needs_background": "light"
     },
     "output_type": "display_data"
    }
   ],
   "source": [
    "## plotting the data against the normal distribution ##\n",
    "## obviously the data is not normal distributed ##\n",
    "## kurtosis and skewness differ from normal ##\n",
    "\n",
    "mean = np.mean(nike_5y)\n",
    "std_dev = np.std(nike_5y)\n",
    "nike.hist(bins = 40, normed = True, histtype = 'stepfilled', alpha = 0.8)\n",
    "plt.title('Nike returns against normal distribution')\n",
    "plt.xlabel('Returns')\n",
    "plt.ylabel('Frequency')\n",
    "x = np.linspace (mean-3*std_dev, mean + 3*std_dev,100)\n",
    "plt.plot(x,norm.pdf(x, mean, std_dev),'r')\n",
    "plt.show\n",
    "#plt.savefig('nike_distribution_5years.jpg')\n",
    "\n",
    "print( 'The excess kurtosis of the distribution (should be 0 if normally distrubuted): {}'.format(round(kurtosis(nike_5y),4 )))\n",
    "print( 'The skewness of the distribution (should be 0 if normally distributed): {}'.format(round(skew(nike_5y),4 )))"
   ]
  },
  {
   "cell_type": "code",
   "execution_count": 260,
   "metadata": {},
   "outputs": [
    {
     "data": {
      "image/png": "[encoded data removed]",
      "text/plain": [
       "<Figure size 432x288 with 1 Axes>"
      ]
     },
     "metadata": {
      "needs_background": "light"
     },
     "output_type": "display_data"
    }
   ],
   "source": [
    "## qq-plt to see if normally distributed for three sample stocks ##\n",
    "\n",
    "fig = scipy.stats.probplot(nike_5y, dist=\"norm\", plot= plt)\n",
    "#plt.savefig('nike_QQ_plot_5years.jpg')"
   ]
  },
  {
   "cell_type": "code",
   "execution_count": 262,
   "metadata": {},
   "outputs": [
    {
     "name": "stdout",
     "output_type": "stream",
     "text": [
      "The excess kurtosis of the distribution (should be 0 if normally distrubuted): 11.1289\n",
      "The skewness of the distribution (should be 0 if normally distributed): 0.3511\n"
     ]
    },
    {
     "data": {
      "image/png": "[encoded data removed]",
      "text/plain": [
       "<Figure size 432x288 with 1 Axes>"
      ]
     },
     "metadata": {
      "needs_background": "light"
     },
     "output_type": "display_data"
    }
   ],
   "source": [
    "mean = np.mean(disney_5y)\n",
    "std_dev = np.std(disney_5y)\n",
    "disney.hist(bins =40, normed = True, histtype = 'stepfilled', alpha = 0.8)\n",
    "plt.title('disney returns against normal distribution')\n",
    "plt.xlabel('Returns')\n",
    "plt.ylabel('Frequency')\n",
    "x = np.linspace (mean-3*std_dev, mean + 3*std_dev,100)\n",
    "plt.plot(x,norm.pdf(x, mean, std_dev),'r')\n",
    "plt.show\n",
    "#plt.savefig('disney_distribution_5years.jpg')\n",
    "\n",
    "print( 'The excess kurtosis of the distribution (should be 0 if normally distrubuted): {}'.format(round(kurtosis(disney_5y),4 )))\n",
    "print( 'The skewness of the distribution (should be 0 if normally distributed): {}'.format(round(skew(disney_5y),4 )))"
   ]
  },
  {
   "cell_type": "code",
   "execution_count": 264,
   "metadata": {},
   "outputs": [
    {
     "data": {
      "image/png": "[encoded data removed]",
      "text/plain": [
       "<Figure size 432x288 with 1 Axes>"
      ]
     },
     "metadata": {
      "needs_background": "light"
     },
     "output_type": "display_data"
    }
   ],
   "source": [
    "fig = scipy.stats.probplot(disney_5y, dist=\"norm\", plot= plt)\n",
    "#plt.savefig('disney_QQ_plot_5years.jpg')"
   ]
  },
  {
   "cell_type": "code",
   "execution_count": 266,
   "metadata": {},
   "outputs": [
    {
     "name": "stdout",
     "output_type": "stream",
     "text": [
      "The excess kurtosis of the distribution (should be 0 if normally distrubuted): 3.3861\n",
      "The skewness of the distribution (should be 0 if normally distributed): -0.0069\n"
     ]
    },
    {
     "data": {
      "image/png": "[encoded data removed]",
      "text/plain": [
       "<Figure size 432x288 with 1 Axes>"
      ]
     },
     "metadata": {
      "needs_background": "light"
     },
     "output_type": "display_data"
    }
   ],
   "source": [
    "mean = np.mean(visa_5y)\n",
    "std_dev = np.std(visa_5y)\n",
    "visa.hist(bins =40, normed = True, histtype = 'stepfilled', alpha = 0.8)\n",
    "plt.title('Visa returns against normal distribution')\n",
    "plt.xlabel('Returns')\n",
    "plt.ylabel('Frequency')\n",
    "x = np.linspace (mean-3*std_dev, mean + 3*std_dev,100)\n",
    "plt.plot(x,norm.pdf(x, mean, std_dev),'r')\n",
    "plt.show\n",
    "#plt.savefig('visa_distribution_5years.jpg')\n",
    "\n",
    "print( 'The excess kurtosis of the distribution (should be 0 if normally distrubuted): {}'.format(round(kurtosis(visa_5y),4 )))\n",
    "print( 'The skewness of the distribution (should be 0 if normally distributed): {}'.format(round(skew(visa_5y),4 )))"
   ]
  },
  {
   "cell_type": "code",
   "execution_count": 268,
   "metadata": {},
   "outputs": [
    {
     "data": {
      "image/png": "[encoded data removed]",
      "text/plain": [
       "<Figure size 432x288 with 1 Axes>"
      ]
     },
     "metadata": {
      "needs_background": "light"
     },
     "output_type": "display_data"
    }
   ],
   "source": [
    "fig = scipy.stats.probplot(visa_5y, dist=\"norm\", plot= plt)\n",
    "#plt.savefig('visa_QQ_plot_5years.jpg')"
   ]
  },
  {
   "cell_type": "code",
   "execution_count": 78,
   "metadata": {},
   "outputs": [],
   "source": [
    "## get 95% VaR for every stock ##\n",
    "\n",
    "VaR_95_boeing_5y = VaR(0.05,boeing_5y)\n",
    "VaR_95_unitedhealth_5y = VaR(0.05,unitedhealth_5y)\n",
    "VaR_95_goldmansachs_5y = VaR(0.05,goldmansachs_5y)\n",
    "VaR_95_homedepot_5y = VaR(0.05,homedepot_5y)\n",
    "VaR_95_mmm_5y = VaR(0.05,mmm_5y)\n",
    "VaR_95_apple_5y = VaR(0.05,apple_5y)\n",
    "VaR_95_mcdonalds_5y = VaR(0.05,mcdonalds_5y)\n",
    "VaR_95_ibm_5y = VaR(0.05,ibm_5y)\n",
    "VaR_95_caterpillar_5y =VaR(0.05,caterpillar_5y)\n",
    "VaR_95_visa_5y = VaR(0.05,visa_5y)\n",
    "VaR_95_travelers_5y = VaR(0.05,travelers_5y)\n",
    "VaR_95_chevron_5y = VaR(0.05,chevron_5y)\n",
    "VaR_95_jandj_5y = VaR(0.05,jandj_5y)\n",
    "VaR_95_jpmorganchase_5y = VaR(0.05,jpmorganchase_5y)\n",
    "VaR_95_disney_5y = VaR(0.05,disney_5y)\n",
    "VaR_95_americanexpress_5y = VaR(0.05,americanexpress_5y)\n",
    "VaR_95_microsoft_5y = VaR(0.05,microsoft_5y)\n",
    "VaR_95_walmart_5y = VaR(0.05,walmart_5y)\n",
    "VaR_95_exxonmobil_5y = VaR(0.05,exxonmobil_5y)\n",
    "VaR_95_proctergamble_5y = VaR(0.05,proctergamble_5y)\n",
    "VaR_95_nike_5y = VaR(0.05,nike_5y)\n",
    "VaR_95_walgreens_5y = VaR(0.05,walgreens_5y)\n",
    "VaR_95_merck_5y = VaR(0.05,merck_5y)\n",
    "VaR_95_intel_5y = VaR(0.05,intel_5y)\n",
    "VaR_95_verizoncom_5y = VaR(0.05,verizoncom_5y)\n",
    "VaR_95_cocacola_5y = VaR(0.05,cocacola_5y)\n",
    "VaR_95_cisco_5y = VaR(0.05,cisco_5y)\n",
    "VaR_95_pfizer_5y = VaR(0.05,pfizer_5y)"
   ]
  },
  {
   "cell_type": "code",
   "execution_count": 79,
   "metadata": {},
   "outputs": [],
   "source": [
    "dow_jones_VaR95_5y = {'Boeing':'BA','UnitedHealth':'UNH','GoldmanSachs':'GS','HomeDepot':'HD','3M':'MMM',\n",
    "                   'Apple':'AAPL','McDonalds':'MCD','IBM':'IBM','Caterpillar':'CAT','Visa':'V','Travelers':'TRV',\n",
    "                   'Chevron':'CVX','Johnson&Johnson':'JNJ','JPMorganChase':'JPM','Disney':'DIS',\n",
    "                   'AmericanExpress':'AXP','Microsoft':'MSFT','Walmart':'WMT','ExxonMobil':'XOM',\n",
    "                   'Procter&Gamble':'PG','Nike':'NKE','Walgreens':'WBA','Merck':'MRK','Intel':'INTC',\n",
    "                   'VerizonCommunications':'VZ','CocaCola':'KO','Cisco':'CSCO','Pfizer':'PFE'}"
   ]
  },
  {
   "cell_type": "code",
   "execution_count": 80,
   "metadata": {},
   "outputs": [],
   "source": [
    "dow_jones_VaR95_5y['Boeing'] =VaR_95_boeing_5y\n",
    "dow_jones_VaR95_5y['UnitedHealth'] =VaR_95_unitedhealth_5y\n",
    "dow_jones_VaR95_5y['GoldmanSachs'] =VaR_95_goldmansachs_5y\n",
    "dow_jones_VaR95_5y['HomeDepot'] =VaR_95_homedepot_5y\n",
    "dow_jones_VaR95_5y['3M'] =VaR_95_mmm_5y\n",
    "dow_jones_VaR95_5y['Apple'] =VaR_95_apple_5y\n",
    "dow_jones_VaR95_5y['McDonalds'] =VaR_95_mcdonalds_5y\n",
    "dow_jones_VaR95_5y['IBM'] =VaR_95_ibm_5y\n",
    "dow_jones_VaR95_5y['Caterpillar'] =VaR_95_caterpillar_5y\n",
    "dow_jones_VaR95_5y['Visa'] =VaR_95_visa_5y\n",
    "dow_jones_VaR95_5y['Travelers'] =VaR_95_travelers_5y\n",
    "dow_jones_VaR95_5y['Chevron'] =VaR_95_chevron_5y\n",
    "dow_jones_VaR95_5y['Johnson&Johnson'] =VaR_95_jandj_5y\n",
    "dow_jones_VaR95_5y['JPMorganChase'] =VaR_95_jpmorganchase_5y\n",
    "dow_jones_VaR95_5y['Disney'] =VaR_95_disney_5y\n",
    "dow_jones_VaR95_5y['AmericanExpress'] =VaR_95_americanexpress_5y\n",
    "dow_jones_VaR95_5y['Microsoft'] =VaR_95_microsoft_5y\n",
    "dow_jones_VaR95_5y['Walmart'] =VaR_95_walmart_5y\n",
    "dow_jones_VaR95_5y['ExxonMobil'] =VaR_95_exxonmobil_5y\n",
    "dow_jones_VaR95_5y['Procter&Gamble'] =VaR_95_proctergamble_5y\n",
    "dow_jones_VaR95_5y['Nike'] =VaR_95_nike_5y\n",
    "dow_jones_VaR95_5y['Walgreens'] =VaR_95_walgreens_5y\n",
    "dow_jones_VaR95_5y['Merck'] =VaR_95_merck_5y\n",
    "dow_jones_VaR95_5y['Intel'] =VaR_95_intel_5y\n",
    "dow_jones_VaR95_5y['VerizonCommunications'] =VaR_95_verizoncom_5y\n",
    "dow_jones_VaR95_5y['CocaCola'] =VaR_95_cocacola_5y\n",
    "dow_jones_VaR95_5y['Cisco'] =VaR_95_cisco_5y\n",
    "dow_jones_VaR95_5y['Pfizer'] =VaR_95_pfizer_5y"
   ]
  },
  {
   "cell_type": "code",
   "execution_count": 81,
   "metadata": {},
   "outputs": [
    {
     "data": {
      "text/plain": [
       "{'Boeing': 0.023645985633976102,\n",
       " 'UnitedHealth': 0.021317460779946062,\n",
       " 'GoldmanSachs': 0.024272988665860612,\n",
       " 'HomeDepot': 0.018352598469786624,\n",
       " '3M': 0.018423753248692942,\n",
       " 'Apple': 0.02500320816260576,\n",
       " 'McDonalds': 0.015905304049354224,\n",
       " 'IBM': 0.019919535531461863,\n",
       " 'Caterpillar': 0.026461486912348592,\n",
       " 'Visa': 0.020693962768422974,\n",
       " 'Travelers': 0.01675364534874252,\n",
       " 'Chevron': 0.0220881196840573,\n",
       " 'Johnson&Johnson': 0.015053507189858928,\n",
       " 'JPMorganChase': 0.020881487662297332,\n",
       " 'Disney': 0.01747422719912381,\n",
       " 'AmericanExpress': 0.020790363518800842,\n",
       " 'Microsoft': 0.02107892424798463,\n",
       " 'Walmart': 0.017279671127225588,\n",
       " 'ExxonMobil': 0.019791157947056742,\n",
       " 'Procter&Gamble': 0.015108332034783123,\n",
       " 'Nike': 0.020708524733521028,\n",
       " 'Walgreens': 0.02397526760794158,\n",
       " 'Merck': 0.019589135326336132,\n",
       " 'Intel': 0.02395890108582116,\n",
       " 'VerizonCommunications': 0.01637820979950183,\n",
       " 'CocaCola': 0.01317828681037514,\n",
       " 'Cisco': 0.02188557813765199,\n",
       " 'Pfizer': 0.018165097718373546}"
      ]
     },
     "execution_count": 81,
     "metadata": {},
     "output_type": "execute_result"
    }
   ],
   "source": [
    "dow_jones_VaR95_5y"
   ]
  },
  {
   "cell_type": "code",
   "execution_count": 82,
   "metadata": {},
   "outputs": [],
   "source": [
    "for value in dow_jones_VaR95_5y:    \n",
    "    dow_jones_VaR95_5y[value] *=  1000000"
   ]
  },
  {
   "cell_type": "code",
   "execution_count": 83,
   "metadata": {},
   "outputs": [],
   "source": [
    "dow_jones_VaR95_5y ={k: round(v, 2) for k, v in dow_jones_VaR95_5y.items()}"
   ]
  },
  {
   "cell_type": "code",
   "execution_count": 84,
   "metadata": {},
   "outputs": [],
   "source": [
    "for key in dow_jones_VaR95_5y:\n",
    "    dow_jones_VaR95_5y[key] = \"${:,.2f}\".format(dow_jones_VaR95_5y[key])"
   ]
  },
  {
   "cell_type": "code",
   "execution_count": 85,
   "metadata": {},
   "outputs": [
    {
     "data": {
      "text/plain": [
       "{'Boeing': '$23,645.99',\n",
       " 'UnitedHealth': '$21,317.46',\n",
       " 'GoldmanSachs': '$24,272.99',\n",
       " 'HomeDepot': '$18,352.60',\n",
       " '3M': '$18,423.75',\n",
       " 'Apple': '$25,003.21',\n",
       " 'McDonalds': '$15,905.30',\n",
       " 'IBM': '$19,919.54',\n",
       " 'Caterpillar': '$26,461.49',\n",
       " 'Visa': '$20,693.96',\n",
       " 'Travelers': '$16,753.65',\n",
       " 'Chevron': '$22,088.12',\n",
       " 'Johnson&Johnson': '$15,053.51',\n",
       " 'JPMorganChase': '$20,881.49',\n",
       " 'Disney': '$17,474.23',\n",
       " 'AmericanExpress': '$20,790.36',\n",
       " 'Microsoft': '$21,078.92',\n",
       " 'Walmart': '$17,279.67',\n",
       " 'ExxonMobil': '$19,791.16',\n",
       " 'Procter&Gamble': '$15,108.33',\n",
       " 'Nike': '$20,708.52',\n",
       " 'Walgreens': '$23,975.27',\n",
       " 'Merck': '$19,589.14',\n",
       " 'Intel': '$23,958.90',\n",
       " 'VerizonCommunications': '$16,378.21',\n",
       " 'CocaCola': '$13,178.29',\n",
       " 'Cisco': '$21,885.58',\n",
       " 'Pfizer': '$18,165.10'}"
      ]
     },
     "execution_count": 85,
     "metadata": {},
     "output_type": "execute_result"
    }
   ],
   "source": [
    "## 95% VaR of stock returns, we interpret VaR as positive number ##\n",
    "\n",
    "dow_jones_VaR95_5y"
   ]
  },
  {
   "cell_type": "code",
   "execution_count": 270,
   "metadata": {},
   "outputs": [
    {
     "name": "stdout",
     "output_type": "stream",
     "text": [
      "The excess kurtosis of the distribution (should be 0 if normally distrubuted): 3.3861\n",
      "The skewness of the distribution (should be 0 if normally distributed): -0.0069\n",
      "\n",
      "\n",
      "\n",
      "The Value at Risk with 99% confidence for $1,000,000 invested in Visa is: $36,615.05\n",
      "\n",
      "\n"
     ]
    },
    {
     "data": {
      "image/png": "[encoded data removed]",
      "text/plain": [
       "<Figure size 864x504 with 1 Axes>"
      ]
     },
     "metadata": {
      "needs_background": "light"
     },
     "output_type": "display_data"
    }
   ],
   "source": [
    "## plotting VaR 99% as an example for visa stock ##\n",
    "\n",
    "mean = np.mean(visa_5y)\n",
    "std_dev = np.std(visa_5y)\n",
    "visa.hist(bins =40, normed = True, histtype = 'stepfilled', alpha = 0.8, figsize =(12,7))\n",
    "\n",
    "plt.title('Visa returns against normal distribution')\n",
    "plt.xlabel('Returns')\n",
    "plt.ylabel('Frequency')\n",
    "plt.axvline(VaR(0.01,visa_5y)*-1,color = 'red',label='Value at Risk')\n",
    "x = np.linspace (mean-3*std_dev, mean + 3*std_dev,100)\n",
    "plt.plot(x,norm.pdf(x, mean, std_dev),'orange',label='Normal distribution')\n",
    "plt.legend()\n",
    "plt.show\n",
    "#plt.savefig('visa_VaR_5years.jpg')\n",
    "\n",
    "\n",
    "print( 'The excess kurtosis of the distribution (should be 0 if normally distrubuted): {}'.format(round(kurtosis(visa_5y),4 )))\n",
    "print( 'The skewness of the distribution (should be 0 if normally distributed): {}'.format(round(skew(visa_5y),4 )))\n",
    "\n",
    "VaR_amount_99_visa_5y= \"${:,.2f}\".format(round(VaR(0.01,visa_5y)*1000000,2))\n",
    "print('\\n'*3+'The Value at Risk with 99% confidence for $1,000,000 invested in Visa is: {}'.format(VaR_amount_99_visa_5y)+'\\n'*2)"
   ]
  },
  {
   "cell_type": "code",
   "execution_count": null,
   "metadata": {},
   "outputs": [],
   "source": []
  },
  {
   "cell_type": "code",
   "execution_count": 87,
   "metadata": {},
   "outputs": [],
   "source": [
    "list_VaR_5y = dict.items(dow_jones_VaR95_5y)"
   ]
  },
  {
   "cell_type": "code",
   "execution_count": 88,
   "metadata": {},
   "outputs": [
    {
     "name": "stdout",
     "output_type": "stream",
     "text": [
      "Stock                  Value at Risk in $\n",
      "---------------------  --------------------\n",
      "Boeing                 $23,645.99\n",
      "UnitedHealth           $21,317.46\n",
      "GoldmanSachs           $24,272.99\n",
      "HomeDepot              $18,352.60\n",
      "3M                     $18,423.75\n",
      "Apple                  $25,003.21\n",
      "McDonalds              $15,905.30\n",
      "IBM                    $19,919.54\n",
      "Caterpillar            $26,461.49\n",
      "Visa                   $20,693.96\n",
      "Travelers              $16,753.65\n",
      "Chevron                $22,088.12\n",
      "Johnson&Johnson        $15,053.51\n",
      "JPMorganChase          $20,881.49\n",
      "Disney                 $17,474.23\n",
      "AmericanExpress        $20,790.36\n",
      "Microsoft              $21,078.92\n",
      "Walmart                $17,279.67\n",
      "ExxonMobil             $19,791.16\n",
      "Procter&Gamble         $15,108.33\n",
      "Nike                   $20,708.52\n",
      "Walgreens              $23,975.27\n",
      "Merck                  $19,589.14\n",
      "Intel                  $23,958.90\n",
      "VerizonCommunications  $16,378.21\n",
      "CocaCola               $13,178.29\n",
      "Cisco                  $21,885.58\n",
      "Pfizer                 $18,165.10\n"
     ]
    }
   ],
   "source": [
    "from tabulate import tabulate\n",
    "print (tabulate(list_VaR_5y, headers=[\"Stock\", \"Value at Risk in $\"]))"
   ]
  },
  {
   "cell_type": "code",
   "execution_count": 89,
   "metadata": {},
   "outputs": [],
   "source": [
    "## subadditivity random portfolios ##"
   ]
  },
  {
   "cell_type": "code",
   "execution_count": 90,
   "metadata": {},
   "outputs": [],
   "source": [
    "stoxx_5y = dow_jones_VaR95_5y.keys()"
   ]
  },
  {
   "cell_type": "code",
   "execution_count": null,
   "metadata": {},
   "outputs": [],
   "source": []
  },
  {
   "cell_type": "code",
   "execution_count": 91,
   "metadata": {},
   "outputs": [],
   "source": [
    "## we will randomly create 5 portfolios and check for subadditivity ##\n",
    "## the portfolios consist of a random rumber of stocks ##\n",
    "\n",
    "# number_random_portfolios_5y = []\n",
    "# for x in range (0, 5):\n",
    "    # number_random_portfolios_5y.append(random.randint(1, 28))"
   ]
  },
  {
   "cell_type": "code",
   "execution_count": 92,
   "metadata": {},
   "outputs": [],
   "source": [
    "## these are the numbers of stocks for every portfolio randomly generated ##\n",
    "\n",
    "number_random_portfolios_5y = [9,4,5,7, 17]"
   ]
  },
  {
   "cell_type": "code",
   "execution_count": 93,
   "metadata": {},
   "outputs": [],
   "source": [
    "## for every portfolio, random stocks will be picked accordingly to the number of stocks generated above ##\n",
    "\n",
    "# random_portfolios_5y = []\n",
    "# for x in number_random_portfolios_5y:\n",
    "    # y = random.sample(stoxx_5y,x)\n",
    "    # y = [each_string.lower() for each_string in y]\n",
    "    # random_portfolios_5y.append(y)"
   ]
  },
  {
   "cell_type": "code",
   "execution_count": 94,
   "metadata": {},
   "outputs": [],
   "source": [
    "## portfolios were randommly generated ##\n",
    "random_portfolios_5y = [['visa',\n",
    "  'walmart',\n",
    "  'homedepot',\n",
    "  'ibm',\n",
    "  'intel',\n",
    "  'jpmorganchase',\n",
    "  'exxonmobil',\n",
    "  'pfizer',\n",
    "  'nike'],\n",
    " ['johnson&johnson', 'verizoncommunications', 'goldmansachs', 'walmart'],\n",
    " ['disney', 'walmart', 'visa', 'ibm', 'americanexpress'],\n",
    " ['procter&gamble',\n",
    "  'chevron',\n",
    "  'unitedhealth',\n",
    "  'merck',\n",
    "  'goldmansachs',\n",
    "  'walmart',\n",
    "  'exxonmobil'],\n",
    " ['ibm',\n",
    "  'exxonmobil',\n",
    "  'travelers',\n",
    "  'boeing',\n",
    "  'americanexpress',\n",
    "  'merck',\n",
    "  'visa',\n",
    "  '3m',\n",
    "  'walgreens',\n",
    "  'cocacola',\n",
    "  'homedepot',\n",
    "  'disney',\n",
    "  'jpmorganchase',\n",
    "  'pfizer',\n",
    "  'walmart',\n",
    "  'chevron',\n",
    "  'cisco']]"
   ]
  },
  {
   "cell_type": "code",
   "execution_count": 95,
   "metadata": {},
   "outputs": [],
   "source": [
    "## check random portfolios for subadditivity with 95% VaR ##"
   ]
  },
  {
   "cell_type": "code",
   "execution_count": 312,
   "metadata": {},
   "outputs": [
    {
     "data": {
      "text/plain": [
       "True"
      ]
     },
     "execution_count": 312,
     "metadata": {},
     "output_type": "execute_result"
    }
   ],
   "source": [
    "## random portfolio 1 ##\n",
    "\n",
    "subadditive(0.05, visa_5y, walmart_5y, homedepot_5y, ibm_5y, intel_5y, jpmorganchase_5y, exxonmobil_5y, pfizer_5y,\n",
    "            nike_5y)"
   ]
  },
  {
   "cell_type": "code",
   "execution_count": 313,
   "metadata": {},
   "outputs": [
    {
     "data": {
      "text/plain": [
       "True"
      ]
     },
     "execution_count": 313,
     "metadata": {},
     "output_type": "execute_result"
    }
   ],
   "source": [
    "## random portfolio 2 ##\n",
    "\n",
    "subadditive(0.05, jandj_5y, verizoncom_5y, goldmansachs_5y, walmart_5y)"
   ]
  },
  {
   "cell_type": "code",
   "execution_count": 314,
   "metadata": {},
   "outputs": [
    {
     "data": {
      "text/plain": [
       "True"
      ]
     },
     "execution_count": 314,
     "metadata": {},
     "output_type": "execute_result"
    }
   ],
   "source": [
    "## random portfolio 3 ##\n",
    "\n",
    "subadditive(0.05, disney_5y, walmart_5y, visa_5y, ibm_5y, americanexpress_5y)"
   ]
  },
  {
   "cell_type": "code",
   "execution_count": 315,
   "metadata": {},
   "outputs": [
    {
     "data": {
      "text/plain": [
       "True"
      ]
     },
     "execution_count": 315,
     "metadata": {},
     "output_type": "execute_result"
    }
   ],
   "source": [
    "## random portfolio 4 ##\n",
    "\n",
    "subadditive(0.05, proctergamble_5y, chevron_5y, unitedhealth_5y, merck_5y, goldmansachs_5y, walmart_5y, exxonmobil_5y)"
   ]
  },
  {
   "cell_type": "code",
   "execution_count": 316,
   "metadata": {},
   "outputs": [
    {
     "data": {
      "text/plain": [
       "True"
      ]
     },
     "execution_count": 316,
     "metadata": {},
     "output_type": "execute_result"
    }
   ],
   "source": [
    "## random portfolio 5 ##\n",
    "\n",
    "subadditive(0.05, ibm_5y, exxonmobil_5y, travelers_5y, boeing_5y, americanexpress_5y, merck_5y, visa_5y, mmm_5y,\n",
    "            walgreens_5y, cocacola_5y, homedepot_5y, disney_5y, jpmorganchase_5y, pfizer_5y, walmart_5y,\n",
    "            chevron_5y, cisco_5y)"
   ]
  },
  {
   "cell_type": "code",
   "execution_count": 317,
   "metadata": {},
   "outputs": [
    {
     "name": "stdout",
     "output_type": "stream",
     "text": [
      "+-----------+-------------------------------+-------------+\n",
      "| Portfolio | Number of stocks in portfolio | Subadditive |\n",
      "+-----------+-------------------------------+-------------+\n",
      "|     1     |               9               |     Yes     |\n",
      "|     2     |               4               |     Yes     |\n",
      "|     3     |               5               |     Yes     |\n",
      "|     4     |               7               |     Yes     |\n",
      "|     5     |               17              |     Yes     |\n",
      "+-----------+-------------------------------+-------------+\n"
     ]
    }
   ],
   "source": [
    "table_one = PrettyTable()\n",
    "table_one.field_names = ['Portfolio','Number of stocks in portfolio', 'Subadditive']\n",
    "table_one.add_row(['1',9, 'Yes'])\n",
    "table_one.add_row(['2',4, 'Yes'])\n",
    "table_one.add_row(['3',5, 'Yes'])\n",
    "table_one.add_row(['4',7, 'Yes'])\n",
    "table_one.add_row(['5',17, 'Yes'])\n",
    "print(table_one)"
   ]
  },
  {
   "cell_type": "code",
   "execution_count": 102,
   "metadata": {},
   "outputs": [],
   "source": [
    "## check random portfolios subadditive 99% VaR ## "
   ]
  },
  {
   "cell_type": "code",
   "execution_count": 103,
   "metadata": {},
   "outputs": [
    {
     "data": {
      "text/plain": [
       "True"
      ]
     },
     "execution_count": 103,
     "metadata": {},
     "output_type": "execute_result"
    }
   ],
   "source": [
    "## random portfolio 1 ##\n",
    "\n",
    "subadditive(0.01, visa_5y, walmart_5y, homedepot_5y, ibm_5y, intel_5y, jpmorganchase_5y, exxonmobil_5y, pfizer_5y,\n",
    "            nike_5y)"
   ]
  },
  {
   "cell_type": "code",
   "execution_count": 104,
   "metadata": {},
   "outputs": [
    {
     "data": {
      "text/plain": [
       "True"
      ]
     },
     "execution_count": 104,
     "metadata": {},
     "output_type": "execute_result"
    }
   ],
   "source": [
    "## random portfolio 2 ##\n",
    "\n",
    "subadditive(0.01, jandj_5y, verizoncom_5y, goldmansachs_5y, walmart_5y)"
   ]
  },
  {
   "cell_type": "code",
   "execution_count": 105,
   "metadata": {},
   "outputs": [
    {
     "data": {
      "text/plain": [
       "True"
      ]
     },
     "execution_count": 105,
     "metadata": {},
     "output_type": "execute_result"
    }
   ],
   "source": [
    "## random portfolio 3 ##\n",
    "\n",
    "subadditive(0.01, disney_5y, walmart_5y, visa_5y, ibm_5y, americanexpress_5y)"
   ]
  },
  {
   "cell_type": "code",
   "execution_count": 106,
   "metadata": {},
   "outputs": [
    {
     "data": {
      "text/plain": [
       "True"
      ]
     },
     "execution_count": 106,
     "metadata": {},
     "output_type": "execute_result"
    }
   ],
   "source": [
    "## random portfolio 4 ##\n",
    "\n",
    "subadditive(0.01, proctergamble_5y, chevron_5y, unitedhealth_5y, merck_5y, goldmansachs_5y, walmart_5y, exxonmobil_5y)"
   ]
  },
  {
   "cell_type": "code",
   "execution_count": 107,
   "metadata": {},
   "outputs": [
    {
     "data": {
      "text/plain": [
       "True"
      ]
     },
     "execution_count": 107,
     "metadata": {},
     "output_type": "execute_result"
    }
   ],
   "source": [
    "## random portfolio 5 ##\n",
    "\n",
    "subadditive(0.01, ibm_5y, exxonmobil_5y, travelers_5y, boeing_5y, americanexpress_5y, merck_5y, visa_5y, mmm_5y,\n",
    "            walgreens_5y, cocacola_5y, homedepot_5y, disney_5y, jpmorganchase_5y, pfizer_5y, walmart_5y, \n",
    "            chevron_5y, cisco_5y)"
   ]
  },
  {
   "cell_type": "code",
   "execution_count": 108,
   "metadata": {},
   "outputs": [
    {
     "name": "stdout",
     "output_type": "stream",
     "text": [
      "+-----------+-------------------------------+-------------+\n",
      "| Portfolio | Number of stocks in portfolio | Subadditive |\n",
      "+-----------+-------------------------------+-------------+\n",
      "|     1     |               9               |     Yes     |\n",
      "|     2     |               4               |     Yes     |\n",
      "|     3     |               5               |     Yes     |\n",
      "|     4     |               7               |     Yes     |\n",
      "|     5     |               17              |     Yes     |\n",
      "+-----------+-------------------------------+-------------+\n"
     ]
    }
   ],
   "source": [
    "table_one = PrettyTable()\n",
    "table_one.field_names = ['Portfolio','Number of stocks in portfolio', 'Subadditive']\n",
    "table_one.add_row(['1',9, 'Yes'])\n",
    "table_one.add_row(['2',4, 'Yes'])\n",
    "table_one.add_row(['3',5, 'Yes'])\n",
    "table_one.add_row(['4',7, 'Yes'])\n",
    "table_one.add_row(['5',17, 'Yes'])\n",
    "print(table_one)"
   ]
  },
  {
   "cell_type": "code",
   "execution_count": 109,
   "metadata": {},
   "outputs": [],
   "source": [
    "## we first chose 15 random stocks and then check all their combinations for violations of subadditivity ##\n",
    "\n",
    "list_dow_jones_5y = list(stoxx_5y)\n",
    "# random.sample(list_dow_jones_5y, 15)"
   ]
  },
  {
   "cell_type": "code",
   "execution_count": 110,
   "metadata": {},
   "outputs": [],
   "source": [
    "result_random_5y = [walgreens_5y, microsoft_5y, homedepot_5y, pfizer_5y, cisco_5y, cocacola_5y, chevron_5y,\n",
    "                 travelers_5y, merck_5y, jandj_5y, proctergamble_5y, mmm_5y, walmart_5y, exxonmobil_5y, \n",
    "                 unitedhealth_5y]"
   ]
  },
  {
   "cell_type": "code",
   "execution_count": 111,
   "metadata": {},
   "outputs": [
    {
     "data": {
      "text/plain": [
       "32752"
      ]
     },
     "execution_count": 111,
     "metadata": {},
     "output_type": "execute_result"
    }
   ],
   "source": [
    "all_combinations = []\n",
    "for r in range(len(result_random_5y) + 1):\n",
    "    combinations_object = itertools.combinations(result_random_5y, r)\n",
    "    combinations_list = list(combinations_object)\n",
    "    all_combinations += combinations_list\n",
    "all_combinations = [x for x in all_combinations if len(x) > 1]\n",
    "len(all_combinations)"
   ]
  },
  {
   "cell_type": "code",
   "execution_count": 381,
   "metadata": {},
   "outputs": [
    {
     "name": "stdout",
     "output_type": "stream",
     "text": [
      "CPU times: user 9min 28s, sys: 2.45 s, total: 9min 30s\n",
      "Wall time: 9min 34s\n"
     ]
    },
    {
     "data": {
      "text/plain": [
       "0"
      ]
     },
     "execution_count": 381,
     "metadata": {},
     "output_type": "execute_result"
    }
   ],
   "source": [
    "# %%time\n",
    "# number_violations(0.05, result_random_5y)"
   ]
  },
  {
   "cell_type": "code",
   "execution_count": 113,
   "metadata": {},
   "outputs": [],
   "source": [
    "## the number of violations is saved here because of the computing time ##\n",
    "## computing time: 9min 13s ##\n",
    "\n",
    "violations_95_5y = 0"
   ]
  },
  {
   "cell_type": "code",
   "execution_count": 382,
   "metadata": {},
   "outputs": [
    {
     "name": "stdout",
     "output_type": "stream",
     "text": [
      "CPU times: user 9min 17s, sys: 2.08 s, total: 9min 19s\n",
      "Wall time: 9min 21s\n"
     ]
    },
    {
     "data": {
      "text/plain": [
       "0"
      ]
     },
     "execution_count": 382,
     "metadata": {},
     "output_type": "execute_result"
    }
   ],
   "source": [
    "# %%time\n",
    "# number_violations(0.01, result_random_5y)"
   ]
  },
  {
   "cell_type": "code",
   "execution_count": 115,
   "metadata": {},
   "outputs": [],
   "source": [
    "## the number of violations is saved here because of the computing time ##\n",
    "## computing time: 9min 40s ##\n",
    "\n",
    "violations_99_5y = 0"
   ]
  },
  {
   "cell_type": "code",
   "execution_count": 116,
   "metadata": {},
   "outputs": [
    {
     "name": "stdout",
     "output_type": "stream",
     "text": [
      "+------------------+----------------------+\n",
      "| Confidence level | number of violations |\n",
      "+------------------+----------------------+\n",
      "|     95% VaR      |          0           |\n",
      "|     99% VaR      |          0           |\n",
      "+------------------+----------------------+\n"
     ]
    }
   ],
   "source": [
    "table_three = PrettyTable()\n",
    "table_three.field_names = ['Confidence level','number of violations']\n",
    "table_three.add_row(['95% VaR', violations_95_5y])\n",
    "table_three.add_row(['99% VaR', violations_99_5y])\n",
    "print(table_three)"
   ]
  },
  {
   "cell_type": "code",
   "execution_count": 117,
   "metadata": {},
   "outputs": [],
   "source": [
    "## 2 years including financial market crisis ##"
   ]
  },
  {
   "cell_type": "code",
   "execution_count": 118,
   "metadata": {},
   "outputs": [],
   "source": [
    "## 01 september 2007 - 31 august 2009 ##\n",
    "## general motors not included because original comopany declared bankruptcy in 2009 ##\n",
    "## Kraft foods not included because later merged to kraft heinz company ##\n",
    "## Hewlett-Packard compoany not included because later\n",
    "## spun off engterprise products division to Hewlett packard enterprise ##\n",
    "## United Technologies not included because later merged with Raytheon Technologies ##"
   ]
  },
  {
   "cell_type": "code",
   "execution_count": 119,
   "metadata": {},
   "outputs": [],
   "source": [
    "path_three = r'/Users/alexanderkoch/Desktop/Code Masterarbeit/Data_07-09'"
   ]
  },
  {
   "cell_type": "code",
   "execution_count": 120,
   "metadata": {},
   "outputs": [
    {
     "name": "stdout",
     "output_type": "stream",
     "text": [
      "/Users/alexanderkoch/Desktop/Code Masterarbeit/Data_07-09/Home Depot.csv\n",
      "/Users/alexanderkoch/Desktop/Code Masterarbeit/Data_07-09/Merck.csv\n",
      "/Users/alexanderkoch/Desktop/Code Masterarbeit/Data_07-09/General Electric.csv\n",
      "/Users/alexanderkoch/Desktop/Code Masterarbeit/Data_07-09/Alcoa.csv\n",
      "/Users/alexanderkoch/Desktop/Code Masterarbeit/Data_07-09/Pfizer.csv\n",
      "/Users/alexanderkoch/Desktop/Code Masterarbeit/Data_07-09/Walmart.csv\n",
      "/Users/alexanderkoch/Desktop/Code Masterarbeit/Data_07-09/Intel.csv\n",
      "/Users/alexanderkoch/Desktop/Code Masterarbeit/Data_07-09/Exxon Mobil.csv\n",
      "/Users/alexanderkoch/Desktop/Code Masterarbeit/Data_07-09/Caterpillar.csv\n",
      "/Users/alexanderkoch/Desktop/Code Masterarbeit/Data_07-09/Procter & Gamble.csv\n",
      "/Users/alexanderkoch/Desktop/Code Masterarbeit/Data_07-09/Disney.csv\n",
      "/Users/alexanderkoch/Desktop/Code Masterarbeit/Data_07-09/Johnson & Johnson.csv\n",
      "/Users/alexanderkoch/Desktop/Code Masterarbeit/Data_07-09/Chevron.csv\n",
      "/Users/alexanderkoch/Desktop/Code Masterarbeit/Data_07-09/Bank of America.csv\n",
      "/Users/alexanderkoch/Desktop/Code Masterarbeit/Data_07-09/Coca Cola.csv\n",
      "/Users/alexanderkoch/Desktop/Code Masterarbeit/Data_07-09/JPMorgan Chase.csv\n",
      "/Users/alexanderkoch/Desktop/Code Masterarbeit/Data_07-09/3M.csv\n",
      "/Users/alexanderkoch/Desktop/Code Masterarbeit/Data_07-09/Microsoft.csv\n",
      "/Users/alexanderkoch/Desktop/Code Masterarbeit/Data_07-09/Boeing.csv\n",
      "/Users/alexanderkoch/Desktop/Code Masterarbeit/Data_07-09/AT&T.csv\n",
      "/Users/alexanderkoch/Desktop/Code Masterarbeit/Data_07-09/Verizon Communications.csv\n",
      "/Users/alexanderkoch/Desktop/Code Masterarbeit/Data_07-09/American Express.csv\n",
      "/Users/alexanderkoch/Desktop/Code Masterarbeit/Data_07-09/Citigroup.csv\n",
      "/Users/alexanderkoch/Desktop/Code Masterarbeit/Data_07-09/DuPont.csv\n",
      "/Users/alexanderkoch/Desktop/Code Masterarbeit/Data_07-09/McDonalds.csv\n"
     ]
    }
   ],
   "source": [
    "col_list= ['Adj Close']\n",
    "for files in glob.glob(os.path.join(path_three, \"*.csv\")):\n",
    "    df = pd.read_csv(files, usecols=col_list)\n",
    "    print(files)"
   ]
  },
  {
   "cell_type": "code",
   "execution_count": 121,
   "metadata": {},
   "outputs": [],
   "source": [
    "col_list= ['Adj Close']\n",
    "\n",
    "def get_data_2y(stock):\n",
    "    df = pd.read_csv(path_three + f'/{stock}.csv', usecols=col_list)\n",
    "    return df['Adj Close']"
   ]
  },
  {
   "cell_type": "code",
   "execution_count": 122,
   "metadata": {},
   "outputs": [],
   "source": [
    "boeing_2y = get_data_2y('Boeing')\n",
    "homedepot_2y = get_data_2y('Home Depot')\n",
    "generalelectric_2y= get_data_2y('General Electric')\n",
    "merck_2y = get_data_2y('Merck')\n",
    "pfizer_2y = get_data_2y('Pfizer')\n",
    "walmart_2y = get_data_2y('Walmart')\n",
    "alcoa_2y = get_data_2y('Alcoa')\n",
    "intel_2y = get_data_2y('Intel')\n",
    "exxonmobil_2y = get_data_2y('Exxon Mobil')\n",
    "bankofamerica_2y = get_data_2y('Bank of America')\n",
    "caterpillar_2y = get_data_2y('Caterpillar')\n",
    "atandt_2y = get_data_2y('AT&T')\n",
    "proctergamble_2y = get_data_2y('Procter & Gamble')\n",
    "citigroup_2y = get_data_2y('Citigroup')\n",
    "disney_2y = get_data_2y('Disney')\n",
    "dupont_2y = get_data_2y('DuPont')\n",
    "jandj_2y = get_data_2y('Johnson & Johnson')\n",
    "cocacola_2y = get_data_2y('Coca Cola')\n",
    "jpmorganchase_2y = get_data_2y('JPMorgan Chase')\n",
    "mmm_2y = get_data_2y('3M')\n",
    "microsoft_2y = get_data_2y('Microsoft')\n",
    "chevron_2y = get_data_2y('Chevron')\n",
    "verizoncom_2y = get_data_2y('Verizon Communications')\n",
    "americanexpress_2y = get_data_2y('American Express')\n",
    "mcdonalds_2y = get_data_2y('McDonalds')"
   ]
  },
  {
   "cell_type": "code",
   "execution_count": 123,
   "metadata": {},
   "outputs": [],
   "source": [
    "boeing_2y = get_returns(boeing_2y)\n",
    "homedepot_2y = get_returns(homedepot_2y)\n",
    "generalelectric_2y= get_returns(generalelectric_2y)\n",
    "merck_2y = get_returns(merck_2y)\n",
    "pfizer_2y = get_returns(pfizer_2y)\n",
    "walmart_2y = get_returns(walmart_2y)\n",
    "alcoa_2y = get_returns(alcoa_2y)\n",
    "intel_2y = get_returns(intel_2y)\n",
    "exxonmobil_2y = get_returns(exxonmobil_2y)\n",
    "bankofamerica_2y = get_returns(bankofamerica_2y)\n",
    "caterpillar_2y = get_returns(caterpillar_2y)\n",
    "atandt_2y = get_returns(atandt_2y)\n",
    "proctergamble_2y = get_returns(proctergamble_2y)\n",
    "citigroup_2y = get_returns(citigroup_2y)\n",
    "disney_2y = get_returns(disney_2y)\n",
    "dupont_2y = get_returns(dupont_2y)\n",
    "jandj_2y = get_returns(jandj_2y)\n",
    "cocacola_2y = get_returns(cocacola_2y)\n",
    "jpmorganchase_2y = get_returns(jpmorganchase_2y)\n",
    "mmm_2y = get_returns(mmm_2y)\n",
    "microsoft_2y = get_returns(microsoft_2y)\n",
    "chevron_2y = get_returns(chevron_2y)\n",
    "verizoncom_2y = get_returns(verizoncom_2y)\n",
    "americanexpress_2y = get_returns(americanexpress_2y)\n",
    "mcdonalds_2y = get_returns(mcdonalds_2y)"
   ]
  },
  {
   "cell_type": "code",
   "execution_count": 286,
   "metadata": {},
   "outputs": [
    {
     "name": "stdout",
     "output_type": "stream",
     "text": [
      "The excess kurtosis of the distribution (should be 0 if normally distrubuted): 4.0116\n",
      "The skewness of the distribution (should be 0 if normally distributed): 0.0797\n"
     ]
    },
    {
     "data": {
      "image/png": "[encoded data removed]",
      "text/plain": [
       "<Figure size 432x288 with 1 Axes>"
      ]
     },
     "metadata": {
      "needs_background": "light"
     },
     "output_type": "display_data"
    }
   ],
   "source": [
    "## plotting the data against the normal distribution ##\n",
    "## obviously the data is not normal distributed ##\n",
    "## kurtosis and skewness differ from normal ##\n",
    "\n",
    "mean = np.mean(dupont_2y)\n",
    "std_dev = np.std(dupont_2y)\n",
    "nike.hist(bins =40, normed = True, histtype = 'stepfilled', alpha = 0.8)\n",
    "plt.title('Du Pont returns against normal distribution')\n",
    "plt.xlabel('Returns')\n",
    "plt.ylabel('Frequency')\n",
    "x = np.linspace (mean-3*std_dev, mean + 3*std_dev,100)\n",
    "plt.plot(x,norm.pdf(x, mean, std_dev),'r')\n",
    "plt.show\n",
    "#plt.savefig('dupont_distribution_2years.jpg')\n",
    "\n",
    "print( 'The excess kurtosis of the distribution (should be 0 if normally distrubuted): {}'.format(round(kurtosis(dupont_2y),4 )))\n",
    "print( 'The skewness of the distribution (should be 0 if normally distributed): {}'.format(round(skew(dupont_2y),4 )))"
   ]
  },
  {
   "cell_type": "code",
   "execution_count": 288,
   "metadata": {},
   "outputs": [
    {
     "data": {
      "image/png": "[encoded data removed]",
      "text/plain": [
       "<Figure size 432x288 with 1 Axes>"
      ]
     },
     "metadata": {
      "needs_background": "light"
     },
     "output_type": "display_data"
    }
   ],
   "source": [
    "## qq-plt to see if normally distributed for three sample stocks ##\n",
    "\n",
    "fig = scipy.stats.probplot(dupont_2y, dist=\"norm\", plot= plt)\n",
    "#plt.savefig('dupont_QQ_plot_2years.jpg')"
   ]
  },
  {
   "cell_type": "code",
   "execution_count": 290,
   "metadata": {},
   "outputs": [
    {
     "name": "stdout",
     "output_type": "stream",
     "text": [
      "The excess kurtosis of the distribution (should be 0 if normally distrubuted): 4.4576\n",
      "The skewness of the distribution (should be 0 if normally distributed): 0.69\n"
     ]
    },
    {
     "data": {
      "image/png": "[encoded data removed]",
      "text/plain": [
       "<Figure size 432x288 with 1 Axes>"
      ]
     },
     "metadata": {
      "needs_background": "light"
     },
     "output_type": "display_data"
    }
   ],
   "source": [
    "mean = np.mean(disney_2y)\n",
    "std_dev = np.std(disney_2y)\n",
    "disney.hist(bins =40, normed = True, histtype = 'stepfilled', alpha = 0.8)\n",
    "plt.title('disney returns against normal distribution')\n",
    "plt.xlabel('Returns')\n",
    "plt.ylabel('Frequency')\n",
    "x = np.linspace (mean-3*std_dev, mean + 3*std_dev,100)\n",
    "plt.plot(x,norm.pdf(x, mean, std_dev),'r')\n",
    "plt.show\n",
    "#plt.savefig('disney_distribution_2years.jpg')\n",
    "\n",
    "print( 'The excess kurtosis of the distribution (should be 0 if normally distrubuted): {}'.format(round(kurtosis(disney_2y),4 )))\n",
    "print( 'The skewness of the distribution (should be 0 if normally distributed): {}'.format(round(skew(disney_2y),4 )))"
   ]
  },
  {
   "cell_type": "code",
   "execution_count": 292,
   "metadata": {},
   "outputs": [
    {
     "data": {
      "image/png": "[encoded data removed]",
      "text/plain": [
       "<Figure size 432x288 with 1 Axes>"
      ]
     },
     "metadata": {
      "needs_background": "light"
     },
     "output_type": "display_data"
    }
   ],
   "source": [
    "fig = scipy.stats.probplot(disney_2y, dist=\"norm\", plot= plt)\n",
    "#plt.savefig('disney_QQ_plot_2years.jpg')"
   ]
  },
  {
   "cell_type": "code",
   "execution_count": 294,
   "metadata": {},
   "outputs": [
    {
     "name": "stdout",
     "output_type": "stream",
     "text": [
      "The excess kurtosis of the distribution (should be 0 if normally distrubuted): 6.239\n",
      "The skewness of the distribution (should be 0 if normally distributed): 0.918\n"
     ]
    },
    {
     "data": {
      "image/png": "[encoded data removed]",
      "text/plain": [
       "<Figure size 432x288 with 1 Axes>"
      ]
     },
     "metadata": {
      "needs_background": "light"
     },
     "output_type": "display_data"
    }
   ],
   "source": [
    "mean = np.mean(atandt_2y)\n",
    "std_dev = np.std(atandt_2y)\n",
    "visa.hist(bins =40, normed = True, histtype = 'stepfilled', alpha = 0.8)\n",
    "plt.title('AT & T returns against normal distribution')\n",
    "plt.xlabel('Returns')\n",
    "plt.ylabel('Frequency')\n",
    "x = np.linspace (mean-3*std_dev, mean + 3*std_dev,100)\n",
    "plt.plot(x,norm.pdf(x, mean, std_dev),'r')\n",
    "plt.show\n",
    "#plt.savefig('at&t_distribution_2years.jpg')\n",
    "\n",
    "print( 'The excess kurtosis of the distribution (should be 0 if normally distrubuted): {}'.format(round(kurtosis(atandt_2y),4 )))\n",
    "print( 'The skewness of the distribution (should be 0 if normally distributed): {}'.format(round(skew(atandt_2y),4 )))"
   ]
  },
  {
   "cell_type": "code",
   "execution_count": 296,
   "metadata": {},
   "outputs": [
    {
     "data": {
      "image/png": "[encoded data removed]",
      "text/plain": [
       "<Figure size 432x288 with 1 Axes>"
      ]
     },
     "metadata": {
      "needs_background": "light"
     },
     "output_type": "display_data"
    }
   ],
   "source": [
    "fig = scipy.stats.probplot(atandt_2y, dist=\"norm\", plot= plt)\n",
    "#plt.savefig('at&t_QQ_plot_2years.jpg')"
   ]
  },
  {
   "cell_type": "code",
   "execution_count": 130,
   "metadata": {},
   "outputs": [],
   "source": [
    "VaR_95_boeing_2y = VaR(0.05,boeing_2y)\n",
    "VaR_95_generalelectric_2y = VaR(0.05,generalelectric_2y)\n",
    "VaR_95_homedepot_2y = VaR(0.05,homedepot_2y)\n",
    "VaR_95_mmm_2y = VaR(0.05,mmm_2y)\n",
    "VaR_95_alcoa_2y = VaR(0.05,alcoa_2y)\n",
    "VaR_95_mcdonalds_2y = VaR(0.05,mcdonalds_2y)\n",
    "VaR_95_caterpillar_2y =VaR(0.05,caterpillar_2y)\n",
    "VaR_95_bankofamerica_2y = VaR(0.05,bankofamerica_2y)\n",
    "VaR_95_atandt_2y = VaR(0.05,atandt_2y)\n",
    "VaR_95_chevron_2y = VaR(0.05,chevron_2y)\n",
    "VaR_95_jandj_2y = VaR(0.05,jandj_2y)\n",
    "VaR_95_jpmorganchase_2y = VaR(0.05,jpmorganchase_2y)\n",
    "VaR_95_disney_2y = VaR(0.05,disney_2y)\n",
    "VaR_95_americanexpress_2y = VaR(0.05,americanexpress_2y)\n",
    "VaR_95_microsoft_2y = VaR(0.05,microsoft_2y)\n",
    "VaR_95_walmart_2y = VaR(0.05,walmart_2y)\n",
    "VaR_95_exxonmobil_2y = VaR(0.05,exxonmobil_2y)\n",
    "VaR_95_proctergamble_2y = VaR(0.05,proctergamble_2y)\n",
    "VaR_95_citigroup_2y = VaR(0.05,citigroup_2y)\n",
    "VaR_95_dupont_2y = VaR(0.05,dupont_2y)\n",
    "VaR_95_merck_2y = VaR(0.05,merck_2y)\n",
    "VaR_95_intel_2y = VaR(0.05,intel_2y)\n",
    "VaR_95_verizoncom_2y = VaR(0.05,verizoncom_2y)\n",
    "VaR_95_cocacola_2y = VaR(0.05,cocacola_2y)\n",
    "VaR_95_pfizer_2y = VaR(0.05,pfizer_2y)"
   ]
  },
  {
   "cell_type": "code",
   "execution_count": 131,
   "metadata": {},
   "outputs": [],
   "source": [
    "dow_jones_VaR95_2y = {'Boeing':'BA','Generalelectric':'GE','Alcoa':'AA','HomeDepot':'HD','3M':'MMM',\n",
    "                   'BankofAmerica':'BAC','McDonalds':'MCD','AT&T':'T','Caterpillar':'CAT','Citigroup':'C',\n",
    "                   'Chevron':'CVX','Johnson&Johnson':'JNJ','JPMorganChase':'JPM','Disney':'DIS',\n",
    "                   'AmericanExpress':'AXP','Microsoft':'MSFT','Walmart':'WMT','ExxonMobil':'XOM',\n",
    "                   'Procter&Gamble':'PG','DuPont':'DD','Merck':'MRK','Intel':'INTC',\n",
    "                   'VerizonCommunications':'VZ','CocaCola':'KO','Pfizer':'PFE'}"
   ]
  },
  {
   "cell_type": "code",
   "execution_count": 132,
   "metadata": {},
   "outputs": [],
   "source": [
    "dow_jones_VaR95_2y['Boeing'] =VaR_95_boeing_2y\n",
    "dow_jones_VaR95_2y['Generalelectric'] =VaR_95_generalelectric_2y\n",
    "dow_jones_VaR95_2y['Alcoa'] =VaR_95_alcoa_2y\n",
    "dow_jones_VaR95_2y['HomeDepot'] =VaR_95_homedepot_2y\n",
    "dow_jones_VaR95_2y['3M'] =VaR_95_mmm_2y\n",
    "dow_jones_VaR95_2y['BankofAmerica'] =VaR_95_bankofamerica_2y\n",
    "dow_jones_VaR95_2y['McDonalds'] =VaR_95_mcdonalds_2y\n",
    "dow_jones_VaR95_2y['AT&T'] =VaR_95_atandt_2y\n",
    "dow_jones_VaR95_2y['Caterpillar'] =VaR_95_caterpillar_2y\n",
    "dow_jones_VaR95_2y['Citigroup'] =VaR_95_citigroup_2y\n",
    "dow_jones_VaR95_2y['DuPont'] =VaR_95_dupont_2y\n",
    "dow_jones_VaR95_2y['Chevron'] =VaR_95_chevron_2y\n",
    "dow_jones_VaR95_2y['Johnson&Johnson'] =VaR_95_jandj_2y\n",
    "dow_jones_VaR95_2y['JPMorganChase'] =VaR_95_jpmorganchase_2y\n",
    "dow_jones_VaR95_2y['Disney'] =VaR_95_disney_2y\n",
    "dow_jones_VaR95_2y['AmericanExpress'] =VaR_95_americanexpress_2y\n",
    "dow_jones_VaR95_2y['Microsoft'] =VaR_95_microsoft_2y\n",
    "dow_jones_VaR95_2y['Walmart'] =VaR_95_walmart_2y\n",
    "dow_jones_VaR95_2y['ExxonMobil'] =VaR_95_exxonmobil_2y\n",
    "dow_jones_VaR95_2y['Procter&Gamble'] =VaR_95_proctergamble_2y\n",
    "dow_jones_VaR95_2y['Merck'] =VaR_95_merck_2y\n",
    "dow_jones_VaR95_2y['Intel'] =VaR_95_intel_2y\n",
    "dow_jones_VaR95_2y['VerizonCommunications'] =VaR_95_verizoncom_2y\n",
    "dow_jones_VaR95_2y['CocaCola'] =VaR_95_cocacola_2y\n",
    "dow_jones_VaR95_2y['Pfizer'] =VaR_95_pfizer_2y"
   ]
  },
  {
   "cell_type": "code",
   "execution_count": 133,
   "metadata": {},
   "outputs": [
    {
     "data": {
      "text/plain": [
       "{'Boeing': 0.04878329992777811,\n",
       " 'Generalelectric': 0.05819666488684548,\n",
       " 'Alcoa': 0.07729535934833785,\n",
       " 'HomeDepot': 0.0453240613747411,\n",
       " '3M': 0.034027080108084196,\n",
       " 'BankofAmerica': 0.1014440702198762,\n",
       " 'McDonalds': 0.02759637635859398,\n",
       " 'AT&T': 0.03745235048729895,\n",
       " 'Caterpillar': 0.0520207471396914,\n",
       " 'Citigroup': 0.10687529070934257,\n",
       " 'Chevron': 0.03977879326171264,\n",
       " 'Johnson&Johnson': 0.023301185058702434,\n",
       " 'JPMorganChase': 0.07303856414087054,\n",
       " 'Disney': 0.041492424270588066,\n",
       " 'AmericanExpress': 0.07070743278427315,\n",
       " 'Microsoft': 0.04122248199625265,\n",
       " 'Walmart': 0.027529738065180828,\n",
       " 'ExxonMobil': 0.03810560598088726,\n",
       " 'Procter&Gamble': 0.02796704791790766,\n",
       " 'DuPont': 0.05665528050570932,\n",
       " 'Merck': 0.03859590560554605,\n",
       " 'Intel': 0.04724328787146287,\n",
       " 'VerizonCommunications': 0.03524172624601268,\n",
       " 'CocaCola': 0.028223509986748586,\n",
       " 'Pfizer': 0.03452431049254828}"
      ]
     },
     "execution_count": 133,
     "metadata": {},
     "output_type": "execute_result"
    }
   ],
   "source": [
    "dow_jones_VaR95_2y"
   ]
  },
  {
   "cell_type": "code",
   "execution_count": 134,
   "metadata": {},
   "outputs": [],
   "source": [
    "for value in dow_jones_VaR95_2y:    \n",
    "    dow_jones_VaR95_2y[value] *=  1000000"
   ]
  },
  {
   "cell_type": "code",
   "execution_count": 135,
   "metadata": {},
   "outputs": [],
   "source": [
    "dow_jones_VaR95_2y ={k: round(v, 2) for k, v in dow_jones_VaR95_2y.items()}"
   ]
  },
  {
   "cell_type": "code",
   "execution_count": 136,
   "metadata": {},
   "outputs": [],
   "source": [
    "for key in dow_jones_VaR95_2y:\n",
    "    dow_jones_VaR95_2y[key] = \"${:,.2f}\".format(dow_jones_VaR95_2y[key])"
   ]
  },
  {
   "cell_type": "code",
   "execution_count": 137,
   "metadata": {},
   "outputs": [
    {
     "data": {
      "text/plain": [
       "{'Boeing': '$48,783.30',\n",
       " 'Generalelectric': '$58,196.66',\n",
       " 'Alcoa': '$77,295.36',\n",
       " 'HomeDepot': '$45,324.06',\n",
       " '3M': '$34,027.08',\n",
       " 'BankofAmerica': '$101,444.07',\n",
       " 'McDonalds': '$27,596.38',\n",
       " 'AT&T': '$37,452.35',\n",
       " 'Caterpillar': '$52,020.75',\n",
       " 'Citigroup': '$106,875.29',\n",
       " 'Chevron': '$39,778.79',\n",
       " 'Johnson&Johnson': '$23,301.19',\n",
       " 'JPMorganChase': '$73,038.56',\n",
       " 'Disney': '$41,492.42',\n",
       " 'AmericanExpress': '$70,707.43',\n",
       " 'Microsoft': '$41,222.48',\n",
       " 'Walmart': '$27,529.74',\n",
       " 'ExxonMobil': '$38,105.61',\n",
       " 'Procter&Gamble': '$27,967.05',\n",
       " 'DuPont': '$56,655.28',\n",
       " 'Merck': '$38,595.91',\n",
       " 'Intel': '$47,243.29',\n",
       " 'VerizonCommunications': '$35,241.73',\n",
       " 'CocaCola': '$28,223.51',\n",
       " 'Pfizer': '$34,524.31'}"
      ]
     },
     "execution_count": 137,
     "metadata": {},
     "output_type": "execute_result"
    }
   ],
   "source": [
    "## 95% VaR of stock returns, we interpret VaR as positive number ##\n",
    "\n",
    "dow_jones_VaR95_2y"
   ]
  },
  {
   "cell_type": "code",
   "execution_count": 298,
   "metadata": {},
   "outputs": [
    {
     "name": "stdout",
     "output_type": "stream",
     "text": [
      "The excess kurtosis of the distribution (should be 0 if normally distrubuted): 4.0116\n",
      "The skewness of the distribution (should be 0 if normally distributed): 0.0797\n",
      "\n",
      "\n",
      "\n",
      "The Value at Risk with 99% confidence for $1,000,000 invested in Du Pont is: $88,883.45\n",
      "\n",
      "\n"
     ]
    },
    {
     "data": {
      "image/png": "[encoded data removed]",
      "text/plain": [
       "<Figure size 864x504 with 1 Axes>"
      ]
     },
     "metadata": {
      "needs_background": "light"
     },
     "output_type": "display_data"
    }
   ],
   "source": [
    "## plotting VaR 99% as an example for du pont stock ##\n",
    "\n",
    "mean = np.mean(dupont_2y)\n",
    "std_dev = np.std(dupont_2y)\n",
    "visa.hist(bins =40, normed = True, histtype = 'stepfilled', alpha = 0.8, figsize =(12,7))\n",
    "\n",
    "plt.title('Du Pont returns against normal distribution')\n",
    "plt.xlabel('Returns')\n",
    "plt.ylabel('Frequency')\n",
    "plt.axvline(VaR(0.01,dupont_2y)*-1,color = 'red',label='Value at Risk')\n",
    "x = np.linspace (mean-3*std_dev, mean + 3*std_dev,100)\n",
    "plt.plot(x,norm.pdf(x, mean, std_dev),'orange',label='Normal distribution')\n",
    "plt.legend()\n",
    "plt.show\n",
    "#plt.savefig('dupont_VaR_2years.jpg')\n",
    "\n",
    "\n",
    "print( 'The excess kurtosis of the distribution (should be 0 if normally distrubuted): {}'.format(round(kurtosis(dupont_2y),4 )))\n",
    "print( 'The skewness of the distribution (should be 0 if normally distributed): {}'.format(round(skew(dupont_2y),4 )))\n",
    "\n",
    "VaR_amount_99_dupont_2y= \"${:,.2f}\".format(round(VaR(0.01,dupont_2y)*1000000,2))\n",
    "print('\\n'*3+'The Value at Risk with 99% confidence for $1,000,000 invested in Du Pont is: {}'.format(VaR_amount_99_dupont_2y)+'\\n'*2)"
   ]
  },
  {
   "cell_type": "code",
   "execution_count": 139,
   "metadata": {},
   "outputs": [],
   "source": [
    "list_VaR_2y = dict.items(dow_jones_VaR95_2y)"
   ]
  },
  {
   "cell_type": "code",
   "execution_count": 140,
   "metadata": {},
   "outputs": [
    {
     "name": "stdout",
     "output_type": "stream",
     "text": [
      "Stock                  Value at Risk in %\n",
      "---------------------  --------------------\n",
      "Boeing                 $48,783.30\n",
      "Generalelectric        $58,196.66\n",
      "Alcoa                  $77,295.36\n",
      "HomeDepot              $45,324.06\n",
      "3M                     $34,027.08\n",
      "BankofAmerica          $101,444.07\n",
      "McDonalds              $27,596.38\n",
      "AT&T                   $37,452.35\n",
      "Caterpillar            $52,020.75\n",
      "Citigroup              $106,875.29\n",
      "Chevron                $39,778.79\n",
      "Johnson&Johnson        $23,301.19\n",
      "JPMorganChase          $73,038.56\n",
      "Disney                 $41,492.42\n",
      "AmericanExpress        $70,707.43\n",
      "Microsoft              $41,222.48\n",
      "Walmart                $27,529.74\n",
      "ExxonMobil             $38,105.61\n",
      "Procter&Gamble         $27,967.05\n",
      "DuPont                 $56,655.28\n",
      "Merck                  $38,595.91\n",
      "Intel                  $47,243.29\n",
      "VerizonCommunications  $35,241.73\n",
      "CocaCola               $28,223.51\n",
      "Pfizer                 $34,524.31\n"
     ]
    }
   ],
   "source": [
    "from tabulate import tabulate\n",
    "print (tabulate(list_VaR_2y, headers=[\"Stock\", \"Value at Risk in %\"]))"
   ]
  },
  {
   "cell_type": "code",
   "execution_count": null,
   "metadata": {},
   "outputs": [],
   "source": []
  },
  {
   "cell_type": "code",
   "execution_count": 141,
   "metadata": {},
   "outputs": [],
   "source": [
    "## subadditivity random portfolios ##"
   ]
  },
  {
   "cell_type": "code",
   "execution_count": 142,
   "metadata": {},
   "outputs": [],
   "source": [
    "stoxx_2y = dow_jones_VaR95_2y.keys()"
   ]
  },
  {
   "cell_type": "code",
   "execution_count": 143,
   "metadata": {},
   "outputs": [],
   "source": [
    "## we will randomly create 5 portfolios and check for subadditivity ##\n",
    "## the portfolios consist of a random rumber of stocks ##\n",
    "\n",
    "# number_random_portfolios_2y = []\n",
    "# for x in range (0, 5):\n",
    "   # number_random_portfolios_2y.append(random.randint(1, 28))"
   ]
  },
  {
   "cell_type": "code",
   "execution_count": 144,
   "metadata": {},
   "outputs": [],
   "source": [
    "## these are the numbers of stocks for every portfolio randomly generated ##\n",
    "\n",
    "number_random_portfolios_2y = [10, 18, 11, 16, 11]"
   ]
  },
  {
   "cell_type": "code",
   "execution_count": 145,
   "metadata": {},
   "outputs": [],
   "source": [
    "## for every portfolio, random stocks will be picked accordingly to the number of stocks generated above ##\n",
    "\n",
    "# random_portfolios_2y = []\n",
    "# for x in number_random_portfolios_2y:\n",
    "   # y = random.sample(stoxx_2y,x)\n",
    "   # y = [each_string.lower() for each_string in y]\n",
    "   # random_portfolios_2y.append(y)"
   ]
  },
  {
   "cell_type": "code",
   "execution_count": 146,
   "metadata": {},
   "outputs": [],
   "source": [
    "## portfolios were randommly generated ##\n",
    "random_portfolios_2y = [['at&t',\n",
    "  'dupont',\n",
    "  'caterpillar',\n",
    "  'johnson&johnson',\n",
    "  'mcdonalds',\n",
    "  'procter&gamble',\n",
    "  'chevron',\n",
    "  'intel',\n",
    "  'verizoncommunications',\n",
    "  'homedepot'],\n",
    " ['homedepot',\n",
    "  'johnson&johnson',\n",
    "  'at&t',\n",
    "  'verizoncommunications',\n",
    "  'cocacola',\n",
    "  'jpmorganchase',\n",
    "  'generalelectric',\n",
    "  'disney',\n",
    "  'chevron',\n",
    "  'procter&gamble',\n",
    "  'microsoft',\n",
    "  'merck',\n",
    "  'intel',\n",
    "  'pfizer',\n",
    "  'bankofamerica',\n",
    "  'boeing',\n",
    "  'dupont',\n",
    "  'americanexpress'],\n",
    " ['3m',\n",
    "  'bankofamerica',\n",
    "  'mcdonalds',\n",
    "  'boeing',\n",
    "  'chevron',\n",
    "  'walmart',\n",
    "  'johnson&johnson',\n",
    "  'jpmorganchase',\n",
    "  'intel',\n",
    "  'disney',\n",
    "  'americanexpress'],\n",
    " ['walmart',\n",
    "  'bankofamerica',\n",
    "  'merck',\n",
    "  'homedepot',\n",
    "  'microsoft',\n",
    "  'chevron',\n",
    "  'citigroup',\n",
    "  'verizoncommunications',\n",
    "  'exxonmobil',\n",
    "  'pfizer',\n",
    "  'americanexpress',\n",
    "  '3m',\n",
    "  'at&t',\n",
    "  'caterpillar',\n",
    "  'mcdonalds',\n",
    "  'cocacola'],\n",
    " ['americanexpress',\n",
    "  'homedepot',\n",
    "  'intel',\n",
    "  'caterpillar',\n",
    "  'verizoncommunications',\n",
    "  'mcdonalds',\n",
    "  'alcoa',\n",
    "  'at&t',\n",
    "  'boeing',\n",
    "  'jpmorganchase',\n",
    "  'citigroup']]"
   ]
  },
  {
   "cell_type": "code",
   "execution_count": 147,
   "metadata": {},
   "outputs": [],
   "source": [
    "## check random portfolios for subadditivity with 95% VaR ##"
   ]
  },
  {
   "cell_type": "code",
   "execution_count": 318,
   "metadata": {},
   "outputs": [
    {
     "data": {
      "text/plain": [
       "True"
      ]
     },
     "execution_count": 318,
     "metadata": {},
     "output_type": "execute_result"
    }
   ],
   "source": [
    "## random portfolio 1 ##\n",
    "\n",
    "subadditive(0.05, atandt_2y,dupont_2y,caterpillar_2y,jandj_2y,mcdonalds_2y,proctergamble_2y,chevron_2y,intel_2y,\n",
    "            verizoncom_2y,homedepot_2y)"
   ]
  },
  {
   "cell_type": "code",
   "execution_count": 319,
   "metadata": {},
   "outputs": [
    {
     "data": {
      "text/plain": [
       "True"
      ]
     },
     "execution_count": 319,
     "metadata": {},
     "output_type": "execute_result"
    }
   ],
   "source": [
    "## random portfolio 2 ##\n",
    "\n",
    "subadditive(0.05, homedepot_2y,jandj_2y,atandt_2y,verizoncom_2y,cocacola_2y,jpmorganchase_2y,generalelectric_2y,\n",
    "            disney_2y,chevron_2y,proctergamble_2y,microsoft_2y,merck_2y,intel_2y,pfizer_2y,bankofamerica_2y,\n",
    "            boeing_2y,dupont_2y,americanexpress_2y)"
   ]
  },
  {
   "cell_type": "code",
   "execution_count": 320,
   "metadata": {},
   "outputs": [
    {
     "data": {
      "text/plain": [
       "True"
      ]
     },
     "execution_count": 320,
     "metadata": {},
     "output_type": "execute_result"
    }
   ],
   "source": [
    "## random portfolio 3 ##\n",
    "subadditive(0.05, mmm_2y,bankofamerica_2y,mcdonalds_2y,boeing_2y,chevron_2y,walmart_2y,jandj_2y,jpmorganchase_2y,\n",
    "            intel_2y,disney_2y,americanexpress_2y)"
   ]
  },
  {
   "cell_type": "code",
   "execution_count": 321,
   "metadata": {},
   "outputs": [
    {
     "data": {
      "text/plain": [
       "True"
      ]
     },
     "execution_count": 321,
     "metadata": {},
     "output_type": "execute_result"
    }
   ],
   "source": [
    "## random portfolio 4 ##\n",
    "\n",
    "subadditive(0.05, walmart_2y,bankofamerica_2y,merck_2y,homedepot_2y,microsoft_2y,chevron_2y,citigroup_2y,verizoncom_2y,\n",
    "            exxonmobil_2y, pfizer_2y,americanexpress_2y,mmm_2y,atandt_2y,caterpillar_2y,mcdonalds_2y,cocacola_2y)"
   ]
  },
  {
   "cell_type": "code",
   "execution_count": 322,
   "metadata": {},
   "outputs": [
    {
     "data": {
      "text/plain": [
       "True"
      ]
     },
     "execution_count": 322,
     "metadata": {},
     "output_type": "execute_result"
    }
   ],
   "source": [
    "## random portfolio 5 ##\n",
    "\n",
    "subadditive(0.05, americanexpress_2y,homedepot_2y,intel_2y,caterpillar_2y,verizoncom_2y,mcdonalds_2y,alcoa_2y,\n",
    "            atandt_2y,boeing_2y,jpmorganchase_2y,citigroup_2y)"
   ]
  },
  {
   "cell_type": "code",
   "execution_count": 323,
   "metadata": {},
   "outputs": [
    {
     "name": "stdout",
     "output_type": "stream",
     "text": [
      "+-----------+-------------------------------+-------------+\n",
      "| Portfolio | Number of stocks in portfolio | Subadditive |\n",
      "+-----------+-------------------------------+-------------+\n",
      "|     1     |               10              |     Yes     |\n",
      "|     2     |               18              |     Yes     |\n",
      "|     3     |               11              |     Yes     |\n",
      "|     4     |               16              |     Yes     |\n",
      "|     5     |               11              |     Yes     |\n",
      "+-----------+-------------------------------+-------------+\n"
     ]
    }
   ],
   "source": [
    "table_one = PrettyTable()\n",
    "table_one.field_names = ['Portfolio','Number of stocks in portfolio', 'Subadditive']\n",
    "table_one.add_row(['1',10, 'Yes'])\n",
    "table_one.add_row(['2',18, 'Yes'])\n",
    "table_one.add_row(['3',11, 'Yes'])\n",
    "table_one.add_row(['4',16, 'Yes'])\n",
    "table_one.add_row(['5',11, 'Yes'])\n",
    "print(table_one)"
   ]
  },
  {
   "cell_type": "code",
   "execution_count": 154,
   "metadata": {},
   "outputs": [],
   "source": [
    "## check random portfolios subadditive 99% VaR ## "
   ]
  },
  {
   "cell_type": "code",
   "execution_count": 155,
   "metadata": {},
   "outputs": [
    {
     "data": {
      "text/plain": [
       "True"
      ]
     },
     "execution_count": 155,
     "metadata": {},
     "output_type": "execute_result"
    }
   ],
   "source": [
    "## random portfolio 1 ##\n",
    "\n",
    "subadditive(0.01, atandt_2y,dupont_2y,caterpillar_2y,jandj_2y,mcdonalds_2y,proctergamble_2y,chevron_2y,intel_2y,\n",
    "            verizoncom_2y,homedepot_2y)"
   ]
  },
  {
   "cell_type": "code",
   "execution_count": 156,
   "metadata": {},
   "outputs": [
    {
     "data": {
      "text/plain": [
       "True"
      ]
     },
     "execution_count": 156,
     "metadata": {},
     "output_type": "execute_result"
    }
   ],
   "source": [
    "## random portfolio 2 ##\n",
    "\n",
    "subadditive(0.01, homedepot_2y,jandj_2y,atandt_2y,verizoncom_2y,cocacola_2y,jpmorganchase_2y,generalelectric_2y,\n",
    "            disney_2y,chevron_2y,proctergamble_2y,microsoft_2y,merck_2y,intel_2y,pfizer_2y,bankofamerica_2y,\n",
    "            boeing_2y,dupont_2y,americanexpress_2y)"
   ]
  },
  {
   "cell_type": "code",
   "execution_count": 157,
   "metadata": {},
   "outputs": [
    {
     "data": {
      "text/plain": [
       "True"
      ]
     },
     "execution_count": 157,
     "metadata": {},
     "output_type": "execute_result"
    }
   ],
   "source": [
    "## random portfolio 3 ##\n",
    "subadditive(0.01, mmm_2y,bankofamerica_2y,mcdonalds_2y,boeing_2y,chevron_2y,walmart_2y,jandj_2y,jpmorganchase_2y,\n",
    "            intel_2y,disney_2y,americanexpress_2y)"
   ]
  },
  {
   "cell_type": "code",
   "execution_count": 158,
   "metadata": {},
   "outputs": [
    {
     "data": {
      "text/plain": [
       "True"
      ]
     },
     "execution_count": 158,
     "metadata": {},
     "output_type": "execute_result"
    }
   ],
   "source": [
    "## random portfolio 4 ##\n",
    "\n",
    "subadditive(0.01, walmart_2y,bankofamerica_2y,merck_2y,homedepot_2y,microsoft_2y,chevron_2y,citigroup_2y,verizoncom_2y,\n",
    "            exxonmobil_2y,pfizer_2y,americanexpress_2y,mmm_2y,atandt_2y,caterpillar_2y,mcdonalds_2y,cocacola_2y)"
   ]
  },
  {
   "cell_type": "code",
   "execution_count": 159,
   "metadata": {},
   "outputs": [
    {
     "data": {
      "text/plain": [
       "True"
      ]
     },
     "execution_count": 159,
     "metadata": {},
     "output_type": "execute_result"
    }
   ],
   "source": [
    "## random portfolio 5 ##\n",
    "\n",
    "subadditive(0.01, americanexpress_2y,homedepot_2y,intel_2y,caterpillar_2y,verizoncom_2y,mcdonalds_2y,alcoa_2y,\n",
    "            atandt_2y,boeing_2y,jpmorganchase_2y,citigroup_2y)"
   ]
  },
  {
   "cell_type": "code",
   "execution_count": 160,
   "metadata": {},
   "outputs": [
    {
     "name": "stdout",
     "output_type": "stream",
     "text": [
      "+-----------+-------------------------------+-------------+\n",
      "| Portfolio | Number of stocks in portfolio | Subadditive |\n",
      "+-----------+-------------------------------+-------------+\n",
      "|     1     |               10              |     Yes     |\n",
      "|     2     |               18              |     Yes     |\n",
      "|     3     |               11              |     Yes     |\n",
      "|     4     |               16              |     Yes     |\n",
      "|     5     |               11              |     Yes     |\n",
      "+-----------+-------------------------------+-------------+\n"
     ]
    }
   ],
   "source": [
    "table_one = PrettyTable()\n",
    "table_one.field_names = ['Portfolio','Number of stocks in portfolio', 'Subadditive']\n",
    "table_one.add_row(['1',10, 'Yes'])\n",
    "table_one.add_row(['2',18, 'Yes'])\n",
    "table_one.add_row(['3',11, 'Yes'])\n",
    "table_one.add_row(['4',16, 'Yes'])\n",
    "table_one.add_row(['5',11, 'Yes'])\n",
    "print(table_one)"
   ]
  },
  {
   "cell_type": "code",
   "execution_count": 161,
   "metadata": {},
   "outputs": [],
   "source": [
    "## we first chose 15 random stocks and then check all their combinations for violations of subadditivity ##\n",
    "\n",
    "list_dow_jones_2y = list(stoxx_2y)\n",
    "# random.sample(list_dow_jones_2y, 15)"
   ]
  },
  {
   "cell_type": "code",
   "execution_count": 162,
   "metadata": {},
   "outputs": [],
   "source": [
    "result_random_2y = [alcoa_2y, merck_2y, pfizer_2y, generalelectric_2y, walmart_2y, intel_2y, citigroup_2y, atandt_2y,\n",
    "                    mmm_2y, boeing_2y, jpmorganchase_2y, homedepot_2y, jandj_2y, chevron_2y, verizoncom_2y]"
   ]
  },
  {
   "cell_type": "code",
   "execution_count": 163,
   "metadata": {},
   "outputs": [
    {
     "data": {
      "text/plain": [
       "32752"
      ]
     },
     "execution_count": 163,
     "metadata": {},
     "output_type": "execute_result"
    }
   ],
   "source": [
    "all_combinations = []\n",
    "for r in range(len(result_random_2y) + 1):\n",
    "    combinations_object = itertools.combinations(result_random_2y, r)\n",
    "    combinations_list = list(combinations_object)\n",
    "    all_combinations += combinations_list\n",
    "all_combinations = [x for x in all_combinations if len(x) > 1]\n",
    "len(all_combinations)"
   ]
  },
  {
   "cell_type": "code",
   "execution_count": 384,
   "metadata": {},
   "outputs": [
    {
     "name": "stdout",
     "output_type": "stream",
     "text": [
      "CPU times: user 8min 53s, sys: 2.1 s, total: 8min 56s\n",
      "Wall time: 8min 58s\n"
     ]
    },
    {
     "data": {
      "text/plain": [
       "8"
      ]
     },
     "execution_count": 384,
     "metadata": {},
     "output_type": "execute_result"
    }
   ],
   "source": [
    "# %%time\n",
    "# number_violations(0.05, result_random_2y)"
   ]
  },
  {
   "cell_type": "code",
   "execution_count": 165,
   "metadata": {},
   "outputs": [],
   "source": [
    "## the number of violations is saved here because of the computing time ##\n",
    "## computing time: 9min 13s ##\n",
    "\n",
    "violations_95_2y = 8"
   ]
  },
  {
   "cell_type": "code",
   "execution_count": 385,
   "metadata": {},
   "outputs": [
    {
     "name": "stdout",
     "output_type": "stream",
     "text": [
      "CPU times: user 8min 45s, sys: 1.66 s, total: 8min 46s\n",
      "Wall time: 8min 48s\n"
     ]
    },
    {
     "data": {
      "text/plain": [
       "6"
      ]
     },
     "execution_count": 385,
     "metadata": {},
     "output_type": "execute_result"
    }
   ],
   "source": [
    "# %%time\n",
    "# number_violations(0.01, result_random_2y)"
   ]
  },
  {
   "cell_type": "code",
   "execution_count": 167,
   "metadata": {},
   "outputs": [],
   "source": [
    "## the number of violations is saved here because of the computing time ##\n",
    "## computing time: 9min 40s ##\n",
    "\n",
    "violations_99_2y = 6"
   ]
  },
  {
   "cell_type": "code",
   "execution_count": 168,
   "metadata": {},
   "outputs": [
    {
     "name": "stdout",
     "output_type": "stream",
     "text": [
      "+------------------+----------------------+\n",
      "| Confidence level | number of violations |\n",
      "+------------------+----------------------+\n",
      "|     95% VaR      |          8           |\n",
      "|     99% VaR      |          6           |\n",
      "+------------------+----------------------+\n"
     ]
    }
   ],
   "source": [
    "table_three = PrettyTable()\n",
    "table_three.field_names = ['Confidence level','number of violations']\n",
    "table_three.add_row(['95% VaR', violations_95_2y])\n",
    "table_three.add_row(['99% VaR', violations_99_2y])\n",
    "print(table_three)"
   ]
  },
  {
   "cell_type": "code",
   "execution_count": null,
   "metadata": {},
   "outputs": [],
   "source": []
  },
  {
   "cell_type": "code",
   "execution_count": null,
   "metadata": {},
   "outputs": [],
   "source": []
  }
 ],
 "metadata": {
  "kernelspec": {
   "display_name": "Python 3",
   "language": "python",
   "name": "python3"
  },
  "language_info": {
   "codemirror_mode": {
    "name": "ipython",
    "version": 3
   },
   "file_extension": ".py",
   "mimetype": "text/x-python",
   "name": "python",
   "nbconvert_exporter": "python",
   "pygments_lexer": "ipython3",
   "version": "3.7.4"
  }
 },
 "nbformat": 4,
 "nbformat_minor": 2
}
