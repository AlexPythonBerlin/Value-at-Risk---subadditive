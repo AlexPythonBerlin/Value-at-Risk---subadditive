{
 "cells": [
  {
   "cell_type": "code",
   "execution_count": 1,
   "metadata": {},
   "outputs": [],
   "source": [
    "## these packages need to be installed in the command line first ##\n",
    "\n",
    "# pip install pandas-datareader\n",
    "# pip install numpy\n",
    "# pip install pandas\n",
    "# pip install scipy\n",
    "# pip install matplotlib\n",
    "# pip install tabulate\n",
    "# pip install prettytable"
   ]
  },
  {
   "cell_type": "code",
   "execution_count": 2,
   "metadata": {},
   "outputs": [],
   "source": [
    "import pandas as pd\n",
    "import pandas_datareader.data as reader\n",
    "import datetime as dt\n",
    "import matplotlib.pyplot as plt\n",
    "import numpy as np\n",
    "from scipy.stats import norm\n",
    "from scipy.stats import kurtosis, skew\n",
    "import scipy \n",
    "import statsmodels.api as sm\n",
    "import random\n",
    "from prettytable import PrettyTable"
   ]
  },
  {
   "cell_type": "code",
   "execution_count": 3,
   "metadata": {},
   "outputs": [],
   "source": [
    "## define start and end date for data ##\n",
    "\n",
    "start = dt.date(2019,5,1)\n",
    "end = dt.date(2020,5,1)"
   ]
  },
  {
   "cell_type": "code",
   "execution_count": 4,
   "metadata": {},
   "outputs": [],
   "source": [
    "dow_jones = {'Boeing':'BA','UnitedHealth':'UNH','GoldmanSachs':'GS','HomeDepot':'HD','3M':'MMM','Apple':'AAPL','McDonalds':'MCD','IBM':'IBM','Caterpillar':'CAT','Visa':'V','Travelers':'TRV','Chevron':'CVX','Johnson&Johnson':'JNJ','JPMorganChase':'JPM','Disney':'DIS','AmericanExpress':'AXP','Microsoft':'MSFT','Walmart':'WMT','ExxonMobil':'XOM','Procter&Gamble':'PG','Nike':'NKE','Walgreens':'WBA','DowInc':'DOW','Merck':'MRK','Intel':'INTC','VerizonCommunications':'VZ','CocaCola':'KO','Cisco':'CSCO','Pfizer':'PFE'}"
   ]
  },
  {
   "cell_type": "code",
   "execution_count": 5,
   "metadata": {},
   "outputs": [
    {
     "name": "stdout",
     "output_type": "stream",
     "text": [
      "Boeing------ BA\n",
      "UnitedHealth------ UNH\n",
      "GoldmanSachs------ GS\n",
      "HomeDepot------ HD\n",
      "3M------ MMM\n",
      "Apple------ AAPL\n",
      "McDonalds------ MCD\n",
      "IBM------ IBM\n",
      "Caterpillar------ CAT\n",
      "Visa------ V\n",
      "Travelers------ TRV\n",
      "Chevron------ CVX\n",
      "Johnson&Johnson------ JNJ\n",
      "JPMorganChase------ JPM\n",
      "Disney------ DIS\n",
      "AmericanExpress------ AXP\n",
      "Microsoft------ MSFT\n",
      "Walmart------ WMT\n",
      "ExxonMobil------ XOM\n",
      "Procter&Gamble------ PG\n",
      "Nike------ NKE\n",
      "Walgreens------ WBA\n",
      "DowInc------ DOW\n",
      "Merck------ MRK\n",
      "Intel------ INTC\n",
      "VerizonCommunications------ VZ\n",
      "CocaCola------ KO\n",
      "Cisco------ CSCO\n",
      "Pfizer------ PFE\n"
     ]
    }
   ],
   "source": [
    "for i in dow_jones:\n",
    "    print (i+ '------',dow_jones[i])"
   ]
  },
  {
   "cell_type": "code",
   "execution_count": 174,
   "metadata": {},
   "outputs": [],
   "source": [
    "## define function to get the data (daily returns) ##\n",
    "\n",
    "def get_data(stock):\n",
    "    stock = reader.get_data_yahoo(stock,start,end)['Adj Close']\n",
    "    stock.round(2)\n",
    "    daily_returns = stock.pct_change()\n",
    "    daily_returns = daily_returns.iloc[1:]\n",
    "    return daily_returns"
   ]
  },
  {
   "cell_type": "code",
   "execution_count": 7,
   "metadata": {},
   "outputs": [],
   "source": [
    "## saving the percentage changes as variables ## \n",
    "\n",
    "boeing = get_data('BA')\n",
    "unitedhealth = get_data('UNH')\n",
    "goldmansachs = get_data('GS')\n",
    "homedepot = get_data('HD')\n",
    "mmm = get_data('MMM')\n",
    "apple = get_data('AAPL')\n",
    "mcdonalds = get_data('MCD')\n",
    "ibm = get_data('IBM')\n",
    "caterpillar = get_data('CAT')\n",
    "visa = get_data('V')\n",
    "travelers = get_data('TRV')\n",
    "chevron = get_data('CVX')\n",
    "jandj = get_data('JNJ')\n",
    "jpmorganchase = get_data('JPM')\n",
    "disney = get_data('DIS')\n",
    "americanexpress = get_data('AXP')\n",
    "microsoft = get_data('MSFT')\n",
    "walmart = get_data('WMT')\n",
    "exxonmobil = get_data('XOM')\n",
    "proctergamble = get_data('PG')\n",
    "nike = get_data('NKE')\n",
    "walgreens = get_data('WBA')\n",
    "dowinc = get_data('DOW')\n",
    "merck = get_data('MRK')\n",
    "intel = get_data('INTC')\n",
    "verizoncom = get_data('VZ')\n",
    "cocacola = get_data('KO')\n",
    "cisco = get_data('CSCO')\n",
    "pfizer = get_data('PFE')"
   ]
  },
  {
   "cell_type": "code",
   "execution_count": 8,
   "metadata": {},
   "outputs": [
    {
     "name": "stderr",
     "output_type": "stream",
     "text": [
      "/opt/anaconda3/lib/python3.7/site-packages/pandas/plotting/_matplotlib/hist.py:316: MatplotlibDeprecationWarning: \n",
      "The 'normed' kwarg was deprecated in Matplotlib 2.1 and will be removed in 3.1. Use 'density' instead.\n",
      "  ax.hist(values, bins=bins, **kwds)\n"
     ]
    },
    {
     "name": "stdout",
     "output_type": "stream",
     "text": [
      "The excess kurtosis of the distribution (should be 0 if normally distrubuted): 10.5466\n",
      "The skewness of the distribution (should be 0 if normally distributed): 0.3792\n"
     ]
    },
    {
     "data": {
      "image/png": "[encoded data removed]",
      "text/plain": [
       "<Figure size 432x288 with 1 Axes>"
      ]
     },
     "metadata": {
      "needs_background": "light"
     },
     "output_type": "display_data"
    }
   ],
   "source": [
    "## plotting the data against the normal distribution ##\n",
    "## obviously the data is not normal distributed ##\n",
    "## kurtosis and skewness differ from normal ##\n",
    "\n",
    "mean = np.mean(nike)\n",
    "std_dev = np.std(nike)\n",
    "nike.hist(bins =40, normed = True, histtype = 'stepfilled', alpha = 0.8)\n",
    "plt.title('Nike returns against normal distribution')\n",
    "plt.xlabel('Returns')\n",
    "plt.ylabel('Frequency')\n",
    "x = np.linspace (mean-3*std_dev, mean + 3*std_dev,100)\n",
    "plt.plot(x,norm.pdf(x, mean, std_dev),'r')\n",
    "plt.show\n",
    "#plt.savefig('nike_distribution.jpg')\n",
    "\n",
    "print( 'The excess kurtosis of the distribution (should be 0 if normally distrubuted): {}'.format(round(kurtosis(nike),4 )))\n",
    "print( 'The skewness of the distribution (should be 0 if normally distributed): {}'.format(round(skew(nike),4 )))"
   ]
  },
  {
   "cell_type": "code",
   "execution_count": 9,
   "metadata": {},
   "outputs": [
    {
     "data": {
      "image/png": "[encoded data removed]",
      "text/plain": [
       "<Figure size 432x288 with 1 Axes>"
      ]
     },
     "metadata": {
      "needs_background": "light"
     },
     "output_type": "display_data"
    }
   ],
   "source": [
    "## qq-plt to see if normally distributed for three sample stocks ##\n",
    "\n",
    "fig = scipy.stats.probplot(nike, dist=\"norm\", plot= plt)\n",
    "#plt.savefig('nike_QQ_plot.jpg')"
   ]
  },
  {
   "cell_type": "code",
   "execution_count": 10,
   "metadata": {},
   "outputs": [
    {
     "name": "stdout",
     "output_type": "stream",
     "text": [
      "The excess kurtosis of the distribution (should be 0 if normally distrubuted): 8.9826\n",
      "The skewness of the distribution (should be 0 if normally distributed): 0.2311\n"
     ]
    },
    {
     "data": {
      "image/png": "[encoded data removed]",
      "text/plain": [
       "<Figure size 432x288 with 1 Axes>"
      ]
     },
     "metadata": {
      "needs_background": "light"
     },
     "output_type": "display_data"
    }
   ],
   "source": [
    "mean = np.mean(disney)\n",
    "std_dev = np.std(disney)\n",
    "disney.hist(bins =40, normed = True, histtype = 'stepfilled', alpha = 0.8)\n",
    "plt.title('disney returns against normal distribution')\n",
    "plt.xlabel('Returns')\n",
    "plt.ylabel('Frequency')\n",
    "x = np.linspace (mean-3*std_dev, mean + 3*std_dev,100)\n",
    "plt.plot(x,norm.pdf(x, mean, std_dev),'r')\n",
    "plt.show\n",
    "#plt.savefig('disney_distribution.jpg')\n",
    "\n",
    "print( 'The excess kurtosis of the distribution (should be 0 if normally distrubuted): {}'.format(round(kurtosis(disney),4 )))\n",
    "print( 'The skewness of the distribution (should be 0 if normally distributed): {}'.format(round(skew(disney),4 )))"
   ]
  },
  {
   "cell_type": "code",
   "execution_count": 11,
   "metadata": {},
   "outputs": [
    {
     "data": {
      "image/png": "[encoded data removed]",
      "text/plain": [
       "<Figure size 432x288 with 1 Axes>"
      ]
     },
     "metadata": {
      "needs_background": "light"
     },
     "output_type": "display_data"
    }
   ],
   "source": [
    "fig = scipy.stats.probplot(disney, dist=\"norm\", plot= plt)\n",
    "#plt.savefig('disney_QQ_plot.jpg')"
   ]
  },
  {
   "cell_type": "code",
   "execution_count": 12,
   "metadata": {},
   "outputs": [
    {
     "name": "stdout",
     "output_type": "stream",
     "text": [
      "The excess kurtosis of the distribution (should be 0 if normally distrubuted): 8.5932\n",
      "The skewness of the distribution (should be 0 if normally distributed): 0.2581\n"
     ]
    },
    {
     "data": {
      "image/png": "[encoded data removed]",
      "text/plain": [
       "<Figure size 432x288 with 1 Axes>"
      ]
     },
     "metadata": {
      "needs_background": "light"
     },
     "output_type": "display_data"
    }
   ],
   "source": [
    "mean = np.mean(visa)\n",
    "std_dev = np.std(visa)\n",
    "visa.hist(bins =40, normed = True, histtype = 'stepfilled', alpha = 0.8)\n",
    "plt.title('Visa returns against normal distribution')\n",
    "plt.xlabel('Returns')\n",
    "plt.ylabel('Frequency')\n",
    "x = np.linspace (mean-3*std_dev, mean + 3*std_dev,100)\n",
    "plt.plot(x,norm.pdf(x, mean, std_dev),'r')\n",
    "plt.show\n",
    "#plt.savefig('visa_distribution.jpg')\n",
    "\n",
    "print( 'The excess kurtosis of the distribution (should be 0 if normally distrubuted): {}'.format(round(kurtosis(visa),4 )))\n",
    "print( 'The skewness of the distribution (should be 0 if normally distributed): {}'.format(round(skew(visa),4 )))"
   ]
  },
  {
   "cell_type": "code",
   "execution_count": 13,
   "metadata": {},
   "outputs": [
    {
     "data": {
      "image/png": "[encoded data removed]",
      "text/plain": [
       "<Figure size 432x288 with 1 Axes>"
      ]
     },
     "metadata": {
      "needs_background": "light"
     },
     "output_type": "display_data"
    }
   ],
   "source": [
    "fig = scipy.stats.probplot(visa, dist=\"norm\", plot= plt)\n",
    "#plt.savefig('visa_QQ_plot.jpg')"
   ]
  },
  {
   "cell_type": "code",
   "execution_count": 14,
   "metadata": {},
   "outputs": [],
   "source": [
    "## need to sort the returns to calculate Value at Risk ##\n",
    "\n",
    "def sorting(stock):\n",
    "    sorted_stocks =stock.sort_values(axis=0, ascending=True, inplace=False, kind='quicksort', na_position='last')\n",
    "    return sorted_stocks\n",
    "    stock = sorted_stocks"
   ]
  },
  {
   "cell_type": "code",
   "execution_count": 15,
   "metadata": {},
   "outputs": [],
   "source": [
    "## function to calculate the VaR for a single stock ##\n",
    "\n",
    "def VaR(quantile,stock):\n",
    "    sorting(stock)\n",
    "    var = stock.quantile(quantile)\n",
    "    return var*-1"
   ]
  },
  {
   "cell_type": "code",
   "execution_count": 16,
   "metadata": {},
   "outputs": [],
   "source": [
    "#get 95% VaR for every stock\n",
    "\n",
    "VaR_95_boeing = VaR(0.05,boeing)\n",
    "VaR_95_unitedhealth = VaR(0.05,unitedhealth)\n",
    "VaR_95_goldmansachs = VaR(0.05,goldmansachs)\n",
    "VaR_95_homedepot = VaR(0.05,homedepot)\n",
    "VaR_95_mmm = VaR(0.05,mmm)\n",
    "VaR_95_apple = VaR(0.05,apple)\n",
    "VaR_95_mcdonalds = VaR(0.05,mcdonalds)\n",
    "VaR_95_ibm = VaR(0.05,ibm)\n",
    "VaR_95_caterpillar =VaR(0.05,caterpillar)\n",
    "VaR_95_visa = VaR(0.05,visa)\n",
    "VaR_95_travelers = VaR(0.05,travelers)\n",
    "VaR_95_chevron = VaR(0.05,chevron)\n",
    "VaR_95_jandj = VaR(0.05,jandj)\n",
    "VaR_95_jpmorganchase = VaR(0.05,jpmorganchase)\n",
    "VaR_95_disney = VaR(0.05,disney)\n",
    "VaR_95_americanexpress = VaR(0.05,americanexpress)\n",
    "VaR_95_microsoft = VaR(0.05,microsoft)\n",
    "VaR_95_walmart = VaR(0.05,walmart)\n",
    "VaR_95_exxonmobil = VaR(0.05,exxonmobil)\n",
    "VaR_95_proctergamble = VaR(0.05,proctergamble)\n",
    "VaR_95_nike = VaR(0.05,nike)\n",
    "VaR_95_walgreens = VaR(0.05,walgreens)\n",
    "VaR_95_dowinc = VaR(0.05,dowinc)\n",
    "VaR_95_merck = VaR(0.05,merck)\n",
    "VaR_95_intel = VaR(0.05,intel)\n",
    "VaR_95_verizoncom = VaR(0.05,verizoncom)\n",
    "VaR_95_cocacola = VaR(0.05,cocacola)\n",
    "VaR_95_cisco = VaR(0.05,cisco)\n",
    "VaR_95_pfizer = VaR(0.05,pfizer)"
   ]
  },
  {
   "cell_type": "code",
   "execution_count": 17,
   "metadata": {},
   "outputs": [],
   "source": [
    "dow_jones_VaR95 = {'Boeing':'BA','UnitedHealth':'UNH','GoldmanSachs':'GS','HomeDepot':'HD','3M':'MMM','Apple':'AAPL','McDonalds':'MCD','IBM':'IBM','Caterpillar':'CAT','Visa':'V','Travelers':'TRV','Chevron':'CVX','Johnson&Johnson':'JNJ','JPMorganChase':'JPM','Disney':'DIS','AmericanExpress':'AXP','Microsoft':'MSFT','Walmart':'WMT','ExxonMobil':'XOM','Procter&Gamble':'PG','Nike':'NKE','Walgreens':'WBA','DowInc':'DOW','Merck':'MRK','Intel':'INTC','VerizonCommunications':'VZ','CocaCola':'KO','Cisco':'CSCO','Pfizer':'PFE'}"
   ]
  },
  {
   "cell_type": "code",
   "execution_count": 18,
   "metadata": {},
   "outputs": [],
   "source": [
    "dow_jones_VaR95['Boeing'] =VaR_95_boeing\n",
    "dow_jones_VaR95['UnitedHealth'] =VaR_95_unitedhealth\n",
    "dow_jones_VaR95['GoldmanSachs'] =VaR_95_goldmansachs\n",
    "dow_jones_VaR95['HomeDepot'] =VaR_95_homedepot\n",
    "dow_jones_VaR95['3M'] =VaR_95_mmm\n",
    "dow_jones_VaR95['Apple'] =VaR_95_apple\n",
    "dow_jones_VaR95['McDonalds'] =VaR_95_mcdonalds\n",
    "dow_jones_VaR95['IBM'] =VaR_95_ibm\n",
    "dow_jones_VaR95['Caterpillar'] =VaR_95_caterpillar\n",
    "dow_jones_VaR95['Visa'] =VaR_95_visa\n",
    "dow_jones_VaR95['Travelers'] =VaR_95_travelers\n",
    "dow_jones_VaR95['Chevron'] =VaR_95_chevron\n",
    "dow_jones_VaR95['Johnson&Johnson'] =VaR_95_jandj\n",
    "dow_jones_VaR95['JPMorganChase'] =VaR_95_jpmorganchase\n",
    "dow_jones_VaR95['Disney'] =VaR_95_disney\n",
    "dow_jones_VaR95['AmericanExpress'] =VaR_95_americanexpress\n",
    "dow_jones_VaR95['Microsoft'] =VaR_95_microsoft\n",
    "dow_jones_VaR95['Walmart'] =VaR_95_walmart\n",
    "dow_jones_VaR95['ExxonMobil'] =VaR_95_exxonmobil\n",
    "dow_jones_VaR95['Procter&Gamble'] =VaR_95_proctergamble\n",
    "dow_jones_VaR95['Nike'] =VaR_95_nike\n",
    "dow_jones_VaR95['Walgreens'] =VaR_95_walgreens\n",
    "dow_jones_VaR95['DowInc'] =VaR_95_dowinc\n",
    "dow_jones_VaR95['Merck'] =VaR_95_merck\n",
    "dow_jones_VaR95['Intel'] =VaR_95_intel\n",
    "dow_jones_VaR95['VerizonCommunications'] =VaR_95_verizoncom\n",
    "dow_jones_VaR95['CocaCola'] =VaR_95_cocacola\n",
    "dow_jones_VaR95['Cisco'] =VaR_95_cisco\n",
    "dow_jones_VaR95['Pfizer'] =VaR_95_pfizer"
   ]
  },
  {
   "cell_type": "code",
   "execution_count": 19,
   "metadata": {},
   "outputs": [
    {
     "data": {
      "text/plain": [
       "{'Boeing': 0.059007667111602234,\n",
       " 'UnitedHealth': 0.034822469965670066,\n",
       " 'GoldmanSachs': 0.03660966788139049,\n",
       " 'HomeDepot': 0.03133631834644592,\n",
       " '3M': 0.03359825770291087,\n",
       " 'Apple': 0.034215545359584265,\n",
       " 'McDonalds': 0.02750901500271452,\n",
       " 'IBM': 0.03502153670585595,\n",
       " 'Caterpillar': 0.040829622587390445,\n",
       " 'Visa': 0.04041351534619736,\n",
       " 'Travelers': 0.03413776646656017,\n",
       " 'Chevron': 0.03443716648007692,\n",
       " 'Johnson&Johnson': 0.028835694629095247,\n",
       " 'JPMorganChase': 0.04379220862932884,\n",
       " 'Disney': 0.03698674317633153,\n",
       " 'AmericanExpress': 0.049224081042030646,\n",
       " 'Microsoft': 0.03282078090425151,\n",
       " 'Walmart': 0.020381915952878922,\n",
       " 'ExxonMobil': 0.04482347055356366,\n",
       " 'Procter&Gamble': 0.02764342899137275,\n",
       " 'Nike': 0.03236024311105065,\n",
       " 'Walgreens': 0.04338438467216152,\n",
       " 'DowInc': 0.04951885838423989,\n",
       " 'Merck': 0.02993325280276686,\n",
       " 'Intel': 0.039383008249175705,\n",
       " 'VerizonCommunications': 0.02150143298943754,\n",
       " 'CocaCola': 0.027704514577406587,\n",
       " 'Cisco': 0.04135238877408666,\n",
       " 'Pfizer': 0.027269403827489616}"
      ]
     },
     "execution_count": 19,
     "metadata": {},
     "output_type": "execute_result"
    }
   ],
   "source": [
    "## 95% VaR of stock returns, we interpret VaR as positive number ##\n",
    "\n",
    "dow_jones_VaR95"
   ]
  },
  {
   "cell_type": "code",
   "execution_count": 20,
   "metadata": {},
   "outputs": [
    {
     "name": "stdout",
     "output_type": "stream",
     "text": [
      "The excess kurtosis of the distribution (should be 0 if normally distrubuted): 8.5932\n",
      "The skewness of the distribution (should be 0 if normally distributed): 0.2581\n",
      "\n",
      "\n",
      "\n",
      "The Value at Risk with 99% confidence is: -0.0730351754033971\n",
      "\n",
      "\n"
     ]
    },
    {
     "data": {
      "image/png": "[encoded data removed]",
      "text/plain": [
       "<Figure size 864x504 with 1 Axes>"
      ]
     },
     "metadata": {
      "needs_background": "light"
     },
     "output_type": "display_data"
    }
   ],
   "source": [
    "## plotting VaR 99% as an example for visa stock ##\n",
    "\n",
    "mean = np.mean(visa)\n",
    "std_dev = np.std(visa)\n",
    "visa.hist(bins =40, normed = True, histtype = 'stepfilled', alpha = 0.8, figsize =(12,7))\n",
    "\n",
    "plt.title('Visa returns against normal distribution')\n",
    "plt.xlabel('Returns')\n",
    "plt.ylabel('Frequency')\n",
    "plt.axvline(VaR(0.01,visa)*-1,color = 'red',label='Value at Risk')\n",
    "x = np.linspace (mean-3*std_dev, mean + 3*std_dev,100)\n",
    "plt.plot(x,norm.pdf(x, mean, std_dev),'orange',label='Normal distribution')\n",
    "plt.legend()\n",
    "plt.show\n",
    "\n",
    "\n",
    "print( 'The excess kurtosis of the distribution (should be 0 if normally distrubuted): {}'.format(round(kurtosis(visa),4 )))\n",
    "print( 'The skewness of the distribution (should be 0 if normally distributed): {}'.format(round(skew(visa),4 )))\n",
    "\n",
    "\n",
    "print('\\n'*3+'The Value at Risk with 99% confidence is: {}'.format((VaR(0.01,visa)*-1))+'\\n'*2)"
   ]
  },
  {
   "cell_type": "code",
   "execution_count": 21,
   "metadata": {},
   "outputs": [],
   "source": [
    "dow_jones_VaR95_test = dow_jones_VaR95"
   ]
  },
  {
   "cell_type": "code",
   "execution_count": 22,
   "metadata": {},
   "outputs": [],
   "source": [
    "for key in dow_jones_VaR95_test:\n",
    "    dow_jones_VaR95_test[key] = dow_jones_VaR95_test[key] * 100"
   ]
  },
  {
   "cell_type": "code",
   "execution_count": 23,
   "metadata": {},
   "outputs": [],
   "source": [
    "dow_jones_VaR95_test = {k: round(v, 3) for k, v in dow_jones_VaR95_test.items()}"
   ]
  },
  {
   "cell_type": "code",
   "execution_count": 24,
   "metadata": {},
   "outputs": [],
   "source": [
    "list_VaR = dict.items(dow_jones_VaR95_test)"
   ]
  },
  {
   "cell_type": "code",
   "execution_count": 25,
   "metadata": {},
   "outputs": [
    {
     "name": "stdout",
     "output_type": "stream",
     "text": [
      "Stock                    Value at Risk in %\n",
      "---------------------  --------------------\n",
      "Boeing                                5.901\n",
      "UnitedHealth                          3.482\n",
      "GoldmanSachs                          3.661\n",
      "HomeDepot                             3.134\n",
      "3M                                    3.36\n",
      "Apple                                 3.422\n",
      "McDonalds                             2.751\n",
      "IBM                                   3.502\n",
      "Caterpillar                           4.083\n",
      "Visa                                  4.041\n",
      "Travelers                             3.414\n",
      "Chevron                               3.444\n",
      "Johnson&Johnson                       2.884\n",
      "JPMorganChase                         4.379\n",
      "Disney                                3.699\n",
      "AmericanExpress                       4.922\n",
      "Microsoft                             3.282\n",
      "Walmart                               2.038\n",
      "ExxonMobil                            4.482\n",
      "Procter&Gamble                        2.764\n",
      "Nike                                  3.236\n",
      "Walgreens                             4.338\n",
      "DowInc                                4.952\n",
      "Merck                                 2.993\n",
      "Intel                                 3.938\n",
      "VerizonCommunications                 2.15\n",
      "CocaCola                              2.77\n",
      "Cisco                                 4.135\n",
      "Pfizer                                2.727\n"
     ]
    }
   ],
   "source": [
    "from tabulate import tabulate\n",
    "print (tabulate(list_VaR, headers=[\"Stock\", \"Value at Risk in %\"]))"
   ]
  },
  {
   "cell_type": "code",
   "execution_count": 26,
   "metadata": {},
   "outputs": [],
   "source": [
    "## define function to combine multiple stocks as a portfolio, equally weighted ##\n",
    "## will return the daily returns of the portfolio with every stock weighted equally ##\n",
    "\n",
    "def portfolio(*args):\n",
    "        combined =[]\n",
    "        for i in args:\n",
    "            x =i*1/len(args)\n",
    "            combined.append(x)\n",
    "            y = sum(combined)\n",
    "            sorting(y)\n",
    "        return y\n",
    "        "
   ]
  },
  {
   "cell_type": "code",
   "execution_count": 176,
   "metadata": {},
   "outputs": [
    {
     "data": {
      "text/plain": [
       "Date\n",
       "2019-05-02   -0.007954\n",
       "2019-05-03    0.006895\n",
       "2019-05-06   -0.008577\n",
       "2019-05-07   -0.020376\n",
       "2019-05-08    0.000224\n",
       "                ...   \n",
       "2020-04-27    0.024160\n",
       "2020-04-28    0.002198\n",
       "2020-04-29    0.028609\n",
       "2020-04-30   -0.007855\n",
       "2020-05-01   -0.018526\n",
       "Name: Adj Close, Length: 253, dtype: float64"
      ]
     },
     "execution_count": 176,
     "metadata": {},
     "output_type": "execute_result"
    }
   ],
   "source": [
    "## example ##\n",
    "\n",
    "portfolio(mmm,apple, visa)"
   ]
  },
  {
   "cell_type": "code",
   "execution_count": 28,
   "metadata": {},
   "outputs": [],
   "source": [
    "## define function to check for subadditivity ##\n",
    "## will return boolean True or False ##\n",
    "\n",
    "def subadditive(quantile,*args):\n",
    "    sum_VaR = []\n",
    "    for i in args:\n",
    "         x = VaR(quantile,i)*1/len(args)\n",
    "         sum_VaR.append(x) \n",
    "         y= sum(sum_VaR)  \n",
    "       \n",
    "         \n",
    "    \n",
    "    \n",
    "    if y >= VaR(quantile,portfolio(*args)):\n",
    "        return True\n",
    "    else:\n",
    "        return False"
   ]
  },
  {
   "cell_type": "code",
   "execution_count": 29,
   "metadata": {},
   "outputs": [
    {
     "data": {
      "text/plain": [
       "True"
      ]
     },
     "execution_count": 29,
     "metadata": {},
     "output_type": "execute_result"
    }
   ],
   "source": [
    "## example ##\n",
    "subadditive(0.05, nike,disney)"
   ]
  },
  {
   "cell_type": "code",
   "execution_count": null,
   "metadata": {},
   "outputs": [],
   "source": []
  },
  {
   "cell_type": "code",
   "execution_count": 30,
   "metadata": {},
   "outputs": [],
   "source": [
    "## subadditivity random portfolios ##"
   ]
  },
  {
   "cell_type": "code",
   "execution_count": 31,
   "metadata": {},
   "outputs": [],
   "source": [
    "stoxx = dow_jones.keys()"
   ]
  },
  {
   "cell_type": "code",
   "execution_count": 32,
   "metadata": {},
   "outputs": [],
   "source": [
    "## we will randomly create 5 portfolios and check for subadditivity ##\n",
    "## the portfolios consist of a random rumber of stocks ##\n",
    "\n",
    "# number_random_portfolios = []\n",
    "# for x in range (0, 5):\n",
    "    # number_random_portfolios.append(random.randint(1, 29))"
   ]
  },
  {
   "cell_type": "code",
   "execution_count": 33,
   "metadata": {},
   "outputs": [],
   "source": [
    "## these are the numbers of stocks for every portfolio randomly generated ##\n",
    "\n",
    "number_random_portfolios = [11,24,3,3, 28]"
   ]
  },
  {
   "cell_type": "code",
   "execution_count": 34,
   "metadata": {},
   "outputs": [],
   "source": [
    "## for every portfolio, random stocks will be picked accordingly to the number of stocks generated above ##\n",
    "\n",
    "# random_portfolios = []\n",
    "# for x in number_random_portfolios:\n",
    "    #y = random.sample(stoxx,x)\n",
    "    #y = [each_string.lower() for each_string in y]\n",
    "    #random_portfolios.append(y)"
   ]
  },
  {
   "cell_type": "code",
   "execution_count": 35,
   "metadata": {},
   "outputs": [],
   "source": [
    "## portfolios were randommly generated ##\n",
    "random_portfolios = [['merck',\n",
    "  'dowinc',\n",
    "  'intel',\n",
    "  'ibm',\n",
    "  'cocacola',\n",
    "  'homedepot',\n",
    "  'nike',\n",
    "  'jpmorganchase',\n",
    "  'johnson&johnson',\n",
    "  'mcdonalds',\n",
    "  'procter&gamble'],\n",
    " ['pfizer',\n",
    "  'boeing',\n",
    "  'walmart',\n",
    "  'cisco',\n",
    "  'dowinc',\n",
    "  'nike',\n",
    "  'verizoncommunications',\n",
    "  'travelers',\n",
    "  'homedepot',\n",
    "  'cocacola',\n",
    "  'exxonmobil',\n",
    "  'unitedhealth',\n",
    "  'apple',\n",
    "  'americanexpress',\n",
    "  'procter&gamble',\n",
    "  'merck',\n",
    "  'visa',\n",
    "  'disney',\n",
    "  'goldmansachs',\n",
    "  'jpmorganchase',\n",
    "  'caterpillar',\n",
    "  '3m',\n",
    "  'ibm',\n",
    "  'walgreens'],\n",
    " ['boeing', 'caterpillar', 'walgreens'],\n",
    " ['walgreens', 'procter&gamble', 'pfizer'],\n",
    " ['visa',\n",
    "  'disney',\n",
    "  'johnson&johnson',\n",
    "  'mcdonalds',\n",
    "  'chevron',\n",
    "  'caterpillar',\n",
    "  'boeing',\n",
    "  'microsoft',\n",
    "  'homedepot',\n",
    "  'travelers',\n",
    "  'cocacola',\n",
    "  'merck',\n",
    "  'goldmansachs',\n",
    "  'intel',\n",
    "  'cisco',\n",
    "  'procter&gamble',\n",
    "  'jpmorganchase',\n",
    "  'walgreens',\n",
    "  'ibm',\n",
    "  '3m',\n",
    "  'americanexpress',\n",
    "  'pfizer',\n",
    "  'verizoncommunications',\n",
    "  'apple',\n",
    "  'exxonmobil',\n",
    "  'dowinc',\n",
    "  'unitedhealth',\n",
    "  'walmart']]"
   ]
  },
  {
   "cell_type": "code",
   "execution_count": 36,
   "metadata": {},
   "outputs": [],
   "source": [
    "## check random portfolios for subadditivity with 95% VaR ##"
   ]
  },
  {
   "cell_type": "code",
   "execution_count": 37,
   "metadata": {},
   "outputs": [
    {
     "data": {
      "text/plain": [
       "True"
      ]
     },
     "execution_count": 37,
     "metadata": {},
     "output_type": "execute_result"
    }
   ],
   "source": [
    "## random portfolio 1 ##\n",
    "\n",
    "subadditive(0.05, merck, dowinc, intel, ibm, cocacola, homedepot, nike, jpmorganchase, jandj,mcdonalds, \n",
    "            proctergamble)"
   ]
  },
  {
   "cell_type": "code",
   "execution_count": 38,
   "metadata": {},
   "outputs": [
    {
     "data": {
      "text/plain": [
       "True"
      ]
     },
     "execution_count": 38,
     "metadata": {},
     "output_type": "execute_result"
    }
   ],
   "source": [
    "## random portfolio 2 ##\n",
    "\n",
    "subadditive(0.05, pfizer, boeing, walmart, cisco, dowinc, nike, verizoncom, travelers, homedepot, cocacola, \n",
    "            exxonmobil, unitedhealth, apple, americanexpress, proctergamble, merck, visa, disney,\n",
    "            goldmansachs, jpmorganchase, caterpillar, mmm, ibm, walgreens)"
   ]
  },
  {
   "cell_type": "code",
   "execution_count": 39,
   "metadata": {},
   "outputs": [
    {
     "data": {
      "text/plain": [
       "True"
      ]
     },
     "execution_count": 39,
     "metadata": {},
     "output_type": "execute_result"
    }
   ],
   "source": [
    "## random portfolio 3 ##\n",
    "\n",
    "subadditive(0.05, boeing, caterpillar, walgreens)"
   ]
  },
  {
   "cell_type": "code",
   "execution_count": 40,
   "metadata": {},
   "outputs": [
    {
     "data": {
      "text/plain": [
       "True"
      ]
     },
     "execution_count": 40,
     "metadata": {},
     "output_type": "execute_result"
    }
   ],
   "source": [
    "## random portfolio 4 ##\n",
    "\n",
    "subadditive(0.05, walgreens, proctergamble, pfizer)"
   ]
  },
  {
   "cell_type": "code",
   "execution_count": 41,
   "metadata": {},
   "outputs": [
    {
     "data": {
      "text/plain": [
       "True"
      ]
     },
     "execution_count": 41,
     "metadata": {},
     "output_type": "execute_result"
    }
   ],
   "source": [
    "## random portfolio 5 ##\n",
    "subadditive(0.05, visa, disney, jandj, mcdonalds, chevron, caterpillar, boeing, microsoft, homedepot,\n",
    "            travelers, cocacola, merck, goldmansachs, intel, cisco, proctergamble, jpmorganchase,\n",
    "            walgreens, ibm, mmm, americanexpress, pfizer, verizoncom, apple, exxonmobil, dowinc,\n",
    "             unitedhealth, walmart)"
   ]
  },
  {
   "cell_type": "code",
   "execution_count": 42,
   "metadata": {},
   "outputs": [
    {
     "name": "stdout",
     "output_type": "stream",
     "text": [
      "+-----------+-------------------------------+-------------+\n",
      "| Portfolio | Number of stocks in portfolio | Subadditive |\n",
      "+-----------+-------------------------------+-------------+\n",
      "|     1     |               11              |     Yes     |\n",
      "|     2     |               24              |     Yes     |\n",
      "|     3     |               3               |     Yes     |\n",
      "|     4     |               3               |     Yes     |\n",
      "|     5     |               28              |     Yes     |\n",
      "+-----------+-------------------------------+-------------+\n"
     ]
    }
   ],
   "source": [
    "table_one = PrettyTable()\n",
    "table_one.field_names = ['Portfolio','Number of stocks in portfolio', 'Subadditive']\n",
    "table_one.add_row(['1',11, 'Yes'])\n",
    "table_one.add_row(['2',24, 'Yes'])\n",
    "table_one.add_row(['3',3, 'Yes'])\n",
    "table_one.add_row(['4',3, 'Yes'])\n",
    "table_one.add_row(['5',28, 'Yes'])\n",
    "print(table_one)"
   ]
  },
  {
   "cell_type": "code",
   "execution_count": 43,
   "metadata": {},
   "outputs": [],
   "source": [
    "## check random portfolios subadditive 99% VaR ## "
   ]
  },
  {
   "cell_type": "code",
   "execution_count": 44,
   "metadata": {},
   "outputs": [
    {
     "data": {
      "text/plain": [
       "True"
      ]
     },
     "execution_count": 44,
     "metadata": {},
     "output_type": "execute_result"
    }
   ],
   "source": [
    "## random portfolio 1 ##\n",
    "\n",
    "subadditive(0.01, merck, dowinc, intel, ibm, cocacola, homedepot, nike, jpmorganchase, jandj,mcdonalds, \n",
    "            proctergamble)"
   ]
  },
  {
   "cell_type": "code",
   "execution_count": 45,
   "metadata": {},
   "outputs": [
    {
     "data": {
      "text/plain": [
       "True"
      ]
     },
     "execution_count": 45,
     "metadata": {},
     "output_type": "execute_result"
    }
   ],
   "source": [
    "## random portfolio 2 ##\n",
    "\n",
    "subadditive(0.01, pfizer, boeing, walmart, cisco, dowinc, nike, verizoncom, travelers, homedepot, cocacola, \n",
    "            exxonmobil, unitedhealth, apple, americanexpress, proctergamble, merck, visa, disney,\n",
    "            goldmansachs, jpmorganchase, caterpillar, mmm, ibm, walgreens)"
   ]
  },
  {
   "cell_type": "code",
   "execution_count": 46,
   "metadata": {},
   "outputs": [
    {
     "data": {
      "text/plain": [
       "True"
      ]
     },
     "execution_count": 46,
     "metadata": {},
     "output_type": "execute_result"
    }
   ],
   "source": [
    "## random portfolio 3 ##\n",
    "\n",
    "subadditive(0.01, boeing, caterpillar, walgreens)"
   ]
  },
  {
   "cell_type": "code",
   "execution_count": 47,
   "metadata": {},
   "outputs": [
    {
     "data": {
      "text/plain": [
       "True"
      ]
     },
     "execution_count": 47,
     "metadata": {},
     "output_type": "execute_result"
    }
   ],
   "source": [
    "## random portfolio 4 ##\n",
    "\n",
    "subadditive(0.01, walgreens, proctergamble, pfizer)"
   ]
  },
  {
   "cell_type": "code",
   "execution_count": 48,
   "metadata": {},
   "outputs": [
    {
     "data": {
      "text/plain": [
       "True"
      ]
     },
     "execution_count": 48,
     "metadata": {},
     "output_type": "execute_result"
    }
   ],
   "source": [
    "## random portfolio 5 ##\n",
    "\n",
    "subadditive(0.01, visa, disney, jandj, mcdonalds, chevron, caterpillar, boeing, microsoft, homedepot,\n",
    "            travelers, cocacola, merck, goldmansachs, intel, cisco, proctergamble, jpmorganchase,\n",
    "            walgreens, ibm, mmm, americanexpress, pfizer, verizoncom, apple, exxonmobil, dowinc,\n",
    "             unitedhealth, walmart)"
   ]
  },
  {
   "cell_type": "code",
   "execution_count": 49,
   "metadata": {},
   "outputs": [
    {
     "name": "stdout",
     "output_type": "stream",
     "text": [
      "+-----------+-------------------------------+-------------+\n",
      "| Portfolio | Number of stocks in portfolio | Subadditive |\n",
      "+-----------+-------------------------------+-------------+\n",
      "|     1     |               11              |     Yes     |\n",
      "|     2     |               24              |     Yes     |\n",
      "|     3     |               3               |     yes     |\n",
      "|     4     |               3               |     Yes     |\n",
      "|     5     |               28              |     Yes     |\n",
      "+-----------+-------------------------------+-------------+\n"
     ]
    }
   ],
   "source": [
    "table_two = PrettyTable()\n",
    "table_two.field_names = ['Portfolio','Number of stocks in portfolio', 'Subadditive']\n",
    "table_two.add_row(['1',11, 'Yes'])\n",
    "table_two.add_row(['2',24, 'Yes'])\n",
    "table_two.add_row(['3',3, 'yes'])\n",
    "table_two.add_row(['4',3, 'Yes'])\n",
    "table_two.add_row(['5',28, 'Yes'])\n",
    "print(table_two)"
   ]
  },
  {
   "cell_type": "code",
   "execution_count": 50,
   "metadata": {},
   "outputs": [],
   "source": [
    "## counting the violations of subadditivity ##"
   ]
  },
  {
   "cell_type": "code",
   "execution_count": 51,
   "metadata": {},
   "outputs": [],
   "source": [
    "import itertools\n",
    "from itertools import combinations"
   ]
  },
  {
   "cell_type": "code",
   "execution_count": 52,
   "metadata": {},
   "outputs": [],
   "source": [
    "## we first chose 15 random stocks and then check all their combinations for violations of subadditivity ##\n",
    "\n",
    "list_dow_jones = list(stoxx)\n",
    "# random.sample(list_dow_jones, 15)"
   ]
  },
  {
   "cell_type": "code",
   "execution_count": 53,
   "metadata": {},
   "outputs": [],
   "source": [
    "result_random = [mmm, walgreens, americanexpress, disney, dowinc, travelers, walmart, nike, visa,\n",
    "                 merck, mcdonalds, caterpillar, unitedhealth, ibm, boeing]"
   ]
  },
  {
   "cell_type": "code",
   "execution_count": 54,
   "metadata": {},
   "outputs": [
    {
     "data": {
      "text/plain": [
       "32752"
      ]
     },
     "execution_count": 54,
     "metadata": {},
     "output_type": "execute_result"
    }
   ],
   "source": [
    "## this is the number of all possible combinations of portfolios which include more than one stock ##\n",
    "\n",
    "all_combinations = []\n",
    "for r in range(len(result_random) + 1):\n",
    "    combinations_object = itertools.combinations(result_random, r)\n",
    "    combinations_list = list(combinations_object)\n",
    "    all_combinations += combinations_list\n",
    "all_combinations = [x for x in all_combinations if len(x) > 1]\n",
    "len(all_combinations)"
   ]
  },
  {
   "cell_type": "code",
   "execution_count": 55,
   "metadata": {},
   "outputs": [],
   "source": [
    "## define function to count the violations ##\n",
    "\n",
    "def number_violations(quantile, list_stocks_portfolio):\n",
    "    \n",
    "    all_combinations = []\n",
    "    for r in range(len(list_stocks_portfolio) + 1):\n",
    "        combinations_object = itertools.combinations(list_stocks_portfolio, r)\n",
    "        combinations_list = list(combinations_object)\n",
    "        all_combinations += combinations_list\n",
    "    all_combinations = [x for x in all_combinations if len(x) > 1]\n",
    "    all_combinations = [list(elem) for elem in all_combinations] \n",
    "    checked_subadditive = [subadditive(quantile,*element) for element in all_combinations]\n",
    "    return checked_subadditive.count(False)"
   ]
  },
  {
   "cell_type": "code",
   "execution_count": 56,
   "metadata": {},
   "outputs": [],
   "source": [
    "# %%time\n",
    "# number_violations(0.05, result_random)"
   ]
  },
  {
   "cell_type": "code",
   "execution_count": 57,
   "metadata": {},
   "outputs": [],
   "source": [
    "## the number of violations is saved here because of the computing time ##\n",
    "## computing time: 9min 13s ##\n",
    "\n",
    "violations_95 = 19"
   ]
  },
  {
   "cell_type": "code",
   "execution_count": 58,
   "metadata": {},
   "outputs": [],
   "source": [
    "# %%time\n",
    "# number_violations(0.01, result_random)"
   ]
  },
  {
   "cell_type": "code",
   "execution_count": 59,
   "metadata": {},
   "outputs": [],
   "source": [
    "## the number of violations is saved here because of the computing time ##\n",
    "## computing time: 9min 40s ##\n",
    "\n",
    "violations_99 = 215"
   ]
  },
  {
   "cell_type": "code",
   "execution_count": 60,
   "metadata": {},
   "outputs": [
    {
     "name": "stdout",
     "output_type": "stream",
     "text": [
      "+------------------+----------------------+\n",
      "| Confidence level | number of violations |\n",
      "+------------------+----------------------+\n",
      "|     95% VaR      |          19          |\n",
      "|     99% VaR      |         215          |\n",
      "+------------------+----------------------+\n"
     ]
    }
   ],
   "source": [
    "table_three = PrettyTable()\n",
    "table_three.field_names = ['Confidence level','number of violations']\n",
    "table_three.add_row(['95% VaR', 19])\n",
    "table_three.add_row(['99% VaR', 215])\n",
    "print(table_three)"
   ]
  },
  {
   "cell_type": "code",
   "execution_count": null,
   "metadata": {},
   "outputs": [],
   "source": []
  },
  {
   "cell_type": "code",
   "execution_count": null,
   "metadata": {},
   "outputs": [],
   "source": []
  },
  {
   "cell_type": "code",
   "execution_count": 61,
   "metadata": {},
   "outputs": [],
   "source": [
    "## Monte Carlo Simulation ##"
   ]
  },
  {
   "cell_type": "code",
   "execution_count": 62,
   "metadata": {},
   "outputs": [],
   "source": [
    "## define function to get only the stock data ##\n",
    "\n",
    "def get_only_data(stock):\n",
    "    stock = reader.get_data_yahoo(stock,start,end)['Adj Close']\n",
    "    return stock.round(2)"
   ]
  },
  {
   "cell_type": "code",
   "execution_count": 63,
   "metadata": {},
   "outputs": [],
   "source": [
    "boeing_data = get_only_data('BA')\n",
    "unitedhealth_data = get_only_data('UNH')\n",
    "goldmansachs_data = get_only_data('GS')\n",
    "homedepot_data = get_only_data('HD')\n",
    "mmm_data = get_only_data('MMM')\n",
    "apple_data = get_only_data('AAPL')\n",
    "mcdonalds_data = get_only_data('MCD')\n",
    "ibm_data = get_only_data('IBM')\n",
    "caterpillar_data = get_only_data('CAT')\n",
    "visa_data = get_only_data('V')\n",
    "travelers_data = get_only_data('TRV')\n",
    "chevron_data = get_only_data('CVX')\n",
    "jandj_data = get_only_data('JNJ')\n",
    "jpmorganchase_data = get_only_data('JPM')\n",
    "disney_data = get_only_data('DIS')\n",
    "americanexpress_data = get_only_data('AXP')\n",
    "microsoft_data = get_only_data('MSFT')\n",
    "walmart_data = get_only_data('WMT')\n",
    "exxonmobil_data = get_only_data('XOM')\n",
    "proctergamble_data = get_only_data('PG')\n",
    "nike_data = get_only_data('NKE')\n",
    "walgreens_data = get_only_data('WBA')\n",
    "dowinc_data = get_only_data('DOW')\n",
    "merck_data = get_only_data('MRK')\n",
    "intel_data = get_only_data('INTC')\n",
    "verizoncom_data = get_only_data('VZ')\n",
    "cocacola_data = get_only_data('KO')\n",
    "cisco_data = get_only_data('CSCO')\n",
    "pfizer_data = get_only_data('PFE')"
   ]
  },
  {
   "cell_type": "code",
   "execution_count": 74,
   "metadata": {},
   "outputs": [],
   "source": [
    "## define function to get log returns ##\n",
    "\n",
    "def get_changes_log(stock_data):\n",
    "    \n",
    "    changes =[]\n",
    "    stock_data = pd.Series(stock_data)\n",
    "    changes = np.log(stock_data/stock_data[0])\n",
    "    changes = pd.Series(changes)\n",
    "    changes = changes.iloc[1:]\n",
    "    return changes"
   ]
  },
  {
   "cell_type": "code",
   "execution_count": 75,
   "metadata": {},
   "outputs": [],
   "source": [
    "## define function to perform a monate carlo simulation of stock returns ##\n",
    "## 10,000 different prices for every stock will be simulated ##\n",
    "## Brownian motion is used for the simulation ##\n",
    "## we simulate one price for the next day and do that 10,000 times ##\n",
    "\n",
    "def monte_carlo_data(stock,stock_data):\n",
    "    u = stock.mean()\n",
    "    var = stock.var()\n",
    "    drift = u - (0.5*var)\n",
    "    stdev = stock.std()\n",
    "    days = 2\n",
    "    trials = 10000\n",
    "    Z = norm.ppf(np.random.rand(days, trials)) \n",
    "    daily_returns = np.exp(drift + stdev * Z)\n",
    "    \n",
    "    price_paths = np.zeros_like(daily_returns)\n",
    "    price_paths[0] = stock_data.iloc[0]\n",
    "    for t in range(1, days):\n",
    "        price_paths[t] = price_paths[t-1]*daily_returns[t]\n",
    "    simulated = price_paths.tolist()\n",
    "    simulated_prices =simulated[1]\n",
    "    return simulated_prices"
   ]
  },
  {
   "cell_type": "code",
   "execution_count": 149,
   "metadata": {},
   "outputs": [],
   "source": [
    "## prices will be randomly simulated here ##\n",
    "\n",
    "boeing_mc = monte_carlo_data(boeing,boeing_data)\n",
    "unitedhealth_mc = monte_carlo_data(unitedhealth,unitedhealth_data)\n",
    "goldmansachs_mc = monte_carlo_data(goldmansachs,goldmansachs_data)\n",
    "homedepot_mc = monte_carlo_data(homedepot,homedepot_data)\n",
    "mmm_mc = monte_carlo_data(mmm,mmm_data)\n",
    "apple_mc = monte_carlo_data(apple,apple_data)\n",
    "mcdonalds_mc = monte_carlo_data(mcdonalds,mcdonalds_data)\n",
    "ibm_mc = monte_carlo_data(ibm,ibm_data)\n",
    "caterpillar_mc = monte_carlo_data(caterpillar,caterpillar_data)\n",
    "visa_mc = monte_carlo_data(visa,visa_data)\n",
    "travelers_mc = monte_carlo_data(travelers,travelers_data)\n",
    "chevron_mc = monte_carlo_data(chevron,chevron_data)\n",
    "jandj_mc = monte_carlo_data(jandj,jandj_data)\n",
    "jpmorganchase_mc = monte_carlo_data(jpmorganchase,jpmorganchase_data)\n",
    "disney_mc = monte_carlo_data(disney,disney_data)\n",
    "americanexpress_mc = monte_carlo_data(americanexpress,americanexpress_data)\n",
    "microsoft_mc = monte_carlo_data(microsoft,microsoft_data)\n",
    "walmart_mc = monte_carlo_data(walmart,walmart_data)\n",
    "exxonmobil_mc = monte_carlo_data(exxonmobil,exxonmobil_data)\n",
    "proctergamble_mc = monte_carlo_data(proctergamble,proctergamble_data)\n",
    "nike_mc = monte_carlo_data(nike,nike_data)\n",
    "walgreens_mc = monte_carlo_data(walgreens,walgreens_data)\n",
    "dowinc_mc = monte_carlo_data(dowinc,dowinc_data)\n",
    "merck_mc = monte_carlo_data(merck,merck_data)\n",
    "intel_mc = monte_carlo_data(intel,intel_data)\n",
    "verizoncom_mc = monte_carlo_data(verizoncom,verizoncom_data)\n",
    "cocacola_mc = monte_carlo_data(cocacola,cocacola_data)\n",
    "cisco_mc = monte_carlo_data(cisco,cisco_data)\n",
    "pfizer_mc = monte_carlo_data(pfizer,pfizer_data)"
   ]
  },
  {
   "cell_type": "code",
   "execution_count": 150,
   "metadata": {},
   "outputs": [],
   "source": [
    "## saving log returns as variables ##\n",
    "\n",
    "boeing_mc_changes_log = get_changes_log(boeing_mc)\n",
    "unitedhealth_mc_changes_log = get_changes_log(unitedhealth_mc)\n",
    "goldmansachs_mc_changes_log = get_changes_log(goldmansachs_mc)\n",
    "homedepot_mc_changes_log = get_changes_log(homedepot_mc)\n",
    "mmm_mc_changes_log = get_changes_log(mmm_mc)\n",
    "apple_mc_changes_log = get_changes_log(apple_mc)\n",
    "mcdonalds_mc_changes_log = get_changes_log(mcdonalds_mc)\n",
    "ibm_mc_changes_log = get_changes_log(ibm_mc)\n",
    "caterpillar_mc_changes_log = get_changes_log(caterpillar_mc)\n",
    "visa_mc_changes_log = get_changes_log(visa_mc)\n",
    "travelers_mc_changes_log = get_changes_log(travelers_mc)\n",
    "chevron_mc_changes_log = get_changes_log(chevron_mc)\n",
    "jandj_mc_changes_log = get_changes_log(jandj_mc)\n",
    "jpmorganchase_mc_changes_log = get_changes_log(jpmorganchase_mc)\n",
    "disney_mc_changes_log = get_changes_log(disney_mc)\n",
    "americanexpress_mc_changes_log = get_changes_log(americanexpress_mc)\n",
    "microsoft_mc_changes_log = get_changes_log(microsoft_mc)\n",
    "walmart_mc_changes_log = get_changes_log(walmart_mc)\n",
    "exxonmobil_mc_changes_log = get_changes_log(exxonmobil_mc)\n",
    "proctergamble_mc_changes_log = get_changes_log(proctergamble_mc)\n",
    "nike_mc_changes_log = get_changes_log(nike_mc)\n",
    "walgreens_mc_changes_log = get_changes_log(walgreens_mc)\n",
    "dowinc_mc_changes_log = get_changes_log(dowinc_mc)\n",
    "merck_mc_changes_log = get_changes_log(merck_mc)\n",
    "intel_mc_changes_log = get_changes_log(intel_mc)\n",
    "verizoncom_mc_changes_log = get_changes_log(verizoncom_mc)\n",
    "cocacola_mc_changes_log = get_changes_log(cocacola_mc)\n",
    "cisco_mc_changes_log = get_changes_log(cisco_mc)\n",
    "pfizer_mc_changes_log = get_changes_log(pfizer_mc)"
   ]
  },
  {
   "cell_type": "code",
   "execution_count": 151,
   "metadata": {},
   "outputs": [
    {
     "data": {
      "text/plain": [
       "<matplotlib.axes._subplots.AxesSubplot at 0x7fe0945363d0>"
      ]
     },
     "execution_count": 151,
     "metadata": {},
     "output_type": "execute_result"
    },
    {
     "data": {
      "image/png": "[encoded data removed]",
      "text/plain": [
       "<Figure size 432x288 with 1 Axes>"
      ]
     },
     "metadata": {
      "needs_background": "light"
     },
     "output_type": "display_data"
    }
   ],
   "source": [
    "## example simulated visa returns ##\n",
    "\n",
    "visa_mc_changes_log.hist(bins =40, normed = True, histtype = 'stepfilled', alpha = 0.8)"
   ]
  },
  {
   "cell_type": "code",
   "execution_count": 152,
   "metadata": {},
   "outputs": [],
   "source": [
    "list_mc_log = [boeing_mc_changes_log,unitedhealth_mc_changes_log, goldmansachs_mc_changes_log, homedepot_mc_changes_log, \n",
    "          mmm_mc_changes_log, apple_mc_changes_log, mcdonalds_mc_changes_log, ibm_mc_changes_log, \n",
    "        caterpillar_mc_changes_log,visa_mc_changes_log, travelers_mc_changes_log, chevron_mc_changes_log,\n",
    "        jandj_mc_changes_log, jpmorganchase_mc_changes_log,disney_mc_changes_log, americanexpress_mc_changes_log,\n",
    "        microsoft_mc_changes_log, walmart_mc_changes_log,exxonmobil_mc_changes_log, proctergamble_mc_changes_log,\n",
    "        nike_mc_changes_log, walgreens_mc_changes_log, dowinc_mc_changes_log, merck_mc_changes_log,\n",
    "        intel_mc_changes_log, verizoncom_mc_changes_log, cocacola_mc_changes_log, cisco_mc_changes_log, pfizer_mc_changes_log]"
   ]
  },
  {
   "cell_type": "code",
   "execution_count": 153,
   "metadata": {},
   "outputs": [],
   "source": [
    "VaR_mc = []\n",
    "for i in list_mc_log:\n",
    "    x = VaR(0.05,i)\n",
    "    VaR_mc.append(x)"
   ]
  },
  {
   "cell_type": "code",
   "execution_count": 154,
   "metadata": {},
   "outputs": [],
   "source": [
    "dow_jones_VaR95_mc = list(dow_jones_VaR95.keys())\n",
    "dow_jones_VaR95_mc = dict(zip(dow_jones_VaR95_mc, VaR_mc))"
   ]
  },
  {
   "cell_type": "code",
   "execution_count": 155,
   "metadata": {},
   "outputs": [],
   "source": [
    "for key in dow_jones_VaR95_mc:\n",
    "    dow_jones_VaR95_mc[key] = dow_jones_VaR95_mc[key] * 100"
   ]
  },
  {
   "cell_type": "code",
   "execution_count": 156,
   "metadata": {},
   "outputs": [],
   "source": [
    "dow_jones_VaR95_mc = {k: round(v, 3) for k, v in dow_jones_VaR95_mc.items()}"
   ]
  },
  {
   "cell_type": "code",
   "execution_count": 157,
   "metadata": {},
   "outputs": [],
   "source": [
    "list_VaR_mc = dict.items(dow_jones_VaR95_mc)"
   ]
  },
  {
   "cell_type": "code",
   "execution_count": 158,
   "metadata": {},
   "outputs": [
    {
     "name": "stdout",
     "output_type": "stream",
     "text": [
      "Stock                    Value at Risk in %\n",
      "---------------------  --------------------\n",
      "Boeing                                2.5\n",
      "UnitedHealth                          3.27\n",
      "GoldmanSachs                          1.89\n",
      "HomeDepot                             5.014\n",
      "3M                                    4.272\n",
      "Apple                                 6.76\n",
      "McDonalds                             3.58\n",
      "IBM                                   3.146\n",
      "Caterpillar                           5.504\n",
      "Visa                                  4.378\n",
      "Travelers                             5.409\n",
      "Chevron                               1.704\n",
      "Johnson&Johnson                       5.468\n",
      "JPMorganChase                         1.093\n",
      "Disney                                0.978\n",
      "AmericanExpress                       4.721\n",
      "Microsoft                             4.171\n",
      "Walmart                               4.686\n",
      "ExxonMobil                            6.047\n",
      "Procter&Gamble                        2.329\n",
      "Nike                                  4.681\n",
      "Walgreens                             2.966\n",
      "DowInc                                7.063\n",
      "Merck                                 3.128\n",
      "Intel                                 3.043\n",
      "VerizonCommunications                 3.071\n",
      "CocaCola                              3.838\n",
      "Cisco                                 7.697\n",
      "Pfizer                                7.84\n"
     ]
    }
   ],
   "source": [
    "from tabulate import tabulate\n",
    "print (tabulate(list_VaR_mc, headers=[\"Stock\", \"Value at Risk in %\"]))"
   ]
  },
  {
   "cell_type": "code",
   "execution_count": 87,
   "metadata": {},
   "outputs": [],
   "source": [
    "## test for subadditivity ##\n",
    "## random portfolios ##"
   ]
  },
  {
   "cell_type": "code",
   "execution_count": 88,
   "metadata": {},
   "outputs": [],
   "source": []
  },
  {
   "cell_type": "code",
   "execution_count": 89,
   "metadata": {},
   "outputs": [],
   "source": [
    "## again 5 portfolios will be randomly generated with a random number of stocks in every portfolio ##\n",
    "\n",
    "# number_random_portfolios_mc = []\n",
    "# for x in range (0, 5):\n",
    "        # number_random_portfolios_mc.append(random.randint(1, 29))"
   ]
  },
  {
   "cell_type": "code",
   "execution_count": 92,
   "metadata": {},
   "outputs": [],
   "source": [
    "number_random_portfolios_mc = [13, 3, 8, 7, 15]"
   ]
  },
  {
   "cell_type": "code",
   "execution_count": 95,
   "metadata": {},
   "outputs": [],
   "source": [
    "# random_portfolios_mc = []\n",
    "# for x in number_random_portfolios_mc:\n",
    "    # y = random.sample(stoxx,x)\n",
    "    # y = [each_string.lower() for each_string in y]\n",
    "    # random_portfolios_mc.append(y)"
   ]
  },
  {
   "cell_type": "code",
   "execution_count": 96,
   "metadata": {},
   "outputs": [],
   "source": [
    "random_portfolios_mc = [['apple',\n",
    "  'exxonmobil',\n",
    "  'americanexpress',\n",
    "  'travelers',\n",
    "  'walmart',\n",
    "  'verizoncommunications',\n",
    "  'microsoft',\n",
    "  'jpmorganchase',\n",
    "  'walgreens',\n",
    "  'merck',\n",
    "  'ibm',\n",
    "  '3m',\n",
    "  'homedepot'],\n",
    " ['apple', 'cocacola', 'merck'],\n",
    " ['intel',\n",
    "  'jpmorganchase',\n",
    "  'merck',\n",
    "  'walmart',\n",
    "  'ibm',\n",
    "  'nike',\n",
    "  'microsoft',\n",
    "  'dowinc'],\n",
    " ['exxonmobil',\n",
    "  '3m',\n",
    "  'chevron',\n",
    "  'microsoft',\n",
    "  'homedepot',\n",
    "  'travelers',\n",
    "  'procter&gamble'],\n",
    " ['3m',\n",
    "  'apple',\n",
    "  'boeing',\n",
    "  'cisco',\n",
    "  'nike',\n",
    "  'unitedhealth',\n",
    "  'goldmansachs',\n",
    "  'microsoft',\n",
    "  'visa',\n",
    "  'merck',\n",
    "  'mcdonalds',\n",
    "  'ibm',\n",
    "  'exxonmobil',\n",
    "  'procter&gamble',\n",
    "  'verizoncommunications']]"
   ]
  },
  {
   "cell_type": "code",
   "execution_count": 97,
   "metadata": {},
   "outputs": [],
   "source": [
    "## 95% subadditive ##"
   ]
  },
  {
   "cell_type": "code",
   "execution_count": 159,
   "metadata": {},
   "outputs": [
    {
     "data": {
      "text/plain": [
       "True"
      ]
     },
     "execution_count": 159,
     "metadata": {},
     "output_type": "execute_result"
    }
   ],
   "source": [
    "## random portfolio 1 ##\n",
    "\n",
    "subadditive(0.05, apple_mc_changes_log, exxonmobil_mc_changes_log, americanexpress_mc_changes_log, travelers_mc_changes_log,\n",
    "            walmart_mc_changes_log, verizoncom_mc_changes_log, microsoft_mc_changes_log, jpmorganchase_mc_changes_log,\n",
    "            walgreens_mc_changes_log, merck_mc_changes_log, ibm_mc_changes_log, mmm_mc_changes_log, homedepot_mc_changes_log)"
   ]
  },
  {
   "cell_type": "code",
   "execution_count": 160,
   "metadata": {},
   "outputs": [
    {
     "data": {
      "text/plain": [
       "True"
      ]
     },
     "execution_count": 160,
     "metadata": {},
     "output_type": "execute_result"
    }
   ],
   "source": [
    "## random portfolio 2 ##\n",
    "\n",
    "subadditive(0.05, apple_mc_changes_log, cocacola_mc_changes_log, merck_mc_changes_log)"
   ]
  },
  {
   "cell_type": "code",
   "execution_count": 161,
   "metadata": {},
   "outputs": [
    {
     "data": {
      "text/plain": [
       "True"
      ]
     },
     "execution_count": 161,
     "metadata": {},
     "output_type": "execute_result"
    }
   ],
   "source": [
    "## random portfolio 3 ##\n",
    "\n",
    "subadditive(0.05, intel_mc_changes_log, jpmorganchase_mc_changes_log, merck_mc_changes_log, walmart_mc_changes_log,\n",
    "            ibm_mc_changes_log, nike_mc_changes_log, microsoft_mc_changes_log, dowinc_mc_changes_log)"
   ]
  },
  {
   "cell_type": "code",
   "execution_count": 162,
   "metadata": {},
   "outputs": [
    {
     "data": {
      "text/plain": [
       "True"
      ]
     },
     "execution_count": 162,
     "metadata": {},
     "output_type": "execute_result"
    }
   ],
   "source": [
    "## random portfolio 4 ##\n",
    "\n",
    "subadditive(0.05, exxonmobil_mc_changes_log, mmm_mc_changes_log, chevron_mc_changes_log, microsoft_mc_changes_log,\n",
    "            homedepot_mc_changes_log, travelers_mc_changes_log, proctergamble_mc_changes_log)"
   ]
  },
  {
   "cell_type": "code",
   "execution_count": 163,
   "metadata": {},
   "outputs": [
    {
     "data": {
      "text/plain": [
       "True"
      ]
     },
     "execution_count": 163,
     "metadata": {},
     "output_type": "execute_result"
    }
   ],
   "source": [
    "## random portfolio 5 ##\n",
    "\n",
    "subadditive(0.05, mmm_mc_changes_log, apple_mc_changes_log, boeing_mc_changes_log, cisco_mc_changes_log, nike_mc_changes_log,\n",
    "            unitedhealth_mc_changes_log, goldmansachs_mc_changes_log, microsoft_mc_changes_log, visa_mc_changes_log,\n",
    "            merck_mc_changes_log, mcdonalds_mc_changes_log, ibm_mc_changes_log, exxonmobil_mc_changes_log,\n",
    "            proctergamble_mc_changes_log, verizoncom_mc_changes_log)"
   ]
  },
  {
   "cell_type": "code",
   "execution_count": 164,
   "metadata": {},
   "outputs": [
    {
     "name": "stdout",
     "output_type": "stream",
     "text": [
      "+-----------+-------------------------------+-------------+\n",
      "| Portfolio | Number of stocks in portfolio | Subadditive |\n",
      "+-----------+-------------------------------+-------------+\n",
      "|     1     |               13              |     Yes     |\n",
      "|     2     |               3               |     Yes     |\n",
      "|     3     |               8               |     Yes     |\n",
      "|     4     |               7               |     Yes     |\n",
      "|     5     |               15              |     Yes     |\n",
      "+-----------+-------------------------------+-------------+\n"
     ]
    }
   ],
   "source": [
    "table_four = PrettyTable()\n",
    "table_four.field_names = ['Portfolio','Number of stocks in portfolio', 'Subadditive']\n",
    "table_four.add_row(['1',13, 'Yes'])\n",
    "table_four.add_row(['2',3, 'Yes'])\n",
    "table_four.add_row(['3',8, 'Yes'])\n",
    "table_four.add_row(['4',7, 'Yes'])\n",
    "table_four.add_row(['5',15, 'Yes'])\n",
    "print(table_four)"
   ]
  },
  {
   "cell_type": "code",
   "execution_count": 104,
   "metadata": {},
   "outputs": [],
   "source": [
    "## 99% subadditive ##"
   ]
  },
  {
   "cell_type": "code",
   "execution_count": 165,
   "metadata": {},
   "outputs": [
    {
     "data": {
      "text/plain": [
       "True"
      ]
     },
     "execution_count": 165,
     "metadata": {},
     "output_type": "execute_result"
    }
   ],
   "source": [
    "## random portfolio 1 ##\n",
    "\n",
    "subadditive(0.01, apple_mc_changes_log, exxonmobil_mc_changes_log, americanexpress_mc_changes_log, travelers_mc_changes_log,\n",
    "            walmart_mc_changes_log, verizoncom_mc_changes_log, microsoft_mc_changes_log, jpmorganchase_mc_changes_log,\n",
    "            walgreens_mc_changes_log, merck_mc_changes_log, ibm_mc_changes_log, mmm_mc_changes_log, homedepot_mc_changes_log)"
   ]
  },
  {
   "cell_type": "code",
   "execution_count": 166,
   "metadata": {},
   "outputs": [
    {
     "data": {
      "text/plain": [
       "True"
      ]
     },
     "execution_count": 166,
     "metadata": {},
     "output_type": "execute_result"
    }
   ],
   "source": [
    "## random portfolio 2 ##\n",
    "\n",
    "subadditive(0.01, apple_mc_changes_log, cocacola_mc_changes_log, merck_mc_changes_log)\n",
    "\n"
   ]
  },
  {
   "cell_type": "code",
   "execution_count": 167,
   "metadata": {},
   "outputs": [
    {
     "data": {
      "text/plain": [
       "True"
      ]
     },
     "execution_count": 167,
     "metadata": {},
     "output_type": "execute_result"
    }
   ],
   "source": [
    "## random portfolio 3 ##\n",
    "\n",
    "subadditive(0.01, intel_mc_changes_log, jpmorganchase_mc_changes_log, merck_mc_changes_log, walmart_mc_changes_log,\n",
    "            ibm_mc_changes_log, nike_mc_changes_log, microsoft_mc_changes_log, dowinc_mc_changes_log)"
   ]
  },
  {
   "cell_type": "code",
   "execution_count": 168,
   "metadata": {},
   "outputs": [
    {
     "data": {
      "text/plain": [
       "True"
      ]
     },
     "execution_count": 168,
     "metadata": {},
     "output_type": "execute_result"
    }
   ],
   "source": [
    "## random portfolio 4 ##\n",
    "\n",
    "subadditive(0.01, exxonmobil_mc_changes_log, mmm_mc_changes_log, chevron_mc_changes_log, microsoft_mc_changes_log,\n",
    "            homedepot_mc_changes_log, travelers_mc_changes_log, proctergamble_mc_changes_log)"
   ]
  },
  {
   "cell_type": "code",
   "execution_count": 169,
   "metadata": {},
   "outputs": [
    {
     "data": {
      "text/plain": [
       "True"
      ]
     },
     "execution_count": 169,
     "metadata": {},
     "output_type": "execute_result"
    }
   ],
   "source": [
    "## random portfolio 5 ##\n",
    "\n",
    "subadditive(0.01, mmm_mc_changes_log, apple_mc_changes_log, boeing_mc_changes_log, cisco_mc_changes_log, nike_mc_changes_log,\n",
    "            unitedhealth_mc_changes_log, goldmansachs_mc_changes_log, microsoft_mc_changes_log, visa_mc_changes_log,\n",
    "            merck_mc_changes_log, mcdonalds_mc_changes_log, ibm_mc_changes_log, exxonmobil_mc_changes_log,\n",
    "            proctergamble_mc_changes_log, verizoncom_mc_changes_log)"
   ]
  },
  {
   "cell_type": "code",
   "execution_count": 170,
   "metadata": {},
   "outputs": [
    {
     "name": "stdout",
     "output_type": "stream",
     "text": [
      "+-----------+-------------------------------+-------------+\n",
      "| Portfolio | Number of stocks in portfolio | Subadditive |\n",
      "+-----------+-------------------------------+-------------+\n",
      "|     1     |               13              |     Yes     |\n",
      "|     2     |               3               |     Yes     |\n",
      "|     3     |               8               |     Yes     |\n",
      "|     4     |               7               |     Yes     |\n",
      "|     5     |               15              |     Yes     |\n",
      "+-----------+-------------------------------+-------------+\n"
     ]
    }
   ],
   "source": [
    "table_five = PrettyTable()\n",
    "table_five.field_names = ['Portfolio','Number of stocks in portfolio', 'Subadditive']\n",
    "table_five.add_row(['1',13, 'Yes'])\n",
    "table_five.add_row(['2',3, 'Yes'])\n",
    "table_five.add_row(['3',8, 'Yes'])\n",
    "table_five.add_row(['4',7, 'Yes'])\n",
    "table_five.add_row(['5',15, 'Yes'])\n",
    "print(table_five)"
   ]
  },
  {
   "cell_type": "code",
   "execution_count": 111,
   "metadata": {},
   "outputs": [],
   "source": [
    "## subadditivity violations ##"
   ]
  },
  {
   "cell_type": "code",
   "execution_count": 112,
   "metadata": {},
   "outputs": [],
   "source": [
    "## chose 15 random portfolios ##\n",
    "\n",
    "# list_dow_jones = list(stoxx)\n",
    "# random.sample(list_dow_jones, 15)"
   ]
  },
  {
   "cell_type": "code",
   "execution_count": 113,
   "metadata": {},
   "outputs": [],
   "source": [
    "result_random_mc =[intel, jandj, apple, mmm, visa, caterpillar, merck, mcdonalds, dowinc,\n",
    "                   exxonmobil, goldmansachs, jpmorganchase, travelers, walmart, verizoncom]\n",
    " "
   ]
  },
  {
   "cell_type": "code",
   "execution_count": 114,
   "metadata": {},
   "outputs": [],
   "source": [
    "# 95% violations"
   ]
  },
  {
   "cell_type": "code",
   "execution_count": 173,
   "metadata": {},
   "outputs": [
    {
     "name": "stdout",
     "output_type": "stream",
     "text": [
      "CPU times: user 9min 59s, sys: 3.19 s, total: 10min 2s\n",
      "Wall time: 10min 7s\n"
     ]
    },
    {
     "data": {
      "text/plain": [
       "28"
      ]
     },
     "execution_count": 173,
     "metadata": {},
     "output_type": "execute_result"
    }
   ],
   "source": [
    "# %%time\n",
    "# number_violations(0.05, result_random_mc)"
   ]
  },
  {
   "cell_type": "code",
   "execution_count": 116,
   "metadata": {},
   "outputs": [],
   "source": [
    "## the number of violations is saved here because of the computing time ##\n",
    "## computing time: 10min 7s ##\n",
    "\n",
    "violation_95_mc = 28"
   ]
  },
  {
   "cell_type": "code",
   "execution_count": 117,
   "metadata": {},
   "outputs": [],
   "source": [
    "## 99% violations ##"
   ]
  },
  {
   "cell_type": "code",
   "execution_count": 175,
   "metadata": {},
   "outputs": [
    {
     "name": "stdout",
     "output_type": "stream",
     "text": [
      "CPU times: user 9min 53s, sys: 2.77 s, total: 9min 56s\n",
      "Wall time: 9min 59s\n"
     ]
    },
    {
     "data": {
      "text/plain": [
       "568"
      ]
     },
     "execution_count": 175,
     "metadata": {},
     "output_type": "execute_result"
    }
   ],
   "source": [
    "# %%time\n",
    "# number_violations(0.01, result_random_mc)"
   ]
  },
  {
   "cell_type": "code",
   "execution_count": 119,
   "metadata": {},
   "outputs": [],
   "source": [
    "## the number of violations is saved here because of the computing time ##\n",
    "## computing time: 9min 59s ##\n",
    "\n",
    "violation_99_mc = 568"
   ]
  },
  {
   "cell_type": "code",
   "execution_count": 120,
   "metadata": {},
   "outputs": [
    {
     "name": "stdout",
     "output_type": "stream",
     "text": [
      "+------------------+----------------------+\n",
      "| Confidence level | number of violations |\n",
      "+------------------+----------------------+\n",
      "|     95% VaR      |          28          |\n",
      "|     99% VaR      |         568          |\n",
      "+------------------+----------------------+\n"
     ]
    }
   ],
   "source": [
    "table_six = PrettyTable()\n",
    "table_six.field_names = ['Confidence level','number of violations']\n",
    "table_six.add_row(['95% VaR', 28])\n",
    "table_six.add_row(['99% VaR', 568])\n",
    "print(table_six)"
   ]
  },
  {
   "cell_type": "code",
   "execution_count": null,
   "metadata": {},
   "outputs": [],
   "source": []
  }
 ],
 "metadata": {
  "kernelspec": {
   "display_name": "Python 3",
   "language": "python",
   "name": "python3"
  },
  "language_info": {
   "codemirror_mode": {
    "name": "ipython",
    "version": 3
   },
   "file_extension": ".py",
   "mimetype": "text/x-python",
   "name": "python",
   "nbconvert_exporter": "python",
   "pygments_lexer": "ipython3",
   "version": "3.7.4"
  }
 },
 "nbformat": 4,
 "nbformat_minor": 2
}
