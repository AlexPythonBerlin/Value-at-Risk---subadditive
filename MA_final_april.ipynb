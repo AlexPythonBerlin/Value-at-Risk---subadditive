{
 "cells": [
  {
   "cell_type": "code",
   "execution_count": 1,
   "metadata": {},
   "outputs": [],
   "source": [
    "### IMPORTANT NOTICE ###\n",
    "\n",
    "## - ## represent comments to explain the code\n",
    "# is used when the code should not be executed again, for example when something was randomly generated or simulated"
   ]
  },
  {
   "cell_type": "markdown",
   "metadata": {},
   "source": [
    "Simulation 1: 01/05/2019 - 30/04/2020\n",
    "\n",
    "Simulation 2: 02/01/2015 - 30/12/2019\n",
    "\n",
    "Simulation 3: 01/08/2007 - 30/07/2009\n",
    "\n",
    "Simulation 4: 02/08/2010 - 30/07/2012"
   ]
  },
  {
   "cell_type": "code",
   "execution_count": 2,
   "metadata": {},
   "outputs": [],
   "source": [
    "## these packages need to be installed in the command line first ##\n",
    "\n",
    "## install python in comand line##\n",
    "## install Anaconda ##\n",
    "\n",
    "\n",
    "# pip install pandas-datareader\n",
    "# pip install numpy\n",
    "# pip install pandas\n",
    "# pip install scipy\n",
    "# pip install matplotlib\n",
    "# pip install tabulate\n",
    "# pip install prettytable"
   ]
  },
  {
   "cell_type": "code",
   "execution_count": 3,
   "metadata": {},
   "outputs": [],
   "source": [
    "import pandas as pd\n",
    "import pandas_datareader.data as reader\n",
    "import datetime as dt\n",
    "import matplotlib.pyplot as plt\n",
    "import numpy as np\n",
    "from scipy.stats import norm\n",
    "from scipy.stats import kurtosis, skew\n",
    "import scipy \n",
    "import statsmodels.api as sm\n",
    "import random\n",
    "from prettytable import PrettyTable\n",
    "import glob\n",
    "import os\n",
    "import math\n",
    "from scipy import stats\n",
    "from scipy.stats import t"
   ]
  },
  {
   "cell_type": "code",
   "execution_count": 4,
   "metadata": {},
   "outputs": [],
   "source": [
    "dow_jones = {'Boeing':'BA','UnitedHealth':'UNH','GoldmanSachs':'GS','HomeDepot':'HD','3M':'MMM','Apple':'AAPL','McDonalds':'MCD','IBM':'IBM','Caterpillar':'CAT','Visa':'V','Travelers':'TRV','Chevron':'CVX','Johnson&Johnson':'JNJ','JPMorganChase':'JPM','Disney':'DIS','AmericanExpress':'AXP','Microsoft':'MSFT','Walmart':'WMT','ExxonMobil':'XOM','Procter&Gamble':'PG','Nike':'NKE','Walgreens':'WBA','DowInc':'DOW','Merck':'MRK','Intel':'INTC','VerizonCommunications':'VZ','CocaCola':'KO','Cisco':'CSCO','Pfizer':'PFE'}"
   ]
  },
  {
   "cell_type": "code",
   "execution_count": 5,
   "metadata": {},
   "outputs": [
    {
     "name": "stdout",
     "output_type": "stream",
     "text": [
      "Boeing------ BA\n",
      "UnitedHealth------ UNH\n",
      "GoldmanSachs------ GS\n",
      "HomeDepot------ HD\n",
      "3M------ MMM\n",
      "Apple------ AAPL\n",
      "McDonalds------ MCD\n",
      "IBM------ IBM\n",
      "Caterpillar------ CAT\n",
      "Visa------ V\n",
      "Travelers------ TRV\n",
      "Chevron------ CVX\n",
      "Johnson&Johnson------ JNJ\n",
      "JPMorganChase------ JPM\n",
      "Disney------ DIS\n",
      "AmericanExpress------ AXP\n",
      "Microsoft------ MSFT\n",
      "Walmart------ WMT\n",
      "ExxonMobil------ XOM\n",
      "Procter&Gamble------ PG\n",
      "Nike------ NKE\n",
      "Walgreens------ WBA\n",
      "DowInc------ DOW\n",
      "Merck------ MRK\n",
      "Intel------ INTC\n",
      "VerizonCommunications------ VZ\n",
      "CocaCola------ KO\n",
      "Cisco------ CSCO\n",
      "Pfizer------ PFE\n"
     ]
    }
   ],
   "source": [
    "for i in dow_jones:\n",
    "    print (i+ '------',dow_jones[i])"
   ]
  },
  {
   "cell_type": "code",
   "execution_count": 6,
   "metadata": {},
   "outputs": [],
   "source": [
    "def get_returns(stock):\n",
    "    daily_returns = stock.pct_change()\n",
    "    daily_returns = daily_returns.iloc[1:]\n",
    "    return daily_returns"
   ]
  },
  {
   "cell_type": "code",
   "execution_count": 7,
   "metadata": {},
   "outputs": [],
   "source": [
    "# read from csv"
   ]
  },
  {
   "cell_type": "code",
   "execution_count": 8,
   "metadata": {},
   "outputs": [],
   "source": [
    "path_one = r'/Users/alexanderkoch/Desktop/Code Masterarbeit/Data_19-20'"
   ]
  },
  {
   "cell_type": "code",
   "execution_count": 9,
   "metadata": {},
   "outputs": [
    {
     "name": "stdout",
     "output_type": "stream",
     "text": [
      "/Users/alexanderkoch/Desktop/Code Masterarbeit/Data_19-20/Home Depot.csv\n",
      "/Users/alexanderkoch/Desktop/Code Masterarbeit/Data_19-20/United health.csv\n",
      "/Users/alexanderkoch/Desktop/Code Masterarbeit/Data_19-20/Merck.csv\n",
      "/Users/alexanderkoch/Desktop/Code Masterarbeit/Data_19-20/Pfizer.csv\n",
      "/Users/alexanderkoch/Desktop/Code Masterarbeit/Data_19-20/Walmart.csv\n",
      "/Users/alexanderkoch/Desktop/Code Masterarbeit/Data_19-20/Apple.csv\n",
      "/Users/alexanderkoch/Desktop/Code Masterarbeit/Data_19-20/Intel.csv\n",
      "/Users/alexanderkoch/Desktop/Code Masterarbeit/Data_19-20/Exxon Mobil.csv\n",
      "/Users/alexanderkoch/Desktop/Code Masterarbeit/Data_19-20/Walgreens.csv\n",
      "/Users/alexanderkoch/Desktop/Code Masterarbeit/Data_19-20/Caterpillar.csv\n",
      "/Users/alexanderkoch/Desktop/Code Masterarbeit/Data_19-20/Goldman Sachs.csv\n",
      "/Users/alexanderkoch/Desktop/Code Masterarbeit/Data_19-20/Procter & Gamble.csv\n",
      "/Users/alexanderkoch/Desktop/Code Masterarbeit/Data_19-20/Visa.csv\n",
      "/Users/alexanderkoch/Desktop/Code Masterarbeit/Data_19-20/Disney.csv\n",
      "/Users/alexanderkoch/Desktop/Code Masterarbeit/Data_19-20/IBM.csv\n",
      "/Users/alexanderkoch/Desktop/Code Masterarbeit/Data_19-20/Nike.csv\n",
      "/Users/alexanderkoch/Desktop/Code Masterarbeit/Data_19-20/Johnson & Johnson.csv\n",
      "/Users/alexanderkoch/Desktop/Code Masterarbeit/Data_19-20/Chevron.csv\n",
      "/Users/alexanderkoch/Desktop/Code Masterarbeit/Data_19-20/Coca Cola.csv\n",
      "/Users/alexanderkoch/Desktop/Code Masterarbeit/Data_19-20/JPMorgan Chase.csv\n",
      "/Users/alexanderkoch/Desktop/Code Masterarbeit/Data_19-20/3M.csv\n",
      "/Users/alexanderkoch/Desktop/Code Masterarbeit/Data_19-20/Microsoft.csv\n",
      "/Users/alexanderkoch/Desktop/Code Masterarbeit/Data_19-20/Boeing.csv\n",
      "/Users/alexanderkoch/Desktop/Code Masterarbeit/Data_19-20/Verizon Communications.csv\n",
      "/Users/alexanderkoch/Desktop/Code Masterarbeit/Data_19-20/American Express.csv\n",
      "/Users/alexanderkoch/Desktop/Code Masterarbeit/Data_19-20/Cisco.csv\n",
      "/Users/alexanderkoch/Desktop/Code Masterarbeit/Data_19-20/Travelers.csv\n",
      "/Users/alexanderkoch/Desktop/Code Masterarbeit/Data_19-20/McDonalds.csv\n",
      "/Users/alexanderkoch/Desktop/Code Masterarbeit/Data_19-20/DOW.csv\n"
     ]
    }
   ],
   "source": [
    "path_one = r'/Users/alexanderkoch/Desktop/Code Masterarbeit/Data_19-20'\n",
    "col_list= ['Adj Close']\n",
    "for files in glob.glob(os.path.join(path_one, \"*.csv\")):\n",
    "    df = pd.read_csv(files, usecols=col_list)\n",
    "    print(files)"
   ]
  },
  {
   "cell_type": "code",
   "execution_count": 10,
   "metadata": {},
   "outputs": [],
   "source": [
    "col_list= ['Adj Close']\n",
    "\n",
    "def get_data(stock):\n",
    "    df = pd.read_csv(path_one + f'/{stock}.csv', usecols=col_list)\n",
    "    return df['Adj Close']"
   ]
  },
  {
   "cell_type": "code",
   "execution_count": 11,
   "metadata": {},
   "outputs": [],
   "source": [
    "boeing = get_data('Boeing')\n",
    "homedepot = get_data('Home Depot')\n",
    "unitedhealth = get_data('United health')\n",
    "merck = get_data('Merck')\n",
    "pfizer = get_data('Pfizer')\n",
    "walmart = get_data('Walmart')\n",
    "apple = get_data('Apple')\n",
    "intel = get_data('Intel')\n",
    "exxonmobil = get_data('Exxon Mobil')\n",
    "walgreens = get_data('Walgreens')\n",
    "caterpillar = get_data('Caterpillar')\n",
    "goldmansachs = get_data('Goldman Sachs')\n",
    "proctergamble = get_data('Procter & Gamble')\n",
    "visa = get_data('Visa')\n",
    "disney = get_data('Disney')\n",
    "ibm = get_data('IBM')\n",
    "nike = get_data('Nike')\n",
    "jandj = get_data('Johnson & Johnson')\n",
    "cocacola = get_data('Coca Cola')\n",
    "jpmorganchase = get_data('JPMorgan Chase')\n",
    "mmm = get_data('3M')\n",
    "microsoft = get_data('Microsoft')\n",
    "chevron = get_data('Chevron')\n",
    "verizoncom = get_data('Verizon Communications')\n",
    "americanexpress = get_data('American Express')\n",
    "cisco = get_data('Cisco')\n",
    "travelers = get_data('Travelers')\n",
    "mcdonalds = get_data('McDonalds')\n",
    "dowinc = get_data('DOW')"
   ]
  },
  {
   "cell_type": "code",
   "execution_count": 12,
   "metadata": {},
   "outputs": [],
   "source": [
    "boeing = get_returns(boeing)\n",
    "homedepot = get_returns(homedepot)\n",
    "unitedhealth = get_returns(unitedhealth)\n",
    "merck = get_returns(merck)\n",
    "pfizer = get_returns(pfizer)\n",
    "walmart = get_returns(walmart)\n",
    "apple = get_returns(apple)\n",
    "intel = get_returns(intel)\n",
    "exxonmobil = get_returns(exxonmobil)\n",
    "walgreens = get_returns(walgreens)\n",
    "caterpillar = get_returns(caterpillar)\n",
    "goldmansachs = get_returns(goldmansachs)\n",
    "proctergamble = get_returns(proctergamble)\n",
    "visa = get_returns(visa)\n",
    "disney = get_returns(disney)\n",
    "ibm = get_returns(ibm)\n",
    "nike = get_returns(nike)\n",
    "jandj = get_returns(jandj)\n",
    "cocacola = get_returns(cocacola)\n",
    "jpmorganchase = get_returns(jpmorganchase)\n",
    "mmm = get_returns(mmm)\n",
    "microsoft = get_returns(microsoft)\n",
    "chevron = get_returns(chevron)\n",
    "verizoncom = get_returns(verizoncom)\n",
    "americanexpress = get_returns(americanexpress)\n",
    "cisco = get_returns(cisco)\n",
    "travelers = get_returns(travelers)\n",
    "mcdonalds = get_returns(mcdonalds)\n",
    "dowinc = get_returns(dowinc)"
   ]
  },
  {
   "cell_type": "code",
   "execution_count": 13,
   "metadata": {
    "scrolled": true
   },
   "outputs": [
    {
     "name": "stdout",
     "output_type": "stream",
     "text": [
      "The excess kurtosis of the distribution (should be 0 if normally distrubuted): 10.5555\n",
      "The skewness of the distribution (should be 0 if normally distributed): 0.3724\n"
     ]
    },
    {
     "name": "stderr",
     "output_type": "stream",
     "text": [
      "/opt/anaconda3/lib/python3.7/site-packages/pandas/plotting/_matplotlib/hist.py:316: MatplotlibDeprecationWarning: \n",
      "The 'normed' kwarg was deprecated in Matplotlib 2.1 and will be removed in 3.1. Use 'density' instead.\n",
      "  ax.hist(values, bins=bins, **kwds)\n"
     ]
    },
    {
     "data": {
      "image/png": "[encoded data removed]",
      "text/plain": [
       "<Figure size 432x288 with 1 Axes>"
      ]
     },
     "metadata": {
      "needs_background": "light"
     },
     "output_type": "display_data"
    }
   ],
   "source": [
    "## plotting the data against the normal distribution ##\n",
    "## obviously the data is not normal distributed ##\n",
    "## kurtosis and skewness differ from normal ##\n",
    "\n",
    "mean = np.mean(nike)\n",
    "std_dev = np.std(nike)\n",
    "nike.hist(bins = 40, normed = True, histtype = 'stepfilled', alpha = 0.8)\n",
    "plt.title('Nike returns against normal distribution')\n",
    "plt.xlabel('Returns')\n",
    "plt.ylabel('Frequency')\n",
    "x = np.linspace (mean-3*std_dev, mean + 3*std_dev,100)\n",
    "plt.plot(x,norm.pdf(x, mean, std_dev),'r')\n",
    "plt.show\n",
    "#plt.savefig('nike_distribution.jpg')\n",
    "\n",
    "print( 'The excess kurtosis of the distribution (should be 0 if normally distrubuted): {}'.format(round(kurtosis(nike),4 )))\n",
    "print( 'The skewness of the distribution (should be 0 if normally distributed): {}'.format(round(skew(nike),4 )))"
   ]
  },
  {
   "cell_type": "code",
   "execution_count": 14,
   "metadata": {},
   "outputs": [
    {
     "data": {
      "image/png": "[encoded data removed]",
      "text/plain": [
       "<Figure size 432x288 with 1 Axes>"
      ]
     },
     "metadata": {
      "needs_background": "light"
     },
     "output_type": "display_data"
    }
   ],
   "source": [
    "## qq-plt to see if normally distributed for three sample stocks ##\n",
    "fig = sm.qqplot(nike, stats.norm, fit=True ,line='45')\n",
    "#plt.savefig('nike_QQ_plot.jpg')"
   ]
  },
  {
   "cell_type": "code",
   "execution_count": 15,
   "metadata": {},
   "outputs": [],
   "source": [
    "def fit_t_parameters(stock):\n",
    "    x = np.array(stock)\n",
    "    parameters = t.fit(x)\n",
    "    return parameters\n",
    "    "
   ]
  },
  {
   "cell_type": "code",
   "execution_count": 16,
   "metadata": {},
   "outputs": [
    {
     "data": {
      "text/plain": [
       "(2.416356368712929, 0.0005028204741293338, 0.012467587918477518)"
      ]
     },
     "execution_count": 16,
     "metadata": {},
     "output_type": "execute_result"
    }
   ],
   "source": [
    "parameters_nike = fit_t_parameters(nike)\n",
    "parameters_nike"
   ]
  },
  {
   "cell_type": "code",
   "execution_count": 17,
   "metadata": {},
   "outputs": [
    {
     "data": {
      "image/png": "[encoded data removed]",
      "text/plain": [
       "<Figure size 432x288 with 1 Axes>"
      ]
     },
     "metadata": {
      "needs_background": "light"
     },
     "output_type": "display_data"
    }
   ],
   "source": [
    "fig = sm.qqplot(nike, stats.t, distargs = (parameters_nike[0],) , loc = parameters_nike[1],  scale = parameters_nike[2],\n",
    "                fit = False, line='45')\n",
    "#plt.savefig('nike_QQ_plot_t.jpg')"
   ]
  },
  {
   "cell_type": "code",
   "execution_count": null,
   "metadata": {},
   "outputs": [],
   "source": []
  },
  {
   "cell_type": "code",
   "execution_count": 18,
   "metadata": {},
   "outputs": [
    {
     "name": "stdout",
     "output_type": "stream",
     "text": [
      "The excess kurtosis of the distribution (should be 0 if normally distrubuted): 9.0111\n",
      "The skewness of the distribution (should be 0 if normally distributed): 0.2239\n"
     ]
    },
    {
     "data": {
      "image/png": "[encoded data removed]",
      "text/plain": [
       "<Figure size 432x288 with 1 Axes>"
      ]
     },
     "metadata": {
      "needs_background": "light"
     },
     "output_type": "display_data"
    }
   ],
   "source": [
    "mean = np.mean(disney)\n",
    "std_dev = np.std(disney)\n",
    "disney.hist(bins =40, normed = True, histtype = 'stepfilled', alpha = 0.8)\n",
    "plt.title('disney returns against normal distribution')\n",
    "plt.xlabel('Returns')\n",
    "plt.ylabel('Frequency')\n",
    "x = np.linspace (mean-3*std_dev, mean + 3*std_dev,100)\n",
    "plt.plot(x,norm.pdf(x, mean, std_dev),'r')\n",
    "plt.show\n",
    "#plt.savefig('disney_distribution.jpg')\n",
    "\n",
    "print( 'The excess kurtosis of the distribution (should be 0 if normally distrubuted): {}'.format(round(kurtosis(disney),4 )))\n",
    "print( 'The skewness of the distribution (should be 0 if normally distributed): {}'.format(round(skew(disney),4 )))"
   ]
  },
  {
   "cell_type": "code",
   "execution_count": 19,
   "metadata": {},
   "outputs": [
    {
     "data": {
      "image/png": "[encoded data removed]",
      "text/plain": [
       "<Figure size 432x288 with 1 Axes>"
      ]
     },
     "metadata": {
      "needs_background": "light"
     },
     "output_type": "display_data"
    }
   ],
   "source": [
    "fig = sm.qqplot(disney, stats.norm, fit=True ,line='45')\n",
    "#plt.savefig('disney_QQ_plot.jpg')"
   ]
  },
  {
   "cell_type": "code",
   "execution_count": 20,
   "metadata": {},
   "outputs": [
    {
     "data": {
      "text/plain": [
       "(1.7828016702679697, -0.0002252888136458777, 0.010472759405859906)"
      ]
     },
     "execution_count": 20,
     "metadata": {},
     "output_type": "execute_result"
    }
   ],
   "source": [
    "parameters_disney = fit_t_parameters(disney)\n",
    "parameters_disney"
   ]
  },
  {
   "cell_type": "code",
   "execution_count": 21,
   "metadata": {},
   "outputs": [
    {
     "data": {
      "image/png": "[encoded data removed]",
      "text/plain": [
       "<Figure size 432x288 with 1 Axes>"
      ]
     },
     "metadata": {
      "needs_background": "light"
     },
     "output_type": "display_data"
    }
   ],
   "source": [
    "fig = sm.qqplot(disney, stats.t, distargs = (parameters_disney[0],) , loc = parameters_disney[1],  scale = parameters_disney[2],\n",
    "                fit = False, line='45')\n",
    "#plt.savefig('disney_QQ_plot_t.jpg')"
   ]
  },
  {
   "cell_type": "code",
   "execution_count": null,
   "metadata": {},
   "outputs": [],
   "source": []
  },
  {
   "cell_type": "code",
   "execution_count": 22,
   "metadata": {},
   "outputs": [
    {
     "name": "stdout",
     "output_type": "stream",
     "text": [
      "The excess kurtosis of the distribution (should be 0 if normally distrubuted): 8.5911\n",
      "The skewness of the distribution (should be 0 if normally distributed): 0.2513\n"
     ]
    },
    {
     "data": {
      "image/png": "[encoded data removed]",
      "text/plain": [
       "<Figure size 432x288 with 1 Axes>"
      ]
     },
     "metadata": {
      "needs_background": "light"
     },
     "output_type": "display_data"
    }
   ],
   "source": [
    "mean = np.mean(visa)\n",
    "std_dev = np.std(visa)\n",
    "visa.hist(bins =40, normed = True, histtype = 'stepfilled', alpha = 0.8)\n",
    "plt.title('Visa returns against normal distribution')\n",
    "plt.xlabel('Returns')\n",
    "plt.ylabel('Frequency')\n",
    "x = np.linspace (mean-3*std_dev, mean + 3*std_dev,100)\n",
    "plt.plot(x,norm.pdf(x, mean, std_dev),'r')\n",
    "plt.show\n",
    "#plt.savefig('visa_distribution.jpg')\n",
    "\n",
    "print( 'The excess kurtosis of the distribution (should be 0 if normally distrubuted): {}'.format(round(kurtosis(visa),4 )))\n",
    "print( 'The skewness of the distribution (should be 0 if normally distributed): {}'.format(round(skew(visa),4 )))"
   ]
  },
  {
   "cell_type": "code",
   "execution_count": 23,
   "metadata": {},
   "outputs": [
    {
     "data": {
      "image/png": "[encoded data removed]",
      "text/plain": [
       "<Figure size 432x288 with 1 Axes>"
      ]
     },
     "metadata": {
      "needs_background": "light"
     },
     "output_type": "display_data"
    }
   ],
   "source": [
    "fig = sm.qqplot(visa, stats.norm, fit=True ,line='45')\n",
    "#plt.savefig('visa_QQ_plot.jpg')"
   ]
  },
  {
   "cell_type": "code",
   "execution_count": 24,
   "metadata": {},
   "outputs": [
    {
     "data": {
      "text/plain": [
       "(1.7895471360642858, 0.0018081403716773792, 0.01070683855049592)"
      ]
     },
     "execution_count": 24,
     "metadata": {},
     "output_type": "execute_result"
    }
   ],
   "source": [
    "parameters_visa = fit_t_parameters(visa)\n",
    "parameters_visa"
   ]
  },
  {
   "cell_type": "code",
   "execution_count": 25,
   "metadata": {},
   "outputs": [
    {
     "data": {
      "image/png": "[encoded data removed]",
      "text/plain": [
       "<Figure size 432x288 with 1 Axes>"
      ]
     },
     "metadata": {
      "needs_background": "light"
     },
     "output_type": "display_data"
    }
   ],
   "source": [
    "fig = sm.qqplot(visa, stats.t, distargs = (parameters_visa[0],) , loc = parameters_visa[1],  scale = parameters_visa[2],\n",
    "                fit = False, line='45')\n",
    "#plt.savefig('visa_QQ_plot_t.jpg')"
   ]
  },
  {
   "cell_type": "code",
   "execution_count": 26,
   "metadata": {},
   "outputs": [],
   "source": [
    "## need to sort the returns to calculate Value at Risk ##\n",
    "\n",
    "def sorting(stock):\n",
    "    sorted_stocks =stock.sort_values(axis=0, ascending=True, inplace=False, kind='quicksort', na_position='last')\n",
    "    return sorted_stocks\n",
    "    stock = sorted_stocks"
   ]
  },
  {
   "cell_type": "code",
   "execution_count": 27,
   "metadata": {},
   "outputs": [],
   "source": [
    "## function to calculate the VaR for a single stock ##\n",
    "\n",
    "def VaR(quantile,stock):\n",
    "    sorting(stock)\n",
    "    var = stock.quantile(quantile, interpolation='higher')\n",
    "    return var*-1"
   ]
  },
  {
   "cell_type": "code",
   "execution_count": 28,
   "metadata": {},
   "outputs": [],
   "source": [
    "## get 95% VaR for every stock ##\n",
    "\n",
    "VaR_95_boeing = VaR(0.05,boeing)\n",
    "VaR_95_unitedhealth = VaR(0.05,unitedhealth)\n",
    "VaR_95_goldmansachs = VaR(0.05,goldmansachs)\n",
    "VaR_95_homedepot = VaR(0.05,homedepot)\n",
    "VaR_95_mmm = VaR(0.05,mmm)\n",
    "VaR_95_apple = VaR(0.05,apple)\n",
    "VaR_95_mcdonalds = VaR(0.05,mcdonalds)\n",
    "VaR_95_ibm = VaR(0.05,ibm)\n",
    "VaR_95_caterpillar =VaR(0.05,caterpillar)\n",
    "VaR_95_visa = VaR(0.05,visa)\n",
    "VaR_95_travelers = VaR(0.05,travelers)\n",
    "VaR_95_chevron = VaR(0.05,chevron)\n",
    "VaR_95_jandj = VaR(0.05,jandj)\n",
    "VaR_95_jpmorganchase = VaR(0.05,jpmorganchase)\n",
    "VaR_95_disney = VaR(0.05,disney)\n",
    "VaR_95_americanexpress = VaR(0.05,americanexpress)\n",
    "VaR_95_microsoft = VaR(0.05,microsoft)\n",
    "VaR_95_walmart = VaR(0.05,walmart)\n",
    "VaR_95_exxonmobil = VaR(0.05,exxonmobil)\n",
    "VaR_95_proctergamble = VaR(0.05,proctergamble)\n",
    "VaR_95_nike = VaR(0.05,nike)\n",
    "VaR_95_walgreens = VaR(0.05,walgreens)\n",
    "VaR_95_dowinc = VaR(0.05,dowinc)\n",
    "VaR_95_merck = VaR(0.05,merck)\n",
    "VaR_95_intel = VaR(0.05,intel)\n",
    "VaR_95_verizoncom = VaR(0.05,verizoncom)\n",
    "VaR_95_cocacola = VaR(0.05,cocacola)\n",
    "VaR_95_cisco = VaR(0.05,cisco)\n",
    "VaR_95_pfizer = VaR(0.05,pfizer)"
   ]
  },
  {
   "cell_type": "code",
   "execution_count": 29,
   "metadata": {},
   "outputs": [],
   "source": [
    "dow_jones_VaR95 = {'Boeing':'BA','UnitedHealth':'UNH','GoldmanSachs':'GS','HomeDepot':'HD','3M':'MMM',\n",
    "                   'Apple':'AAPL','McDonalds':'MCD','IBM':'IBM','Caterpillar':'CAT','Visa':'V','Travelers':'TRV',\n",
    "                   'Chevron':'CVX','Johnson&Johnson':'JNJ','JPMorganChase':'JPM','Disney':'DIS',\n",
    "                   'AmericanExpress':'AXP','Microsoft':'MSFT','Walmart':'WMT','ExxonMobil':'XOM',\n",
    "                   'Procter&Gamble':'PG','Nike':'NKE','Walgreens':'WBA','DowInc':'DOW','Merck':'MRK','Intel':'INTC',\n",
    "                   'VerizonCommunications':'VZ','CocaCola':'KO','Cisco':'CSCO','Pfizer':'PFE'}"
   ]
  },
  {
   "cell_type": "code",
   "execution_count": 30,
   "metadata": {},
   "outputs": [],
   "source": [
    "dow_jones_VaR95['Boeing'] = VaR_95_boeing\n",
    "dow_jones_VaR95['UnitedHealth'] =VaR_95_unitedhealth\n",
    "dow_jones_VaR95['GoldmanSachs'] =VaR_95_goldmansachs\n",
    "dow_jones_VaR95['HomeDepot'] =VaR_95_homedepot\n",
    "dow_jones_VaR95['3M'] =VaR_95_mmm\n",
    "dow_jones_VaR95['Apple'] =VaR_95_apple\n",
    "dow_jones_VaR95['McDonalds'] =VaR_95_mcdonalds\n",
    "dow_jones_VaR95['IBM'] =VaR_95_ibm\n",
    "dow_jones_VaR95['Caterpillar'] =VaR_95_caterpillar\n",
    "dow_jones_VaR95['Visa'] =VaR_95_visa\n",
    "dow_jones_VaR95['Travelers'] =VaR_95_travelers\n",
    "dow_jones_VaR95['Chevron'] =VaR_95_chevron\n",
    "dow_jones_VaR95['Johnson&Johnson'] =VaR_95_jandj\n",
    "dow_jones_VaR95['JPMorganChase'] =VaR_95_jpmorganchase\n",
    "dow_jones_VaR95['Disney'] =VaR_95_disney\n",
    "dow_jones_VaR95['AmericanExpress'] =VaR_95_americanexpress\n",
    "dow_jones_VaR95['Microsoft'] =VaR_95_microsoft\n",
    "dow_jones_VaR95['Walmart'] =VaR_95_walmart\n",
    "dow_jones_VaR95['ExxonMobil'] =VaR_95_exxonmobil\n",
    "dow_jones_VaR95['Procter&Gamble'] =VaR_95_proctergamble\n",
    "dow_jones_VaR95['Nike'] =VaR_95_nike\n",
    "dow_jones_VaR95['Walgreens'] =VaR_95_walgreens\n",
    "dow_jones_VaR95['DowInc'] =VaR_95_dowinc\n",
    "dow_jones_VaR95['Merck'] =VaR_95_merck\n",
    "dow_jones_VaR95['Intel'] =VaR_95_intel\n",
    "dow_jones_VaR95['VerizonCommunications'] =VaR_95_verizoncom\n",
    "dow_jones_VaR95['CocaCola'] =VaR_95_cocacola\n",
    "dow_jones_VaR95['Cisco'] =VaR_95_cisco\n",
    "dow_jones_VaR95['Pfizer'] =VaR_95_pfizer"
   ]
  },
  {
   "cell_type": "code",
   "execution_count": 31,
   "metadata": {},
   "outputs": [
    {
     "data": {
      "text/plain": [
       "{'Boeing': 0.05834610502105564,\n",
       " 'UnitedHealth': 0.03452458930479574,\n",
       " 'GoldmanSachs': 0.03652995899949196,\n",
       " 'HomeDepot': 0.0306590627063823,\n",
       " '3M': 0.03316909623280695,\n",
       " 'Apple': 0.03387216941582649,\n",
       " 'McDonalds': 0.027224973349360804,\n",
       " 'IBM': 0.03479368675049732,\n",
       " 'Caterpillar': 0.03883035996184214,\n",
       " 'Visa': 0.03845966589557537,\n",
       " 'Travelers': 0.031979596124067755,\n",
       " 'Chevron': 0.03206633742733367,\n",
       " 'Johnson&Johnson': 0.02696725335773309,\n",
       " 'JPMorganChase': 0.04333863081667588,\n",
       " 'Disney': 0.03652559465478844,\n",
       " 'AmericanExpress': 0.04887977155638934,\n",
       " 'Microsoft': 0.03186241789386157,\n",
       " 'Walmart': 0.019821457567164358,\n",
       " 'ExxonMobil': 0.04121013826926323,\n",
       " 'Procter&Gamble': 0.026835020517237962,\n",
       " 'Nike': 0.031383477736153575,\n",
       " 'Walgreens': 0.04305882896914903,\n",
       " 'DowInc': 0.043187860285163526,\n",
       " 'Merck': 0.029132699419935904,\n",
       " 'Intel': 0.03821271826781203,\n",
       " 'VerizonCommunications': 0.02081186117859779,\n",
       " 'CocaCola': 0.02702195546891517,\n",
       " 'Cisco': 0.04002274129453742,\n",
       " 'Pfizer': 0.027267111747221295}"
      ]
     },
     "execution_count": 31,
     "metadata": {},
     "output_type": "execute_result"
    }
   ],
   "source": [
    "## 95% VaR of stock returns in percent, we interpret VaR as positive number ##\n",
    "\n",
    "dow_jones_VaR95"
   ]
  },
  {
   "cell_type": "code",
   "execution_count": 32,
   "metadata": {},
   "outputs": [],
   "source": [
    "for value in dow_jones_VaR95:    \n",
    "    dow_jones_VaR95[value] *=  1000000"
   ]
  },
  {
   "cell_type": "code",
   "execution_count": 33,
   "metadata": {},
   "outputs": [],
   "source": [
    "dow_jones_VaR95 ={k: round(v, 2) for k, v in dow_jones_VaR95.items()}"
   ]
  },
  {
   "cell_type": "code",
   "execution_count": 34,
   "metadata": {},
   "outputs": [],
   "source": [
    "for key in dow_jones_VaR95:\n",
    "    dow_jones_VaR95[key] = \"${:,.2f}\".format(dow_jones_VaR95[key])"
   ]
  },
  {
   "cell_type": "code",
   "execution_count": 35,
   "metadata": {},
   "outputs": [
    {
     "name": "stdout",
     "output_type": "stream",
     "text": [
      "The excess kurtosis of the distribution (should be 0 if normally distrubuted): 8.5911\n",
      "The skewness of the distribution (should be 0 if normally distributed): 0.2513\n",
      "\n",
      "\n",
      "\n",
      "The Value at Risk with 99% confidence for $1,000,000 invested in Visa is: $71,761.76\n",
      "\n",
      "\n"
     ]
    },
    {
     "data": {
      "image/png": "[encoded data removed]",
      "text/plain": [
       "<Figure size 864x504 with 1 Axes>"
      ]
     },
     "metadata": {
      "needs_background": "light"
     },
     "output_type": "display_data"
    }
   ],
   "source": [
    "## plotting VaR 99% as an example for visa stock ##\n",
    "\n",
    "mean = np.mean(visa)\n",
    "std_dev = np.std(visa)\n",
    "visa.hist(bins =40, normed = True, histtype = 'stepfilled', alpha = 0.8, figsize =(12,7))\n",
    "\n",
    "plt.title('Visa returns against normal distribution')\n",
    "plt.xlabel('Returns')\n",
    "plt.ylabel('Frequency')\n",
    "plt.axvline(VaR(0.01,visa)*-1,color = 'red',label='Value at Risk')\n",
    "x = np.linspace (mean-3*std_dev, mean + 3*std_dev,100)\n",
    "plt.plot(x,norm.pdf(x, mean, std_dev),'orange',label='Normal distribution')\n",
    "plt.legend()\n",
    "plt.show\n",
    "#plt.savefig('visa_VaR.jpg')\n",
    "\n",
    "\n",
    "print( 'The excess kurtosis of the distribution (should be 0 if normally distrubuted): {}'.format(round(kurtosis(visa),4 )))\n",
    "print( 'The skewness of the distribution (should be 0 if normally distributed): {}'.format(round(skew(visa),4 )))\n",
    "\n",
    "VaR_amount_99_visa= \"${:,.2f}\".format(round(VaR(0.01,visa)*1000000,2))\n",
    "print('\\n'*3+'The Value at Risk with 99% confidence for $1,000,000 invested in Visa is: {}'.format(VaR_amount_99_visa)+'\\n'*2)"
   ]
  },
  {
   "cell_type": "code",
   "execution_count": 36,
   "metadata": {},
   "outputs": [],
   "source": [
    "list_VaR = dict.items(dow_jones_VaR95)"
   ]
  },
  {
   "cell_type": "code",
   "execution_count": 37,
   "metadata": {
    "scrolled": false
   },
   "outputs": [
    {
     "name": "stdout",
     "output_type": "stream",
     "text": [
      "Stock                  Value at Risk in $\n",
      "---------------------  --------------------\n",
      "Boeing                 $58,346.11\n",
      "UnitedHealth           $34,524.59\n",
      "GoldmanSachs           $36,529.96\n",
      "HomeDepot              $30,659.06\n",
      "3M                     $33,169.10\n",
      "Apple                  $33,872.17\n",
      "McDonalds              $27,224.97\n",
      "IBM                    $34,793.69\n",
      "Caterpillar            $38,830.36\n",
      "Visa                   $38,459.67\n",
      "Travelers              $31,979.60\n",
      "Chevron                $32,066.34\n",
      "Johnson&Johnson        $26,967.25\n",
      "JPMorganChase          $43,338.63\n",
      "Disney                 $36,525.59\n",
      "AmericanExpress        $48,879.77\n",
      "Microsoft              $31,862.42\n",
      "Walmart                $19,821.46\n",
      "ExxonMobil             $41,210.14\n",
      "Procter&Gamble         $26,835.02\n",
      "Nike                   $31,383.48\n",
      "Walgreens              $43,058.83\n",
      "DowInc                 $43,187.86\n",
      "Merck                  $29,132.70\n",
      "Intel                  $38,212.72\n",
      "VerizonCommunications  $20,811.86\n",
      "CocaCola               $27,021.96\n",
      "Cisco                  $40,022.74\n",
      "Pfizer                 $27,267.11\n"
     ]
    }
   ],
   "source": [
    "from tabulate import tabulate\n",
    "print (tabulate(list_VaR, headers=[\"Stock\", \"Value at Risk in $\"]))"
   ]
  },
  {
   "cell_type": "code",
   "execution_count": 38,
   "metadata": {},
   "outputs": [],
   "source": [
    "## define function to combine multiple stocks as a portfolio, equally weighted ##\n",
    "## will return the daily returns of the portfolio with every stock weighted equally ##\n",
    "\n",
    "def portfolio(*args):\n",
    "        combined =[]\n",
    "        for i in args:\n",
    "            x =i*(1/len(args))\n",
    "            combined.append(x)\n",
    "            y = sum(combined)\n",
    "            sorting(y)\n",
    "        return y\n",
    "        "
   ]
  },
  {
   "cell_type": "code",
   "execution_count": 39,
   "metadata": {},
   "outputs": [
    {
     "data": {
      "text/plain": [
       "1     -0.007954\n",
       "2      0.006895\n",
       "3     -0.008577\n",
       "4     -0.020376\n",
       "5      0.000224\n",
       "         ...   \n",
       "248    0.017673\n",
       "249    0.024160\n",
       "250    0.002198\n",
       "251    0.028609\n",
       "252   -0.007855\n",
       "Name: Adj Close, Length: 252, dtype: float64"
      ]
     },
     "execution_count": 39,
     "metadata": {},
     "output_type": "execute_result"
    }
   ],
   "source": [
    "## example ##\n",
    "\n",
    "portfolio(mmm,apple, visa)"
   ]
  },
  {
   "cell_type": "code",
   "execution_count": 40,
   "metadata": {},
   "outputs": [],
   "source": [
    "## define function to check for subadditivity ##\n",
    "## will return boolean True or False ##\n",
    "\n",
    "def subadditive(quantile,*args):\n",
    "    sum_VaR = []\n",
    "    for i in args:\n",
    "         x = VaR(quantile,i)*(1/len(args)*1000000)\n",
    "         sum_VaR.append(x) \n",
    "         y= sum(sum_VaR)  \n",
    "       \n",
    "         \n",
    "    \n",
    "    \n",
    "    if y >= VaR(quantile,portfolio(*args))*1000000:\n",
    "        return True\n",
    "    else:\n",
    "        return False"
   ]
  },
  {
   "cell_type": "code",
   "execution_count": 41,
   "metadata": {},
   "outputs": [
    {
     "data": {
      "text/plain": [
       "True"
      ]
     },
     "execution_count": 41,
     "metadata": {},
     "output_type": "execute_result"
    }
   ],
   "source": [
    "## example ##\n",
    "subadditive(0.05, nike,disney)"
   ]
  },
  {
   "cell_type": "code",
   "execution_count": 42,
   "metadata": {},
   "outputs": [],
   "source": [
    "## subadditivity random portfolios ##"
   ]
  },
  {
   "cell_type": "code",
   "execution_count": 43,
   "metadata": {},
   "outputs": [],
   "source": [
    "stoxx = dow_jones_VaR95.keys()"
   ]
  },
  {
   "cell_type": "code",
   "execution_count": 44,
   "metadata": {},
   "outputs": [],
   "source": [
    "## we will randomly create 5 portfolios and check for subadditivity ##\n",
    "## the portfolios consist of a random rumber of stocks ##\n",
    "\n",
    "# number_random_portfolios = []\n",
    "# for x in range (0, 5):\n",
    "    # number_random_portfolios.append(random.randint(1, 29))"
   ]
  },
  {
   "cell_type": "code",
   "execution_count": 45,
   "metadata": {},
   "outputs": [],
   "source": [
    "## these are the numbers of stocks for every portfolio randomly generated ##\n",
    "\n",
    "number_random_portfolios = [11,24,3,3, 28]"
   ]
  },
  {
   "cell_type": "code",
   "execution_count": 46,
   "metadata": {},
   "outputs": [],
   "source": [
    "## for every portfolio, random stocks will be picked accordingly to the number of stocks generated above ##\n",
    "\n",
    "# random_portfolios = []\n",
    "# for x in number_random_portfolios:\n",
    "    #y = random.sample(stoxx,x)\n",
    "    #y = [each_string.lower() for each_string in y]\n",
    "    #random_portfolios.append(y)"
   ]
  },
  {
   "cell_type": "code",
   "execution_count": 47,
   "metadata": {},
   "outputs": [],
   "source": [
    "## portfolios were randommly generated ##\n",
    "random_portfolios = [['merck',\n",
    "  'dowinc',\n",
    "  'intel',\n",
    "  'ibm',\n",
    "  'cocacola',\n",
    "  'homedepot',\n",
    "  'nike',\n",
    "  'jpmorganchase',\n",
    "  'johnson&johnson',\n",
    "  'mcdonalds',\n",
    "  'procter&gamble'],\n",
    " ['pfizer',\n",
    "  'boeing',\n",
    "  'walmart',\n",
    "  'cisco',\n",
    "  'dowinc',\n",
    "  'nike',\n",
    "  'verizoncommunications',\n",
    "  'travelers',\n",
    "  'homedepot',\n",
    "  'cocacola',\n",
    "  'exxonmobil',\n",
    "  'unitedhealth',\n",
    "  'apple',\n",
    "  'americanexpress',\n",
    "  'procter&gamble',\n",
    "  'merck',\n",
    "  'visa',\n",
    "  'disney',\n",
    "  'goldmansachs',\n",
    "  'jpmorganchase',\n",
    "  'caterpillar',\n",
    "  '3m',\n",
    "  'ibm',\n",
    "  'walgreens'],\n",
    " ['boeing', 'caterpillar', 'walgreens'],\n",
    " ['walgreens', 'procter&gamble', 'pfizer'],\n",
    " ['visa',\n",
    "  'disney',\n",
    "  'johnson&johnson',\n",
    "  'mcdonalds',\n",
    "  'chevron',\n",
    "  'caterpillar',\n",
    "  'boeing',\n",
    "  'microsoft',\n",
    "  'homedepot',\n",
    "  'travelers',\n",
    "  'cocacola',\n",
    "  'merck',\n",
    "  'goldmansachs',\n",
    "  'intel',\n",
    "  'cisco',\n",
    "  'procter&gamble',\n",
    "  'jpmorganchase',\n",
    "  'walgreens',\n",
    "  'ibm',\n",
    "  '3m',\n",
    "  'americanexpress',\n",
    "  'pfizer',\n",
    "  'verizoncommunications',\n",
    "  'apple',\n",
    "  'exxonmobil',\n",
    "  'dowinc',\n",
    "  'unitedhealth',\n",
    "  'walmart']]"
   ]
  },
  {
   "cell_type": "code",
   "execution_count": 48,
   "metadata": {},
   "outputs": [],
   "source": [
    "## check random portfolios for subadditivity with 95% VaR ##"
   ]
  },
  {
   "cell_type": "code",
   "execution_count": 49,
   "metadata": {},
   "outputs": [
    {
     "data": {
      "text/plain": [
       "True"
      ]
     },
     "execution_count": 49,
     "metadata": {},
     "output_type": "execute_result"
    }
   ],
   "source": [
    "## random portfolio 1 ##\n",
    "\n",
    "subadditive(0.05, merck, dowinc, intel, ibm, cocacola, homedepot, nike, jpmorganchase, jandj,mcdonalds, \n",
    "            proctergamble)"
   ]
  },
  {
   "cell_type": "code",
   "execution_count": 50,
   "metadata": {},
   "outputs": [
    {
     "data": {
      "text/plain": [
       "True"
      ]
     },
     "execution_count": 50,
     "metadata": {},
     "output_type": "execute_result"
    }
   ],
   "source": [
    "## random portfolio 2 ##\n",
    "\n",
    "subadditive(0.05, pfizer, boeing, walmart, cisco, dowinc, nike, verizoncom, travelers, homedepot, cocacola, \n",
    "            exxonmobil, unitedhealth, apple, americanexpress, proctergamble, merck, visa, disney,\n",
    "            goldmansachs, jpmorganchase, caterpillar, mmm, ibm, walgreens)"
   ]
  },
  {
   "cell_type": "code",
   "execution_count": 51,
   "metadata": {},
   "outputs": [
    {
     "data": {
      "text/plain": [
       "True"
      ]
     },
     "execution_count": 51,
     "metadata": {},
     "output_type": "execute_result"
    }
   ],
   "source": [
    "## random portfolio 3 ##\n",
    "\n",
    "subadditive(0.05, boeing, caterpillar, walgreens)"
   ]
  },
  {
   "cell_type": "code",
   "execution_count": 52,
   "metadata": {},
   "outputs": [
    {
     "data": {
      "text/plain": [
       "True"
      ]
     },
     "execution_count": 52,
     "metadata": {},
     "output_type": "execute_result"
    }
   ],
   "source": [
    "## random portfolio 4 ##\n",
    "\n",
    "subadditive(0.05, walgreens, proctergamble, pfizer)"
   ]
  },
  {
   "cell_type": "code",
   "execution_count": 53,
   "metadata": {},
   "outputs": [
    {
     "data": {
      "text/plain": [
       "True"
      ]
     },
     "execution_count": 53,
     "metadata": {},
     "output_type": "execute_result"
    }
   ],
   "source": [
    "## random portfolio 5 ##\n",
    "subadditive(0.05, visa, disney, jandj, mcdonalds, chevron, caterpillar, boeing, microsoft, homedepot,\n",
    "            travelers, cocacola, merck, goldmansachs, intel, cisco, proctergamble, jpmorganchase,\n",
    "            walgreens, ibm, mmm, americanexpress, pfizer, verizoncom, apple, exxonmobil, dowinc,\n",
    "             unitedhealth, walmart)"
   ]
  },
  {
   "cell_type": "code",
   "execution_count": 54,
   "metadata": {},
   "outputs": [
    {
     "name": "stdout",
     "output_type": "stream",
     "text": [
      "+-----------+-------------------------------+-------------+\n",
      "| Portfolio | Number of stocks in portfolio | Subadditive |\n",
      "+-----------+-------------------------------+-------------+\n",
      "|     1     |               11              |     Yes     |\n",
      "|     2     |               24              |     Yes     |\n",
      "|     3     |               3               |     Yes     |\n",
      "|     4     |               3               |     Yes     |\n",
      "|     5     |               28              |     Yes     |\n",
      "+-----------+-------------------------------+-------------+\n"
     ]
    }
   ],
   "source": [
    "table_one = PrettyTable()\n",
    "table_one.field_names = ['Portfolio','Number of stocks in portfolio', 'Subadditive']\n",
    "table_one.add_row(['1',11, 'Yes'])\n",
    "table_one.add_row(['2',24, 'Yes'])\n",
    "table_one.add_row(['3',3, 'Yes'])\n",
    "table_one.add_row(['4',3, 'Yes'])\n",
    "table_one.add_row(['5',28, 'Yes'])\n",
    "print(table_one)"
   ]
  },
  {
   "cell_type": "code",
   "execution_count": 55,
   "metadata": {},
   "outputs": [],
   "source": [
    "## check random portfolios subadditive 99% VaR ## "
   ]
  },
  {
   "cell_type": "code",
   "execution_count": 56,
   "metadata": {},
   "outputs": [
    {
     "data": {
      "text/plain": [
       "True"
      ]
     },
     "execution_count": 56,
     "metadata": {},
     "output_type": "execute_result"
    }
   ],
   "source": [
    "## random portfolio 1 ##\n",
    "\n",
    "subadditive(0.01, merck, dowinc, intel, ibm, cocacola, homedepot, nike, jpmorganchase, jandj,mcdonalds, \n",
    "            proctergamble)"
   ]
  },
  {
   "cell_type": "code",
   "execution_count": 57,
   "metadata": {},
   "outputs": [
    {
     "data": {
      "text/plain": [
       "True"
      ]
     },
     "execution_count": 57,
     "metadata": {},
     "output_type": "execute_result"
    }
   ],
   "source": [
    "## random portfolio 2 ##\n",
    "\n",
    "subadditive(0.01, pfizer, boeing, walmart, cisco, dowinc, nike, verizoncom, travelers, homedepot, cocacola, \n",
    "            exxonmobil, unitedhealth, apple, americanexpress, proctergamble, merck, visa, disney,\n",
    "            goldmansachs, jpmorganchase, caterpillar, mmm, ibm, walgreens)"
   ]
  },
  {
   "cell_type": "code",
   "execution_count": 58,
   "metadata": {},
   "outputs": [
    {
     "data": {
      "text/plain": [
       "True"
      ]
     },
     "execution_count": 58,
     "metadata": {},
     "output_type": "execute_result"
    }
   ],
   "source": [
    "## random portfolio 3 ##\n",
    "\n",
    "subadditive(0.01, boeing, caterpillar, walgreens)"
   ]
  },
  {
   "cell_type": "code",
   "execution_count": 59,
   "metadata": {},
   "outputs": [
    {
     "data": {
      "text/plain": [
       "True"
      ]
     },
     "execution_count": 59,
     "metadata": {},
     "output_type": "execute_result"
    }
   ],
   "source": [
    "## random portfolio 4 ##\n",
    "\n",
    "subadditive(0.01, walgreens, proctergamble, pfizer)"
   ]
  },
  {
   "cell_type": "code",
   "execution_count": 60,
   "metadata": {},
   "outputs": [
    {
     "data": {
      "text/plain": [
       "True"
      ]
     },
     "execution_count": 60,
     "metadata": {},
     "output_type": "execute_result"
    }
   ],
   "source": [
    "## random portfolio 5 ##\n",
    "\n",
    "subadditive(0.01, visa, disney, jandj, mcdonalds, chevron, caterpillar, boeing, microsoft, homedepot,\n",
    "            travelers, cocacola, merck, goldmansachs, intel, cisco, proctergamble, jpmorganchase,\n",
    "            walgreens, ibm, mmm, americanexpress, pfizer, verizoncom, apple, exxonmobil, dowinc,\n",
    "             unitedhealth, walmart)"
   ]
  },
  {
   "cell_type": "code",
   "execution_count": 61,
   "metadata": {},
   "outputs": [
    {
     "name": "stdout",
     "output_type": "stream",
     "text": [
      "+-----------+-------------------------------+-------------+\n",
      "| Portfolio | Number of stocks in portfolio | Subadditive |\n",
      "+-----------+-------------------------------+-------------+\n",
      "|     1     |               11              |     Yes     |\n",
      "|     2     |               24              |     Yes     |\n",
      "|     3     |               3               |     yes     |\n",
      "|     4     |               3               |     Yes     |\n",
      "|     5     |               28              |     Yes     |\n",
      "+-----------+-------------------------------+-------------+\n"
     ]
    }
   ],
   "source": [
    "table_two = PrettyTable()\n",
    "table_two.field_names = ['Portfolio','Number of stocks in portfolio', 'Subadditive']\n",
    "table_two.add_row(['1',11, 'Yes'])\n",
    "table_two.add_row(['2',24, 'Yes'])\n",
    "table_two.add_row(['3',3, 'yes'])\n",
    "table_two.add_row(['4',3, 'Yes'])\n",
    "table_two.add_row(['5',28, 'Yes'])\n",
    "print(table_two)"
   ]
  },
  {
   "cell_type": "code",
   "execution_count": 62,
   "metadata": {},
   "outputs": [],
   "source": [
    "## counting the violations of subadditivity ##"
   ]
  },
  {
   "cell_type": "code",
   "execution_count": 63,
   "metadata": {},
   "outputs": [],
   "source": [
    "import itertools\n",
    "from itertools import combinations"
   ]
  },
  {
   "cell_type": "code",
   "execution_count": 64,
   "metadata": {},
   "outputs": [],
   "source": [
    "## we first chose 15 random stocks and then check all their combinations for violations of subadditivity ##\n",
    "\n",
    "list_dow_jones = list(stoxx)\n",
    "# random.sample(list_dow_jones, 15)"
   ]
  },
  {
   "cell_type": "code",
   "execution_count": 65,
   "metadata": {},
   "outputs": [],
   "source": [
    "result_random_floats = [mmm, walgreens, americanexpress, disney, dowinc, travelers, walmart, nike, visa, merck, \n",
    "                        mcdonalds, caterpillar, unitedhealth, ibm, boeing]"
   ]
  },
  {
   "cell_type": "code",
   "execution_count": 66,
   "metadata": {},
   "outputs": [],
   "source": [
    "result_random_strings = ['mmm', 'walgreens', 'americanexpress', 'disney', 'dowinc', 'travelers', 'walmart', 'nike',\n",
    "                        'visa', 'merck', 'mcdonalds', 'caterpillar', 'unitedhealth', 'ibm', 'boeing']"
   ]
  },
  {
   "cell_type": "code",
   "execution_count": 67,
   "metadata": {},
   "outputs": [
    {
     "data": {
      "text/plain": [
       "32752"
      ]
     },
     "execution_count": 67,
     "metadata": {},
     "output_type": "execute_result"
    }
   ],
   "source": [
    "## this is the number of all possible combinations of portfolios which include more than one stock ##\n",
    "\n",
    "all_combinations = []\n",
    "for r in range(len(result_random_floats) + 1):\n",
    "    combinations_object = itertools.combinations(result_random_floats, r)\n",
    "    combinations_list = list(combinations_object)\n",
    "    all_combinations += combinations_list\n",
    "all_combinations = [x for x in all_combinations if len(x) > 1]\n",
    "len(all_combinations)"
   ]
  },
  {
   "cell_type": "code",
   "execution_count": 68,
   "metadata": {},
   "outputs": [],
   "source": [
    "## define function to count the violations ##\n",
    "\n",
    "def number_violations(quantile, list_stocks_portfolio):\n",
    "    \n",
    "    all_combinations = []\n",
    "    for r in range(len(list_stocks_portfolio) + 1):\n",
    "        combinations_object = itertools.combinations(list_stocks_portfolio, r)\n",
    "        combinations_list = list(combinations_object)\n",
    "        all_combinations += combinations_list\n",
    "    all_combinations = [x for x in all_combinations if len(x) > 1]\n",
    "    all_combinations = [list(elem) for elem in all_combinations] \n",
    "    checked_subadditive = [subadditive(quantile,*element) for element in all_combinations]\n",
    "    return checked_subadditive.count(False)"
   ]
  },
  {
   "cell_type": "code",
   "execution_count": 69,
   "metadata": {},
   "outputs": [],
   "source": [
    "def index_violations(quantile,list_stocks_portfolio):\n",
    "    \n",
    "    all_combinations = []\n",
    "    for r in range(len(list_stocks_portfolio) + 1):\n",
    "        combinations_object = itertools.combinations(list_stocks_portfolio, r)\n",
    "        combinations_list = list(combinations_object)\n",
    "        all_combinations += combinations_list\n",
    "        \n",
    "    all_combinations = [x for x in all_combinations if len(x) > 1]\n",
    "    all_combinations = [list(elem) for elem in all_combinations]\n",
    "    checked_subadditive = [subadditive(quantile,*element) for element in all_combinations]\n",
    "    indices = [i for i, x in enumerate(checked_subadditive) if x == False]\n",
    "    return indices"
   ]
  },
  {
   "cell_type": "code",
   "execution_count": 70,
   "metadata": {},
   "outputs": [],
   "source": [
    "def portfolio_violations(list_stocks_portfolio_strings, index_violations):\n",
    "    \n",
    "    all_combinations = []\n",
    "    for r in range(len(list_stocks_portfolio_strings) + 1):\n",
    "        combinations_object = itertools.combinations(list_stocks_portfolio_strings, r)\n",
    "        combinations_list = list(combinations_object)\n",
    "        all_combinations += combinations_list\n",
    "    all_combinations = [x for x in all_combinations if len(x) > 1]\n",
    "    all_combinations = [list(elem) for elem in all_combinations]\n",
    "     \n",
    "    for i in index_violations:\n",
    "        print(all_combinations[i])"
   ]
  },
  {
   "cell_type": "code",
   "execution_count": 71,
   "metadata": {},
   "outputs": [],
   "source": [
    "# %%time\n",
    "# number_violations(0.05, result_random_floats)"
   ]
  },
  {
   "cell_type": "code",
   "execution_count": 72,
   "metadata": {},
   "outputs": [],
   "source": [
    "## the number of violations is saved here because of the computing time ##\n",
    "## computing time: 9min 13s ##\n",
    "\n",
    "violations_95 = 47"
   ]
  },
  {
   "cell_type": "code",
   "execution_count": 73,
   "metadata": {},
   "outputs": [],
   "source": [
    "# %%time\n",
    "# number_violations(0.01, result_random_floats)"
   ]
  },
  {
   "cell_type": "code",
   "execution_count": 74,
   "metadata": {},
   "outputs": [],
   "source": [
    "## the number of violations is saved here because of the computing time ##\n",
    "## computing time: 9min 40s ##\n",
    "\n",
    "violations_99 = 284"
   ]
  },
  {
   "cell_type": "code",
   "execution_count": 75,
   "metadata": {},
   "outputs": [
    {
     "name": "stdout",
     "output_type": "stream",
     "text": [
      "+------------------+----------------------+\n",
      "| Confidence level | number of violations |\n",
      "+------------------+----------------------+\n",
      "|     95% VaR      |          47          |\n",
      "|     99% VaR      |         284          |\n",
      "+------------------+----------------------+\n"
     ]
    }
   ],
   "source": [
    "table_three = PrettyTable()\n",
    "table_three.field_names = ['Confidence level','number of violations']\n",
    "table_three.add_row(['95% VaR', violations_95])\n",
    "table_three.add_row(['99% VaR', violations_99])\n",
    "print(table_three)"
   ]
  },
  {
   "cell_type": "code",
   "execution_count": null,
   "metadata": {},
   "outputs": [],
   "source": []
  },
  {
   "cell_type": "code",
   "execution_count": 76,
   "metadata": {},
   "outputs": [],
   "source": [
    "# %%time\n",
    "# indices_95 = index_violations(0.05,result_random_floats)"
   ]
  },
  {
   "cell_type": "code",
   "execution_count": 77,
   "metadata": {},
   "outputs": [],
   "source": [
    "# %%time\n",
    "# where_violations_95 =portfolio_violations(result_random_strings,indices_95)"
   ]
  },
  {
   "cell_type": "code",
   "execution_count": 278,
   "metadata": {},
   "outputs": [],
   "source": [
    "where_violations_95_saved = [['disney', 'dowinc'],\n",
    "['dowinc', 'walmart'],\n",
    "['dowinc', 'caterpillar'],\n",
    "['dowinc', 'unitedhealth'],\n",
    "['nike', 'visa'],\n",
    "['nike', 'caterpillar'],\n",
    "['visa', 'ibm'],\n",
    "['americanexpress', 'unitedhealth', 'ibm'],\n",
    "['disney', 'dowinc', 'nike'],\n",
    "['disney', 'visa', 'ibm'],\n",
    "['dowinc', 'visa', 'caterpillar'],\n",
    "['dowinc', 'visa', 'unitedhealth'],\n",
    "['walmart', 'visa', 'unitedhealth'],\n",
    "['nike', 'visa', 'ibm'],\n",
    "['visa', 'unitedhealth', 'ibm'],\n",
    "['mmm', 'americanexpress', 'visa', 'caterpillar'],\n",
    "['mmm', 'visa', 'unitedhealth', 'ibm'],\n",
    "['walgreens', 'disney', 'dowinc', 'visa'],\n",
    "['americanexpress', 'disney', 'dowinc', 'nike'],\n",
    "['americanexpress', 'disney', 'dowinc', 'visa'],\n",
    "['americanexpress', 'disney', 'visa', 'mcdonalds'],\n",
    "['americanexpress', 'disney', 'visa', 'caterpillar'],\n",
    "['americanexpress', 'dowinc', 'visa', 'caterpillar'],\n",
    "['disney', 'dowinc', 'nike', 'visa'],\n",
    "['disney', 'dowinc', 'nike', 'mcdonalds'],\n",
    "['disney', 'dowinc', 'mcdonalds', 'unitedhealth'],\n",
    "['disney', 'nike', 'visa', 'ibm'],\n",
    "['walmart', 'visa', 'unitedhealth', 'ibm'],\n",
    "['americanexpress', 'disney', 'dowinc', 'nike', 'visa'],\n",
    "['americanexpress', 'disney', 'dowinc', 'nike', 'caterpillar'],\n",
    "['americanexpress', 'disney', 'dowinc', 'visa', 'caterpillar'],\n",
    "['americanexpress', 'disney', 'nike', 'visa', 'mcdonalds'],\n",
    "['americanexpress', 'disney', 'nike', 'visa', 'caterpillar'],\n",
    "['americanexpress', 'disney', 'nike', 'visa', 'ibm'],\n",
    "['disney', 'dowinc', 'visa', 'mcdonalds', 'unitedhealth'],\n",
    "['walmart', 'visa', 'merck', 'unitedhealth', 'ibm'],\n",
    "['walmart', 'visa', 'mcdonalds', 'unitedhealth', 'ibm'],\n",
    "['walmart', 'visa', 'caterpillar', 'unitedhealth', 'ibm'],\n",
    "['americanexpress', 'disney', 'dowinc', 'nike', 'visa', 'mcdonalds'],\n",
    "['americanexpress', 'disney', 'dowinc', 'nike', 'visa', 'caterpillar'],\n",
    "['americanexpress', 'disney', 'dowinc', 'nike', 'visa', 'ibm'],\n",
    "['americanexpress', 'disney', 'dowinc', 'nike', 'mcdonalds', 'caterpillar'],\n",
    "['americanexpress', 'disney', 'nike', 'visa', 'caterpillar', 'ibm'],\n",
    "['americanexpress', 'disney', 'dowinc', 'walmart', 'nike', 'visa', 'mcdonalds'],\n",
    "['americanexpress', 'disney', 'dowinc', 'nike', 'visa', 'caterpillar', 'ibm'],\n",
    "['americanexpress', 'disney', 'dowinc', 'travelers', 'nike', 'visa', 'mcdonalds', 'caterpillar', 'unitedhealth'],\n",
    "['americanexpress', 'disney', 'dowinc', 'travelers', 'nike', 'visa', 'mcdonalds', 'caterpillar', 'unitedhealth', 'ibm']]"
   ]
  },
  {
   "cell_type": "code",
   "execution_count": 314,
   "metadata": {},
   "outputs": [],
   "source": [
    "## define function to count how often one stock in portfolio of portfolios which violate subadditivity ##\n",
    "\n",
    "def count(list_violations, stock):\n",
    "    x = 0\n",
    "    for z in list_violations:\n",
    "        for element in z:\n",
    "            y = element.count(stock)\n",
    "            x+= y\n",
    "    return x\n",
    "        "
   ]
  },
  {
   "cell_type": "code",
   "execution_count": 326,
   "metadata": {},
   "outputs": [
    {
     "data": {
      "text/plain": [
       "[2, 1, 22, 28, 26, 2, 7, 22, 35, 1, 11, 16, 14, 16, 0]"
      ]
     },
     "execution_count": 326,
     "metadata": {},
     "output_type": "execute_result"
    }
   ],
   "source": [
    "number_violations_95 = []\n",
    "for i in result_random_strings:\n",
    "    x =count(where_violations_95_saved,i)\n",
    "    number_violations_95.append(x)\n",
    "number_violations_95\n",
    "\n"
   ]
  },
  {
   "cell_type": "code",
   "execution_count": 327,
   "metadata": {},
   "outputs": [
    {
     "data": {
      "text/plain": [
       "{'mmm': 2,\n",
       " 'walgreens': 1,\n",
       " 'americanexpress': 22,\n",
       " 'disney': 28,\n",
       " 'dowinc': 26,\n",
       " 'travelers': 2,\n",
       " 'walmart': 7,\n",
       " 'nike': 22,\n",
       " 'visa': 35,\n",
       " 'merck': 1,\n",
       " 'mcdonalds': 11,\n",
       " 'caterpillar': 16,\n",
       " 'unitedhealth': 14,\n",
       " 'ibm': 16,\n",
       " 'boeing': 0}"
      ]
     },
     "execution_count": 327,
     "metadata": {},
     "output_type": "execute_result"
    }
   ],
   "source": [
    "dict_violations_95 = dict(zip(result_random_strings, number_violations_95))\n",
    "dict_violations_95"
   ]
  },
  {
   "cell_type": "code",
   "execution_count": null,
   "metadata": {},
   "outputs": [],
   "source": []
  },
  {
   "cell_type": "code",
   "execution_count": null,
   "metadata": {},
   "outputs": [],
   "source": []
  },
  {
   "cell_type": "code",
   "execution_count": 79,
   "metadata": {},
   "outputs": [],
   "source": [
    "# %%time\n",
    "# indices_99 = index_violations(0.01,result_random_floats)"
   ]
  },
  {
   "cell_type": "code",
   "execution_count": 80,
   "metadata": {},
   "outputs": [],
   "source": [
    "# %%time\n",
    "# where_violations_99 =portfolio_violations(result_random_strings,indices_99)"
   ]
  },
  {
   "cell_type": "code",
   "execution_count": 320,
   "metadata": {},
   "outputs": [],
   "source": [
    "where_violations_99_saved = [['mmm', 'disney'],\n",
    "['mmm', 'nike'],\n",
    "['mmm', 'caterpillar'],\n",
    "['mmm', 'ibm'],\n",
    "['americanexpress', 'disney'],\n",
    "['americanexpress', 'ibm'],\n",
    "['disney', 'nike'],\n",
    "['disney', 'ibm'],\n",
    "['dowinc', 'nike'],\n",
    "['dowinc', 'boeing'],\n",
    "['travelers', 'ibm'],\n",
    "['mmm', 'walgreens', 'nike'],\n",
    "['mmm', 'walgreens', 'ibm'],\n",
    "['mmm', 'disney', 'nike'],\n",
    "['mmm', 'disney', 'visa'],\n",
    "['mmm', 'disney', 'ibm'],\n",
    "['mmm', 'walmart', 'caterpillar'],\n",
    "['mmm', 'nike', 'caterpillar'],\n",
    "['mmm', 'nike', 'ibm'],\n",
    "['mmm', 'caterpillar', 'unitedhealth'],\n",
    "['mmm', 'caterpillar', 'ibm'],\n",
    "['walgreens', 'dowinc', 'boeing'],\n",
    "['americanexpress', 'disney', 'visa'],\n",
    "['americanexpress', 'disney', 'mcdonalds'],\n",
    "['americanexpress', 'dowinc', 'travelers'],\n",
    "['americanexpress', 'travelers', 'caterpillar'],\n",
    "['americanexpress', 'travelers', 'ibm'],\n",
    "['americanexpress', 'nike', 'visa'],\n",
    "['americanexpress', 'nike', 'merck'],\n",
    "['americanexpress', 'nike', 'mcdonalds'],\n",
    "['americanexpress', 'nike', 'ibm'],\n",
    "['americanexpress', 'visa', 'ibm'],\n",
    "['americanexpress', 'merck', 'ibm'],\n",
    "['americanexpress', 'mcdonalds', 'ibm'],\n",
    "['americanexpress', 'caterpillar', 'unitedhealth'],\n",
    "['disney', 'travelers', 'ibm'],\n",
    "['disney', 'nike', 'caterpillar'],\n",
    "['disney', 'caterpillar', 'ibm'],\n",
    "['dowinc', 'travelers', 'unitedhealth'],\n",
    "['dowinc', 'walmart', 'boeing'],\n",
    "['dowinc', 'nike', 'boeing'],\n",
    "['dowinc', 'ibm', 'boeing'],\n",
    "['travelers', 'nike', 'ibm'],\n",
    "['travelers', 'visa', 'ibm'],\n",
    "['travelers', 'caterpillar', 'unitedhealth'],\n",
    "['nike', 'merck', 'caterpillar'],\n",
    "['nike', 'mcdonalds', 'unitedhealth'],\n",
    "['merck', 'mcdonalds', 'unitedhealth'],\n",
    "['mmm', 'walgreens', 'nike', 'caterpillar'],\n",
    "['mmm', 'americanexpress', 'travelers', 'ibm'],\n",
    "['mmm', 'disney', 'walmart', 'caterpillar'],\n",
    "['mmm', 'disney', 'nike', 'caterpillar'],\n",
    "['mmm', 'disney', 'nike', 'ibm'],\n",
    "['mmm', 'disney', 'visa', 'caterpillar'],\n",
    "['mmm', 'disney', 'caterpillar', 'unitedhealth'],\n",
    "['mmm', 'disney', 'caterpillar', 'ibm'],\n",
    "['mmm', 'walmart', 'nike', 'caterpillar'],\n",
    "['mmm', 'walmart', 'caterpillar', 'ibm'],\n",
    "['mmm', 'nike', 'caterpillar', 'unitedhealth'],\n",
    "['mmm', 'nike', 'caterpillar', 'ibm'],\n",
    "['mmm', 'caterpillar', 'unitedhealth', 'ibm'],\n",
    "['walgreens', 'dowinc', 'nike', 'boeing'],\n",
    "['walgreens', 'dowinc', 'ibm', 'boeing'],\n",
    "['americanexpress', 'disney', 'travelers', 'caterpillar'],\n",
    "['americanexpress', 'disney', 'travelers', 'ibm'],\n",
    "['americanexpress', 'disney', 'visa', 'mcdonalds'],\n",
    "['americanexpress', 'dowinc', 'travelers', 'nike'],\n",
    "['americanexpress', 'dowinc', 'travelers', 'visa'],\n",
    "['americanexpress', 'dowinc', 'travelers', 'merck'],\n",
    "['americanexpress', 'dowinc', 'travelers', 'mcdonalds'],\n",
    "['americanexpress', 'dowinc', 'travelers', 'unitedhealth'],\n",
    "['americanexpress', 'dowinc', 'travelers', 'boeing'],\n",
    "['americanexpress', 'travelers', 'nike', 'caterpillar'],\n",
    "['americanexpress', 'travelers', 'nike', 'ibm'],\n",
    "['americanexpress', 'travelers', 'visa', 'caterpillar'],\n",
    "['americanexpress', 'travelers', 'visa', 'ibm'],\n",
    "['americanexpress', 'travelers', 'merck', 'caterpillar'],\n",
    "['americanexpress', 'travelers', 'mcdonalds', 'caterpillar'],\n",
    "['americanexpress', 'travelers', 'caterpillar', 'unitedhealth'],\n",
    "['americanexpress', 'travelers', 'caterpillar', 'ibm'],\n",
    "['americanexpress', 'travelers', 'caterpillar', 'boeing'],\n",
    "['americanexpress', 'nike', 'visa', 'merck'],\n",
    "['americanexpress', 'nike', 'visa', 'mcdonalds'],\n",
    "['americanexpress', 'nike', 'merck', 'mcdonalds'],\n",
    "['americanexpress', 'nike', 'mcdonalds', 'ibm'],\n",
    "['americanexpress', 'visa', 'merck', 'mcdonalds'],\n",
    "['americanexpress', 'visa', 'merck', 'ibm'],\n",
    "['americanexpress', 'visa', 'mcdonalds', 'ibm'],\n",
    "['americanexpress', 'visa', 'caterpillar', 'unitedhealth'],\n",
    "['americanexpress', 'merck', 'caterpillar', 'unitedhealth'],\n",
    "['americanexpress', 'mcdonalds', 'caterpillar', 'unitedhealth'],\n",
    "['disney', 'travelers', 'mcdonalds', 'ibm'],\n",
    "['disney', 'walmart', 'nike', 'caterpillar'],\n",
    "['disney', 'walmart', 'caterpillar', 'ibm'],\n",
    "['dowinc', 'travelers', 'mcdonalds', 'unitedhealth'],\n",
    "['dowinc', 'travelers', 'unitedhealth', 'boeing'],\n",
    "['dowinc', 'walmart', 'nike', 'boeing'],\n",
    "['dowinc', 'walmart', 'ibm', 'boeing'],\n",
    "['dowinc', 'nike', 'ibm', 'boeing'],\n",
    "['travelers', 'nike', 'visa', 'ibm'],\n",
    "['travelers', 'nike', 'caterpillar', 'unitedhealth'],\n",
    "['travelers', 'visa', 'caterpillar', 'unitedhealth'],\n",
    "['travelers', 'caterpillar', 'unitedhealth', 'ibm'],\n",
    "['nike', 'visa', 'merck', 'caterpillar'],\n",
    "['nike', 'merck', 'mcdonalds', 'caterpillar'],\n",
    "['visa', 'merck', 'mcdonalds', 'unitedhealth'],\n",
    "['mmm', 'walgreens', 'disney', 'nike', 'caterpillar'],\n",
    "['mmm', 'walgreens', 'disney', 'nike', 'ibm'],\n",
    "['mmm', 'walgreens', 'disney', 'caterpillar', 'unitedhealth'],\n",
    "['mmm', 'walgreens', 'walmart', 'nike', 'caterpillar'],\n",
    "['mmm', 'walgreens', 'walmart', 'caterpillar', 'ibm'],\n",
    "['mmm', 'americanexpress', 'travelers', 'visa', 'ibm'],\n",
    "['mmm', 'americanexpress', 'travelers', 'caterpillar', 'unitedhealth'],\n",
    "['mmm', 'disney', 'walmart', 'nike', 'caterpillar'],\n",
    "['mmm', 'disney', 'walmart', 'visa', 'caterpillar'],\n",
    "['mmm', 'disney', 'walmart', 'caterpillar', 'ibm'],\n",
    "['mmm', 'disney', 'nike', 'caterpillar', 'unitedhealth'],\n",
    "['mmm', 'disney', 'nike', 'caterpillar', 'ibm'],\n",
    "['mmm', 'disney', 'caterpillar', 'unitedhealth', 'ibm'],\n",
    "['mmm', 'walmart', 'nike', 'caterpillar', 'ibm'],\n",
    "['mmm', 'walmart', 'caterpillar', 'unitedhealth', 'ibm'],\n",
    "['mmm', 'nike', 'merck', 'mcdonalds', 'caterpillar'],\n",
    "['walgreens', 'dowinc', 'nike', 'ibm', 'boeing'],\n",
    "['walgreens', 'nike', 'visa', 'merck', 'caterpillar'],\n",
    "['walgreens', 'nike', 'merck', 'mcdonalds', 'caterpillar'],\n",
    "['americanexpress', 'disney', 'dowinc', 'travelers', 'unitedhealth'],\n",
    "['americanexpress', 'disney', 'travelers', 'nike', 'ibm'],\n",
    "['americanexpress', 'disney', 'travelers', 'visa', 'caterpillar'],\n",
    "['americanexpress', 'disney', 'travelers', 'visa', 'ibm'],\n",
    "['americanexpress', 'disney', 'travelers', 'merck', 'caterpillar'],\n",
    "['americanexpress', 'disney', 'travelers', 'mcdonalds', 'caterpillar'],\n",
    "['americanexpress', 'disney', 'travelers', 'mcdonalds', 'ibm'],\n",
    "['americanexpress', 'disney', 'travelers', 'caterpillar', 'unitedhealth'],\n",
    "['americanexpress', 'disney', 'travelers', 'caterpillar', 'boeing'],\n",
    "['americanexpress', 'dowinc', 'travelers', 'nike', 'mcdonalds'],\n",
    "['americanexpress', 'dowinc', 'travelers', 'nike', 'unitedhealth'],\n",
    "['americanexpress', 'dowinc', 'travelers', 'nike', 'boeing'],\n",
    "['americanexpress', 'dowinc', 'travelers', 'visa', 'mcdonalds'],\n",
    "['americanexpress', 'dowinc', 'travelers', 'visa', 'unitedhealth'],\n",
    "['americanexpress', 'dowinc', 'travelers', 'visa', 'boeing'],\n",
    "['americanexpress', 'dowinc', 'travelers', 'merck', 'mcdonalds'],\n",
    "['americanexpress', 'dowinc', 'travelers', 'merck', 'unitedhealth'],\n",
    "['americanexpress', 'dowinc', 'travelers', 'merck', 'boeing'],\n",
    "['americanexpress', 'dowinc', 'travelers', 'mcdonalds', 'unitedhealth'],\n",
    "['americanexpress', 'dowinc', 'travelers', 'mcdonalds', 'boeing'],\n",
    "['americanexpress', 'dowinc', 'travelers', 'unitedhealth', 'ibm'],\n",
    "['americanexpress', 'dowinc', 'travelers', 'unitedhealth', 'boeing'],\n",
    "['americanexpress', 'travelers', 'nike', 'visa', 'caterpillar'],\n",
    "['americanexpress', 'travelers', 'nike', 'visa', 'ibm'],\n",
    "['americanexpress', 'travelers', 'nike', 'merck', 'caterpillar'],\n",
    "['americanexpress', 'travelers', 'nike', 'mcdonalds', 'caterpillar'],\n",
    "['americanexpress', 'travelers', 'nike', 'caterpillar', 'unitedhealth'],\n",
    "['americanexpress', 'travelers', 'nike', 'caterpillar', 'ibm'],\n",
    "['americanexpress', 'travelers', 'nike', 'caterpillar', 'boeing'],\n",
    "['americanexpress', 'travelers', 'visa', 'merck', 'caterpillar'],\n",
    "['americanexpress', 'travelers', 'visa', 'mcdonalds', 'caterpillar'],\n",
    "['americanexpress', 'travelers', 'visa', 'caterpillar', 'unitedhealth'],\n",
    "['americanexpress', 'travelers', 'visa', 'caterpillar', 'ibm'],\n",
    "['americanexpress', 'travelers', 'visa', 'caterpillar', 'boeing'],\n",
    "['americanexpress', 'travelers', 'merck', 'mcdonalds', 'caterpillar'],\n",
    "['americanexpress', 'travelers', 'merck', 'caterpillar', 'ibm'],\n",
    "['americanexpress', 'travelers', 'mcdonalds', 'caterpillar', 'ibm'],\n",
    "['americanexpress', 'travelers', 'caterpillar', 'unitedhealth', 'ibm'],\n",
    "['americanexpress', 'travelers', 'caterpillar', 'ibm', 'boeing'],\n",
    "['americanexpress', 'nike', 'visa', 'merck', 'mcdonalds'],\n",
    "['americanexpress', 'visa', 'mcdonalds', 'caterpillar', 'unitedhealth'],\n",
    "['americanexpress', 'merck', 'mcdonalds', 'caterpillar', 'unitedhealth'],\n",
    "['dowinc', 'walmart', 'nike', 'ibm', 'boeing'],\n",
    "['travelers', 'mcdonalds', 'caterpillar', 'unitedhealth', 'ibm'],\n",
    "['nike', 'visa', 'merck', 'mcdonalds', 'caterpillar'],\n",
    "['mmm', 'walgreens', 'disney', 'walmart', 'nike', 'caterpillar'],\n",
    "['mmm', 'walgreens', 'disney', 'nike', 'caterpillar', 'ibm'],\n",
    "['mmm', 'disney', 'walmart', 'nike', 'caterpillar', 'ibm'],\n",
    "['mmm', 'disney', 'walmart', 'caterpillar', 'unitedhealth', 'ibm'],\n",
    "['mmm', 'disney', 'nike', 'caterpillar', 'unitedhealth', 'ibm'],\n",
    "['mmm', 'nike', 'visa', 'merck', 'mcdonalds', 'caterpillar'],\n",
    "['walgreens', 'nike', 'visa', 'merck', 'mcdonalds', 'caterpillar'],\n",
    "['americanexpress', 'disney', 'dowinc', 'travelers', 'visa', 'unitedhealth'],\n",
    "['americanexpress', 'disney', 'dowinc', 'travelers', 'merck', 'unitedhealth'],\n",
    "['americanexpress', 'disney', 'dowinc', 'travelers', 'mcdonalds', 'unitedhealth'],\n",
    "['americanexpress', 'disney', 'dowinc', 'travelers', 'unitedhealth', 'boeing'],\n",
    "['americanexpress', 'disney', 'travelers', 'nike', 'visa', 'ibm'],\n",
    "['americanexpress', 'disney', 'travelers', 'nike', 'mcdonalds', 'ibm'],\n",
    "['americanexpress', 'disney', 'travelers', 'nike', 'caterpillar', 'unitedhealth'],\n",
    "['americanexpress', 'disney', 'travelers', 'visa', 'mcdonalds', 'caterpillar'],\n",
    "['americanexpress', 'disney', 'travelers', 'visa', 'mcdonalds', 'ibm'],\n",
    "['americanexpress', 'disney', 'travelers', 'visa', 'caterpillar', 'unitedhealth'],\n",
    "['americanexpress', 'disney', 'travelers', 'visa', 'caterpillar', 'boeing'],\n",
    "['americanexpress', 'disney', 'travelers', 'merck', 'mcdonalds', 'caterpillar'],\n",
    "['americanexpress', 'disney', 'travelers', 'merck', 'caterpillar', 'unitedhealth'],\n",
    "['americanexpress', 'disney', 'travelers', 'mcdonalds', 'caterpillar', 'unitedhealth'],\n",
    "['americanexpress', 'disney', 'travelers', 'mcdonalds', 'caterpillar', 'boeing'],\n",
    "['americanexpress', 'disney', 'travelers', 'caterpillar', 'unitedhealth', 'ibm'],\n",
    "['americanexpress', 'dowinc', 'travelers', 'nike', 'visa', 'unitedhealth'],\n",
    "['americanexpress', 'dowinc', 'travelers', 'nike', 'merck', 'unitedhealth'],\n",
    "['americanexpress', 'dowinc', 'travelers', 'nike', 'mcdonalds', 'unitedhealth'],\n",
    "['americanexpress', 'dowinc', 'travelers', 'nike', 'mcdonalds', 'boeing'],\n",
    "['americanexpress', 'dowinc', 'travelers', 'nike', 'unitedhealth', 'ibm'],\n",
    "['americanexpress', 'dowinc', 'travelers', 'nike', 'unitedhealth', 'boeing'],\n",
    "['americanexpress', 'dowinc', 'travelers', 'visa', 'merck', 'unitedhealth'],\n",
    "['americanexpress', 'dowinc', 'travelers', 'visa', 'mcdonalds', 'unitedhealth'],\n",
    "['americanexpress', 'dowinc', 'travelers', 'visa', 'mcdonalds', 'boeing'],\n",
    "['americanexpress', 'dowinc', 'travelers', 'visa', 'unitedhealth', 'ibm'],\n",
    "['americanexpress', 'dowinc', 'travelers', 'visa', 'unitedhealth', 'boeing'],\n",
    "['americanexpress', 'dowinc', 'travelers', 'merck', 'mcdonalds', 'unitedhealth'],\n",
    "['americanexpress', 'dowinc', 'travelers', 'merck', 'mcdonalds', 'boeing'],\n",
    "['americanexpress', 'dowinc', 'travelers', 'merck', 'unitedhealth', 'ibm'],\n",
    "['americanexpress', 'dowinc', 'travelers', 'mcdonalds', 'unitedhealth', 'ibm'],\n",
    "['americanexpress', 'dowinc', 'travelers', 'unitedhealth', 'ibm', 'boeing'],\n",
    "['americanexpress', 'travelers', 'nike', 'visa', 'merck', 'caterpillar'],\n",
    "['americanexpress', 'travelers', 'nike', 'visa', 'mcdonalds', 'caterpillar'],\n",
    "['americanexpress', 'travelers', 'nike', 'visa', 'caterpillar', 'unitedhealth'],\n",
    "['americanexpress', 'travelers', 'nike', 'visa', 'caterpillar', 'boeing'],\n",
    "['americanexpress', 'travelers', 'nike', 'merck', 'mcdonalds', 'caterpillar'],\n",
    "['americanexpress', 'travelers', 'nike', 'mcdonalds', 'caterpillar', 'ibm'],\n",
    "['americanexpress', 'travelers', 'nike', 'caterpillar', 'unitedhealth', 'ibm'],\n",
    "['americanexpress', 'travelers', 'nike', 'caterpillar', 'ibm', 'boeing'],\n",
    "['americanexpress', 'travelers', 'visa', 'merck', 'mcdonalds', 'caterpillar'],\n",
    "['americanexpress', 'travelers', 'visa', 'mcdonalds', 'caterpillar', 'ibm'],\n",
    "['americanexpress', 'travelers', 'visa', 'caterpillar', 'unitedhealth', 'ibm'],\n",
    "['americanexpress', 'travelers', 'visa', 'caterpillar', 'ibm', 'boeing'],\n",
    "['americanexpress', 'travelers', 'merck', 'mcdonalds', 'caterpillar', 'ibm'],\n",
    "['americanexpress', 'travelers', 'merck', 'caterpillar', 'unitedhealth', 'ibm'],\n",
    "['americanexpress', 'travelers', 'merck', 'caterpillar', 'ibm', 'boeing'],\n",
    "['americanexpress', 'travelers', 'mcdonalds', 'caterpillar', 'unitedhealth', 'ibm'],\n",
    "['americanexpress', 'travelers', 'mcdonalds', 'caterpillar', 'ibm', 'boeing'],\n",
    "['americanexpress', 'nike', 'visa', 'merck', 'mcdonalds', 'unitedhealth'],\n",
    "['mmm', 'walgreens', 'disney', 'walmart', 'nike', 'caterpillar', 'ibm'],\n",
    "['mmm', 'walgreens', 'nike', 'visa', 'merck', 'mcdonalds', 'caterpillar'],\n",
    "['mmm', 'disney', 'walmart', 'nike', 'caterpillar', 'unitedhealth', 'ibm'],\n",
    "['americanexpress', 'disney', 'dowinc', 'travelers', 'visa', 'mcdonalds', 'unitedhealth'],\n",
    "['americanexpress', 'disney', 'dowinc', 'travelers', 'visa', 'unitedhealth', 'boeing'],\n",
    "['americanexpress', 'disney', 'dowinc', 'travelers', 'merck', 'mcdonalds', 'unitedhealth'],\n",
    "['americanexpress', 'disney', 'dowinc', 'travelers', 'mcdonalds', 'unitedhealth', 'boeing'],\n",
    "['americanexpress', 'disney', 'travelers', 'nike', 'visa', 'mcdonalds', 'ibm'],\n",
    "['americanexpress', 'disney', 'travelers', 'nike', 'visa', 'caterpillar', 'unitedhealth'],\n",
    "['americanexpress', 'disney', 'travelers', 'nike', 'merck', 'caterpillar', 'unitedhealth'],\n",
    "['americanexpress', 'disney', 'travelers', 'nike', 'mcdonalds', 'caterpillar', 'unitedhealth'],\n",
    "['americanexpress', 'disney', 'travelers', 'nike', 'caterpillar', 'unitedhealth', 'ibm'],\n",
    "['americanexpress', 'disney', 'travelers', 'visa', 'merck', 'caterpillar', 'unitedhealth'],\n",
    "['americanexpress', 'disney', 'travelers', 'visa', 'mcdonalds', 'caterpillar', 'unitedhealth'],\n",
    "['americanexpress', 'disney', 'travelers', 'visa', 'mcdonalds', 'caterpillar', 'boeing'],\n",
    "['americanexpress', 'disney', 'travelers', 'visa', 'caterpillar', 'unitedhealth', 'ibm'],\n",
    "['americanexpress', 'disney', 'travelers', 'merck', 'caterpillar', 'unitedhealth', 'ibm'],\n",
    "['americanexpress', 'disney', 'travelers', 'mcdonalds', 'caterpillar', 'unitedhealth', 'ibm'],\n",
    "['americanexpress', 'dowinc', 'travelers', 'nike', 'visa', 'merck', 'unitedhealth'],\n",
    "['americanexpress', 'dowinc', 'travelers', 'nike', 'visa', 'mcdonalds', 'unitedhealth'],\n",
    "['americanexpress', 'dowinc', 'travelers', 'nike', 'visa', 'unitedhealth', 'boeing'],\n",
    "['americanexpress', 'dowinc', 'travelers', 'nike', 'merck', 'mcdonalds', 'unitedhealth'],\n",
    "['americanexpress', 'dowinc', 'travelers', 'nike', 'mcdonalds', 'unitedhealth', 'ibm'],\n",
    "['americanexpress', 'dowinc', 'travelers', 'nike', 'unitedhealth', 'ibm', 'boeing'],\n",
    "['americanexpress', 'dowinc', 'travelers', 'visa', 'merck', 'mcdonalds', 'unitedhealth'],\n",
    "['americanexpress', 'dowinc', 'travelers', 'visa', 'merck', 'unitedhealth', 'ibm'],\n",
    "['americanexpress', 'dowinc', 'travelers', 'visa', 'mcdonalds', 'unitedhealth', 'ibm'],\n",
    "['americanexpress', 'dowinc', 'travelers', 'visa', 'unitedhealth', 'ibm', 'boeing'],\n",
    "['americanexpress', 'dowinc', 'travelers', 'merck', 'mcdonalds', 'unitedhealth', 'ibm'],\n",
    "['americanexpress', 'dowinc', 'travelers', 'merck', 'unitedhealth', 'ibm', 'boeing'],\n",
    "['americanexpress', 'dowinc', 'travelers', 'mcdonalds', 'unitedhealth', 'ibm', 'boeing'],\n",
    "['americanexpress', 'travelers', 'nike', 'visa', 'merck', 'mcdonalds', 'caterpillar'],\n",
    "['americanexpress', 'travelers', 'nike', 'visa', 'caterpillar', 'unitedhealth', 'ibm'],\n",
    "['americanexpress', 'travelers', 'nike', 'merck', 'caterpillar', 'unitedhealth', 'ibm'],\n",
    "['americanexpress', 'travelers', 'nike', 'mcdonalds', 'caterpillar', 'unitedhealth', 'ibm'],\n",
    "['americanexpress', 'travelers', 'nike', 'mcdonalds', 'caterpillar', 'ibm', 'boeing'],\n",
    "['americanexpress', 'travelers', 'visa', 'merck', 'caterpillar', 'unitedhealth', 'ibm'],\n",
    "['americanexpress', 'travelers', 'visa', 'mcdonalds', 'caterpillar', 'unitedhealth', 'ibm'],\n",
    "['americanexpress', 'travelers', 'visa', 'mcdonalds', 'caterpillar', 'ibm', 'boeing'],\n",
    "['americanexpress', 'travelers', 'merck', 'mcdonalds', 'caterpillar', 'unitedhealth', 'ibm'],\n",
    "['americanexpress', 'travelers', 'merck', 'mcdonalds', 'caterpillar', 'ibm', 'boeing'],\n",
    "['americanexpress', 'disney', 'dowinc', 'travelers', 'visa', 'mcdonalds', 'unitedhealth', 'boeing'],\n",
    "['americanexpress', 'disney', 'travelers', 'nike', 'visa', 'merck', 'caterpillar', 'unitedhealth'],\n",
    "['americanexpress', 'disney', 'travelers', 'nike', 'visa', 'mcdonalds', 'caterpillar', 'unitedhealth'],\n",
    "['americanexpress', 'disney', 'travelers', 'nike', 'mcdonalds', 'caterpillar', 'unitedhealth', 'ibm'],\n",
    "['americanexpress', 'disney', 'travelers', 'visa', 'mcdonalds', 'caterpillar', 'unitedhealth', 'ibm'],\n",
    "['americanexpress', 'disney', 'travelers', 'merck', 'mcdonalds', 'caterpillar', 'unitedhealth', 'ibm'],\n",
    "['americanexpress', 'dowinc', 'travelers', 'nike', 'visa', 'merck', 'mcdonalds', 'unitedhealth'],\n",
    "['americanexpress', 'dowinc', 'travelers', 'nike', 'mcdonalds', 'unitedhealth', 'ibm', 'boeing'],\n",
    "['americanexpress', 'dowinc', 'travelers', 'visa', 'merck', 'mcdonalds', 'unitedhealth', 'ibm'],\n",
    "['americanexpress', 'dowinc', 'travelers', 'visa', 'merck', 'unitedhealth', 'ibm', 'boeing'],\n",
    "['americanexpress', 'dowinc', 'travelers', 'visa', 'mcdonalds', 'unitedhealth', 'ibm', 'boeing'],\n",
    "['americanexpress', 'travelers', 'nike', 'visa', 'merck', 'caterpillar', 'unitedhealth', 'ibm'],\n",
    "['americanexpress', 'travelers', 'nike', 'visa', 'mcdonalds', 'caterpillar', 'unitedhealth', 'ibm'],\n",
    "['americanexpress', 'travelers', 'nike', 'merck', 'mcdonalds', 'caterpillar', 'unitedhealth', 'ibm'],\n",
    "['americanexpress', 'travelers', 'visa', 'merck', 'mcdonalds', 'caterpillar', 'unitedhealth', 'ibm'],\n",
    "['americanexpress', 'travelers', 'nike', 'visa', 'merck', 'mcdonalds', 'caterpillar', 'unitedhealth', 'ibm']]\n"
   ]
  },
  {
   "cell_type": "code",
   "execution_count": 328,
   "metadata": {},
   "outputs": [
    {
     "data": {
      "text/plain": [
       "[52, 19, 192, 86, 80, 179, 22, 114, 94, 70, 97, 147, 118, 120, 53]"
      ]
     },
     "execution_count": 328,
     "metadata": {},
     "output_type": "execute_result"
    }
   ],
   "source": [
    "number_violations_99 = []\n",
    "for i in result_random_strings:\n",
    "    x =count(where_violations_99_saved,i)\n",
    "    number_violations_99.append(x)\n",
    "number_violations_99\n",
    "\n",
    "\n"
   ]
  },
  {
   "cell_type": "code",
   "execution_count": 329,
   "metadata": {},
   "outputs": [
    {
     "data": {
      "text/plain": [
       "{'mmm': 52,\n",
       " 'walgreens': 19,\n",
       " 'americanexpress': 192,\n",
       " 'disney': 86,\n",
       " 'dowinc': 80,\n",
       " 'travelers': 179,\n",
       " 'walmart': 22,\n",
       " 'nike': 114,\n",
       " 'visa': 94,\n",
       " 'merck': 70,\n",
       " 'mcdonalds': 97,\n",
       " 'caterpillar': 147,\n",
       " 'unitedhealth': 118,\n",
       " 'ibm': 120,\n",
       " 'boeing': 53}"
      ]
     },
     "execution_count": 329,
     "metadata": {},
     "output_type": "execute_result"
    }
   ],
   "source": [
    "dict_violations_99 = dict(zip(result_random_strings, number_violations_99))\n",
    "dict_violations_99"
   ]
  },
  {
   "cell_type": "code",
   "execution_count": 82,
   "metadata": {},
   "outputs": [],
   "source": [
    "## 5 years VaR, same components except DOW inc not included because no data available ##"
   ]
  },
  {
   "cell_type": "code",
   "execution_count": 83,
   "metadata": {},
   "outputs": [],
   "source": [
    "path_two = r'/Users/alexanderkoch/Desktop/Code Masterarbeit/Data_15-20'"
   ]
  },
  {
   "cell_type": "code",
   "execution_count": 84,
   "metadata": {},
   "outputs": [
    {
     "name": "stdout",
     "output_type": "stream",
     "text": [
      "/Users/alexanderkoch/Desktop/Code Masterarbeit/Data_15-20/Home Depot.csv\n",
      "/Users/alexanderkoch/Desktop/Code Masterarbeit/Data_15-20/United Health.csv\n",
      "/Users/alexanderkoch/Desktop/Code Masterarbeit/Data_15-20/Merck.csv\n",
      "/Users/alexanderkoch/Desktop/Code Masterarbeit/Data_15-20/Pfizer.csv\n",
      "/Users/alexanderkoch/Desktop/Code Masterarbeit/Data_15-20/Walmart.csv\n",
      "/Users/alexanderkoch/Desktop/Code Masterarbeit/Data_15-20/Apple.csv\n",
      "/Users/alexanderkoch/Desktop/Code Masterarbeit/Data_15-20/Intel.csv\n",
      "/Users/alexanderkoch/Desktop/Code Masterarbeit/Data_15-20/Exxon Mobil.csv\n",
      "/Users/alexanderkoch/Desktop/Code Masterarbeit/Data_15-20/Walgreens.csv\n",
      "/Users/alexanderkoch/Desktop/Code Masterarbeit/Data_15-20/Caterpillar.csv\n",
      "/Users/alexanderkoch/Desktop/Code Masterarbeit/Data_15-20/Goldman Sachs.csv\n",
      "/Users/alexanderkoch/Desktop/Code Masterarbeit/Data_15-20/Procter & Gamble.csv\n",
      "/Users/alexanderkoch/Desktop/Code Masterarbeit/Data_15-20/Visa.csv\n",
      "/Users/alexanderkoch/Desktop/Code Masterarbeit/Data_15-20/Disney.csv\n",
      "/Users/alexanderkoch/Desktop/Code Masterarbeit/Data_15-20/IBM.csv\n",
      "/Users/alexanderkoch/Desktop/Code Masterarbeit/Data_15-20/Nike.csv\n",
      "/Users/alexanderkoch/Desktop/Code Masterarbeit/Data_15-20/Johnson & Johnson.csv\n",
      "/Users/alexanderkoch/Desktop/Code Masterarbeit/Data_15-20/Chevron.csv\n",
      "/Users/alexanderkoch/Desktop/Code Masterarbeit/Data_15-20/Coca Cola.csv\n",
      "/Users/alexanderkoch/Desktop/Code Masterarbeit/Data_15-20/JPMorgan Chase.csv\n",
      "/Users/alexanderkoch/Desktop/Code Masterarbeit/Data_15-20/3M.csv\n",
      "/Users/alexanderkoch/Desktop/Code Masterarbeit/Data_15-20/Microsoft.csv\n",
      "/Users/alexanderkoch/Desktop/Code Masterarbeit/Data_15-20/Boeing.csv\n",
      "/Users/alexanderkoch/Desktop/Code Masterarbeit/Data_15-20/Verizon Communications.csv\n",
      "/Users/alexanderkoch/Desktop/Code Masterarbeit/Data_15-20/American Express.csv\n",
      "/Users/alexanderkoch/Desktop/Code Masterarbeit/Data_15-20/Cisco.csv\n",
      "/Users/alexanderkoch/Desktop/Code Masterarbeit/Data_15-20/Travelers.csv\n",
      "/Users/alexanderkoch/Desktop/Code Masterarbeit/Data_15-20/McDonalds.csv\n"
     ]
    }
   ],
   "source": [
    "col_list= ['Adj Close']\n",
    "for files in glob.glob(os.path.join(path_two, \"*.csv\")):\n",
    "    df = pd.read_csv(files, usecols=col_list)\n",
    "    print(files)"
   ]
  },
  {
   "cell_type": "code",
   "execution_count": 85,
   "metadata": {},
   "outputs": [],
   "source": [
    "col_list= ['Adj Close']\n",
    "\n",
    "def get_data_5y(stock):\n",
    "    df = pd.read_csv(path_two + f'/{stock}.csv', usecols=col_list)\n",
    "    return df['Adj Close']"
   ]
  },
  {
   "cell_type": "code",
   "execution_count": 86,
   "metadata": {},
   "outputs": [],
   "source": [
    "boeing_5y = get_data_5y('Boeing')\n",
    "homedepot_5y = get_data_5y('Home Depot')\n",
    "unitedhealth_5y = get_data_5y('United health')\n",
    "merck_5y = get_data_5y('Merck')\n",
    "pfizer_5y = get_data_5y('Pfizer')\n",
    "walmart_5y = get_data_5y('Walmart')\n",
    "apple_5y = get_data_5y('Apple')\n",
    "intel_5y = get_data_5y('Intel')\n",
    "exxonmobil_5y = get_data_5y('Exxon Mobil')\n",
    "walgreens_5y = get_data_5y('Walgreens')\n",
    "caterpillar_5y = get_data_5y('Caterpillar')\n",
    "goldmansachs_5y = get_data_5y('Goldman Sachs')\n",
    "proctergamble_5y = get_data_5y('Procter & Gamble')\n",
    "visa_5y = get_data_5y('Visa')\n",
    "disney_5y = get_data_5y('Disney')\n",
    "ibm_5y = get_data_5y('IBM')\n",
    "nike_5y = get_data_5y('Nike')\n",
    "jandj_5y = get_data_5y('Johnson & Johnson')\n",
    "cocacola_5y = get_data_5y('Coca Cola')\n",
    "jpmorganchase_5y = get_data_5y('JPMorgan Chase')\n",
    "mmm_5y = get_data_5y('3M')\n",
    "microsoft_5y = get_data_5y('Microsoft')\n",
    "chevron_5y = get_data_5y('Chevron')\n",
    "verizoncom_5y = get_data_5y('Verizon Communications')\n",
    "americanexpress_5y = get_data_5y('American Express')\n",
    "cisco_5y = get_data_5y('Cisco')\n",
    "travelers_5y = get_data_5y('Travelers')\n",
    "mcdonalds_5y = get_data_5y('McDonalds')"
   ]
  },
  {
   "cell_type": "code",
   "execution_count": 87,
   "metadata": {},
   "outputs": [],
   "source": [
    "boeing_5y = get_returns(boeing_5y)\n",
    "homedepot_5y = get_returns(homedepot_5y)\n",
    "unitedhealth_5y = get_returns(unitedhealth_5y)\n",
    "merck_5y = get_returns(merck_5y)\n",
    "pfizer_5y = get_returns(pfizer_5y)\n",
    "walmart_5y = get_returns(walmart_5y)\n",
    "apple_5y = get_returns(apple_5y)\n",
    "intel_5y = get_returns(intel_5y)\n",
    "exxonmobil_5y = get_returns(exxonmobil_5y)\n",
    "walgreens_5y = get_returns(walgreens_5y)\n",
    "caterpillar_5y = get_returns(caterpillar_5y)\n",
    "goldmansachs_5y = get_returns(goldmansachs_5y)\n",
    "proctergamble_5y = get_returns(proctergamble_5y)\n",
    "visa_5y = get_returns(visa_5y)\n",
    "disney_5y = get_returns(disney_5y)\n",
    "ibm_5y = get_returns(ibm_5y)\n",
    "nike_5y = get_returns(nike_5y)\n",
    "jandj_5y = get_returns(jandj_5y)\n",
    "cocacola_5y = get_returns(cocacola_5y)\n",
    "jpmorganchase_5y = get_returns(jpmorganchase_5y)\n",
    "mmm_5y = get_returns(mmm_5y)\n",
    "microsoft_5y = get_returns(microsoft_5y)\n",
    "chevron_5y = get_returns(chevron_5y)\n",
    "verizoncom_5y = get_returns(verizoncom_5y)\n",
    "americanexpress_5y = get_returns(americanexpress_5y)\n",
    "cisco_5y = get_returns(cisco_5y)\n",
    "travelers_5y = get_returns(travelers_5y)\n",
    "mcdonalds_5y = get_returns(mcdonalds_5y)"
   ]
  },
  {
   "cell_type": "code",
   "execution_count": 88,
   "metadata": {},
   "outputs": [
    {
     "name": "stdout",
     "output_type": "stream",
     "text": [
      "The excess kurtosis of the distribution (should be 0 if normally distrubuted): 7.5666\n",
      "The skewness of the distribution (should be 0 if normally distributed): 0.6546\n"
     ]
    },
    {
     "data": {
      "image/png": "[encoded data removed]",
      "text/plain": [
       "<Figure size 432x288 with 1 Axes>"
      ]
     },
     "metadata": {
      "needs_background": "light"
     },
     "output_type": "display_data"
    }
   ],
   "source": [
    "## plotting the data against the normal distribution ##\n",
    "## obviously the data is not normal distributed ##\n",
    "## kurtosis and skewness differ from normal ##\n",
    "\n",
    "mean = np.mean(nike_5y)\n",
    "std_dev = np.std(nike_5y)\n",
    "nike.hist(bins = 120, normed = True, histtype = 'stepfilled', alpha = 0.8)\n",
    "plt.title('Nike returns against normal distribution')\n",
    "plt.xlabel('Returns')\n",
    "plt.ylabel('Frequency')\n",
    "x = np.linspace (mean-3*std_dev, mean + 3*std_dev,100)\n",
    "plt.plot(x,norm.pdf(x, mean, std_dev),'r')\n",
    "plt.show\n",
    "#plt.savefig('nike_distribution_5years.jpg')\n",
    "\n",
    "print( 'The excess kurtosis of the distribution (should be 0 if normally distrubuted): {}'.format(round(kurtosis(nike_5y),4 )))\n",
    "print( 'The skewness of the distribution (should be 0 if normally distributed): {}'.format(round(skew(nike_5y),4 )))"
   ]
  },
  {
   "cell_type": "code",
   "execution_count": 89,
   "metadata": {},
   "outputs": [
    {
     "data": {
      "image/png": "[encoded data removed]",
      "text/plain": [
       "<Figure size 432x288 with 1 Axes>"
      ]
     },
     "metadata": {
      "needs_background": "light"
     },
     "output_type": "display_data"
    }
   ],
   "source": [
    "## qq-plt to see if normally distributed for three sample stocks ##\n",
    "\n",
    "fig = sm.qqplot(nike_5y, stats.norm, fit=True ,line='45')\n",
    "#plt.savefig('nike_QQ_plot_5years.jpg')"
   ]
  },
  {
   "cell_type": "code",
   "execution_count": 90,
   "metadata": {},
   "outputs": [
    {
     "data": {
      "text/plain": [
       "(3.900247230836748, 0.0006585363131579687, 0.010337910955339334)"
      ]
     },
     "execution_count": 90,
     "metadata": {},
     "output_type": "execute_result"
    }
   ],
   "source": [
    "parameters_nike_5y = fit_t_parameters(nike_5y)\n",
    "parameters_nike_5y"
   ]
  },
  {
   "cell_type": "code",
   "execution_count": 91,
   "metadata": {},
   "outputs": [
    {
     "data": {
      "image/png": "[encoded data removed]",
      "text/plain": [
       "<Figure size 432x288 with 1 Axes>"
      ]
     },
     "metadata": {
      "needs_background": "light"
     },
     "output_type": "display_data"
    }
   ],
   "source": [
    "fig = sm.qqplot(nike_5y, stats.t, distargs = (parameters_nike_5y[0],) , loc = parameters_nike_5y[1],  scale = parameters_nike_5y[2],\n",
    "                fit = False, line='45')\n",
    "#plt.savefig('nike_QQ_plot_5years_t.jpg')"
   ]
  },
  {
   "cell_type": "code",
   "execution_count": 92,
   "metadata": {},
   "outputs": [
    {
     "name": "stdout",
     "output_type": "stream",
     "text": [
      "The excess kurtosis of the distribution (should be 0 if normally distrubuted): 11.1289\n",
      "The skewness of the distribution (should be 0 if normally distributed): 0.3511\n"
     ]
    },
    {
     "data": {
      "image/png": "[encoded data removed]",
      "text/plain": [
       "<Figure size 432x288 with 1 Axes>"
      ]
     },
     "metadata": {
      "needs_background": "light"
     },
     "output_type": "display_data"
    }
   ],
   "source": [
    "mean = np.mean(disney_5y)\n",
    "std_dev = np.std(disney_5y)\n",
    "disney.hist(bins =120, normed = True, histtype = 'stepfilled', alpha = 0.8)\n",
    "plt.title('disney returns against normal distribution')\n",
    "plt.xlabel('Returns')\n",
    "plt.ylabel('Frequency')\n",
    "x = np.linspace (mean-3*std_dev, mean + 3*std_dev,100)\n",
    "plt.plot(x,norm.pdf(x, mean, std_dev),'r')\n",
    "plt.show\n",
    "#plt.savefig('disney_distribution_5years.jpg')\n",
    "\n",
    "print( 'The excess kurtosis of the distribution (should be 0 if normally distrubuted): {}'.format(round(kurtosis(disney_5y),4 )))\n",
    "print( 'The skewness of the distribution (should be 0 if normally distributed): {}'.format(round(skew(disney_5y),4 )))"
   ]
  },
  {
   "cell_type": "code",
   "execution_count": 93,
   "metadata": {},
   "outputs": [
    {
     "data": {
      "image/png": "[encoded data removed]",
      "text/plain": [
       "<Figure size 432x288 with 1 Axes>"
      ]
     },
     "metadata": {
      "needs_background": "light"
     },
     "output_type": "display_data"
    }
   ],
   "source": [
    "fig = sm.qqplot(disney_5y, stats.norm, fit=True ,line='45')\n",
    "#plt.savefig('disney_QQ_plot_5years.jpg')"
   ]
  },
  {
   "cell_type": "code",
   "execution_count": 94,
   "metadata": {},
   "outputs": [
    {
     "data": {
      "text/plain": [
       "(3.4621114581924366, 0.0005134777737427429, 0.008189991725237981)"
      ]
     },
     "execution_count": 94,
     "metadata": {},
     "output_type": "execute_result"
    }
   ],
   "source": [
    "parameters_disney_5y = fit_t_parameters(disney_5y)\n",
    "parameters_disney_5y"
   ]
  },
  {
   "cell_type": "code",
   "execution_count": 95,
   "metadata": {},
   "outputs": [
    {
     "data": {
      "image/png": "[encoded data removed]",
      "text/plain": [
       "<Figure size 432x288 with 1 Axes>"
      ]
     },
     "metadata": {
      "needs_background": "light"
     },
     "output_type": "display_data"
    }
   ],
   "source": [
    "fig = sm.qqplot(disney_5y, stats.t, distargs = (parameters_disney_5y[0],) , loc = parameters_disney_5y[1],  scale = parameters_disney_5y[2],\n",
    "                fit = False, line='45')\n",
    "#plt.savefig('disney_QQ_plot_5years_t.jpg')"
   ]
  },
  {
   "cell_type": "code",
   "execution_count": 96,
   "metadata": {},
   "outputs": [
    {
     "name": "stdout",
     "output_type": "stream",
     "text": [
      "The excess kurtosis of the distribution (should be 0 if normally distrubuted): 3.3861\n",
      "The skewness of the distribution (should be 0 if normally distributed): -0.0069\n"
     ]
    },
    {
     "data": {
      "image/png": "[encoded data removed]",
      "text/plain": [
       "<Figure size 432x288 with 1 Axes>"
      ]
     },
     "metadata": {
      "needs_background": "light"
     },
     "output_type": "display_data"
    }
   ],
   "source": [
    "mean = np.mean(visa_5y)\n",
    "std_dev = np.std(visa_5y)\n",
    "visa.hist(bins =120, normed = True, histtype = 'stepfilled', alpha = 0.8)\n",
    "plt.title('Visa returns against normal distribution')\n",
    "plt.xlabel('Returns')\n",
    "plt.ylabel('Frequency')\n",
    "x = np.linspace (mean-3*std_dev, mean + 3*std_dev,100)\n",
    "plt.plot(x,norm.pdf(x, mean, std_dev),'r')\n",
    "plt.show\n",
    "#plt.savefig('visa_distribution_5years.jpg')\n",
    "\n",
    "print( 'The excess kurtosis of the distribution (should be 0 if normally distrubuted): {}'.format(round(kurtosis(visa_5y),4 )))\n",
    "print( 'The skewness of the distribution (should be 0 if normally distributed): {}'.format(round(skew(visa_5y),4 )))"
   ]
  },
  {
   "cell_type": "code",
   "execution_count": 97,
   "metadata": {},
   "outputs": [
    {
     "data": {
      "image/png": "[encoded data removed]",
      "text/plain": [
       "<Figure size 432x288 with 1 Axes>"
      ]
     },
     "metadata": {
      "needs_background": "light"
     },
     "output_type": "display_data"
    }
   ],
   "source": [
    "fig = sm.qqplot(visa_5y, stats.norm, fit=True ,line='45')\n",
    "#plt.savefig('visa_QQ_plot_5years.jpg')"
   ]
  },
  {
   "cell_type": "code",
   "execution_count": 98,
   "metadata": {},
   "outputs": [
    {
     "data": {
      "text/plain": [
       "(3.4278570112564206, 0.0013593185205126256, 0.008796089471878307)"
      ]
     },
     "execution_count": 98,
     "metadata": {},
     "output_type": "execute_result"
    }
   ],
   "source": [
    "parameters_visa_5y = fit_t_parameters(visa_5y)\n",
    "parameters_visa_5y"
   ]
  },
  {
   "cell_type": "code",
   "execution_count": 99,
   "metadata": {},
   "outputs": [
    {
     "data": {
      "image/png": "[encoded data removed]",
      "text/plain": [
       "<Figure size 432x288 with 1 Axes>"
      ]
     },
     "metadata": {
      "needs_background": "light"
     },
     "output_type": "display_data"
    }
   ],
   "source": [
    "fig = sm.qqplot(visa_5y, stats.t, distargs = (parameters_visa_5y[0],) , loc = parameters_visa_5y[1],  scale = parameters_visa_5y[2],\n",
    "                fit = False, line='45')\n",
    "#plt.savefig('visa_QQ_plot_5years_t.jpg')"
   ]
  },
  {
   "cell_type": "code",
   "execution_count": 100,
   "metadata": {},
   "outputs": [],
   "source": [
    "## get 95% VaR for every stock ##\n",
    "\n",
    "VaR_95_boeing_5y = VaR(0.05,boeing_5y)\n",
    "VaR_95_unitedhealth_5y = VaR(0.05,unitedhealth_5y)\n",
    "VaR_95_goldmansachs_5y = VaR(0.05,goldmansachs_5y)\n",
    "VaR_95_homedepot_5y = VaR(0.05,homedepot_5y)\n",
    "VaR_95_mmm_5y = VaR(0.05,mmm_5y)\n",
    "VaR_95_apple_5y = VaR(0.05,apple_5y)\n",
    "VaR_95_mcdonalds_5y = VaR(0.05,mcdonalds_5y)\n",
    "VaR_95_ibm_5y = VaR(0.05,ibm_5y)\n",
    "VaR_95_caterpillar_5y =VaR(0.05,caterpillar_5y)\n",
    "VaR_95_visa_5y = VaR(0.05,visa_5y)\n",
    "VaR_95_travelers_5y = VaR(0.05,travelers_5y)\n",
    "VaR_95_chevron_5y = VaR(0.05,chevron_5y)\n",
    "VaR_95_jandj_5y = VaR(0.05,jandj_5y)\n",
    "VaR_95_jpmorganchase_5y = VaR(0.05,jpmorganchase_5y)\n",
    "VaR_95_disney_5y = VaR(0.05,disney_5y)\n",
    "VaR_95_americanexpress_5y = VaR(0.05,americanexpress_5y)\n",
    "VaR_95_microsoft_5y = VaR(0.05,microsoft_5y)\n",
    "VaR_95_walmart_5y = VaR(0.05,walmart_5y)\n",
    "VaR_95_exxonmobil_5y = VaR(0.05,exxonmobil_5y)\n",
    "VaR_95_proctergamble_5y = VaR(0.05,proctergamble_5y)\n",
    "VaR_95_nike_5y = VaR(0.05,nike_5y)\n",
    "VaR_95_walgreens_5y = VaR(0.05,walgreens_5y)\n",
    "VaR_95_merck_5y = VaR(0.05,merck_5y)\n",
    "VaR_95_intel_5y = VaR(0.05,intel_5y)\n",
    "VaR_95_verizoncom_5y = VaR(0.05,verizoncom_5y)\n",
    "VaR_95_cocacola_5y = VaR(0.05,cocacola_5y)\n",
    "VaR_95_cisco_5y = VaR(0.05,cisco_5y)\n",
    "VaR_95_pfizer_5y = VaR(0.05,pfizer_5y)"
   ]
  },
  {
   "cell_type": "code",
   "execution_count": 101,
   "metadata": {},
   "outputs": [],
   "source": [
    "dow_jones_VaR95_5y = {'Boeing':'BA','UnitedHealth':'UNH','GoldmanSachs':'GS','HomeDepot':'HD','3M':'MMM',\n",
    "                   'Apple':'AAPL','McDonalds':'MCD','IBM':'IBM','Caterpillar':'CAT','Visa':'V','Travelers':'TRV',\n",
    "                   'Chevron':'CVX','Johnson&Johnson':'JNJ','JPMorganChase':'JPM','Disney':'DIS',\n",
    "                   'AmericanExpress':'AXP','Microsoft':'MSFT','Walmart':'WMT','ExxonMobil':'XOM',\n",
    "                   'Procter&Gamble':'PG','Nike':'NKE','Walgreens':'WBA','Merck':'MRK','Intel':'INTC',\n",
    "                   'VerizonCommunications':'VZ','CocaCola':'KO','Cisco':'CSCO','Pfizer':'PFE'}"
   ]
  },
  {
   "cell_type": "code",
   "execution_count": 102,
   "metadata": {},
   "outputs": [],
   "source": [
    "dow_jones_VaR95_5y['Boeing'] =VaR_95_boeing_5y\n",
    "dow_jones_VaR95_5y['UnitedHealth'] =VaR_95_unitedhealth_5y\n",
    "dow_jones_VaR95_5y['GoldmanSachs'] =VaR_95_goldmansachs_5y\n",
    "dow_jones_VaR95_5y['HomeDepot'] =VaR_95_homedepot_5y\n",
    "dow_jones_VaR95_5y['3M'] =VaR_95_mmm_5y\n",
    "dow_jones_VaR95_5y['Apple'] =VaR_95_apple_5y\n",
    "dow_jones_VaR95_5y['McDonalds'] =VaR_95_mcdonalds_5y\n",
    "dow_jones_VaR95_5y['IBM'] =VaR_95_ibm_5y\n",
    "dow_jones_VaR95_5y['Caterpillar'] =VaR_95_caterpillar_5y\n",
    "dow_jones_VaR95_5y['Visa'] =VaR_95_visa_5y\n",
    "dow_jones_VaR95_5y['Travelers'] =VaR_95_travelers_5y\n",
    "dow_jones_VaR95_5y['Chevron'] =VaR_95_chevron_5y\n",
    "dow_jones_VaR95_5y['Johnson&Johnson'] =VaR_95_jandj_5y\n",
    "dow_jones_VaR95_5y['JPMorganChase'] =VaR_95_jpmorganchase_5y\n",
    "dow_jones_VaR95_5y['Disney'] =VaR_95_disney_5y\n",
    "dow_jones_VaR95_5y['AmericanExpress'] =VaR_95_americanexpress_5y\n",
    "dow_jones_VaR95_5y['Microsoft'] =VaR_95_microsoft_5y\n",
    "dow_jones_VaR95_5y['Walmart'] =VaR_95_walmart_5y\n",
    "dow_jones_VaR95_5y['ExxonMobil'] =VaR_95_exxonmobil_5y\n",
    "dow_jones_VaR95_5y['Procter&Gamble'] =VaR_95_proctergamble_5y\n",
    "dow_jones_VaR95_5y['Nike'] =VaR_95_nike_5y\n",
    "dow_jones_VaR95_5y['Walgreens'] =VaR_95_walgreens_5y\n",
    "dow_jones_VaR95_5y['Merck'] =VaR_95_merck_5y\n",
    "dow_jones_VaR95_5y['Intel'] =VaR_95_intel_5y\n",
    "dow_jones_VaR95_5y['VerizonCommunications'] =VaR_95_verizoncom_5y\n",
    "dow_jones_VaR95_5y['CocaCola'] =VaR_95_cocacola_5y\n",
    "dow_jones_VaR95_5y['Cisco'] =VaR_95_cisco_5y\n",
    "dow_jones_VaR95_5y['Pfizer'] =VaR_95_pfizer_5y"
   ]
  },
  {
   "cell_type": "code",
   "execution_count": 103,
   "metadata": {},
   "outputs": [
    {
     "data": {
      "text/plain": [
       "{'Boeing': 0.02360869256449971,\n",
       " 'UnitedHealth': 0.02123606995274785,\n",
       " 'GoldmanSachs': 0.02422641357016042,\n",
       " 'HomeDepot': 0.018314945156466922,\n",
       " '3M': 0.01842291573033894,\n",
       " 'Apple': 0.02498450017097542,\n",
       " 'McDonalds': 0.015869314970871407,\n",
       " 'IBM': 0.01991201981948032,\n",
       " 'Caterpillar': 0.02644731832274483,\n",
       " 'Visa': 0.02066043514806226,\n",
       " 'Travelers': 0.01669890835726029,\n",
       " 'Chevron': 0.022008535571263477,\n",
       " 'Johnson&Johnson': 0.015034674614085253,\n",
       " 'JPMorganChase': 0.02085792626641314,\n",
       " 'Disney': 0.01745257369413422,\n",
       " 'AmericanExpress': 0.02078713352736916,\n",
       " 'Microsoft': 0.02102414483594517,\n",
       " 'Walmart': 0.017251918968398394,\n",
       " 'ExxonMobil': 0.019708711448981342,\n",
       " 'Procter&Gamble': 0.015059666115271542,\n",
       " 'Nike': 0.02069429434106007,\n",
       " 'Walgreens': 0.02393671156452415,\n",
       " 'Merck': 0.019568941777596494,\n",
       " 'Intel': 0.023900791289722445,\n",
       " 'VerizonCommunications': 0.016363200725515448,\n",
       " 'CocaCola': 0.013170478107472516,\n",
       " 'Cisco': 0.02188491588237551,\n",
       " 'Pfizer': 0.018146198827237225}"
      ]
     },
     "execution_count": 103,
     "metadata": {},
     "output_type": "execute_result"
    }
   ],
   "source": [
    "dow_jones_VaR95_5y"
   ]
  },
  {
   "cell_type": "code",
   "execution_count": 104,
   "metadata": {},
   "outputs": [],
   "source": [
    "for value in dow_jones_VaR95_5y:    \n",
    "    dow_jones_VaR95_5y[value] *=  1000000"
   ]
  },
  {
   "cell_type": "code",
   "execution_count": 105,
   "metadata": {},
   "outputs": [],
   "source": [
    "dow_jones_VaR95_5y ={k: round(v, 2) for k, v in dow_jones_VaR95_5y.items()}"
   ]
  },
  {
   "cell_type": "code",
   "execution_count": 106,
   "metadata": {},
   "outputs": [],
   "source": [
    "for key in dow_jones_VaR95_5y:\n",
    "    dow_jones_VaR95_5y[key] = \"${:,.2f}\".format(dow_jones_VaR95_5y[key])"
   ]
  },
  {
   "cell_type": "code",
   "execution_count": 107,
   "metadata": {},
   "outputs": [
    {
     "data": {
      "text/plain": [
       "{'Boeing': '$23,608.69',\n",
       " 'UnitedHealth': '$21,236.07',\n",
       " 'GoldmanSachs': '$24,226.41',\n",
       " 'HomeDepot': '$18,314.95',\n",
       " '3M': '$18,422.92',\n",
       " 'Apple': '$24,984.50',\n",
       " 'McDonalds': '$15,869.31',\n",
       " 'IBM': '$19,912.02',\n",
       " 'Caterpillar': '$26,447.32',\n",
       " 'Visa': '$20,660.44',\n",
       " 'Travelers': '$16,698.91',\n",
       " 'Chevron': '$22,008.54',\n",
       " 'Johnson&Johnson': '$15,034.67',\n",
       " 'JPMorganChase': '$20,857.93',\n",
       " 'Disney': '$17,452.57',\n",
       " 'AmericanExpress': '$20,787.13',\n",
       " 'Microsoft': '$21,024.14',\n",
       " 'Walmart': '$17,251.92',\n",
       " 'ExxonMobil': '$19,708.71',\n",
       " 'Procter&Gamble': '$15,059.67',\n",
       " 'Nike': '$20,694.29',\n",
       " 'Walgreens': '$23,936.71',\n",
       " 'Merck': '$19,568.94',\n",
       " 'Intel': '$23,900.79',\n",
       " 'VerizonCommunications': '$16,363.20',\n",
       " 'CocaCola': '$13,170.48',\n",
       " 'Cisco': '$21,884.92',\n",
       " 'Pfizer': '$18,146.20'}"
      ]
     },
     "execution_count": 107,
     "metadata": {},
     "output_type": "execute_result"
    }
   ],
   "source": [
    "## 95% VaR of stock returns, we interpret VaR as positive number ##\n",
    "\n",
    "dow_jones_VaR95_5y"
   ]
  },
  {
   "cell_type": "code",
   "execution_count": 108,
   "metadata": {},
   "outputs": [
    {
     "name": "stdout",
     "output_type": "stream",
     "text": [
      "The excess kurtosis of the distribution (should be 0 if normally distrubuted): 3.3861\n",
      "The skewness of the distribution (should be 0 if normally distributed): -0.0069\n",
      "\n",
      "\n",
      "\n",
      "The Value at Risk with 99% confidence for $1,000,000 invested in Visa is: $36,036.46\n",
      "\n",
      "\n"
     ]
    },
    {
     "data": {
      "image/png": "[encoded data removed]",
      "text/plain": [
       "<Figure size 864x504 with 1 Axes>"
      ]
     },
     "metadata": {
      "needs_background": "light"
     },
     "output_type": "display_data"
    }
   ],
   "source": [
    "## plotting VaR 99% as an example for visa stock ##\n",
    "\n",
    "mean = np.mean(visa_5y)\n",
    "std_dev = np.std(visa_5y)\n",
    "visa.hist(bins =120, normed = True, histtype = 'stepfilled', alpha = 0.8, figsize =(12,7))\n",
    "\n",
    "plt.title('Visa returns against normal distribution')\n",
    "plt.xlabel('Returns')\n",
    "plt.ylabel('Frequency')\n",
    "plt.axvline(VaR(0.01,visa_5y)*-1,color = 'red',label='Value at Risk')\n",
    "x = np.linspace (mean-3*std_dev, mean + 3*std_dev,100)\n",
    "plt.plot(x,norm.pdf(x, mean, std_dev),'orange',label='Normal distribution')\n",
    "plt.legend()\n",
    "plt.show\n",
    "#plt.savefig('visa_VaR_5years.jpg')\n",
    "\n",
    "\n",
    "print( 'The excess kurtosis of the distribution (should be 0 if normally distrubuted): {}'.format(round(kurtosis(visa_5y),4 )))\n",
    "print( 'The skewness of the distribution (should be 0 if normally distributed): {}'.format(round(skew(visa_5y),4 )))\n",
    "\n",
    "VaR_amount_99_visa_5y= \"${:,.2f}\".format(round(VaR(0.01,visa_5y)*1000000,2))\n",
    "print('\\n'*3+'The Value at Risk with 99% confidence for $1,000,000 invested in Visa is: {}'.format(VaR_amount_99_visa_5y)+'\\n'*2)"
   ]
  },
  {
   "cell_type": "code",
   "execution_count": 109,
   "metadata": {},
   "outputs": [],
   "source": [
    "list_VaR_5y = dict.items(dow_jones_VaR95_5y)"
   ]
  },
  {
   "cell_type": "code",
   "execution_count": 110,
   "metadata": {},
   "outputs": [
    {
     "name": "stdout",
     "output_type": "stream",
     "text": [
      "Stock                  Value at Risk in $\n",
      "---------------------  --------------------\n",
      "Boeing                 $23,608.69\n",
      "UnitedHealth           $21,236.07\n",
      "GoldmanSachs           $24,226.41\n",
      "HomeDepot              $18,314.95\n",
      "3M                     $18,422.92\n",
      "Apple                  $24,984.50\n",
      "McDonalds              $15,869.31\n",
      "IBM                    $19,912.02\n",
      "Caterpillar            $26,447.32\n",
      "Visa                   $20,660.44\n",
      "Travelers              $16,698.91\n",
      "Chevron                $22,008.54\n",
      "Johnson&Johnson        $15,034.67\n",
      "JPMorganChase          $20,857.93\n",
      "Disney                 $17,452.57\n",
      "AmericanExpress        $20,787.13\n",
      "Microsoft              $21,024.14\n",
      "Walmart                $17,251.92\n",
      "ExxonMobil             $19,708.71\n",
      "Procter&Gamble         $15,059.67\n",
      "Nike                   $20,694.29\n",
      "Walgreens              $23,936.71\n",
      "Merck                  $19,568.94\n",
      "Intel                  $23,900.79\n",
      "VerizonCommunications  $16,363.20\n",
      "CocaCola               $13,170.48\n",
      "Cisco                  $21,884.92\n",
      "Pfizer                 $18,146.20\n"
     ]
    }
   ],
   "source": [
    "from tabulate import tabulate\n",
    "print (tabulate(list_VaR_5y, headers=[\"Stock\", \"Value at Risk in $\"]))"
   ]
  },
  {
   "cell_type": "code",
   "execution_count": 111,
   "metadata": {},
   "outputs": [],
   "source": [
    "## subadditivity random portfolios ##"
   ]
  },
  {
   "cell_type": "code",
   "execution_count": 112,
   "metadata": {},
   "outputs": [],
   "source": [
    "stoxx_5y = dow_jones_VaR95_5y.keys()"
   ]
  },
  {
   "cell_type": "code",
   "execution_count": null,
   "metadata": {},
   "outputs": [],
   "source": []
  },
  {
   "cell_type": "code",
   "execution_count": 113,
   "metadata": {},
   "outputs": [],
   "source": [
    "## we will randomly create 5 portfolios and check for subadditivity ##\n",
    "## the portfolios consist of a random rumber of stocks ##\n",
    "\n",
    "# number_random_portfolios_5y = []\n",
    "# for x in range (0, 5):\n",
    "    # number_random_portfolios_5y.append(random.randint(1, 28))"
   ]
  },
  {
   "cell_type": "code",
   "execution_count": 114,
   "metadata": {},
   "outputs": [],
   "source": [
    "## these are the numbers of stocks for every portfolio randomly generated ##\n",
    "\n",
    "number_random_portfolios_5y = [9,4,5,7, 17]"
   ]
  },
  {
   "cell_type": "code",
   "execution_count": 115,
   "metadata": {},
   "outputs": [],
   "source": [
    "## for every portfolio, random stocks will be picked accordingly to the number of stocks generated above ##\n",
    "\n",
    "# random_portfolios_5y = []\n",
    "# for x in number_random_portfolios_5y:\n",
    "    # y = random.sample(stoxx_5y,x)\n",
    "    # y = [each_string.lower() for each_string in y]\n",
    "    # random_portfolios_5y.append(y)"
   ]
  },
  {
   "cell_type": "code",
   "execution_count": 116,
   "metadata": {},
   "outputs": [],
   "source": [
    "## portfolios were randommly generated ##\n",
    "random_portfolios_5y = [['visa',\n",
    "  'walmart',\n",
    "  'homedepot',\n",
    "  'ibm',\n",
    "  'intel',\n",
    "  'jpmorganchase',\n",
    "  'exxonmobil',\n",
    "  'pfizer',\n",
    "  'nike'],\n",
    " ['johnson&johnson', 'verizoncommunications', 'goldmansachs', 'walmart'],\n",
    " ['disney', 'walmart', 'visa', 'ibm', 'americanexpress'],\n",
    " ['procter&gamble',\n",
    "  'chevron',\n",
    "  'unitedhealth',\n",
    "  'merck',\n",
    "  'goldmansachs',\n",
    "  'walmart',\n",
    "  'exxonmobil'],\n",
    " ['ibm',\n",
    "  'exxonmobil',\n",
    "  'travelers',\n",
    "  'boeing',\n",
    "  'americanexpress',\n",
    "  'merck',\n",
    "  'visa',\n",
    "  '3m',\n",
    "  'walgreens',\n",
    "  'cocacola',\n",
    "  'homedepot',\n",
    "  'disney',\n",
    "  'jpmorganchase',\n",
    "  'pfizer',\n",
    "  'walmart',\n",
    "  'chevron',\n",
    "  'cisco']]"
   ]
  },
  {
   "cell_type": "code",
   "execution_count": 117,
   "metadata": {},
   "outputs": [],
   "source": [
    "## check random portfolios for subadditivity with 95% VaR ##"
   ]
  },
  {
   "cell_type": "code",
   "execution_count": 118,
   "metadata": {},
   "outputs": [
    {
     "data": {
      "text/plain": [
       "True"
      ]
     },
     "execution_count": 118,
     "metadata": {},
     "output_type": "execute_result"
    }
   ],
   "source": [
    "## random portfolio 1 ##\n",
    "\n",
    "subadditive(0.05, visa_5y, walmart_5y, homedepot_5y, ibm_5y, intel_5y, jpmorganchase_5y, exxonmobil_5y, pfizer_5y,\n",
    "            nike_5y)"
   ]
  },
  {
   "cell_type": "code",
   "execution_count": 119,
   "metadata": {},
   "outputs": [
    {
     "data": {
      "text/plain": [
       "True"
      ]
     },
     "execution_count": 119,
     "metadata": {},
     "output_type": "execute_result"
    }
   ],
   "source": [
    "## random portfolio 2 ##\n",
    "\n",
    "subadditive(0.05, jandj_5y, verizoncom_5y, goldmansachs_5y, walmart_5y)"
   ]
  },
  {
   "cell_type": "code",
   "execution_count": 120,
   "metadata": {},
   "outputs": [
    {
     "data": {
      "text/plain": [
       "True"
      ]
     },
     "execution_count": 120,
     "metadata": {},
     "output_type": "execute_result"
    }
   ],
   "source": [
    "## random portfolio 3 ##\n",
    "\n",
    "subadditive(0.05, disney_5y, walmart_5y, visa_5y, ibm_5y, americanexpress_5y)"
   ]
  },
  {
   "cell_type": "code",
   "execution_count": 121,
   "metadata": {},
   "outputs": [
    {
     "data": {
      "text/plain": [
       "True"
      ]
     },
     "execution_count": 121,
     "metadata": {},
     "output_type": "execute_result"
    }
   ],
   "source": [
    "## random portfolio 4 ##\n",
    "\n",
    "subadditive(0.05, proctergamble_5y, chevron_5y, unitedhealth_5y, merck_5y, goldmansachs_5y, walmart_5y, exxonmobil_5y)"
   ]
  },
  {
   "cell_type": "code",
   "execution_count": 122,
   "metadata": {},
   "outputs": [
    {
     "data": {
      "text/plain": [
       "True"
      ]
     },
     "execution_count": 122,
     "metadata": {},
     "output_type": "execute_result"
    }
   ],
   "source": [
    "## random portfolio 5 ##\n",
    "\n",
    "subadditive(0.05, ibm_5y, exxonmobil_5y, travelers_5y, boeing_5y, americanexpress_5y, merck_5y, visa_5y, mmm_5y,\n",
    "            walgreens_5y, cocacola_5y, homedepot_5y, disney_5y, jpmorganchase_5y, pfizer_5y, walmart_5y,\n",
    "            chevron_5y, cisco_5y)"
   ]
  },
  {
   "cell_type": "code",
   "execution_count": 123,
   "metadata": {},
   "outputs": [
    {
     "name": "stdout",
     "output_type": "stream",
     "text": [
      "+-----------+-------------------------------+-------------+\n",
      "| Portfolio | Number of stocks in portfolio | Subadditive |\n",
      "+-----------+-------------------------------+-------------+\n",
      "|     1     |               9               |     Yes     |\n",
      "|     2     |               4               |     Yes     |\n",
      "|     3     |               5               |     Yes     |\n",
      "|     4     |               7               |     Yes     |\n",
      "|     5     |               17              |     Yes     |\n",
      "+-----------+-------------------------------+-------------+\n"
     ]
    }
   ],
   "source": [
    "table_one = PrettyTable()\n",
    "table_one.field_names = ['Portfolio','Number of stocks in portfolio', 'Subadditive']\n",
    "table_one.add_row(['1',9, 'Yes'])\n",
    "table_one.add_row(['2',4, 'Yes'])\n",
    "table_one.add_row(['3',5, 'Yes'])\n",
    "table_one.add_row(['4',7, 'Yes'])\n",
    "table_one.add_row(['5',17, 'Yes'])\n",
    "print(table_one)"
   ]
  },
  {
   "cell_type": "code",
   "execution_count": 124,
   "metadata": {},
   "outputs": [],
   "source": [
    "## check random portfolios subadditive 99% VaR ## "
   ]
  },
  {
   "cell_type": "code",
   "execution_count": 125,
   "metadata": {},
   "outputs": [
    {
     "data": {
      "text/plain": [
       "True"
      ]
     },
     "execution_count": 125,
     "metadata": {},
     "output_type": "execute_result"
    }
   ],
   "source": [
    "## random portfolio 1 ##\n",
    "\n",
    "subadditive(0.01, visa_5y, walmart_5y, homedepot_5y, ibm_5y, intel_5y, jpmorganchase_5y, exxonmobil_5y, pfizer_5y,\n",
    "            nike_5y)"
   ]
  },
  {
   "cell_type": "code",
   "execution_count": 126,
   "metadata": {},
   "outputs": [
    {
     "data": {
      "text/plain": [
       "True"
      ]
     },
     "execution_count": 126,
     "metadata": {},
     "output_type": "execute_result"
    }
   ],
   "source": [
    "## random portfolio 2 ##\n",
    "\n",
    "subadditive(0.01, jandj_5y, verizoncom_5y, goldmansachs_5y, walmart_5y)"
   ]
  },
  {
   "cell_type": "code",
   "execution_count": 127,
   "metadata": {},
   "outputs": [
    {
     "data": {
      "text/plain": [
       "True"
      ]
     },
     "execution_count": 127,
     "metadata": {},
     "output_type": "execute_result"
    }
   ],
   "source": [
    "## random portfolio 3 ##\n",
    "\n",
    "subadditive(0.01, disney_5y, walmart_5y, visa_5y, ibm_5y, americanexpress_5y)"
   ]
  },
  {
   "cell_type": "code",
   "execution_count": 128,
   "metadata": {},
   "outputs": [
    {
     "data": {
      "text/plain": [
       "True"
      ]
     },
     "execution_count": 128,
     "metadata": {},
     "output_type": "execute_result"
    }
   ],
   "source": [
    "## random portfolio 4 ##\n",
    "\n",
    "subadditive(0.01, proctergamble_5y, chevron_5y, unitedhealth_5y, merck_5y, goldmansachs_5y, walmart_5y, exxonmobil_5y)"
   ]
  },
  {
   "cell_type": "code",
   "execution_count": 129,
   "metadata": {},
   "outputs": [
    {
     "data": {
      "text/plain": [
       "True"
      ]
     },
     "execution_count": 129,
     "metadata": {},
     "output_type": "execute_result"
    }
   ],
   "source": [
    "## random portfolio 5 ##\n",
    "\n",
    "subadditive(0.01, ibm_5y, exxonmobil_5y, travelers_5y, boeing_5y, americanexpress_5y, merck_5y, visa_5y, mmm_5y,\n",
    "            walgreens_5y, cocacola_5y, homedepot_5y, disney_5y, jpmorganchase_5y, pfizer_5y, walmart_5y, \n",
    "            chevron_5y, cisco_5y)"
   ]
  },
  {
   "cell_type": "code",
   "execution_count": 130,
   "metadata": {},
   "outputs": [
    {
     "name": "stdout",
     "output_type": "stream",
     "text": [
      "+-----------+-------------------------------+-------------+\n",
      "| Portfolio | Number of stocks in portfolio | Subadditive |\n",
      "+-----------+-------------------------------+-------------+\n",
      "|     1     |               9               |     Yes     |\n",
      "|     2     |               4               |     Yes     |\n",
      "|     3     |               5               |     Yes     |\n",
      "|     4     |               7               |     Yes     |\n",
      "|     5     |               17              |     Yes     |\n",
      "+-----------+-------------------------------+-------------+\n"
     ]
    }
   ],
   "source": [
    "table_one = PrettyTable()\n",
    "table_one.field_names = ['Portfolio','Number of stocks in portfolio', 'Subadditive']\n",
    "table_one.add_row(['1',9, 'Yes'])\n",
    "table_one.add_row(['2',4, 'Yes'])\n",
    "table_one.add_row(['3',5, 'Yes'])\n",
    "table_one.add_row(['4',7, 'Yes'])\n",
    "table_one.add_row(['5',17, 'Yes'])\n",
    "print(table_one)"
   ]
  },
  {
   "cell_type": "code",
   "execution_count": 131,
   "metadata": {},
   "outputs": [],
   "source": [
    "## we first chose 15 random stocks and then check all their combinations for violations of subadditivity ##\n",
    "\n",
    "list_dow_jones_5y = list(stoxx_5y)\n",
    "# random.sample(list_dow_jones_5y, 15)"
   ]
  },
  {
   "cell_type": "code",
   "execution_count": 132,
   "metadata": {},
   "outputs": [],
   "source": [
    "result_random_5y_floats = [walgreens_5y, microsoft_5y, homedepot_5y, pfizer_5y, cisco_5y, cocacola_5y, chevron_5y,\n",
    "                 travelers_5y, merck_5y, jandj_5y, proctergamble_5y, mmm_5y, walmart_5y, exxonmobil_5y, \n",
    "                 unitedhealth_5y]"
   ]
  },
  {
   "cell_type": "code",
   "execution_count": 133,
   "metadata": {},
   "outputs": [],
   "source": [
    "result_random_5y_strings = ['walgreens_5y', 'microsoft_5y', 'homedepot_5y', 'pfizer_5y', 'cisco_5y', 'cocacola_5y',\n",
    "                            'chevron_5y','travelers_5y', 'merck_5y', 'jandj_5y', 'proctergamble_5y', 'mmm_5y', \n",
    "                            'walmart_5y', 'exxonmobil_5y', 'unitedhealth_5y']"
   ]
  },
  {
   "cell_type": "code",
   "execution_count": 134,
   "metadata": {},
   "outputs": [
    {
     "data": {
      "text/plain": [
       "32752"
      ]
     },
     "execution_count": 134,
     "metadata": {},
     "output_type": "execute_result"
    }
   ],
   "source": [
    "all_combinations = []\n",
    "for r in range(len(result_random_5y_floats) + 1):\n",
    "    combinations_object = itertools.combinations(result_random_5y_floats, r)\n",
    "    combinations_list = list(combinations_object)\n",
    "    all_combinations += combinations_list\n",
    "all_combinations = [x for x in all_combinations if len(x) > 1]\n",
    "len(all_combinations)"
   ]
  },
  {
   "cell_type": "code",
   "execution_count": 135,
   "metadata": {},
   "outputs": [],
   "source": [
    "#%%time\n",
    "#number_violations(0.05, result_random_5y_floats)"
   ]
  },
  {
   "cell_type": "code",
   "execution_count": 136,
   "metadata": {},
   "outputs": [],
   "source": [
    "## the number of violations is saved here because of the computing time ##\n",
    "## computing time: 9min 13s ##\n",
    "\n",
    "violations_95_5y = 0"
   ]
  },
  {
   "cell_type": "code",
   "execution_count": 137,
   "metadata": {},
   "outputs": [],
   "source": [
    "#%%time\n",
    "#number_violations(0.01, result_random_5y_floats)"
   ]
  },
  {
   "cell_type": "code",
   "execution_count": 138,
   "metadata": {},
   "outputs": [],
   "source": [
    "## the number of violations is saved here because of the computing time ##\n",
    "## computing time: 9min 40s ##\n",
    "\n",
    "violations_99_5y = 0"
   ]
  },
  {
   "cell_type": "code",
   "execution_count": 139,
   "metadata": {},
   "outputs": [
    {
     "name": "stdout",
     "output_type": "stream",
     "text": [
      "+------------------+----------------------+\n",
      "| Confidence level | number of violations |\n",
      "+------------------+----------------------+\n",
      "|     95% VaR      |          0           |\n",
      "|     99% VaR      |          0           |\n",
      "+------------------+----------------------+\n"
     ]
    }
   ],
   "source": [
    "table_three = PrettyTable()\n",
    "table_three.field_names = ['Confidence level','number of violations']\n",
    "table_three.add_row(['95% VaR', violations_95_5y])\n",
    "table_three.add_row(['99% VaR', violations_99_5y])\n",
    "print(table_three)"
   ]
  },
  {
   "cell_type": "code",
   "execution_count": null,
   "metadata": {},
   "outputs": [],
   "source": []
  },
  {
   "cell_type": "code",
   "execution_count": 140,
   "metadata": {},
   "outputs": [],
   "source": [
    "# %%time\n",
    "# indices_5y_95 = index_violations(0.05,result_random_5y_floats)"
   ]
  },
  {
   "cell_type": "code",
   "execution_count": 141,
   "metadata": {},
   "outputs": [],
   "source": [
    "# %%time\n",
    "# where_violations_5y_95 =portfolio_violations(result_random_5y_strings,indices_5y_95)"
   ]
  },
  {
   "cell_type": "code",
   "execution_count": 142,
   "metadata": {},
   "outputs": [],
   "source": [
    "where_violations_5y_95_saved = []"
   ]
  },
  {
   "cell_type": "code",
   "execution_count": 143,
   "metadata": {},
   "outputs": [],
   "source": [
    "# %%time\n",
    "# indices_5y_99 = index_violations(0.01,result_random_5y_floats)"
   ]
  },
  {
   "cell_type": "code",
   "execution_count": 144,
   "metadata": {},
   "outputs": [],
   "source": [
    "# %%time\n",
    "# where_violations_5y_99 =portfolio_violations(result_random_5y_strings,indices_5y_99)"
   ]
  },
  {
   "cell_type": "code",
   "execution_count": 145,
   "metadata": {},
   "outputs": [],
   "source": [
    "where_violations_5y_99_saved = []"
   ]
  },
  {
   "cell_type": "code",
   "execution_count": null,
   "metadata": {},
   "outputs": [],
   "source": []
  },
  {
   "cell_type": "code",
   "execution_count": 146,
   "metadata": {},
   "outputs": [],
   "source": [
    "## 2 years including financial market crisis ##"
   ]
  },
  {
   "cell_type": "code",
   "execution_count": 147,
   "metadata": {},
   "outputs": [],
   "source": [
    "## 01 september 2007 - 31 august 2009 ##\n",
    "## general motors not included because original comopany declared bankruptcy in 2009 ##\n",
    "## Kraft foods not included because later merged to kraft heinz company ##\n",
    "## Hewlett-Packard compoany not included because later\n",
    "## spun off engterprise products division to Hewlett packard enterprise ##\n",
    "## United Technologies not included because later merged with Raytheon Technologies ##"
   ]
  },
  {
   "cell_type": "code",
   "execution_count": 148,
   "metadata": {},
   "outputs": [],
   "source": [
    "path_three = r'/Users/alexanderkoch/Desktop/Code Masterarbeit/Data_07-09'"
   ]
  },
  {
   "cell_type": "code",
   "execution_count": 149,
   "metadata": {},
   "outputs": [
    {
     "name": "stdout",
     "output_type": "stream",
     "text": [
      "/Users/alexanderkoch/Desktop/Code Masterarbeit/Data_07-09/Home Depot.csv\n",
      "/Users/alexanderkoch/Desktop/Code Masterarbeit/Data_07-09/Merck.csv\n",
      "/Users/alexanderkoch/Desktop/Code Masterarbeit/Data_07-09/General Electric.csv\n",
      "/Users/alexanderkoch/Desktop/Code Masterarbeit/Data_07-09/Alcoa.csv\n",
      "/Users/alexanderkoch/Desktop/Code Masterarbeit/Data_07-09/Pfizer.csv\n",
      "/Users/alexanderkoch/Desktop/Code Masterarbeit/Data_07-09/Walmart.csv\n",
      "/Users/alexanderkoch/Desktop/Code Masterarbeit/Data_07-09/Intel.csv\n",
      "/Users/alexanderkoch/Desktop/Code Masterarbeit/Data_07-09/Exxon Mobil.csv\n",
      "/Users/alexanderkoch/Desktop/Code Masterarbeit/Data_07-09/Caterpillar.csv\n",
      "/Users/alexanderkoch/Desktop/Code Masterarbeit/Data_07-09/Procter & Gamble.csv\n",
      "/Users/alexanderkoch/Desktop/Code Masterarbeit/Data_07-09/Disney.csv\n",
      "/Users/alexanderkoch/Desktop/Code Masterarbeit/Data_07-09/Johnson & Johnson.csv\n",
      "/Users/alexanderkoch/Desktop/Code Masterarbeit/Data_07-09/Chevron.csv\n",
      "/Users/alexanderkoch/Desktop/Code Masterarbeit/Data_07-09/Bank of America.csv\n",
      "/Users/alexanderkoch/Desktop/Code Masterarbeit/Data_07-09/Coca Cola.csv\n",
      "/Users/alexanderkoch/Desktop/Code Masterarbeit/Data_07-09/JPMorgan Chase.csv\n",
      "/Users/alexanderkoch/Desktop/Code Masterarbeit/Data_07-09/3M.csv\n",
      "/Users/alexanderkoch/Desktop/Code Masterarbeit/Data_07-09/Microsoft.csv\n",
      "/Users/alexanderkoch/Desktop/Code Masterarbeit/Data_07-09/Boeing.csv\n",
      "/Users/alexanderkoch/Desktop/Code Masterarbeit/Data_07-09/AT&T.csv\n",
      "/Users/alexanderkoch/Desktop/Code Masterarbeit/Data_07-09/Verizon Communications.csv\n",
      "/Users/alexanderkoch/Desktop/Code Masterarbeit/Data_07-09/American Express.csv\n",
      "/Users/alexanderkoch/Desktop/Code Masterarbeit/Data_07-09/Citigroup.csv\n",
      "/Users/alexanderkoch/Desktop/Code Masterarbeit/Data_07-09/DuPont.csv\n",
      "/Users/alexanderkoch/Desktop/Code Masterarbeit/Data_07-09/McDonalds.csv\n"
     ]
    }
   ],
   "source": [
    "col_list= ['Adj Close']\n",
    "for files in glob.glob(os.path.join(path_three, \"*.csv\")):\n",
    "    df = pd.read_csv(files, usecols=col_list)\n",
    "    print(files)"
   ]
  },
  {
   "cell_type": "code",
   "execution_count": 150,
   "metadata": {},
   "outputs": [],
   "source": [
    "col_list= ['Adj Close']\n",
    "\n",
    "def get_data_2y(stock):\n",
    "    df = pd.read_csv(path_three + f'/{stock}.csv', usecols=col_list)\n",
    "    return df['Adj Close']"
   ]
  },
  {
   "cell_type": "code",
   "execution_count": 151,
   "metadata": {},
   "outputs": [],
   "source": [
    "boeing_2y = get_data_2y('Boeing')\n",
    "homedepot_2y = get_data_2y('Home Depot')\n",
    "generalelectric_2y= get_data_2y('General Electric')\n",
    "merck_2y = get_data_2y('Merck')\n",
    "pfizer_2y = get_data_2y('Pfizer')\n",
    "walmart_2y = get_data_2y('Walmart')\n",
    "alcoa_2y = get_data_2y('Alcoa')\n",
    "intel_2y = get_data_2y('Intel')\n",
    "exxonmobil_2y = get_data_2y('Exxon Mobil')\n",
    "bankofamerica_2y = get_data_2y('Bank of America')\n",
    "caterpillar_2y = get_data_2y('Caterpillar')\n",
    "atandt_2y = get_data_2y('AT&T')\n",
    "proctergamble_2y = get_data_2y('Procter & Gamble')\n",
    "citigroup_2y = get_data_2y('Citigroup')\n",
    "disney_2y = get_data_2y('Disney')\n",
    "dupont_2y = get_data_2y('DuPont')\n",
    "jandj_2y = get_data_2y('Johnson & Johnson')\n",
    "cocacola_2y = get_data_2y('Coca Cola')\n",
    "jpmorganchase_2y = get_data_2y('JPMorgan Chase')\n",
    "mmm_2y = get_data_2y('3M')\n",
    "microsoft_2y = get_data_2y('Microsoft')\n",
    "chevron_2y = get_data_2y('Chevron')\n",
    "verizoncom_2y = get_data_2y('Verizon Communications')\n",
    "americanexpress_2y = get_data_2y('American Express')\n",
    "mcdonalds_2y = get_data_2y('McDonalds')"
   ]
  },
  {
   "cell_type": "code",
   "execution_count": 152,
   "metadata": {},
   "outputs": [],
   "source": [
    "boeing_2y = get_returns(boeing_2y)\n",
    "homedepot_2y = get_returns(homedepot_2y)\n",
    "generalelectric_2y= get_returns(generalelectric_2y)\n",
    "merck_2y = get_returns(merck_2y)\n",
    "pfizer_2y = get_returns(pfizer_2y)\n",
    "walmart_2y = get_returns(walmart_2y)\n",
    "alcoa_2y = get_returns(alcoa_2y)\n",
    "intel_2y = get_returns(intel_2y)\n",
    "exxonmobil_2y = get_returns(exxonmobil_2y)\n",
    "bankofamerica_2y = get_returns(bankofamerica_2y)\n",
    "caterpillar_2y = get_returns(caterpillar_2y)\n",
    "atandt_2y = get_returns(atandt_2y)\n",
    "proctergamble_2y = get_returns(proctergamble_2y)\n",
    "citigroup_2y = get_returns(citigroup_2y)\n",
    "disney_2y = get_returns(disney_2y)\n",
    "dupont_2y = get_returns(dupont_2y)\n",
    "jandj_2y = get_returns(jandj_2y)\n",
    "cocacola_2y = get_returns(cocacola_2y)\n",
    "jpmorganchase_2y = get_returns(jpmorganchase_2y)\n",
    "mmm_2y = get_returns(mmm_2y)\n",
    "microsoft_2y = get_returns(microsoft_2y)\n",
    "chevron_2y = get_returns(chevron_2y)\n",
    "verizoncom_2y = get_returns(verizoncom_2y)\n",
    "americanexpress_2y = get_returns(americanexpress_2y)\n",
    "mcdonalds_2y = get_returns(mcdonalds_2y)"
   ]
  },
  {
   "cell_type": "code",
   "execution_count": 153,
   "metadata": {},
   "outputs": [
    {
     "name": "stdout",
     "output_type": "stream",
     "text": [
      "The excess kurtosis of the distribution (should be 0 if normally distrubuted): 4.0116\n",
      "The skewness of the distribution (should be 0 if normally distributed): 0.0797\n"
     ]
    },
    {
     "data": {
      "image/png": "[encoded data removed]",
      "text/plain": [
       "<Figure size 432x288 with 1 Axes>"
      ]
     },
     "metadata": {
      "needs_background": "light"
     },
     "output_type": "display_data"
    }
   ],
   "source": [
    "## plotting the data against the normal distribution ##\n",
    "## obviously the data is not normal distributed ##\n",
    "## kurtosis and skewness differ from normal ##\n",
    "\n",
    "mean = np.mean(dupont_2y)\n",
    "std_dev = np.std(dupont_2y)\n",
    "nike.hist(bins =40, normed = True, histtype = 'stepfilled', alpha = 0.8)\n",
    "plt.title('Du Pont returns against normal distribution')\n",
    "plt.xlabel('Returns')\n",
    "plt.ylabel('Frequency')\n",
    "x = np.linspace (mean-3*std_dev, mean + 3*std_dev,100)\n",
    "plt.plot(x,norm.pdf(x, mean, std_dev),'r')\n",
    "plt.show\n",
    "#plt.savefig('dupont_distribution_2years.jpg')\n",
    "\n",
    "print( 'The excess kurtosis of the distribution (should be 0 if normally distrubuted): {}'.format(round(kurtosis(dupont_2y),4 )))\n",
    "print( 'The skewness of the distribution (should be 0 if normally distributed): {}'.format(round(skew(dupont_2y),4 )))"
   ]
  },
  {
   "cell_type": "code",
   "execution_count": 154,
   "metadata": {},
   "outputs": [
    {
     "data": {
      "image/png": "[encoded data removed]",
      "text/plain": [
       "<Figure size 432x288 with 1 Axes>"
      ]
     },
     "metadata": {
      "needs_background": "light"
     },
     "output_type": "display_data"
    }
   ],
   "source": [
    "## qq-plt to see if normally distributed for three sample stocks ##\n",
    "\n",
    "fig = sm.qqplot(dupont_2y, stats.norm, fit=True ,line='45')\n",
    "#plt.savefig('dupont_QQ_plot_2years.jpg')"
   ]
  },
  {
   "cell_type": "code",
   "execution_count": 155,
   "metadata": {},
   "outputs": [
    {
     "data": {
      "text/plain": [
       "(2.3023561089454256, -0.0013337441391524396, 0.02044207873008017)"
      ]
     },
     "execution_count": 155,
     "metadata": {},
     "output_type": "execute_result"
    }
   ],
   "source": [
    "parameters_dupont_2y = fit_t_parameters(dupont_2y)\n",
    "parameters_dupont_2y"
   ]
  },
  {
   "cell_type": "code",
   "execution_count": 156,
   "metadata": {},
   "outputs": [
    {
     "data": {
      "image/png": "[encoded data removed]",
      "text/plain": [
       "<Figure size 432x288 with 1 Axes>"
      ]
     },
     "metadata": {
      "needs_background": "light"
     },
     "output_type": "display_data"
    }
   ],
   "source": [
    "fig = sm.qqplot(dupont_2y, stats.t, distargs = (parameters_dupont_2y[0],) , loc = parameters_dupont_2y[1],  scale = parameters_dupont_2y[2],\n",
    "                fit = False, line='45')\n",
    "#plt.savefig('dupont_QQ_plot_2years_t.jpg')"
   ]
  },
  {
   "cell_type": "code",
   "execution_count": 157,
   "metadata": {},
   "outputs": [
    {
     "name": "stdout",
     "output_type": "stream",
     "text": [
      "The excess kurtosis of the distribution (should be 0 if normally distrubuted): 4.4576\n",
      "The skewness of the distribution (should be 0 if normally distributed): 0.69\n"
     ]
    },
    {
     "data": {
      "image/png": "[encoded data removed]",
      "text/plain": [
       "<Figure size 432x288 with 1 Axes>"
      ]
     },
     "metadata": {
      "needs_background": "light"
     },
     "output_type": "display_data"
    }
   ],
   "source": [
    "mean = np.mean(disney_2y)\n",
    "std_dev = np.std(disney_2y)\n",
    "disney.hist(bins =40, normed = True, histtype = 'stepfilled', alpha = 0.8)\n",
    "plt.title('disney returns against normal distribution')\n",
    "plt.xlabel('Returns')\n",
    "plt.ylabel('Frequency')\n",
    "x = np.linspace (mean-3*std_dev, mean + 3*std_dev,100)\n",
    "plt.plot(x,norm.pdf(x, mean, std_dev),'r')\n",
    "plt.show\n",
    "#plt.savefig('disney_distribution_2years.jpg')\n",
    "\n",
    "print( 'The excess kurtosis of the distribution (should be 0 if normally distrubuted): {}'.format(round(kurtosis(disney_2y),4 )))\n",
    "print( 'The skewness of the distribution (should be 0 if normally distributed): {}'.format(round(skew(disney_2y),4 )))"
   ]
  },
  {
   "cell_type": "code",
   "execution_count": 158,
   "metadata": {},
   "outputs": [
    {
     "data": {
      "image/png": "[encoded data removed]",
      "text/plain": [
       "<Figure size 432x288 with 1 Axes>"
      ]
     },
     "metadata": {
      "needs_background": "light"
     },
     "output_type": "display_data"
    }
   ],
   "source": [
    "fig = sm.qqplot(disney_2y, stats.norm, fit=True ,line='45')\n",
    "#plt.savefig('disney_QQ_plot_2years.jpg')"
   ]
  },
  {
   "cell_type": "code",
   "execution_count": 159,
   "metadata": {},
   "outputs": [
    {
     "data": {
      "text/plain": [
       "(3.1528275229052545, -0.0011096737034989599, 0.018324702164293265)"
      ]
     },
     "execution_count": 159,
     "metadata": {},
     "output_type": "execute_result"
    }
   ],
   "source": [
    "parameters_disney_2y = fit_t_parameters(disney_2y)\n",
    "parameters_disney_2y"
   ]
  },
  {
   "cell_type": "code",
   "execution_count": 160,
   "metadata": {},
   "outputs": [
    {
     "data": {
      "image/png": "[encoded data removed]",
      "text/plain": [
       "<Figure size 432x288 with 1 Axes>"
      ]
     },
     "metadata": {
      "needs_background": "light"
     },
     "output_type": "display_data"
    }
   ],
   "source": [
    "fig = sm.qqplot(disney_2y, stats.t, distargs = (parameters_disney_2y[0],) , loc = parameters_disney_2y[1],  scale = parameters_disney_2y[2],\n",
    "                fit = False, line='45')\n",
    "#plt.savefig('disney_QQ_plot_2years_t.jpg')"
   ]
  },
  {
   "cell_type": "code",
   "execution_count": 161,
   "metadata": {},
   "outputs": [
    {
     "name": "stdout",
     "output_type": "stream",
     "text": [
      "The excess kurtosis of the distribution (should be 0 if normally distrubuted): 6.239\n",
      "The skewness of the distribution (should be 0 if normally distributed): 0.918\n"
     ]
    },
    {
     "data": {
      "image/png": "[encoded data removed]",
      "text/plain": [
       "<Figure size 432x288 with 1 Axes>"
      ]
     },
     "metadata": {
      "needs_background": "light"
     },
     "output_type": "display_data"
    }
   ],
   "source": [
    "mean = np.mean(atandt_2y)\n",
    "std_dev = np.std(atandt_2y)\n",
    "visa.hist(bins =40, normed = True, histtype = 'stepfilled', alpha = 0.8)\n",
    "plt.title('AT & T returns against normal distribution')\n",
    "plt.xlabel('Returns')\n",
    "plt.ylabel('Frequency')\n",
    "x = np.linspace (mean-3*std_dev, mean + 3*std_dev,100)\n",
    "plt.plot(x,norm.pdf(x, mean, std_dev),'r')\n",
    "plt.show\n",
    "#plt.savefig('at&t_distribution_2years.jpg')\n",
    "\n",
    "print( 'The excess kurtosis of the distribution (should be 0 if normally distrubuted): {}'.format(round(kurtosis(atandt_2y),4 )))\n",
    "print( 'The skewness of the distribution (should be 0 if normally distributed): {}'.format(round(skew(atandt_2y),4 )))"
   ]
  },
  {
   "cell_type": "code",
   "execution_count": 162,
   "metadata": {},
   "outputs": [
    {
     "data": {
      "image/png": "[encoded data removed]",
      "text/plain": [
       "<Figure size 432x288 with 1 Axes>"
      ]
     },
     "metadata": {
      "needs_background": "light"
     },
     "output_type": "display_data"
    }
   ],
   "source": [
    "fig = sm.qqplot(atandt_2y, stats.norm, fit=True ,line='45')\n",
    "#plt.savefig('at&t_QQ_plot_2years.jpg')"
   ]
  },
  {
   "cell_type": "code",
   "execution_count": 163,
   "metadata": {},
   "outputs": [
    {
     "data": {
      "text/plain": [
       "(3.8040174110107916, -0.0009267184886528577, 0.01688102682302619)"
      ]
     },
     "execution_count": 163,
     "metadata": {},
     "output_type": "execute_result"
    }
   ],
   "source": [
    "parameters_atandt_2y = fit_t_parameters(atandt_2y)\n",
    "parameters_atandt_2y"
   ]
  },
  {
   "cell_type": "code",
   "execution_count": 164,
   "metadata": {},
   "outputs": [
    {
     "data": {
      "image/png": "[encoded data removed]",
      "text/plain": [
       "<Figure size 432x288 with 1 Axes>"
      ]
     },
     "metadata": {
      "needs_background": "light"
     },
     "output_type": "display_data"
    }
   ],
   "source": [
    "fig = sm.qqplot(atandt_2y, stats.t, distargs = (parameters_atandt_2y[0],) , loc = parameters_atandt_2y[1],  scale = parameters_atandt_2y[2],\n",
    "                fit = False, line='45')\n",
    "#plt.savefig('at&t_QQ_plot_2years_t.jpg')"
   ]
  },
  {
   "cell_type": "code",
   "execution_count": 165,
   "metadata": {},
   "outputs": [],
   "source": [
    "VaR_95_boeing_2y = VaR(0.05,boeing_2y)\n",
    "VaR_95_generalelectric_2y = VaR(0.05,generalelectric_2y)\n",
    "VaR_95_homedepot_2y = VaR(0.05,homedepot_2y)\n",
    "VaR_95_mmm_2y = VaR(0.05,mmm_2y)\n",
    "VaR_95_alcoa_2y = VaR(0.05,alcoa_2y)\n",
    "VaR_95_mcdonalds_2y = VaR(0.05,mcdonalds_2y)\n",
    "VaR_95_caterpillar_2y =VaR(0.05,caterpillar_2y)\n",
    "VaR_95_bankofamerica_2y = VaR(0.05,bankofamerica_2y)\n",
    "VaR_95_atandt_2y = VaR(0.05,atandt_2y)\n",
    "VaR_95_chevron_2y = VaR(0.05,chevron_2y)\n",
    "VaR_95_jandj_2y = VaR(0.05,jandj_2y)\n",
    "VaR_95_jpmorganchase_2y = VaR(0.05,jpmorganchase_2y)\n",
    "VaR_95_disney_2y = VaR(0.05,disney_2y)\n",
    "VaR_95_americanexpress_2y = VaR(0.05,americanexpress_2y)\n",
    "VaR_95_microsoft_2y = VaR(0.05,microsoft_2y)\n",
    "VaR_95_walmart_2y = VaR(0.05,walmart_2y)\n",
    "VaR_95_exxonmobil_2y = VaR(0.05,exxonmobil_2y)\n",
    "VaR_95_proctergamble_2y = VaR(0.05,proctergamble_2y)\n",
    "VaR_95_citigroup_2y = VaR(0.05,citigroup_2y)\n",
    "VaR_95_dupont_2y = VaR(0.05,dupont_2y)\n",
    "VaR_95_merck_2y = VaR(0.05,merck_2y)\n",
    "VaR_95_intel_2y = VaR(0.05,intel_2y)\n",
    "VaR_95_verizoncom_2y = VaR(0.05,verizoncom_2y)\n",
    "VaR_95_cocacola_2y = VaR(0.05,cocacola_2y)\n",
    "VaR_95_pfizer_2y = VaR(0.05,pfizer_2y)"
   ]
  },
  {
   "cell_type": "code",
   "execution_count": 166,
   "metadata": {},
   "outputs": [],
   "source": [
    "dow_jones_VaR95_2y = {'Boeing':'BA','Generalelectric':'GE','Alcoa':'AA','HomeDepot':'HD','3M':'MMM',\n",
    "                   'BankofAmerica':'BAC','McDonalds':'MCD','AT&T':'T','Caterpillar':'CAT','Citigroup':'C',\n",
    "                   'Chevron':'CVX','Johnson&Johnson':'JNJ','JPMorganChase':'JPM','Disney':'DIS',\n",
    "                   'AmericanExpress':'AXP','Microsoft':'MSFT','Walmart':'WMT','ExxonMobil':'XOM',\n",
    "                   'Procter&Gamble':'PG','DuPont':'DD','Merck':'MRK','Intel':'INTC',\n",
    "                   'VerizonCommunications':'VZ','CocaCola':'KO','Pfizer':'PFE'}"
   ]
  },
  {
   "cell_type": "code",
   "execution_count": 167,
   "metadata": {},
   "outputs": [],
   "source": [
    "dow_jones_VaR95_2y['Boeing'] =VaR_95_boeing_2y\n",
    "dow_jones_VaR95_2y['Generalelectric'] =VaR_95_generalelectric_2y\n",
    "dow_jones_VaR95_2y['Alcoa'] =VaR_95_alcoa_2y\n",
    "dow_jones_VaR95_2y['HomeDepot'] =VaR_95_homedepot_2y\n",
    "dow_jones_VaR95_2y['3M'] =VaR_95_mmm_2y\n",
    "dow_jones_VaR95_2y['BankofAmerica'] =VaR_95_bankofamerica_2y\n",
    "dow_jones_VaR95_2y['McDonalds'] =VaR_95_mcdonalds_2y\n",
    "dow_jones_VaR95_2y['AT&T'] =VaR_95_atandt_2y\n",
    "dow_jones_VaR95_2y['Caterpillar'] =VaR_95_caterpillar_2y\n",
    "dow_jones_VaR95_2y['Citigroup'] =VaR_95_citigroup_2y\n",
    "dow_jones_VaR95_2y['DuPont'] =VaR_95_dupont_2y\n",
    "dow_jones_VaR95_2y['Chevron'] =VaR_95_chevron_2y\n",
    "dow_jones_VaR95_2y['Johnson&Johnson'] =VaR_95_jandj_2y\n",
    "dow_jones_VaR95_2y['JPMorganChase'] =VaR_95_jpmorganchase_2y\n",
    "dow_jones_VaR95_2y['Disney'] =VaR_95_disney_2y\n",
    "dow_jones_VaR95_2y['AmericanExpress'] =VaR_95_americanexpress_2y\n",
    "dow_jones_VaR95_2y['Microsoft'] =VaR_95_microsoft_2y\n",
    "dow_jones_VaR95_2y['Walmart'] =VaR_95_walmart_2y\n",
    "dow_jones_VaR95_2y['ExxonMobil'] =VaR_95_exxonmobil_2y\n",
    "dow_jones_VaR95_2y['Procter&Gamble'] =VaR_95_proctergamble_2y\n",
    "dow_jones_VaR95_2y['Merck'] =VaR_95_merck_2y\n",
    "dow_jones_VaR95_2y['Intel'] =VaR_95_intel_2y\n",
    "dow_jones_VaR95_2y['VerizonCommunications'] =VaR_95_verizoncom_2y\n",
    "dow_jones_VaR95_2y['CocaCola'] =VaR_95_cocacola_2y\n",
    "dow_jones_VaR95_2y['Pfizer'] =VaR_95_pfizer_2y"
   ]
  },
  {
   "cell_type": "code",
   "execution_count": 168,
   "metadata": {},
   "outputs": [
    {
     "data": {
      "text/plain": [
       "{'Boeing': 0.048016534707064795,\n",
       " 'Generalelectric': 0.057777810350753356,\n",
       " 'Alcoa': 0.07720216765074295,\n",
       " 'HomeDepot': 0.04523976478394742,\n",
       " '3M': 0.03369085565882002,\n",
       " 'BankofAmerica': 0.09682336228670452,\n",
       " 'McDonalds': 0.02756257831242681,\n",
       " 'AT&T': 0.037260691020612136,\n",
       " 'Caterpillar': 0.05200032844199276,\n",
       " 'Citigroup': 0.10208320141246396,\n",
       " 'Chevron': 0.03894266139324831,\n",
       " 'Johnson&Johnson': 0.02270347955913765,\n",
       " 'JPMorganChase': 0.07214428267913486,\n",
       " 'Disney': 0.03980588753018599,\n",
       " 'AmericanExpress': 0.06673379134391377,\n",
       " 'Microsoft': 0.03824873789916372,\n",
       " 'Walmart': 0.026100551029633712,\n",
       " 'ExxonMobil': 0.03793884795799651,\n",
       " 'Procter&Gamble': 0.02707243998933162,\n",
       " 'DuPont': 0.0564784030483384,\n",
       " 'Merck': 0.0372835378901768,\n",
       " 'Intel': 0.04679914050684675,\n",
       " 'VerizonCommunications': 0.03380489201264858,\n",
       " 'CocaCola': 0.028052698064515824,\n",
       " 'Pfizer': 0.033822676173456134}"
      ]
     },
     "execution_count": 168,
     "metadata": {},
     "output_type": "execute_result"
    }
   ],
   "source": [
    "dow_jones_VaR95_2y"
   ]
  },
  {
   "cell_type": "code",
   "execution_count": 169,
   "metadata": {},
   "outputs": [],
   "source": [
    "for value in dow_jones_VaR95_2y:    \n",
    "    dow_jones_VaR95_2y[value] *=  1000000"
   ]
  },
  {
   "cell_type": "code",
   "execution_count": 170,
   "metadata": {},
   "outputs": [],
   "source": [
    "dow_jones_VaR95_2y ={k: round(v, 2) for k, v in dow_jones_VaR95_2y.items()}"
   ]
  },
  {
   "cell_type": "code",
   "execution_count": 171,
   "metadata": {},
   "outputs": [],
   "source": [
    "for key in dow_jones_VaR95_2y:\n",
    "    dow_jones_VaR95_2y[key] = \"${:,.2f}\".format(dow_jones_VaR95_2y[key])"
   ]
  },
  {
   "cell_type": "code",
   "execution_count": 172,
   "metadata": {},
   "outputs": [
    {
     "data": {
      "text/plain": [
       "{'Boeing': '$48,016.53',\n",
       " 'Generalelectric': '$57,777.81',\n",
       " 'Alcoa': '$77,202.17',\n",
       " 'HomeDepot': '$45,239.76',\n",
       " '3M': '$33,690.86',\n",
       " 'BankofAmerica': '$96,823.36',\n",
       " 'McDonalds': '$27,562.58',\n",
       " 'AT&T': '$37,260.69',\n",
       " 'Caterpillar': '$52,000.33',\n",
       " 'Citigroup': '$102,083.20',\n",
       " 'Chevron': '$38,942.66',\n",
       " 'Johnson&Johnson': '$22,703.48',\n",
       " 'JPMorganChase': '$72,144.28',\n",
       " 'Disney': '$39,805.89',\n",
       " 'AmericanExpress': '$66,733.79',\n",
       " 'Microsoft': '$38,248.74',\n",
       " 'Walmart': '$26,100.55',\n",
       " 'ExxonMobil': '$37,938.85',\n",
       " 'Procter&Gamble': '$27,072.44',\n",
       " 'DuPont': '$56,478.40',\n",
       " 'Merck': '$37,283.54',\n",
       " 'Intel': '$46,799.14',\n",
       " 'VerizonCommunications': '$33,804.89',\n",
       " 'CocaCola': '$28,052.70',\n",
       " 'Pfizer': '$33,822.68'}"
      ]
     },
     "execution_count": 172,
     "metadata": {},
     "output_type": "execute_result"
    }
   ],
   "source": [
    "## 95% VaR of stock returns, we interpret VaR as positive number ##\n",
    "\n",
    "dow_jones_VaR95_2y"
   ]
  },
  {
   "cell_type": "code",
   "execution_count": 173,
   "metadata": {},
   "outputs": [
    {
     "name": "stdout",
     "output_type": "stream",
     "text": [
      "The excess kurtosis of the distribution (should be 0 if normally distrubuted): 4.0116\n",
      "The skewness of the distribution (should be 0 if normally distributed): 0.0797\n",
      "\n",
      "\n",
      "\n",
      "The Value at Risk with 99% confidence for $1,000,000 invested in Du Pont is: $88,607.55\n",
      "\n",
      "\n"
     ]
    },
    {
     "data": {
      "image/png": "[encoded data removed]",
      "text/plain": [
       "<Figure size 864x504 with 1 Axes>"
      ]
     },
     "metadata": {
      "needs_background": "light"
     },
     "output_type": "display_data"
    }
   ],
   "source": [
    "## plotting VaR 99% as an example for du pont stock ##\n",
    "\n",
    "mean = np.mean(dupont_2y)\n",
    "std_dev = np.std(dupont_2y)\n",
    "visa.hist(bins =40, normed = True, histtype = 'stepfilled', alpha = 0.8, figsize =(12,7))\n",
    "\n",
    "plt.title('Du Pont returns against normal distribution')\n",
    "plt.xlabel('Returns')\n",
    "plt.ylabel('Frequency')\n",
    "plt.axvline(VaR(0.01,dupont_2y)*-1,color = 'red',label='Value at Risk')\n",
    "x = np.linspace (mean-3*std_dev, mean + 3*std_dev,100)\n",
    "plt.plot(x,norm.pdf(x, mean, std_dev),'orange',label='Normal distribution')\n",
    "plt.legend()\n",
    "plt.show\n",
    "#plt.savefig('dupont_VaR_2years.jpg')\n",
    "\n",
    "\n",
    "print( 'The excess kurtosis of the distribution (should be 0 if normally distrubuted): {}'.format(round(kurtosis(dupont_2y),4 )))\n",
    "print( 'The skewness of the distribution (should be 0 if normally distributed): {}'.format(round(skew(dupont_2y),4 )))\n",
    "\n",
    "VaR_amount_99_dupont_2y= \"${:,.2f}\".format(round(VaR(0.01,dupont_2y)*1000000,2))\n",
    "print('\\n'*3+'The Value at Risk with 99% confidence for $1,000,000 invested in Du Pont is: {}'.format(VaR_amount_99_dupont_2y)+'\\n'*2)"
   ]
  },
  {
   "cell_type": "code",
   "execution_count": 174,
   "metadata": {},
   "outputs": [],
   "source": [
    "list_VaR_2y = dict.items(dow_jones_VaR95_2y)"
   ]
  },
  {
   "cell_type": "code",
   "execution_count": 175,
   "metadata": {},
   "outputs": [
    {
     "name": "stdout",
     "output_type": "stream",
     "text": [
      "Stock                  Value at Risk in %\n",
      "---------------------  --------------------\n",
      "Boeing                 $48,016.53\n",
      "Generalelectric        $57,777.81\n",
      "Alcoa                  $77,202.17\n",
      "HomeDepot              $45,239.76\n",
      "3M                     $33,690.86\n",
      "BankofAmerica          $96,823.36\n",
      "McDonalds              $27,562.58\n",
      "AT&T                   $37,260.69\n",
      "Caterpillar            $52,000.33\n",
      "Citigroup              $102,083.20\n",
      "Chevron                $38,942.66\n",
      "Johnson&Johnson        $22,703.48\n",
      "JPMorganChase          $72,144.28\n",
      "Disney                 $39,805.89\n",
      "AmericanExpress        $66,733.79\n",
      "Microsoft              $38,248.74\n",
      "Walmart                $26,100.55\n",
      "ExxonMobil             $37,938.85\n",
      "Procter&Gamble         $27,072.44\n",
      "DuPont                 $56,478.40\n",
      "Merck                  $37,283.54\n",
      "Intel                  $46,799.14\n",
      "VerizonCommunications  $33,804.89\n",
      "CocaCola               $28,052.70\n",
      "Pfizer                 $33,822.68\n"
     ]
    }
   ],
   "source": [
    "from tabulate import tabulate\n",
    "print (tabulate(list_VaR_2y, headers=[\"Stock\", \"Value at Risk in %\"]))"
   ]
  },
  {
   "cell_type": "code",
   "execution_count": 176,
   "metadata": {},
   "outputs": [],
   "source": [
    "## subadditivity random portfolios ##"
   ]
  },
  {
   "cell_type": "code",
   "execution_count": 177,
   "metadata": {},
   "outputs": [],
   "source": [
    "stoxx_2y = dow_jones_VaR95_2y.keys()"
   ]
  },
  {
   "cell_type": "code",
   "execution_count": 178,
   "metadata": {},
   "outputs": [],
   "source": [
    "## we will randomly create 5 portfolios and check for subadditivity ##\n",
    "## the portfolios consist of a random rumber of stocks ##\n",
    "\n",
    "# number_random_portfolios_2y = []\n",
    "# for x in range (0, 5):\n",
    "   # number_random_portfolios_2y.append(random.randint(1, 28))"
   ]
  },
  {
   "cell_type": "code",
   "execution_count": 179,
   "metadata": {},
   "outputs": [],
   "source": [
    "## these are the numbers of stocks for every portfolio randomly generated ##\n",
    "\n",
    "number_random_portfolios_2y = [10, 18, 11, 16, 11]"
   ]
  },
  {
   "cell_type": "code",
   "execution_count": 180,
   "metadata": {},
   "outputs": [],
   "source": [
    "## for every portfolio, random stocks will be picked accordingly to the number of stocks generated above ##\n",
    "\n",
    "# random_portfolios_2y = []\n",
    "# for x in number_random_portfolios_2y:\n",
    "   # y = random.sample(stoxx_2y,x)\n",
    "   # y = [each_string.lower() for each_string in y]\n",
    "   # random_portfolios_2y.append(y)"
   ]
  },
  {
   "cell_type": "code",
   "execution_count": 181,
   "metadata": {},
   "outputs": [],
   "source": [
    "## portfolios were randommly generated ##\n",
    "random_portfolios_2y = [['at&t',\n",
    "  'dupont',\n",
    "  'caterpillar',\n",
    "  'johnson&johnson',\n",
    "  'mcdonalds',\n",
    "  'procter&gamble',\n",
    "  'chevron',\n",
    "  'intel',\n",
    "  'verizoncommunications',\n",
    "  'homedepot'],\n",
    " ['homedepot',\n",
    "  'johnson&johnson',\n",
    "  'at&t',\n",
    "  'verizoncommunications',\n",
    "  'cocacola',\n",
    "  'jpmorganchase',\n",
    "  'generalelectric',\n",
    "  'disney',\n",
    "  'chevron',\n",
    "  'procter&gamble',\n",
    "  'microsoft',\n",
    "  'merck',\n",
    "  'intel',\n",
    "  'pfizer',\n",
    "  'bankofamerica',\n",
    "  'boeing',\n",
    "  'dupont',\n",
    "  'americanexpress'],\n",
    " ['3m',\n",
    "  'bankofamerica',\n",
    "  'mcdonalds',\n",
    "  'boeing',\n",
    "  'chevron',\n",
    "  'walmart',\n",
    "  'johnson&johnson',\n",
    "  'jpmorganchase',\n",
    "  'intel',\n",
    "  'disney',\n",
    "  'americanexpress'],\n",
    " ['walmart',\n",
    "  'bankofamerica',\n",
    "  'merck',\n",
    "  'homedepot',\n",
    "  'microsoft',\n",
    "  'chevron',\n",
    "  'citigroup',\n",
    "  'verizoncommunications',\n",
    "  'exxonmobil',\n",
    "  'pfizer',\n",
    "  'americanexpress',\n",
    "  '3m',\n",
    "  'at&t',\n",
    "  'caterpillar',\n",
    "  'mcdonalds',\n",
    "  'cocacola'],\n",
    " ['americanexpress',\n",
    "  'homedepot',\n",
    "  'intel',\n",
    "  'caterpillar',\n",
    "  'verizoncommunications',\n",
    "  'mcdonalds',\n",
    "  'alcoa',\n",
    "  'at&t',\n",
    "  'boeing',\n",
    "  'jpmorganchase',\n",
    "  'citigroup']]"
   ]
  },
  {
   "cell_type": "code",
   "execution_count": 182,
   "metadata": {},
   "outputs": [],
   "source": [
    "## check random portfolios for subadditivity with 95% VaR ##"
   ]
  },
  {
   "cell_type": "code",
   "execution_count": 183,
   "metadata": {},
   "outputs": [
    {
     "data": {
      "text/plain": [
       "True"
      ]
     },
     "execution_count": 183,
     "metadata": {},
     "output_type": "execute_result"
    }
   ],
   "source": [
    "## random portfolio 1 ##\n",
    "\n",
    "subadditive(0.05, atandt_2y,dupont_2y,caterpillar_2y,jandj_2y,mcdonalds_2y,proctergamble_2y,chevron_2y,intel_2y,\n",
    "            verizoncom_2y,homedepot_2y)"
   ]
  },
  {
   "cell_type": "code",
   "execution_count": 184,
   "metadata": {},
   "outputs": [
    {
     "data": {
      "text/plain": [
       "True"
      ]
     },
     "execution_count": 184,
     "metadata": {},
     "output_type": "execute_result"
    }
   ],
   "source": [
    "## random portfolio 2 ##\n",
    "\n",
    "subadditive(0.05, homedepot_2y,jandj_2y,atandt_2y,verizoncom_2y,cocacola_2y,jpmorganchase_2y,generalelectric_2y,\n",
    "            disney_2y,chevron_2y,proctergamble_2y,microsoft_2y,merck_2y,intel_2y,pfizer_2y,bankofamerica_2y,\n",
    "            boeing_2y,dupont_2y,americanexpress_2y)"
   ]
  },
  {
   "cell_type": "code",
   "execution_count": 185,
   "metadata": {},
   "outputs": [
    {
     "data": {
      "text/plain": [
       "True"
      ]
     },
     "execution_count": 185,
     "metadata": {},
     "output_type": "execute_result"
    }
   ],
   "source": [
    "## random portfolio 3 ##\n",
    "subadditive(0.05, mmm_2y,bankofamerica_2y,mcdonalds_2y,boeing_2y,chevron_2y,walmart_2y,jandj_2y,jpmorganchase_2y,\n",
    "            intel_2y,disney_2y,americanexpress_2y)"
   ]
  },
  {
   "cell_type": "code",
   "execution_count": 186,
   "metadata": {},
   "outputs": [
    {
     "data": {
      "text/plain": [
       "True"
      ]
     },
     "execution_count": 186,
     "metadata": {},
     "output_type": "execute_result"
    }
   ],
   "source": [
    "## random portfolio 4 ##\n",
    "\n",
    "subadditive(0.05, walmart_2y,bankofamerica_2y,merck_2y,homedepot_2y,microsoft_2y,chevron_2y,citigroup_2y,verizoncom_2y,\n",
    "            exxonmobil_2y, pfizer_2y,americanexpress_2y,mmm_2y,atandt_2y,caterpillar_2y,mcdonalds_2y,cocacola_2y)"
   ]
  },
  {
   "cell_type": "code",
   "execution_count": 187,
   "metadata": {},
   "outputs": [
    {
     "data": {
      "text/plain": [
       "True"
      ]
     },
     "execution_count": 187,
     "metadata": {},
     "output_type": "execute_result"
    }
   ],
   "source": [
    "## random portfolio 5 ##\n",
    "\n",
    "subadditive(0.05, americanexpress_2y,homedepot_2y,intel_2y,caterpillar_2y,verizoncom_2y,mcdonalds_2y,alcoa_2y,\n",
    "            atandt_2y,boeing_2y,jpmorganchase_2y,citigroup_2y)"
   ]
  },
  {
   "cell_type": "code",
   "execution_count": 188,
   "metadata": {},
   "outputs": [
    {
     "name": "stdout",
     "output_type": "stream",
     "text": [
      "+-----------+-------------------------------+-------------+\n",
      "| Portfolio | Number of stocks in portfolio | Subadditive |\n",
      "+-----------+-------------------------------+-------------+\n",
      "|     1     |               10              |     Yes     |\n",
      "|     2     |               18              |     Yes     |\n",
      "|     3     |               11              |     Yes     |\n",
      "|     4     |               16              |     Yes     |\n",
      "|     5     |               11              |     Yes     |\n",
      "+-----------+-------------------------------+-------------+\n"
     ]
    }
   ],
   "source": [
    "table_one = PrettyTable()\n",
    "table_one.field_names = ['Portfolio','Number of stocks in portfolio', 'Subadditive']\n",
    "table_one.add_row(['1',10, 'Yes'])\n",
    "table_one.add_row(['2',18, 'Yes'])\n",
    "table_one.add_row(['3',11, 'Yes'])\n",
    "table_one.add_row(['4',16, 'Yes'])\n",
    "table_one.add_row(['5',11, 'Yes'])\n",
    "print(table_one)"
   ]
  },
  {
   "cell_type": "code",
   "execution_count": 189,
   "metadata": {},
   "outputs": [],
   "source": [
    "## check random portfolios subadditive 99% VaR ## "
   ]
  },
  {
   "cell_type": "code",
   "execution_count": 190,
   "metadata": {},
   "outputs": [
    {
     "data": {
      "text/plain": [
       "True"
      ]
     },
     "execution_count": 190,
     "metadata": {},
     "output_type": "execute_result"
    }
   ],
   "source": [
    "## random portfolio 1 ##\n",
    "\n",
    "subadditive(0.01, atandt_2y,dupont_2y,caterpillar_2y,jandj_2y,mcdonalds_2y,proctergamble_2y,chevron_2y,intel_2y,\n",
    "            verizoncom_2y,homedepot_2y)"
   ]
  },
  {
   "cell_type": "code",
   "execution_count": 191,
   "metadata": {},
   "outputs": [
    {
     "data": {
      "text/plain": [
       "True"
      ]
     },
     "execution_count": 191,
     "metadata": {},
     "output_type": "execute_result"
    }
   ],
   "source": [
    "## random portfolio 2 ##\n",
    "\n",
    "subadditive(0.01, homedepot_2y,jandj_2y,atandt_2y,verizoncom_2y,cocacola_2y,jpmorganchase_2y,generalelectric_2y,\n",
    "            disney_2y,chevron_2y,proctergamble_2y,microsoft_2y,merck_2y,intel_2y,pfizer_2y,bankofamerica_2y,\n",
    "            boeing_2y,dupont_2y,americanexpress_2y)"
   ]
  },
  {
   "cell_type": "code",
   "execution_count": 192,
   "metadata": {},
   "outputs": [
    {
     "data": {
      "text/plain": [
       "True"
      ]
     },
     "execution_count": 192,
     "metadata": {},
     "output_type": "execute_result"
    }
   ],
   "source": [
    "## random portfolio 3 ##\n",
    "subadditive(0.01, mmm_2y,bankofamerica_2y,mcdonalds_2y,boeing_2y,chevron_2y,walmart_2y,jandj_2y,jpmorganchase_2y,\n",
    "            intel_2y,disney_2y,americanexpress_2y)"
   ]
  },
  {
   "cell_type": "code",
   "execution_count": 193,
   "metadata": {},
   "outputs": [
    {
     "data": {
      "text/plain": [
       "True"
      ]
     },
     "execution_count": 193,
     "metadata": {},
     "output_type": "execute_result"
    }
   ],
   "source": [
    "## random portfolio 4 ##\n",
    "\n",
    "subadditive(0.01, walmart_2y,bankofamerica_2y,merck_2y,homedepot_2y,microsoft_2y,chevron_2y,citigroup_2y,verizoncom_2y,\n",
    "            exxonmobil_2y,pfizer_2y,americanexpress_2y,mmm_2y,atandt_2y,caterpillar_2y,mcdonalds_2y,cocacola_2y)"
   ]
  },
  {
   "cell_type": "code",
   "execution_count": 194,
   "metadata": {},
   "outputs": [
    {
     "data": {
      "text/plain": [
       "True"
      ]
     },
     "execution_count": 194,
     "metadata": {},
     "output_type": "execute_result"
    }
   ],
   "source": [
    "## random portfolio 5 ##\n",
    "\n",
    "subadditive(0.01, americanexpress_2y,homedepot_2y,intel_2y,caterpillar_2y,verizoncom_2y,mcdonalds_2y,alcoa_2y,\n",
    "            atandt_2y,boeing_2y,jpmorganchase_2y,citigroup_2y)"
   ]
  },
  {
   "cell_type": "code",
   "execution_count": 195,
   "metadata": {},
   "outputs": [
    {
     "name": "stdout",
     "output_type": "stream",
     "text": [
      "+-----------+-------------------------------+-------------+\n",
      "| Portfolio | Number of stocks in portfolio | Subadditive |\n",
      "+-----------+-------------------------------+-------------+\n",
      "|     1     |               10              |     Yes     |\n",
      "|     2     |               18              |     Yes     |\n",
      "|     3     |               11              |     Yes     |\n",
      "|     4     |               16              |     Yes     |\n",
      "|     5     |               11              |     Yes     |\n",
      "+-----------+-------------------------------+-------------+\n"
     ]
    }
   ],
   "source": [
    "table_one = PrettyTable()\n",
    "table_one.field_names = ['Portfolio','Number of stocks in portfolio', 'Subadditive']\n",
    "table_one.add_row(['1',10, 'Yes'])\n",
    "table_one.add_row(['2',18, 'Yes'])\n",
    "table_one.add_row(['3',11, 'Yes'])\n",
    "table_one.add_row(['4',16, 'Yes'])\n",
    "table_one.add_row(['5',11, 'Yes'])\n",
    "print(table_one)"
   ]
  },
  {
   "cell_type": "code",
   "execution_count": 196,
   "metadata": {},
   "outputs": [],
   "source": [
    "## we first chose 15 random stocks and then check all their combinations for violations of subadditivity ##\n",
    "\n",
    "list_dow_jones_2y = list(stoxx_2y)\n",
    "# random.sample(list_dow_jones_2y, 15)"
   ]
  },
  {
   "cell_type": "code",
   "execution_count": 197,
   "metadata": {},
   "outputs": [],
   "source": [
    "result_random_2y_floats = [alcoa_2y, merck_2y, pfizer_2y, generalelectric_2y, walmart_2y, intel_2y, disney_2y, atandt_2y,\n",
    "                    mmm_2y, boeing_2y, jpmorganchase_2y, homedepot_2y, jandj_2y, chevron_2y, exxonmobil_2y]"
   ]
  },
  {
   "cell_type": "code",
   "execution_count": 198,
   "metadata": {},
   "outputs": [],
   "source": [
    "result_random_2y_strings = ['alcoa_2y', 'merck_2y', 'pfizer_2y', 'generalelectric_2y', 'walmart_2y', 'intel_2y', \n",
    "                            'citigroup_2y', 'atandt_2y','mmm_2y', 'boeing_2y', 'jpmorganchase_2y', 'homedepot_2y', \n",
    "                            'jandj_2y', 'chevron_2y', 'exxonmobil_2y']"
   ]
  },
  {
   "cell_type": "code",
   "execution_count": 199,
   "metadata": {},
   "outputs": [
    {
     "data": {
      "text/plain": [
       "32752"
      ]
     },
     "execution_count": 199,
     "metadata": {},
     "output_type": "execute_result"
    }
   ],
   "source": [
    "all_combinations = []\n",
    "for r in range(len(result_random_2y_floats) + 1):\n",
    "    combinations_object = itertools.combinations(result_random_2y_floats, r)\n",
    "    combinations_list = list(combinations_object)\n",
    "    all_combinations += combinations_list\n",
    "all_combinations = [x for x in all_combinations if len(x) > 1]\n",
    "len(all_combinations)"
   ]
  },
  {
   "cell_type": "code",
   "execution_count": 200,
   "metadata": {},
   "outputs": [],
   "source": [
    "# %%time\n",
    "# number_violations(0.05, result_random_2y_floats)"
   ]
  },
  {
   "cell_type": "code",
   "execution_count": 201,
   "metadata": {},
   "outputs": [],
   "source": [
    "## the number of violations is saved here because of the computing time ##\n",
    "## computing time: 9min 13s ##\n",
    "\n",
    "violations_95_2y = 6"
   ]
  },
  {
   "cell_type": "code",
   "execution_count": 202,
   "metadata": {},
   "outputs": [],
   "source": [
    "# %%time\n",
    "# number_violations(0.01, result_random_2y_floats)"
   ]
  },
  {
   "cell_type": "code",
   "execution_count": 203,
   "metadata": {},
   "outputs": [],
   "source": [
    "## the number of violations is saved here because of the computing time ##\n",
    "## computing time: 9min 40s ##\n",
    "\n",
    "violations_99_2y = 13"
   ]
  },
  {
   "cell_type": "code",
   "execution_count": 204,
   "metadata": {},
   "outputs": [
    {
     "name": "stdout",
     "output_type": "stream",
     "text": [
      "+------------------+----------------------+\n",
      "| Confidence level | number of violations |\n",
      "+------------------+----------------------+\n",
      "|     95% VaR      |          6           |\n",
      "|     99% VaR      |          13          |\n",
      "+------------------+----------------------+\n"
     ]
    }
   ],
   "source": [
    "table_three = PrettyTable()\n",
    "table_three.field_names = ['Confidence level','number of violations']\n",
    "table_three.add_row(['95% VaR', violations_95_2y])\n",
    "table_three.add_row(['99% VaR', violations_99_2y])\n",
    "print(table_three)"
   ]
  },
  {
   "cell_type": "code",
   "execution_count": 205,
   "metadata": {},
   "outputs": [],
   "source": [
    "# %%time\n",
    "# indices_2y_95 = index_violations(0.05,result_random_2y_floats)"
   ]
  },
  {
   "cell_type": "code",
   "execution_count": 206,
   "metadata": {},
   "outputs": [],
   "source": [
    "# %%time\n",
    "# where_violations_2y_95 =portfolio_violations(result_random_2y_strings,indices_2y_95)"
   ]
  },
  {
   "cell_type": "code",
   "execution_count": 332,
   "metadata": {},
   "outputs": [],
   "source": [
    "where_violations_2y_95_saved = [['merck_2y', 'pfizer_2y'],\n",
    "['merck_2y', 'jandj_2y'],\n",
    "['pfizer_2y', 'citigroup_2y'],\n",
    "['generalelectric_2y', 'mmm_2y'],\n",
    "['citigroup_2y', 'mmm_2y'],\n",
    "['merck_2y', 'mmm_2y', 'jandj_2y'],]"
   ]
  },
  {
   "cell_type": "code",
   "execution_count": 336,
   "metadata": {},
   "outputs": [
    {
     "data": {
      "text/plain": [
       "[0, 3, 2, 1, 0, 0, 2, 0, 3, 0, 0, 0, 2, 0, 0]"
      ]
     },
     "execution_count": 336,
     "metadata": {},
     "output_type": "execute_result"
    }
   ],
   "source": [
    "number_violations_95_2y = []\n",
    "for i in result_random_2y_strings:\n",
    "    x =count(where_violations_2y_95_saved,i)\n",
    "    number_violations_95_2y.append(x)\n",
    "number_violations_95_2y\n",
    "\n",
    "\n"
   ]
  },
  {
   "cell_type": "code",
   "execution_count": 338,
   "metadata": {},
   "outputs": [
    {
     "data": {
      "text/plain": [
       "{'alcoa_2y': 0,\n",
       " 'merck_2y': 3,\n",
       " 'pfizer_2y': 2,\n",
       " 'generalelectric_2y': 1,\n",
       " 'walmart_2y': 0,\n",
       " 'intel_2y': 0,\n",
       " 'citigroup_2y': 2,\n",
       " 'atandt_2y': 0,\n",
       " 'mmm_2y': 3,\n",
       " 'boeing_2y': 0,\n",
       " 'jpmorganchase_2y': 0,\n",
       " 'homedepot_2y': 0,\n",
       " 'jandj_2y': 2,\n",
       " 'chevron_2y': 0,\n",
       " 'exxonmobil_2y': 0}"
      ]
     },
     "execution_count": 338,
     "metadata": {},
     "output_type": "execute_result"
    }
   ],
   "source": [
    "dict_violations_95_2 = dict(zip(result_random_2y_strings, number_violations_95_2y))\n",
    "dict_violations_95_2"
   ]
  },
  {
   "cell_type": "code",
   "execution_count": 208,
   "metadata": {},
   "outputs": [],
   "source": [
    "# %%time\n",
    "# indices_2y_99 = index_violations(0.01,result_random_2y_floats)"
   ]
  },
  {
   "cell_type": "code",
   "execution_count": 209,
   "metadata": {},
   "outputs": [],
   "source": [
    "# %%time\n",
    "# where_violations_2y_99 =portfolio_violations(result_random_2y_strings,indices_2y_99)"
   ]
  },
  {
   "cell_type": "code",
   "execution_count": 331,
   "metadata": {},
   "outputs": [],
   "source": [
    "where_violations_2y_99_saved = [['pfizer_2y', 'atandt_2y'],\n",
    "['atandt_2y', 'boeing_2y'],\n",
    "['atandt_2y', 'homedepot_2y'],\n",
    "['atandt_2y', 'jandj_2y'],\n",
    "['atandt_2y', 'verizoncom_2y'],\n",
    "['boeing_2y', 'verizoncom_2y'],\n",
    "['jpmorganchase_2y', 'homedepot_2y'],\n",
    "['atandt_2y', 'boeing_2y', 'homedepot_2y'],\n",
    "['atandt_2y', 'homedepot_2y', 'jandj_2y'],\n",
    "['atandt_2y', 'jandj_2y', 'verizoncom_2y'],\n",
    "['intel_2y', 'atandt_2y', 'boeing_2y', 'jandj_2y'],\n",
    "['intel_2y', 'atandt_2y', 'boeing_2y', 'verizoncom_2y'],\n",
    "['intel_2y', 'atandt_2y', 'boeing_2y', 'homedepot_2y', 'verizoncom_2y']]"
   ]
  },
  {
   "cell_type": "code",
   "execution_count": 339,
   "metadata": {},
   "outputs": [
    {
     "data": {
      "text/plain": [
       "[0, 0, 1, 0, 0, 3, 0, 11, 0, 6, 1, 5, 4, 0, 0]"
      ]
     },
     "execution_count": 339,
     "metadata": {},
     "output_type": "execute_result"
    }
   ],
   "source": [
    "number_violations_99_2y = []\n",
    "for i in result_random_2y_strings:\n",
    "    x =count(where_violations_2y_99_saved,i)\n",
    "    number_violations_99_2y.append(x)\n",
    "number_violations_99_2y"
   ]
  },
  {
   "cell_type": "code",
   "execution_count": 341,
   "metadata": {},
   "outputs": [
    {
     "data": {
      "text/plain": [
       "{'alcoa_2y': 0,\n",
       " 'merck_2y': 0,\n",
       " 'pfizer_2y': 1,\n",
       " 'generalelectric_2y': 0,\n",
       " 'walmart_2y': 0,\n",
       " 'intel_2y': 3,\n",
       " 'citigroup_2y': 0,\n",
       " 'atandt_2y': 11,\n",
       " 'mmm_2y': 0,\n",
       " 'boeing_2y': 6,\n",
       " 'jpmorganchase_2y': 1,\n",
       " 'homedepot_2y': 5,\n",
       " 'jandj_2y': 4,\n",
       " 'chevron_2y': 0,\n",
       " 'exxonmobil_2y': 0}"
      ]
     },
     "execution_count": 341,
     "metadata": {},
     "output_type": "execute_result"
    }
   ],
   "source": [
    "dict_violations_99_2 = dict(zip(result_random_2y_strings, number_violations_99_2y))\n",
    "dict_violations_99_2"
   ]
  },
  {
   "cell_type": "code",
   "execution_count": null,
   "metadata": {},
   "outputs": [],
   "source": []
  },
  {
   "cell_type": "code",
   "execution_count": 211,
   "metadata": {},
   "outputs": [],
   "source": [
    "## to compare we take the same stocks as in the last simulation for a 2 year time horizon with 504 daily prices ##"
   ]
  },
  {
   "cell_type": "code",
   "execution_count": 212,
   "metadata": {},
   "outputs": [],
   "source": [
    "path_four = r'/Users/alexanderkoch/Desktop/Code Masterarbeit/Data_10-12'"
   ]
  },
  {
   "cell_type": "code",
   "execution_count": 213,
   "metadata": {},
   "outputs": [
    {
     "name": "stdout",
     "output_type": "stream",
     "text": [
      "/Users/alexanderkoch/Desktop/Code Masterarbeit/Data_10-12/Home Depot.csv\n",
      "/Users/alexanderkoch/Desktop/Code Masterarbeit/Data_10-12/Merck.csv\n",
      "/Users/alexanderkoch/Desktop/Code Masterarbeit/Data_10-12/General Electric.csv\n",
      "/Users/alexanderkoch/Desktop/Code Masterarbeit/Data_10-12/Alcoa.csv\n",
      "/Users/alexanderkoch/Desktop/Code Masterarbeit/Data_10-12/Pfizer.csv\n",
      "/Users/alexanderkoch/Desktop/Code Masterarbeit/Data_10-12/Walmart.csv\n",
      "/Users/alexanderkoch/Desktop/Code Masterarbeit/Data_10-12/Intel.csv\n",
      "/Users/alexanderkoch/Desktop/Code Masterarbeit/Data_10-12/Exxon Mobil.csv\n",
      "/Users/alexanderkoch/Desktop/Code Masterarbeit/Data_10-12/Caterpillar.csv\n",
      "/Users/alexanderkoch/Desktop/Code Masterarbeit/Data_10-12/Procter & Gamble.csv\n",
      "/Users/alexanderkoch/Desktop/Code Masterarbeit/Data_10-12/Disney.csv\n",
      "/Users/alexanderkoch/Desktop/Code Masterarbeit/Data_10-12/Johnson & Johnson.csv\n",
      "/Users/alexanderkoch/Desktop/Code Masterarbeit/Data_10-12/Chevron.csv\n",
      "/Users/alexanderkoch/Desktop/Code Masterarbeit/Data_10-12/Bank of America.csv\n",
      "/Users/alexanderkoch/Desktop/Code Masterarbeit/Data_10-12/Coca Cola.csv\n",
      "/Users/alexanderkoch/Desktop/Code Masterarbeit/Data_10-12/JPMorgan Chase.csv\n",
      "/Users/alexanderkoch/Desktop/Code Masterarbeit/Data_10-12/3M.csv\n",
      "/Users/alexanderkoch/Desktop/Code Masterarbeit/Data_10-12/Microsoft.csv\n",
      "/Users/alexanderkoch/Desktop/Code Masterarbeit/Data_10-12/Boeing.csv\n",
      "/Users/alexanderkoch/Desktop/Code Masterarbeit/Data_10-12/AT&T.csv\n",
      "/Users/alexanderkoch/Desktop/Code Masterarbeit/Data_10-12/Verizon Communications.csv\n",
      "/Users/alexanderkoch/Desktop/Code Masterarbeit/Data_10-12/American Express.csv\n",
      "/Users/alexanderkoch/Desktop/Code Masterarbeit/Data_10-12/Citigroup.csv\n",
      "/Users/alexanderkoch/Desktop/Code Masterarbeit/Data_10-12/DuPont.csv\n",
      "/Users/alexanderkoch/Desktop/Code Masterarbeit/Data_10-12/McDonalds.csv\n"
     ]
    }
   ],
   "source": [
    "col_list= ['Adj Close']\n",
    "for files in glob.glob(os.path.join(path_four, \"*.csv\")):\n",
    "    df = pd.read_csv(files, usecols=col_list)\n",
    "    print(files)"
   ]
  },
  {
   "cell_type": "code",
   "execution_count": 214,
   "metadata": {},
   "outputs": [],
   "source": [
    "col_list= ['Adj Close']\n",
    "\n",
    "def get_data_2y_2(stock):\n",
    "    df = pd.read_csv(path_four + f'/{stock}.csv', usecols=col_list)\n",
    "    return df['Adj Close']"
   ]
  },
  {
   "cell_type": "code",
   "execution_count": 215,
   "metadata": {},
   "outputs": [],
   "source": [
    "boeing_2y_2 = get_data_2y_2('Boeing')\n",
    "homedepot_2y_2 = get_data_2y_2('Home Depot')\n",
    "generalelectric_2y_2= get_data_2y_2('General Electric')\n",
    "merck_2y_2 = get_data_2y_2('Merck')\n",
    "pfizer_2y_2 = get_data_2y_2('Pfizer')\n",
    "walmart_2y_2 = get_data_2y_2('Walmart')\n",
    "alcoa_2y_2 = get_data_2y_2('Alcoa')\n",
    "intel_2y_2 = get_data_2y_2('Intel')\n",
    "exxonmobil_2y_2 = get_data_2y_2('Exxon Mobil')\n",
    "bankofamerica_2y_2 = get_data_2y_2('Bank of America')\n",
    "caterpillar_2y_2 = get_data_2y_2('Caterpillar')\n",
    "atandt_2y_2 = get_data_2y_2('AT&T')\n",
    "proctergamble_2y_2 = get_data_2y_2('Procter & Gamble')\n",
    "citigroup_2y_2 = get_data_2y_2('Citigroup')\n",
    "disney_2y_2 = get_data_2y_2('Disney')\n",
    "dupont_2y_2 = get_data_2y_2('DuPont')\n",
    "jandj_2y_2 = get_data_2y_2('Johnson & Johnson')\n",
    "cocacola_2y_2 = get_data_2y_2('Coca Cola')\n",
    "jpmorganchase_2y_2 = get_data_2y_2('JPMorgan Chase')\n",
    "mmm_2y_2 = get_data_2y_2('3M')\n",
    "microsoft_2y_2 = get_data_2y_2('Microsoft')\n",
    "chevron_2y_2 = get_data_2y_2('Chevron')\n",
    "verizoncom_2y_2 = get_data_2y_2('Verizon Communications')\n",
    "americanexpress_2y_2 = get_data_2y_2('American Express')\n",
    "mcdonalds_2y_2 = get_data_2y_2('McDonalds')"
   ]
  },
  {
   "cell_type": "code",
   "execution_count": 216,
   "metadata": {},
   "outputs": [],
   "source": [
    "boeing_2y_2 = get_returns(boeing_2y_2)\n",
    "homedepot_2y_2 = get_returns(homedepot_2y_2)\n",
    "generalelectric_2y_2= get_returns(generalelectric_2y_2)\n",
    "merck_2y_2 = get_returns(merck_2y_2)\n",
    "pfizer_2y_2 = get_returns(pfizer_2y_2)\n",
    "walmart_2y_2 = get_returns(walmart_2y_2)\n",
    "alcoa_2y_2 = get_returns(alcoa_2y_2)\n",
    "intel_2y_2 = get_returns(intel_2y_2)\n",
    "exxonmobil_2y_2 = get_returns(exxonmobil_2y_2)\n",
    "bankofamerica_2y_2 = get_returns(bankofamerica_2y_2)\n",
    "caterpillar_2y_2 = get_returns(caterpillar_2y_2)\n",
    "atandt_2y_2 = get_returns(atandt_2y_2)\n",
    "proctergamble_2y_2 = get_returns(proctergamble_2y_2)\n",
    "citigroup_2y_2 = get_returns(citigroup_2y_2)\n",
    "disney_2y_2 = get_returns(disney_2y_2)\n",
    "dupont_2y_2 = get_returns(dupont_2y_2)\n",
    "jandj_2y_2 = get_returns(jandj_2y_2)\n",
    "cocacola_2y_2 = get_returns(cocacola_2y_2)\n",
    "jpmorganchase_2y_2 = get_returns(jpmorganchase_2y_2)\n",
    "mmm_2y_2 = get_returns(mmm_2y_2)\n",
    "microsoft_2y_2 = get_returns(microsoft_2y_2)\n",
    "chevron_2y_2 = get_returns(chevron_2y_2)\n",
    "verizoncom_2y_2 = get_returns(verizoncom_2y_2)\n",
    "americanexpress_2y_2 = get_returns(americanexpress_2y_2)\n",
    "mcdonalds_2y_2 = get_returns(mcdonalds_2y_2)"
   ]
  },
  {
   "cell_type": "code",
   "execution_count": 217,
   "metadata": {},
   "outputs": [
    {
     "name": "stdout",
     "output_type": "stream",
     "text": [
      "The excess kurtosis of the distribution (should be 0 if normally distrubuted): 3.4554\n",
      "The skewness of the distribution (should be 0 if normally distributed): -0.4872\n"
     ]
    },
    {
     "data": {
      "image/png": "[encoded data removed]",
      "text/plain": [
       "<Figure size 432x288 with 1 Axes>"
      ]
     },
     "metadata": {
      "needs_background": "light"
     },
     "output_type": "display_data"
    }
   ],
   "source": [
    "## plotting the data against the normal distribution ##\n",
    "## obviously the data is not normal distributed ##\n",
    "## kurtosis and skewness differ from normal ##\n",
    "\n",
    "mean = np.mean(dupont_2y_2)\n",
    "std_dev = np.std(dupont_2y_2)\n",
    "nike.hist(bins =40, normed = True, histtype = 'stepfilled', alpha = 0.8)\n",
    "plt.title('Du Pont returns against normal distribution')\n",
    "plt.xlabel('Returns')\n",
    "plt.ylabel('Frequency')\n",
    "x = np.linspace (mean-3*std_dev, mean + 3*std_dev,100)\n",
    "plt.plot(x,norm.pdf(x, mean, std_dev),'r')\n",
    "plt.show\n",
    "#plt.savefig('dupont_distribution_2years_2.jpg')\n",
    "\n",
    "print( 'The excess kurtosis of the distribution (should be 0 if normally distrubuted): {}'.format(round(kurtosis(dupont_2y_2),4 )))\n",
    "print( 'The skewness of the distribution (should be 0 if normally distributed): {}'.format(round(skew(dupont_2y_2),4 )))"
   ]
  },
  {
   "cell_type": "code",
   "execution_count": 218,
   "metadata": {},
   "outputs": [
    {
     "data": {
      "image/png": "[encoded data removed]",
      "text/plain": [
       "<Figure size 432x288 with 1 Axes>"
      ]
     },
     "metadata": {
      "needs_background": "light"
     },
     "output_type": "display_data"
    }
   ],
   "source": [
    "## qq-plt to see if normally distributed for three sample stocks ##\n",
    "\n",
    "fig = sm.qqplot(dupont_2y_2, stats.norm, fit=True ,line='45')\n",
    "#plt.savefig('dupont_QQ_plot_2years_2.jpg')"
   ]
  },
  {
   "cell_type": "code",
   "execution_count": 219,
   "metadata": {},
   "outputs": [
    {
     "data": {
      "text/plain": [
       "(4.248120679855558, 0.0009348377629675615, 0.016853477133172756)"
      ]
     },
     "execution_count": 219,
     "metadata": {},
     "output_type": "execute_result"
    }
   ],
   "source": [
    "parameters_dupont_2y_2 = fit_t_parameters(dupont_2y_2)\n",
    "parameters_dupont_2y_2"
   ]
  },
  {
   "cell_type": "code",
   "execution_count": 220,
   "metadata": {},
   "outputs": [
    {
     "data": {
      "image/png": "[encoded data removed]",
      "text/plain": [
       "<Figure size 432x288 with 1 Axes>"
      ]
     },
     "metadata": {
      "needs_background": "light"
     },
     "output_type": "display_data"
    }
   ],
   "source": [
    "fig = sm.qqplot(dupont_2y_2, stats.t, distargs = (parameters_dupont_2y_2[0],) , loc = parameters_dupont_2y_2[1],  scale = parameters_dupont_2y_2[2],\n",
    "                fit = False, line='45')\n",
    "#plt.savefig('dupont_QQ_plot_2years_2_t.jpg')"
   ]
  },
  {
   "cell_type": "code",
   "execution_count": 221,
   "metadata": {},
   "outputs": [
    {
     "name": "stdout",
     "output_type": "stream",
     "text": [
      "The excess kurtosis of the distribution (should be 0 if normally distrubuted): 3.7481\n",
      "The skewness of the distribution (should be 0 if normally distributed): -0.3537\n"
     ]
    },
    {
     "data": {
      "image/png": "[encoded data removed]",
      "text/plain": [
       "<Figure size 432x288 with 1 Axes>"
      ]
     },
     "metadata": {
      "needs_background": "light"
     },
     "output_type": "display_data"
    }
   ],
   "source": [
    "mean = np.mean(disney_2y_2)\n",
    "std_dev = np.std(disney_2y_2)\n",
    "disney.hist(bins =40, normed = True, histtype = 'stepfilled', alpha = 0.8)\n",
    "plt.title('disney returns against normal distribution')\n",
    "plt.xlabel('Returns')\n",
    "plt.ylabel('Frequency')\n",
    "x = np.linspace (mean-3*std_dev, mean + 3*std_dev,100)\n",
    "plt.plot(x,norm.pdf(x, mean, std_dev),'r')\n",
    "plt.show\n",
    "#plt.savefig('disney_distribution_2years_2.jpg')\n",
    "\n",
    "print( 'The excess kurtosis of the distribution (should be 0 if normally distrubuted): {}'.format(round(kurtosis(disney_2y_2),4 )))\n",
    "print( 'The skewness of the distribution (should be 0 if normally distributed): {}'.format(round(skew(disney_2y_2),4 )))"
   ]
  },
  {
   "cell_type": "code",
   "execution_count": 222,
   "metadata": {},
   "outputs": [
    {
     "data": {
      "image/png": "[encoded data removed]",
      "text/plain": [
       "<Figure size 432x288 with 1 Axes>"
      ]
     },
     "metadata": {
      "needs_background": "light"
     },
     "output_type": "display_data"
    }
   ],
   "source": [
    "fig = sm.qqplot(disney_2y_2, stats.norm, fit=True ,line='45')\n",
    "#plt.savefig('disney_QQ_plot_2years_2.jpg')"
   ]
  },
  {
   "cell_type": "code",
   "execution_count": 223,
   "metadata": {},
   "outputs": [
    {
     "data": {
      "text/plain": [
       "(3.490723240630824, 0.001025778671765455, 0.011019693978647774)"
      ]
     },
     "execution_count": 223,
     "metadata": {},
     "output_type": "execute_result"
    }
   ],
   "source": [
    "parameters_disney_2y_2 = fit_t_parameters(disney_2y_2)\n",
    "parameters_disney_2y_2"
   ]
  },
  {
   "cell_type": "code",
   "execution_count": 224,
   "metadata": {},
   "outputs": [
    {
     "data": {
      "image/png": "[encoded data removed]",
      "text/plain": [
       "<Figure size 432x288 with 1 Axes>"
      ]
     },
     "metadata": {
      "needs_background": "light"
     },
     "output_type": "display_data"
    }
   ],
   "source": [
    "fig = sm.qqplot(disney_2y_2, stats.t, distargs = (parameters_disney_2y_2[0],) , loc = parameters_disney_2y_2[1],  scale = parameters_disney_2y_2[2],\n",
    "                fit = False, line='45')\n",
    "#plt.savefig('disney_QQ_plot_2years_2_t.jpg')"
   ]
  },
  {
   "cell_type": "code",
   "execution_count": 225,
   "metadata": {},
   "outputs": [
    {
     "name": "stdout",
     "output_type": "stream",
     "text": [
      "The excess kurtosis of the distribution (should be 0 if normally distrubuted): 1.7078\n",
      "The skewness of the distribution (should be 0 if normally distributed): -0.1751\n"
     ]
    },
    {
     "data": {
      "image/png": "[encoded data removed]",
      "text/plain": [
       "<Figure size 432x288 with 1 Axes>"
      ]
     },
     "metadata": {
      "needs_background": "light"
     },
     "output_type": "display_data"
    }
   ],
   "source": [
    "mean = np.mean(atandt_2y_2)\n",
    "std_dev = np.std(atandt_2y_2)\n",
    "visa.hist(bins =40, normed = True, histtype = 'stepfilled', alpha = 0.8)\n",
    "plt.title('AT & T returns against normal distribution')\n",
    "plt.xlabel('Returns')\n",
    "plt.ylabel('Frequency')\n",
    "x = np.linspace (mean-3*std_dev, mean + 3*std_dev,100)\n",
    "plt.plot(x,norm.pdf(x, mean, std_dev),'r')\n",
    "plt.show\n",
    "#plt.savefig('at&t_distribution_2years_2.jpg')\n",
    "\n",
    "print( 'The excess kurtosis of the distribution (should be 0 if normally distrubuted): {}'.format(round(kurtosis(atandt_2y_2),4 )))\n",
    "print( 'The skewness of the distribution (should be 0 if normally distributed): {}'.format(round(skew(atandt_2y_2),4 )))"
   ]
  },
  {
   "cell_type": "code",
   "execution_count": 226,
   "metadata": {},
   "outputs": [
    {
     "data": {
      "image/png": "[encoded data removed]",
      "text/plain": [
       "<Figure size 432x288 with 1 Axes>"
      ]
     },
     "metadata": {
      "needs_background": "light"
     },
     "output_type": "display_data"
    }
   ],
   "source": [
    "fig = sm.qqplot(atandt_2y_2, stats.norm, fit=True ,line='45')\n",
    "#plt.savefig('at&t_QQ_plot_2years_2.jpg')"
   ]
  },
  {
   "cell_type": "code",
   "execution_count": 227,
   "metadata": {},
   "outputs": [
    {
     "data": {
      "text/plain": [
       "(6.149331946635611, 0.0011308077826096702, 0.008257852588321495)"
      ]
     },
     "execution_count": 227,
     "metadata": {},
     "output_type": "execute_result"
    }
   ],
   "source": [
    "parameters_atandt_2y_2 = fit_t_parameters(atandt_2y_2)\n",
    "parameters_atandt_2y_2"
   ]
  },
  {
   "cell_type": "code",
   "execution_count": 228,
   "metadata": {},
   "outputs": [
    {
     "data": {
      "image/png": "[encoded data removed]",
      "text/plain": [
       "<Figure size 432x288 with 1 Axes>"
      ]
     },
     "metadata": {
      "needs_background": "light"
     },
     "output_type": "display_data"
    }
   ],
   "source": [
    "fig = sm.qqplot(atandt_2y_2, stats.t, distargs = (parameters_atandt_2y_2[0],) , loc = parameters_atandt_2y_2[1],  scale = parameters_atandt_2y_2[2],\n",
    "                fit = False, line='45')\n",
    "#plt.savefig('at&t_QQ_plot_2years_2_t.jpg')"
   ]
  },
  {
   "cell_type": "code",
   "execution_count": 229,
   "metadata": {},
   "outputs": [],
   "source": [
    "VaR_95_boeing_2y_2 = VaR(0.05,boeing_2y_2)\n",
    "VaR_95_generalelectric_2y_2 = VaR(0.05,generalelectric_2y_2)\n",
    "VaR_95_homedepot_2y_2 = VaR(0.05,homedepot_2y_2)\n",
    "VaR_95_mmm_2y_2 = VaR(0.05,mmm_2y_2)\n",
    "VaR_95_alcoa_2y_2 = VaR(0.05,alcoa_2y_2)\n",
    "VaR_95_mcdonalds_2y_2 = VaR(0.05,mcdonalds_2y_2)\n",
    "VaR_95_caterpillar_2y_2 =VaR(0.05,caterpillar_2y_2)\n",
    "VaR_95_bankofamerica_2y_2 = VaR(0.05,bankofamerica_2y_2)\n",
    "VaR_95_atandt_2y_2 = VaR(0.05,atandt_2y_2)\n",
    "VaR_95_chevron_2y_2 = VaR(0.05,chevron_2y_2)\n",
    "VaR_95_jandj_2y_2 = VaR(0.05,jandj_2y_2)\n",
    "VaR_95_jpmorganchase_2y_2 = VaR(0.05,jpmorganchase_2y_2)\n",
    "VaR_95_disney_2y_2 = VaR(0.05,disney_2y_2)\n",
    "VaR_95_americanexpress_2y_2 = VaR(0.05,americanexpress_2y_2)\n",
    "VaR_95_microsoft_2y_2 = VaR(0.05,microsoft_2y_2)\n",
    "VaR_95_walmart_2y_2 = VaR(0.05,walmart_2y_2)\n",
    "VaR_95_exxonmobil_2y_2 = VaR(0.05,exxonmobil_2y_2)\n",
    "VaR_95_proctergamble_2y_2 = VaR(0.05,proctergamble_2y_2)\n",
    "VaR_95_citigroup_2y_2 = VaR(0.05,citigroup_2y_2)\n",
    "VaR_95_dupont_2y_2 = VaR(0.05,dupont_2y_2)\n",
    "VaR_95_merck_2y_2 = VaR(0.05,merck_2y_2)\n",
    "VaR_95_intel_2y_2 = VaR(0.05,intel_2y_2)\n",
    "VaR_95_verizoncom_2y_2 = VaR(0.05,verizoncom_2y_2)\n",
    "VaR_95_cocacola_2y_2 = VaR(0.05,cocacola_2y_2)\n",
    "VaR_95_pfizer_2y_2 = VaR(0.05,pfizer_2y_2)"
   ]
  },
  {
   "cell_type": "code",
   "execution_count": 230,
   "metadata": {},
   "outputs": [],
   "source": [
    "dow_jones_VaR95_2y_2 = {'Boeing':'BA','Generalelectric':'GE','Alcoa':'AA','HomeDepot':'HD','3M':'MMM',\n",
    "                   'BankofAmerica':'BAC','McDonalds':'MCD','AT&T':'T','Caterpillar':'CAT','Citigroup':'C',\n",
    "                   'Chevron':'CVX','Johnson&Johnson':'JNJ','JPMorganChase':'JPM','Disney':'DIS',\n",
    "                   'AmericanExpress':'AXP','Microsoft':'MSFT','Walmart':'WMT','ExxonMobil':'XOM',\n",
    "                   'Procter&Gamble':'PG','DuPont':'DD','Merck':'MRK','Intel':'INTC',\n",
    "                   'VerizonCommunications':'VZ','CocaCola':'KO','Pfizer':'PFE'}"
   ]
  },
  {
   "cell_type": "code",
   "execution_count": 231,
   "metadata": {},
   "outputs": [],
   "source": [
    "dow_jones_VaR95_2y_2['Boeing'] =VaR_95_boeing_2y_2\n",
    "dow_jones_VaR95_2y_2['Generalelectric'] =VaR_95_generalelectric_2y_2\n",
    "dow_jones_VaR95_2y_2['Alcoa'] =VaR_95_alcoa_2y_2\n",
    "dow_jones_VaR95_2y_2['HomeDepot'] =VaR_95_homedepot_2y_2\n",
    "dow_jones_VaR95_2y_2['3M'] =VaR_95_mmm_2y_2\n",
    "dow_jones_VaR95_2y_2['BankofAmerica'] =VaR_95_bankofamerica_2y_2\n",
    "dow_jones_VaR95_2y_2['McDonalds'] =VaR_95_mcdonalds_2y_2\n",
    "dow_jones_VaR95_2y_2['AT&T'] =VaR_95_atandt_2y_2\n",
    "dow_jones_VaR95_2y_2['Caterpillar'] =VaR_95_caterpillar_2y_2\n",
    "dow_jones_VaR95_2y_2['Citigroup'] =VaR_95_citigroup_2y_2\n",
    "dow_jones_VaR95_2y_2['DuPont'] =VaR_95_dupont_2y_2\n",
    "dow_jones_VaR95_2y_2['Chevron'] =VaR_95_chevron_2y_2\n",
    "dow_jones_VaR95_2y_2['Johnson&Johnson'] =VaR_95_jandj_2y_2\n",
    "dow_jones_VaR95_2y_2['JPMorganChase'] =VaR_95_jpmorganchase_2y_2\n",
    "dow_jones_VaR95_2y_2['Disney'] =VaR_95_disney_2y_2\n",
    "dow_jones_VaR95_2y_2['AmericanExpress'] =VaR_95_americanexpress_2y_2\n",
    "dow_jones_VaR95_2y_2['Microsoft'] =VaR_95_microsoft_2y_2\n",
    "dow_jones_VaR95_2y_2['Walmart'] =VaR_95_walmart_2y_2\n",
    "dow_jones_VaR95_2y_2['ExxonMobil'] =VaR_95_exxonmobil_2y_2\n",
    "dow_jones_VaR95_2y_2['Procter&Gamble'] =VaR_95_proctergamble_2y_2\n",
    "dow_jones_VaR95_2y_2['Merck'] =VaR_95_merck_2y_2\n",
    "dow_jones_VaR95_2y_2['Intel'] =VaR_95_intel_2y_2\n",
    "dow_jones_VaR95_2y_2['VerizonCommunications'] =VaR_95_verizoncom_2y_2\n",
    "dow_jones_VaR95_2y_2['CocaCola'] =VaR_95_cocacola_2y_2\n",
    "dow_jones_VaR95_2y_2['Pfizer'] =VaR_95_pfizer_2y_2"
   ]
  },
  {
   "cell_type": "code",
   "execution_count": 232,
   "metadata": {},
   "outputs": [
    {
     "data": {
      "text/plain": [
       "{'Boeing': 0.02816452079298093,\n",
       " 'Generalelectric': 0.02395826372514398,\n",
       " 'Alcoa': 0.0364444683184888,\n",
       " 'HomeDepot': 0.02217595045295495,\n",
       " '3M': 0.022737837190221155,\n",
       " 'BankofAmerica': 0.04489790743013222,\n",
       " 'McDonalds': 0.015754648487088962,\n",
       " 'AT&T': 0.015172947620485489,\n",
       " 'Caterpillar': 0.0308742651223467,\n",
       " 'Citigroup': 0.04431724338586207,\n",
       " 'Chevron': 0.021769501978593175,\n",
       " 'Johnson&Johnson': 0.014021929024981006,\n",
       " 'JPMorganChase': 0.03526671077365673,\n",
       " 'Disney': 0.02431417242772993,\n",
       " 'AmericanExpress': 0.02723467157911319,\n",
       " 'Microsoft': 0.02184121292158614,\n",
       " 'Walmart': 0.01357469259876376,\n",
       " 'ExxonMobil': 0.020386329929323654,\n",
       " 'Procter&Gamble': 0.0133660476194718,\n",
       " 'DuPont': 0.032246357909841095,\n",
       " 'Merck': 0.017373946260664908,\n",
       " 'Intel': 0.02330905834738628,\n",
       " 'VerizonCommunications': 0.015590063573212798,\n",
       " 'CocaCola': 0.013976969712810705,\n",
       " 'Pfizer': 0.018388207423107983}"
      ]
     },
     "execution_count": 232,
     "metadata": {},
     "output_type": "execute_result"
    }
   ],
   "source": [
    "dow_jones_VaR95_2y_2"
   ]
  },
  {
   "cell_type": "code",
   "execution_count": 233,
   "metadata": {},
   "outputs": [],
   "source": [
    "for value in dow_jones_VaR95_2y_2:    \n",
    "    dow_jones_VaR95_2y_2[value] *=  1000000"
   ]
  },
  {
   "cell_type": "code",
   "execution_count": 234,
   "metadata": {},
   "outputs": [],
   "source": [
    "dow_jones_VaR95_2y_2 ={k: round(v, 2) for k, v in dow_jones_VaR95_2y_2.items()}"
   ]
  },
  {
   "cell_type": "code",
   "execution_count": 235,
   "metadata": {},
   "outputs": [],
   "source": [
    "for key in dow_jones_VaR95_2y_2:\n",
    "    dow_jones_VaR95_2y_2[key] = \"${:,.2f}\".format(dow_jones_VaR95_2y_2[key])"
   ]
  },
  {
   "cell_type": "code",
   "execution_count": 236,
   "metadata": {},
   "outputs": [
    {
     "data": {
      "text/plain": [
       "{'Boeing': '$28,164.52',\n",
       " 'Generalelectric': '$23,958.26',\n",
       " 'Alcoa': '$36,444.47',\n",
       " 'HomeDepot': '$22,175.95',\n",
       " '3M': '$22,737.84',\n",
       " 'BankofAmerica': '$44,897.91',\n",
       " 'McDonalds': '$15,754.65',\n",
       " 'AT&T': '$15,172.95',\n",
       " 'Caterpillar': '$30,874.27',\n",
       " 'Citigroup': '$44,317.24',\n",
       " 'Chevron': '$21,769.50',\n",
       " 'Johnson&Johnson': '$14,021.93',\n",
       " 'JPMorganChase': '$35,266.71',\n",
       " 'Disney': '$24,314.17',\n",
       " 'AmericanExpress': '$27,234.67',\n",
       " 'Microsoft': '$21,841.21',\n",
       " 'Walmart': '$13,574.69',\n",
       " 'ExxonMobil': '$20,386.33',\n",
       " 'Procter&Gamble': '$13,366.05',\n",
       " 'DuPont': '$32,246.36',\n",
       " 'Merck': '$17,373.95',\n",
       " 'Intel': '$23,309.06',\n",
       " 'VerizonCommunications': '$15,590.06',\n",
       " 'CocaCola': '$13,976.97',\n",
       " 'Pfizer': '$18,388.21'}"
      ]
     },
     "execution_count": 236,
     "metadata": {},
     "output_type": "execute_result"
    }
   ],
   "source": [
    "## 95% VaR of stock returns, we interpret VaR as positive number ##\n",
    "\n",
    "dow_jones_VaR95_2y_2"
   ]
  },
  {
   "cell_type": "code",
   "execution_count": 237,
   "metadata": {},
   "outputs": [
    {
     "name": "stdout",
     "output_type": "stream",
     "text": [
      "The excess kurtosis of the distribution (should be 0 if normally distrubuted): 3.4554\n",
      "The skewness of the distribution (should be 0 if normally distributed): -0.4872\n",
      "\n",
      "\n",
      "\n",
      "The Value at Risk with 99% confidence for $1,000,000 invested in Du Pont is: $62,352.08\n",
      "\n",
      "\n"
     ]
    },
    {
     "data": {
      "image/png": "[encoded data removed]",
      "text/plain": [
       "<Figure size 864x504 with 1 Axes>"
      ]
     },
     "metadata": {
      "needs_background": "light"
     },
     "output_type": "display_data"
    }
   ],
   "source": [
    "## plotting VaR 99% as an example for du pont stock ##\n",
    "\n",
    "mean = np.mean(dupont_2y_2)\n",
    "std_dev = np.std(dupont_2y_2)\n",
    "visa.hist(bins =40, normed = True, histtype = 'stepfilled', alpha = 0.8, figsize =(12,7))\n",
    "\n",
    "plt.title('Du Pont returns against normal distribution')\n",
    "plt.xlabel('Returns')\n",
    "plt.ylabel('Frequency')\n",
    "plt.axvline(VaR(0.01,dupont_2y_2)*-1,color = 'red',label='Value at Risk')\n",
    "x = np.linspace (mean-3*std_dev, mean + 3*std_dev,100)\n",
    "plt.plot(x,norm.pdf(x, mean, std_dev),'orange',label='Normal distribution')\n",
    "plt.legend()\n",
    "plt.show\n",
    "#plt.savefig('dupont_VaR_2years_2.jpg')\n",
    "\n",
    "\n",
    "print( 'The excess kurtosis of the distribution (should be 0 if normally distrubuted): {}'.format(round(kurtosis(dupont_2y_2),4 )))\n",
    "print( 'The skewness of the distribution (should be 0 if normally distributed): {}'.format(round(skew(dupont_2y_2),4 )))\n",
    "\n",
    "VaR_amount_99_dupont_2y_2= \"${:,.2f}\".format(round(VaR(0.01,dupont_2y_2)*1000000,2))\n",
    "print('\\n'*3+'The Value at Risk with 99% confidence for $1,000,000 invested in Du Pont is: {}'.format(VaR_amount_99_dupont_2y_2)+'\\n'*2)"
   ]
  },
  {
   "cell_type": "code",
   "execution_count": 238,
   "metadata": {},
   "outputs": [],
   "source": [
    "list_VaR_2y_2 = dict.items(dow_jones_VaR95_2y_2)"
   ]
  },
  {
   "cell_type": "code",
   "execution_count": 239,
   "metadata": {},
   "outputs": [
    {
     "name": "stdout",
     "output_type": "stream",
     "text": [
      "Stock                  Value at Risk in %\n",
      "---------------------  --------------------\n",
      "Boeing                 $28,164.52\n",
      "Generalelectric        $23,958.26\n",
      "Alcoa                  $36,444.47\n",
      "HomeDepot              $22,175.95\n",
      "3M                     $22,737.84\n",
      "BankofAmerica          $44,897.91\n",
      "McDonalds              $15,754.65\n",
      "AT&T                   $15,172.95\n",
      "Caterpillar            $30,874.27\n",
      "Citigroup              $44,317.24\n",
      "Chevron                $21,769.50\n",
      "Johnson&Johnson        $14,021.93\n",
      "JPMorganChase          $35,266.71\n",
      "Disney                 $24,314.17\n",
      "AmericanExpress        $27,234.67\n",
      "Microsoft              $21,841.21\n",
      "Walmart                $13,574.69\n",
      "ExxonMobil             $20,386.33\n",
      "Procter&Gamble         $13,366.05\n",
      "DuPont                 $32,246.36\n",
      "Merck                  $17,373.95\n",
      "Intel                  $23,309.06\n",
      "VerizonCommunications  $15,590.06\n",
      "CocaCola               $13,976.97\n",
      "Pfizer                 $18,388.21\n"
     ]
    }
   ],
   "source": [
    "from tabulate import tabulate\n",
    "print (tabulate(list_VaR_2y_2, headers=[\"Stock\", \"Value at Risk in %\"]))"
   ]
  },
  {
   "cell_type": "code",
   "execution_count": 240,
   "metadata": {},
   "outputs": [],
   "source": [
    "## the same random portfolios will be used as before ##"
   ]
  },
  {
   "cell_type": "code",
   "execution_count": 241,
   "metadata": {},
   "outputs": [],
   "source": [
    "number_random_portfolios_2y_2 = [10, 18, 11, 16, 11]"
   ]
  },
  {
   "cell_type": "code",
   "execution_count": 242,
   "metadata": {},
   "outputs": [],
   "source": [
    "random_portfolios_2y_2 = [['at&t',\n",
    "  'dupont',\n",
    "  'caterpillar',\n",
    "  'johnson&johnson',\n",
    "  'mcdonalds',\n",
    "  'procter&gamble',\n",
    "  'chevron',\n",
    "  'intel',\n",
    "  'verizoncommunications',\n",
    "  'homedepot'],\n",
    " ['homedepot',\n",
    "  'johnson&johnson',\n",
    "  'at&t',\n",
    "  'verizoncommunications',\n",
    "  'cocacola',\n",
    "  'jpmorganchase',\n",
    "  'generalelectric',\n",
    "  'disney',\n",
    "  'chevron',\n",
    "  'procter&gamble',\n",
    "  'microsoft',\n",
    "  'merck',\n",
    "  'intel',\n",
    "  'pfizer',\n",
    "  'bankofamerica',\n",
    "  'boeing',\n",
    "  'dupont',\n",
    "  'americanexpress'],\n",
    " ['3m',\n",
    "  'bankofamerica',\n",
    "  'mcdonalds',\n",
    "  'boeing',\n",
    "  'chevron',\n",
    "  'walmart',\n",
    "  'johnson&johnson',\n",
    "  'jpmorganchase',\n",
    "  'intel',\n",
    "  'disney',\n",
    "  'americanexpress'],\n",
    " ['walmart',\n",
    "  'bankofamerica',\n",
    "  'merck',\n",
    "  'homedepot',\n",
    "  'microsoft',\n",
    "  'chevron',\n",
    "  'citigroup',\n",
    "  'verizoncommunications',\n",
    "  'exxonmobil',\n",
    "  'pfizer',\n",
    "  'americanexpress',\n",
    "  '3m',\n",
    "  'at&t',\n",
    "  'caterpillar',\n",
    "  'mcdonalds',\n",
    "  'cocacola'],\n",
    " ['americanexpress',\n",
    "  'homedepot',\n",
    "  'intel',\n",
    "  'caterpillar',\n",
    "  'verizoncommunications',\n",
    "  'mcdonalds',\n",
    "  'alcoa',\n",
    "  'at&t',\n",
    "  'boeing',\n",
    "  'jpmorganchase',\n",
    "  'citigroup']]"
   ]
  },
  {
   "cell_type": "code",
   "execution_count": 243,
   "metadata": {},
   "outputs": [],
   "source": [
    "## check random portfolios for subadditivity with 95% VaR ##"
   ]
  },
  {
   "cell_type": "code",
   "execution_count": 244,
   "metadata": {},
   "outputs": [
    {
     "data": {
      "text/plain": [
       "True"
      ]
     },
     "execution_count": 244,
     "metadata": {},
     "output_type": "execute_result"
    }
   ],
   "source": [
    "## random portfolio 1 ##\n",
    "\n",
    "subadditive(0.05, atandt_2y_2,dupont_2y_2,caterpillar_2y_2,jandj_2y_2,mcdonalds_2y_2,proctergamble_2y_2,\n",
    "            chevron_2y_2,intel_2y_2,verizoncom_2y_2,homedepot_2y_2)"
   ]
  },
  {
   "cell_type": "code",
   "execution_count": 245,
   "metadata": {},
   "outputs": [
    {
     "data": {
      "text/plain": [
       "True"
      ]
     },
     "execution_count": 245,
     "metadata": {},
     "output_type": "execute_result"
    }
   ],
   "source": [
    "## random portfolio 2 ##\n",
    "\n",
    "subadditive(0.05, homedepot_2y_2,jandj_2y_2,atandt_2y_2,verizoncom_2y_2,cocacola_2y_2,jpmorganchase_2y_2,\n",
    "            generalelectric_2y_2,disney_2y_2,chevron_2y_2,proctergamble_2y_2,microsoft_2y_2,merck_2y_2,intel_2y_2,\n",
    "            pfizer_2y_2,bankofamerica_2y_2,boeing_2y_2,dupont_2y_2,americanexpress_2y_2)"
   ]
  },
  {
   "cell_type": "code",
   "execution_count": 246,
   "metadata": {},
   "outputs": [
    {
     "data": {
      "text/plain": [
       "True"
      ]
     },
     "execution_count": 246,
     "metadata": {},
     "output_type": "execute_result"
    }
   ],
   "source": [
    "## random portfolio 3 ##\n",
    "subadditive(0.05, mmm_2y_2,bankofamerica_2y_2,mcdonalds_2y_2,boeing_2y_2,chevron_2y_2,walmart_2y_2,jandj_2y_2,\n",
    "            jpmorganchase_2y_2,intel_2y_2,disney_2y_2,americanexpress_2y_2)"
   ]
  },
  {
   "cell_type": "code",
   "execution_count": 247,
   "metadata": {},
   "outputs": [
    {
     "data": {
      "text/plain": [
       "True"
      ]
     },
     "execution_count": 247,
     "metadata": {},
     "output_type": "execute_result"
    }
   ],
   "source": [
    "## random portfolio 4 ##\n",
    "\n",
    "subadditive(0.05, walmart_2y_2,bankofamerica_2y_2,merck_2y_2,homedepot_2y_2,microsoft_2y_2,chevron_2y_2,\n",
    "            citigroup_2y_2,verizoncom_2y_2,exxonmobil_2y_2, pfizer_2y_2,americanexpress_2y_2,mmm_2y_2,atandt_2y_2,\n",
    "            caterpillar_2y_2,mcdonalds_2y_2,cocacola_2y_2)"
   ]
  },
  {
   "cell_type": "code",
   "execution_count": 248,
   "metadata": {},
   "outputs": [
    {
     "data": {
      "text/plain": [
       "True"
      ]
     },
     "execution_count": 248,
     "metadata": {},
     "output_type": "execute_result"
    }
   ],
   "source": [
    "## random portfolio 5 ##\n",
    "\n",
    "subadditive(0.05, americanexpress_2y_2,homedepot_2y_2,intel_2y_2,caterpillar_2y_2,verizoncom_2y_2,mcdonalds_2y_2,\n",
    "            alcoa_2y_2,atandt_2y_2,boeing_2y_2,jpmorganchase_2y_2,citigroup_2y_2)"
   ]
  },
  {
   "cell_type": "code",
   "execution_count": 249,
   "metadata": {},
   "outputs": [
    {
     "name": "stdout",
     "output_type": "stream",
     "text": [
      "+-----------+-------------------------------+-------------+\n",
      "| Portfolio | Number of stocks in portfolio | Subadditive |\n",
      "+-----------+-------------------------------+-------------+\n",
      "|     1     |               10              |     Yes     |\n",
      "|     2     |               18              |     Yes     |\n",
      "|     3     |               11              |     Yes     |\n",
      "|     4     |               16              |     Yes     |\n",
      "|     5     |               11              |     Yes     |\n",
      "+-----------+-------------------------------+-------------+\n"
     ]
    }
   ],
   "source": [
    "table_one = PrettyTable()\n",
    "table_one.field_names = ['Portfolio','Number of stocks in portfolio', 'Subadditive']\n",
    "table_one.add_row(['1',10, 'Yes'])\n",
    "table_one.add_row(['2',18, 'Yes'])\n",
    "table_one.add_row(['3',11, 'Yes'])\n",
    "table_one.add_row(['4',16, 'Yes'])\n",
    "table_one.add_row(['5',11, 'Yes'])\n",
    "print(table_one)"
   ]
  },
  {
   "cell_type": "code",
   "execution_count": 250,
   "metadata": {},
   "outputs": [],
   "source": [
    "## check random portfolios subadditive 99% VaR ## "
   ]
  },
  {
   "cell_type": "code",
   "execution_count": 251,
   "metadata": {},
   "outputs": [
    {
     "data": {
      "text/plain": [
       "True"
      ]
     },
     "execution_count": 251,
     "metadata": {},
     "output_type": "execute_result"
    }
   ],
   "source": [
    "## random portfolio 1 ##\n",
    "\n",
    "subadditive(0.01, atandt_2y_2,dupont_2y_2,caterpillar_2y_2,jandj_2y_2,mcdonalds_2y_2,proctergamble_2y_2,\n",
    "            chevron_2y_2,intel_2y_2,verizoncom_2y_2,homedepot_2y_2)"
   ]
  },
  {
   "cell_type": "code",
   "execution_count": 252,
   "metadata": {},
   "outputs": [
    {
     "data": {
      "text/plain": [
       "True"
      ]
     },
     "execution_count": 252,
     "metadata": {},
     "output_type": "execute_result"
    }
   ],
   "source": [
    "## random portfolio 2 ##\n",
    "\n",
    "subadditive(0.01, homedepot_2y_2,jandj_2y_2,atandt_2y_2,verizoncom_2y_2,cocacola_2y_2,jpmorganchase_2y_2,\n",
    "            generalelectric_2y_2,disney_2y_2,chevron_2y_2,proctergamble_2y_2,microsoft_2y_2,merck_2y_2,intel_2y_2,\n",
    "            pfizer_2y_2,bankofamerica_2y_2,boeing_2y_2,dupont_2y_2,americanexpress_2y_2)"
   ]
  },
  {
   "cell_type": "code",
   "execution_count": 253,
   "metadata": {},
   "outputs": [
    {
     "data": {
      "text/plain": [
       "True"
      ]
     },
     "execution_count": 253,
     "metadata": {},
     "output_type": "execute_result"
    }
   ],
   "source": [
    "## random portfolio 3 ##\n",
    "subadditive(0.01, mmm_2y_2,bankofamerica_2y_2,mcdonalds_2y_2,boeing_2y_2,chevron_2y_2,walmart_2y_2,jandj_2y_2,\n",
    "            jpmorganchase_2y_2,intel_2y_2,disney_2y_2,americanexpress_2y_2)"
   ]
  },
  {
   "cell_type": "code",
   "execution_count": 254,
   "metadata": {},
   "outputs": [
    {
     "data": {
      "text/plain": [
       "True"
      ]
     },
     "execution_count": 254,
     "metadata": {},
     "output_type": "execute_result"
    }
   ],
   "source": [
    "## random portfolio 4 ##\n",
    "\n",
    "subadditive(0.01, walmart_2y_2,bankofamerica_2y_2,merck_2y_2,homedepot_2y_2,microsoft_2y_2,chevron_2y_2,\n",
    "            citigroup_2y_2,verizoncom_2y_2,exxonmobil_2y_2, pfizer_2y_2,americanexpress_2y_2,mmm_2y_2,atandt_2y_2,\n",
    "            caterpillar_2y_2,mcdonalds_2y_2,cocacola_2y_2)\n"
   ]
  },
  {
   "cell_type": "code",
   "execution_count": 255,
   "metadata": {},
   "outputs": [
    {
     "data": {
      "text/plain": [
       "True"
      ]
     },
     "execution_count": 255,
     "metadata": {},
     "output_type": "execute_result"
    }
   ],
   "source": [
    "## random portfolio 5 ##\n",
    "\n",
    "subadditive(0.01, americanexpress_2y_2,homedepot_2y_2,intel_2y_2,caterpillar_2y_2,verizoncom_2y_2,mcdonalds_2y_2,\n",
    "            alcoa_2y_2,atandt_2y_2,boeing_2y_2,jpmorganchase_2y_2,citigroup_2y_2)"
   ]
  },
  {
   "cell_type": "code",
   "execution_count": 256,
   "metadata": {},
   "outputs": [
    {
     "name": "stdout",
     "output_type": "stream",
     "text": [
      "+-----------+-------------------------------+-------------+\n",
      "| Portfolio | Number of stocks in portfolio | Subadditive |\n",
      "+-----------+-------------------------------+-------------+\n",
      "|     1     |               10              |     Yes     |\n",
      "|     2     |               18              |     Yes     |\n",
      "|     3     |               11              |     Yes     |\n",
      "|     4     |               16              |     Yes     |\n",
      "|     5     |               11              |     Yes     |\n",
      "+-----------+-------------------------------+-------------+\n"
     ]
    }
   ],
   "source": [
    "table_one = PrettyTable()\n",
    "table_one.field_names = ['Portfolio','Number of stocks in portfolio', 'Subadditive']\n",
    "table_one.add_row(['1',10, 'Yes'])\n",
    "table_one.add_row(['2',18, 'Yes'])\n",
    "table_one.add_row(['3',11, 'Yes'])\n",
    "table_one.add_row(['4',16, 'Yes'])\n",
    "table_one.add_row(['5',11, 'Yes'])\n",
    "print(table_one)"
   ]
  },
  {
   "cell_type": "code",
   "execution_count": null,
   "metadata": {},
   "outputs": [],
   "source": []
  },
  {
   "cell_type": "code",
   "execution_count": 257,
   "metadata": {},
   "outputs": [],
   "source": [
    "result_random_2y_floats_2 = [alcoa_2y_2, merck_2y_2, pfizer_2y_2, generalelectric_2y_2, walmart_2y_2, intel_2y_2,\n",
    "                             citigroup_2y_2, atandt_2y_2,mmm_2y_2, boeing_2y_2, jpmorganchase_2y_2, homedepot_2y_2,\n",
    "                             jandj_2y_2, chevron_2y_2, exxonmobil_2y_2]"
   ]
  },
  {
   "cell_type": "code",
   "execution_count": 258,
   "metadata": {},
   "outputs": [],
   "source": [
    "result_random_2y_strings_2 = ['alcoa_2y_2', 'merck_2y_2', 'pfizer_2y_2', 'generalelectric_2y_2', 'walmart_2y_2',\n",
    "                              'intel_2y_2','citigroup_2y_2', 'atandt_2y_2','mmm_2y_2', 'boeing_2y_2',\n",
    "                              'jpmorganchase_2y_2', 'homedepot_2y_2', 'jandj_2y_2', 'chevron_2y_2', 'exxonmobil_2y_2']"
   ]
  },
  {
   "cell_type": "code",
   "execution_count": 259,
   "metadata": {},
   "outputs": [
    {
     "data": {
      "text/plain": [
       "32752"
      ]
     },
     "execution_count": 259,
     "metadata": {},
     "output_type": "execute_result"
    }
   ],
   "source": [
    "all_combinations = []\n",
    "for r in range(len(result_random_2y_floats_2) + 1):\n",
    "    combinations_object = itertools.combinations(result_random_2y_floats_2, r)\n",
    "    combinations_list = list(combinations_object)\n",
    "    all_combinations += combinations_list\n",
    "all_combinations = [x for x in all_combinations if len(x) > 1]\n",
    "len(all_combinations)"
   ]
  },
  {
   "cell_type": "code",
   "execution_count": 260,
   "metadata": {},
   "outputs": [],
   "source": [
    "# %%time\n",
    "# number_violations(0.05, result_random_2y_floats_2_test)"
   ]
  },
  {
   "cell_type": "code",
   "execution_count": 261,
   "metadata": {},
   "outputs": [],
   "source": [
    "violations_95_2y_2 = 2"
   ]
  },
  {
   "cell_type": "code",
   "execution_count": 262,
   "metadata": {},
   "outputs": [],
   "source": [
    "# %%time\n",
    "# number_violations(0.01, result_random_2y_floats_2_test)"
   ]
  },
  {
   "cell_type": "code",
   "execution_count": 263,
   "metadata": {},
   "outputs": [],
   "source": [
    "violations_99_2y_2 = 55"
   ]
  },
  {
   "cell_type": "code",
   "execution_count": 264,
   "metadata": {},
   "outputs": [
    {
     "name": "stdout",
     "output_type": "stream",
     "text": [
      "+------------------+----------------------+\n",
      "| Confidence level | number of violations |\n",
      "+------------------+----------------------+\n",
      "|     95% VaR      |          2           |\n",
      "|     99% VaR      |          55          |\n",
      "+------------------+----------------------+\n"
     ]
    }
   ],
   "source": [
    "table_three = PrettyTable()\n",
    "table_three.field_names = ['Confidence level','number of violations']\n",
    "table_three.add_row(['95% VaR', violations_95_2y_2])\n",
    "table_three.add_row(['99% VaR', violations_99_2y_2])\n",
    "print(table_three)"
   ]
  },
  {
   "cell_type": "code",
   "execution_count": 265,
   "metadata": {},
   "outputs": [],
   "source": [
    "# %%time\n",
    "# indices_2y_95_2 = index_violations(0.05,result_random_2y_floats_2)"
   ]
  },
  {
   "cell_type": "code",
   "execution_count": 266,
   "metadata": {},
   "outputs": [],
   "source": [
    "# %%time\n",
    "# where_violations_2y_95_2 =portfolio_violations(result_random_2y_strings_2,indices_2y_95_2)"
   ]
  },
  {
   "cell_type": "code",
   "execution_count": 349,
   "metadata": {},
   "outputs": [],
   "source": [
    "where_violations_2y_95_saved_2 = [['generalelectric_2y_2', 'mmm_2y_2'],\n",
    "['generalelectric_2y_2', 'intel_2y_2', 'mmm_2y_2', 'jandj_2y_2']]"
   ]
  },
  {
   "cell_type": "code",
   "execution_count": 350,
   "metadata": {},
   "outputs": [
    {
     "data": {
      "text/plain": [
       "[0, 0, 0, 2, 0, 1, 0, 0, 2, 0, 0, 0, 1, 0, 0]"
      ]
     },
     "execution_count": 350,
     "metadata": {},
     "output_type": "execute_result"
    }
   ],
   "source": [
    "number_violations_95_2y_2 = []\n",
    "for i in result_random_2y_strings_2:\n",
    "    x =count(where_violations_2y_95_saved_2,i)\n",
    "    number_violations_95_2y_2.append(x)\n",
    "number_violations_95_2y_2"
   ]
  },
  {
   "cell_type": "code",
   "execution_count": 351,
   "metadata": {},
   "outputs": [
    {
     "data": {
      "text/plain": [
       "{'alcoa_2y_2': 0,\n",
       " 'merck_2y_2': 0,\n",
       " 'pfizer_2y_2': 0,\n",
       " 'generalelectric_2y_2': 2,\n",
       " 'walmart_2y_2': 0,\n",
       " 'intel_2y_2': 1,\n",
       " 'citigroup_2y_2': 0,\n",
       " 'atandt_2y_2': 0,\n",
       " 'mmm_2y_2': 2,\n",
       " 'boeing_2y_2': 0,\n",
       " 'jpmorganchase_2y_2': 0,\n",
       " 'homedepot_2y_2': 0,\n",
       " 'jandj_2y_2': 1,\n",
       " 'chevron_2y_2': 0,\n",
       " 'exxonmobil_2y_2': 0}"
      ]
     },
     "execution_count": 351,
     "metadata": {},
     "output_type": "execute_result"
    }
   ],
   "source": [
    "dict_violations_95_2_2 = dict(zip(result_random_2y_strings_2, number_violations_95_2y_2))\n",
    "dict_violations_95_2_2"
   ]
  },
  {
   "cell_type": "code",
   "execution_count": 268,
   "metadata": {},
   "outputs": [],
   "source": [
    "# %%time\n",
    "# indices_2y_99_2 = index_violations(0.01,result_random_2y_floats_2)"
   ]
  },
  {
   "cell_type": "code",
   "execution_count": 269,
   "metadata": {},
   "outputs": [],
   "source": [
    "# %%time\n",
    "# where_violations_2y_99_2 =portfolio_violations(result_random_2y_strings_2,indices_2y_99_2)"
   ]
  },
  {
   "cell_type": "code",
   "execution_count": 353,
   "metadata": {},
   "outputs": [],
   "source": [
    "where_violations_2y_99_saved_2 = [['alcoa_2y_2', 'merck_2y_2'],\n",
    "['alcoa_2y_2', 'boeing_2y_2'],\n",
    "['merck_2y_2', 'boeing_2y_2'],\n",
    "['generalelectric_2y_2', 'citigroup_2y_2'],\n",
    "['generalelectric_2y_2', 'jpmorganchase_2y_2'],\n",
    "['boeing_2y_2', 'jpmorganchase_2y_2'],\n",
    "['boeing_2y_2', 'chevron_2y_2'],\n",
    "['jpmorganchase_2y_2', 'jandj_2y_2'],\n",
    "['jandj_2y_2', 'chevron_2y_2'],\n",
    "['chevron_2y_2', 'exxonmobil_2y_2'],\n",
    "['alcoa_2y_2', 'merck_2y_2', 'chevron_2y_2'],\n",
    "['alcoa_2y_2', 'boeing_2y_2', 'jandj_2y_2'],\n",
    "['pfizer_2y_2', 'citigroup_2y_2', 'chevron_2y_2'],\n",
    "['generalelectric_2y_2', 'boeing_2y_2', 'jpmorganchase_2y_2'],\n",
    "['citigroup_2y_2', 'boeing_2y_2', 'chevron_2y_2'],\n",
    "['citigroup_2y_2', 'jpmorganchase_2y_2', 'chevron_2y_2'],\n",
    "['citigroup_2y_2', 'chevron_2y_2', 'exxonmobil_2y_2'],\n",
    "['boeing_2y_2', 'jpmorganchase_2y_2', 'chevron_2y_2'],\n",
    "['jandj_2y_2', 'chevron_2y_2', 'exxonmobil_2y_2'],\n",
    "['alcoa_2y_2', 'merck_2y_2', 'jpmorganchase_2y_2', 'chevron_2y_2'],\n",
    "['alcoa_2y_2', 'merck_2y_2', 'jandj_2y_2', 'chevron_2y_2'],\n",
    "['alcoa_2y_2', 'merck_2y_2', 'jandj_2y_2', 'exxonmobil_2y_2'],\n",
    "['alcoa_2y_2', 'pfizer_2y_2', 'citigroup_2y_2', 'chevron_2y_2'],\n",
    "['alcoa_2y_2', 'generalelectric_2y_2', 'citigroup_2y_2', 'chevron_2y_2'],\n",
    "['alcoa_2y_2', 'citigroup_2y_2', 'chevron_2y_2', 'exxonmobil_2y_2'],\n",
    "['alcoa_2y_2', 'boeing_2y_2', 'jandj_2y_2', 'chevron_2y_2'],\n",
    "['pfizer_2y_2', 'citigroup_2y_2', 'jandj_2y_2', 'chevron_2y_2'],\n",
    "['pfizer_2y_2', 'citigroup_2y_2', 'jandj_2y_2', 'exxonmobil_2y_2'],\n",
    "['generalelectric_2y_2', 'atandt_2y_2', 'boeing_2y_2', 'jpmorganchase_2y_2'],\n",
    "['generalelectric_2y_2', 'boeing_2y_2', 'jpmorganchase_2y_2', 'jandj_2y_2'],\n",
    "['citigroup_2y_2', 'boeing_2y_2', 'jpmorganchase_2y_2', 'chevron_2y_2'],\n",
    "['citigroup_2y_2', 'jandj_2y_2', 'chevron_2y_2', 'exxonmobil_2y_2'],\n",
    "['alcoa_2y_2', 'merck_2y_2', 'pfizer_2y_2', 'citigroup_2y_2', 'chevron_2y_2'],\n",
    "['alcoa_2y_2', 'pfizer_2y_2', 'generalelectric_2y_2', 'citigroup_2y_2', 'chevron_2y_2'],\n",
    "['alcoa_2y_2', 'pfizer_2y_2', 'citigroup_2y_2', 'atandt_2y_2', 'chevron_2y_2'],\n",
    "['alcoa_2y_2', 'pfizer_2y_2', 'citigroup_2y_2', 'boeing_2y_2', 'chevron_2y_2'],\n",
    "['alcoa_2y_2', 'pfizer_2y_2', 'citigroup_2y_2', 'jandj_2y_2', 'chevron_2y_2'],\n",
    "['alcoa_2y_2', 'generalelectric_2y_2', 'citigroup_2y_2', 'jandj_2y_2', 'chevron_2y_2'],\n",
    "['alcoa_2y_2', 'citigroup_2y_2', 'jandj_2y_2', 'chevron_2y_2', 'exxonmobil_2y_2'],\n",
    "['alcoa_2y_2', 'boeing_2y_2', 'jpmorganchase_2y_2', 'jandj_2y_2', 'chevron_2y_2'],\n",
    "['generalelectric_2y_2', 'citigroup_2y_2', 'boeing_2y_2', 'jpmorganchase_2y_2', 'chevron_2y_2'],\n",
    "['alcoa_2y_2', 'pfizer_2y_2', 'generalelectric_2y_2', 'citigroup_2y_2', 'jpmorganchase_2y_2', 'chevron_2y_2'],\n",
    "['alcoa_2y_2', 'pfizer_2y_2', 'citigroup_2y_2', 'atandt_2y_2', 'jandj_2y_2', 'chevron_2y_2'],\n",
    "['alcoa_2y_2', 'pfizer_2y_2', 'citigroup_2y_2', 'boeing_2y_2', 'jpmorganchase_2y_2', 'chevron_2y_2'],\n",
    "['alcoa_2y_2', 'pfizer_2y_2', 'citigroup_2y_2', 'boeing_2y_2', 'jandj_2y_2', 'chevron_2y_2'],\n",
    "['alcoa_2y_2', 'pfizer_2y_2', 'citigroup_2y_2', 'jandj_2y_2', 'chevron_2y_2', 'exxonmobil_2y_2'],\n",
    "['alcoa_2y_2', 'citigroup_2y_2', 'boeing_2y_2', 'jpmorganchase_2y_2', 'chevron_2y_2', 'exxonmobil_2y_2'],\n",
    "['alcoa_2y_2', 'merck_2y_2', 'pfizer_2y_2', 'citigroup_2y_2', 'jpmorganchase_2y_2', 'chevron_2y_2', 'exxonmobil_2y_2'],\n",
    "['alcoa_2y_2', 'merck_2y_2', 'citigroup_2y_2', 'boeing_2y_2', 'jpmorganchase_2y_2', 'chevron_2y_2', 'exxonmobil_2y_2'],\n",
    "['alcoa_2y_2', 'pfizer_2y_2', 'citigroup_2y_2', 'boeing_2y_2', 'jpmorganchase_2y_2', 'jandj_2y_2', 'chevron_2y_2'],\n",
    "['alcoa_2y_2', 'pfizer_2y_2', 'citigroup_2y_2', 'boeing_2y_2', 'jpmorganchase_2y_2', 'jandj_2y_2', 'exxonmobil_2y_2'],\n",
    "['alcoa_2y_2', 'generalelectric_2y_2', 'citigroup_2y_2', 'jpmorganchase_2y_2', 'jandj_2y_2', 'chevron_2y_2', 'exxonmobil_2y_2'],\n",
    "['alcoa_2y_2', 'merck_2y_2', 'pfizer_2y_2', 'citigroup_2y_2', 'jpmorganchase_2y_2', 'jandj_2y_2', 'chevron_2y_2', 'exxonmobil_2y_2'],\n",
    "['alcoa_2y_2', 'merck_2y_2', 'citigroup_2y_2', 'boeing_2y_2', 'jpmorganchase_2y_2', 'jandj_2y_2', 'chevron_2y_2', 'exxonmobil_2y_2'],\n",
    "['alcoa_2y_2', 'generalelectric_2y_2', 'citigroup_2y_2', 'boeing_2y_2', 'jpmorganchase_2y_2', 'jandj_2y_2', 'chevron_2y_2', 'exxonmobil_2y_2']]"
   ]
  },
  {
   "cell_type": "code",
   "execution_count": 355,
   "metadata": {},
   "outputs": [
    {
     "data": {
      "text/plain": [
       "[33, 11, 18, 12, 0, 0, 34, 3, 0, 23, 23, 0, 24, 41, 17]"
      ]
     },
     "execution_count": 355,
     "metadata": {},
     "output_type": "execute_result"
    }
   ],
   "source": [
    "number_violations_99_2y_2 = []\n",
    "for i in result_random_2y_strings_2:\n",
    "    x =count(where_violations_2y_99_saved_2,i)\n",
    "    number_violations_99_2y_2.append(x)\n",
    "number_violations_99_2y_2"
   ]
  },
  {
   "cell_type": "code",
   "execution_count": 356,
   "metadata": {},
   "outputs": [
    {
     "data": {
      "text/plain": [
       "{'alcoa_2y_2': 33,\n",
       " 'merck_2y_2': 11,\n",
       " 'pfizer_2y_2': 18,\n",
       " 'generalelectric_2y_2': 12,\n",
       " 'walmart_2y_2': 0,\n",
       " 'intel_2y_2': 0,\n",
       " 'citigroup_2y_2': 34,\n",
       " 'atandt_2y_2': 3,\n",
       " 'mmm_2y_2': 0,\n",
       " 'boeing_2y_2': 23,\n",
       " 'jpmorganchase_2y_2': 23,\n",
       " 'homedepot_2y_2': 0,\n",
       " 'jandj_2y_2': 24,\n",
       " 'chevron_2y_2': 41,\n",
       " 'exxonmobil_2y_2': 17}"
      ]
     },
     "execution_count": 356,
     "metadata": {},
     "output_type": "execute_result"
    }
   ],
   "source": [
    "dict_violations_99_2_2 = dict(zip(result_random_2y_strings_2, number_violations_99_2y_2))\n",
    "dict_violations_99_2_2"
   ]
  },
  {
   "cell_type": "code",
   "execution_count": 271,
   "metadata": {},
   "outputs": [],
   "source": [
    "## graphs ##"
   ]
  },
  {
   "cell_type": "code",
   "execution_count": 272,
   "metadata": {},
   "outputs": [
    {
     "data": {
      "image/png": "[encoded data removed]",
      "text/plain": [
       "<Figure size 792x576 with 1 Axes>"
      ]
     },
     "metadata": {
      "needs_background": "light"
     },
     "output_type": "display_data"
    }
   ],
   "source": [
    "from scipy.stats import pareto\n",
    "\n",
    "xm = 1 \n",
    "alphas = [1, 2, 3] \n",
    "x = np.linspace(0, 5,1000)\n",
    "\n",
    "plt.rcParams[\"figure.figsize\"] = (11,8)\n",
    "plt.plot(x,pareto.pdf(x, scale = xm, b = 10000),'black',label = 'α = ∞')\n",
    "plt.plot(x,pareto.pdf(x, scale = xm, b = 3),'r',label = 'α = 3')\n",
    "plt.plot(x,pareto.pdf(x, scale = xm, b = 2),'g',label = 'α = 2')\n",
    "plt.plot(x,pareto.pdf(x, scale = xm, b = 1),'b', label = 'α = 1')\n",
    "plt.legend(loc='center',fontsize = 18)\n",
    "plt.title('Pareto distribution',fontsize = 22)\n",
    "#plt.savefig('Pareto_distribution.jpg')\n",
    "plt.show()"
   ]
  },
  {
   "cell_type": "code",
   "execution_count": 273,
   "metadata": {},
   "outputs": [],
   "source": [
    "# symmetric stable distribution ( Beta = 0)"
   ]
  },
  {
   "cell_type": "code",
   "execution_count": 274,
   "metadata": {},
   "outputs": [
    {
     "data": {
      "text/plain": [
       "Text(0.5, 1.0, 'Symmetric stable distribution')"
      ]
     },
     "execution_count": 274,
     "metadata": {},
     "output_type": "execute_result"
    },
    {
     "data": {
      "image/png": "[encoded data removed]",
      "text/plain": [
       "<Figure size 792x576 with 1 Axes>"
      ]
     },
     "metadata": {
      "needs_background": "light"
     },
     "output_type": "display_data"
    }
   ],
   "source": [
    "from scipy.stats import levy_stable\n",
    "\n",
    "x = np.linspace(-2, 2,1000)\n",
    "\n",
    "\n",
    "plt.rcParams[\"figure.figsize\"] = (11,8)\n",
    "plt.plot(x,levy_stable.pdf(x,2, 0, loc=0, scale=1),'black',label = 'α = 2')\n",
    "plt.plot(x,levy_stable.pdf(x,1.5, 0, loc=0, scale=1),'r',label = 'α = 1.5')\n",
    "plt.plot(x,levy_stable.pdf(x,1, 0, loc=0, scale=1),'g',label = 'α = 1')\n",
    "plt.plot(x,levy_stable.pdf(x,0.5, 0, loc=0, scale=1),'b', label = 'α = 0.5')\n",
    "plt.legend(loc='best',fontsize = 18)\n",
    "plt.title('Symmetric stable distribution',fontsize = 22)\n",
    "#plt.savefig('Stable_distribution.jpg')\n",
    "\n"
   ]
  },
  {
   "cell_type": "code",
   "execution_count": null,
   "metadata": {},
   "outputs": [],
   "source": []
  },
  {
   "cell_type": "code",
   "execution_count": null,
   "metadata": {},
   "outputs": [],
   "source": []
  },
  {
   "cell_type": "code",
   "execution_count": null,
   "metadata": {},
   "outputs": [],
   "source": []
  },
  {
   "cell_type": "code",
   "execution_count": null,
   "metadata": {},
   "outputs": [],
   "source": []
  },
  {
   "cell_type": "code",
   "execution_count": null,
   "metadata": {},
   "outputs": [],
   "source": []
  },
  {
   "cell_type": "code",
   "execution_count": null,
   "metadata": {},
   "outputs": [],
   "source": []
  },
  {
   "cell_type": "code",
   "execution_count": null,
   "metadata": {},
   "outputs": [],
   "source": []
  }
 ],
 "metadata": {
  "kernelspec": {
   "display_name": "Python 3",
   "language": "python",
   "name": "python3"
  },
  "language_info": {
   "codemirror_mode": {
    "name": "ipython",
    "version": 3
   },
   "file_extension": ".py",
   "mimetype": "text/x-python",
   "name": "python",
   "nbconvert_exporter": "python",
   "pygments_lexer": "ipython3",
   "version": "3.7.4"
  }
 },
 "nbformat": 4,
 "nbformat_minor": 2
}
